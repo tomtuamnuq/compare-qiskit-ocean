{
 "cells": [
  {
   "cell_type": "code",
   "execution_count": 1,
   "metadata": {},
   "outputs": [],
   "source": [
    "from qiskit.optimization import QuadraticProgram\n",
    "from docplex.mp.advmodel import AdvModel\n",
    "from docplex.mp.model_reader import ModelReader\n",
    "\n",
    "from qiskit.optimization.algorithms import MinimumEigenOptimizer\n",
    "\n",
    "from dwave.plugins.qiskit import DWaveMinimumEigensolver\n",
    "from dwave.system import DWaveCliqueSampler, LeapHybridSampler\n",
    "\n",
    "import numpy as np"
   ]
  },
  {
   "cell_type": "markdown",
   "metadata": {},
   "source": [
    "# Test integer instances from Burkardt\n",
    "## taken from https://people.math.sc.edu/Burkardt/datasets/datasets.html"
   ]
  },
  {
   "cell_type": "code",
   "execution_count": 2,
   "metadata": {},
   "outputs": [],
   "source": [
    "def createSolver(sampler, num_reads = None ):\n",
    "\n",
    "    if num_reads is None: # use sampler default\n",
    "        dwave_solver = DWaveMinimumEigensolver(sampler =  sampler)\n",
    "    else:\n",
    "        dwave_solver = DWaveMinimumEigensolver(sampler =  sampler, num_reads = num_reads)\n",
    "    return MinimumEigenOptimizer(dwave_solver)"
   ]
  },
  {
   "cell_type": "code",
   "execution_count": 3,
   "metadata": {},
   "outputs": [],
   "source": [
    "def createModel(filename,model_name):\n",
    "    model = ModelReader.read(filename=filename,model_name = model_name, model_class=AdvModel)\n",
    "    qp = QuadraticProgram()\n",
    "    qp.from_docplex(model)\n",
    "    qp.model = model\n",
    "    return qp"
   ]
  },
  {
   "cell_type": "markdown",
   "metadata": {},
   "source": [
    "## at first we create our models and check the problems classically"
   ]
  },
  {
   "cell_type": "code",
   "execution_count": 4,
   "metadata": {},
   "outputs": [],
   "source": [
    "import os\n",
    "path = 'BURKARDT_DATA/INT/'\n",
    "\n",
    "_, _, filenames = next(os.walk(path))\n",
    "qps = {}\n",
    "for file in filenames:\n",
    "    name,_ = os.path.splitext(file)\n",
    "    qp = createModel(path+file,name)\n",
    "    qps[name] = qp    "
   ]
  },
  {
   "cell_type": "code",
   "execution_count": 5,
   "metadata": {},
   "outputs": [
    {
     "name": "stdout",
     "output_type": "stream",
     "text": [
      "solution for: three_vars_quadratic\n",
      "objective: 5\n",
      "x=1\n",
      "z=4\n",
      "\n",
      "solution for: testprob\n",
      "objective: 54\n",
      "X1=4\n",
      "X2=-1\n",
      "X3=6\n",
      "\n"
     ]
    }
   ],
   "source": [
    "for qp in qps.values():\n",
    "    print(qp.model.solve())"
   ]
  },
  {
   "cell_type": "markdown",
   "metadata": {},
   "source": [
    "# Solve with DWave Leap and CliqueSampler"
   ]
  },
  {
   "cell_type": "code",
   "execution_count": 6,
   "metadata": {},
   "outputs": [
    {
     "name": "stdout",
     "output_type": "stream",
     "text": [
      "three_vars_quadratic\n",
      "testprob\n"
     ]
    }
   ],
   "source": [
    "solvers = [createSolver(LeapHybridSampler()), createSolver(DWaveCliqueSampler(),1000)]\n",
    "results = {}\n",
    "for qp_name in qps.keys():\n",
    "    print(qp_name)\n",
    "    "
   ]
  },
  {
   "cell_type": "code",
   "execution_count": 7,
   "metadata": {},
   "outputs": [],
   "source": [
    "qp_name = \"testprob\"\n",
    "results[qp_name] = [optimizer.solve(qps[qp_name]) for optimizer in solvers]\n",
    "# problem ids : \n",
    "# Leap db6c6b80-8882-4636-9879-a18c3b57c980\n",
    "# Advantage system 0b80397c-22a2-41e1-9dce-2c6cffca3ff3"
   ]
  },
  {
   "cell_type": "code",
   "execution_count": 8,
   "metadata": {},
   "outputs": [
    {
     "name": "stdout",
     "output_type": "stream",
     "text": [
      "optimal function value: 54.0\n",
      "optimal value: [ 4. -1.  6.]\n",
      "status: SUCCESS\n",
      "optimal function value: 54.0\n",
      "optimal value: [ 4. -1.  6.]\n",
      "status: SUCCESS\n"
     ]
    }
   ],
   "source": [
    "for res in results[qp_name]:\n",
    "    print(res)"
   ]
  },
  {
   "cell_type": "markdown",
   "metadata": {},
   "source": [
    "## So we found the solution"
   ]
  },
  {
   "cell_type": "markdown",
   "metadata": {},
   "source": [
    "## now test a quadratic constraint"
   ]
  },
  {
   "cell_type": "code",
   "execution_count": 10,
   "metadata": {},
   "outputs": [
    {
     "ename": "QiskitOptimizationError",
     "evalue": "'Incompatible problem: Quadratic constraints are not supported. '",
     "output_type": "error",
     "traceback": [
      "\u001b[0;31m---------------------------------------------------------------------------\u001b[0m",
      "\u001b[0;31mQiskitOptimizationError\u001b[0m                   Traceback (most recent call last)",
      "\u001b[0;32m<ipython-input-10-efc0e9de51ac>\u001b[0m in \u001b[0;36m<module>\u001b[0;34m\u001b[0m\n\u001b[1;32m      1\u001b[0m \u001b[0mqp_name\u001b[0m \u001b[0;34m=\u001b[0m \u001b[0;34m\"three_vars_quadratic\"\u001b[0m\u001b[0;34m\u001b[0m\u001b[0;34m\u001b[0m\u001b[0m\n\u001b[0;32m----> 2\u001b[0;31m \u001b[0mresults\u001b[0m\u001b[0;34m[\u001b[0m\u001b[0mqp_name\u001b[0m\u001b[0;34m]\u001b[0m \u001b[0;34m=\u001b[0m \u001b[0;34m[\u001b[0m\u001b[0moptimizer\u001b[0m\u001b[0;34m.\u001b[0m\u001b[0msolve\u001b[0m\u001b[0;34m(\u001b[0m\u001b[0mqps\u001b[0m\u001b[0;34m[\u001b[0m\u001b[0mqp_name\u001b[0m\u001b[0;34m]\u001b[0m\u001b[0;34m)\u001b[0m \u001b[0;32mfor\u001b[0m \u001b[0moptimizer\u001b[0m \u001b[0;32min\u001b[0m \u001b[0msolvers\u001b[0m\u001b[0;34m]\u001b[0m\u001b[0;34m\u001b[0m\u001b[0;34m\u001b[0m\u001b[0m\n\u001b[0m",
      "\u001b[0;32m<ipython-input-10-efc0e9de51ac>\u001b[0m in \u001b[0;36m<listcomp>\u001b[0;34m(.0)\u001b[0m\n\u001b[1;32m      1\u001b[0m \u001b[0mqp_name\u001b[0m \u001b[0;34m=\u001b[0m \u001b[0;34m\"three_vars_quadratic\"\u001b[0m\u001b[0;34m\u001b[0m\u001b[0;34m\u001b[0m\u001b[0m\n\u001b[0;32m----> 2\u001b[0;31m \u001b[0mresults\u001b[0m\u001b[0;34m[\u001b[0m\u001b[0mqp_name\u001b[0m\u001b[0;34m]\u001b[0m \u001b[0;34m=\u001b[0m \u001b[0;34m[\u001b[0m\u001b[0moptimizer\u001b[0m\u001b[0;34m.\u001b[0m\u001b[0msolve\u001b[0m\u001b[0;34m(\u001b[0m\u001b[0mqps\u001b[0m\u001b[0;34m[\u001b[0m\u001b[0mqp_name\u001b[0m\u001b[0;34m]\u001b[0m\u001b[0;34m)\u001b[0m \u001b[0;32mfor\u001b[0m \u001b[0moptimizer\u001b[0m \u001b[0;32min\u001b[0m \u001b[0msolvers\u001b[0m\u001b[0;34m]\u001b[0m\u001b[0;34m\u001b[0m\u001b[0;34m\u001b[0m\u001b[0m\n\u001b[0m",
      "\u001b[0;32m~/anaconda3/envs/Qiskit_Ocean/lib/python3.8/site-packages/qiskit/optimization/algorithms/minimum_eigen_optimizer.py\u001b[0m in \u001b[0;36msolve\u001b[0;34m(self, problem)\u001b[0m\n\u001b[1;32m    170\u001b[0m             \u001b[0mQiskitOptimizationError\u001b[0m\u001b[0;34m:\u001b[0m \u001b[0mIf\u001b[0m \u001b[0mproblem\u001b[0m \u001b[0;32mnot\u001b[0m \u001b[0mcompatible\u001b[0m\u001b[0;34m.\u001b[0m\u001b[0;34m\u001b[0m\u001b[0;34m\u001b[0m\u001b[0m\n\u001b[1;32m    171\u001b[0m         \"\"\"\n\u001b[0;32m--> 172\u001b[0;31m         \u001b[0mself\u001b[0m\u001b[0;34m.\u001b[0m\u001b[0m_verify_compatibility\u001b[0m\u001b[0;34m(\u001b[0m\u001b[0mproblem\u001b[0m\u001b[0;34m)\u001b[0m\u001b[0;34m\u001b[0m\u001b[0;34m\u001b[0m\u001b[0m\n\u001b[0m\u001b[1;32m    173\u001b[0m \u001b[0;34m\u001b[0m\u001b[0m\n\u001b[1;32m    174\u001b[0m         \u001b[0;31m# convert problem to QUBO\u001b[0m\u001b[0;34m\u001b[0m\u001b[0;34m\u001b[0m\u001b[0;34m\u001b[0m\u001b[0m\n",
      "\u001b[0;32m~/anaconda3/envs/Qiskit_Ocean/lib/python3.8/site-packages/qiskit/optimization/algorithms/optimization_algorithm.py\u001b[0m in \u001b[0;36m_verify_compatibility\u001b[0;34m(self, problem)\u001b[0m\n\u001b[1;32m    272\u001b[0m         \u001b[0mmsg\u001b[0m \u001b[0;34m=\u001b[0m \u001b[0mself\u001b[0m\u001b[0;34m.\u001b[0m\u001b[0mget_compatibility_msg\u001b[0m\u001b[0;34m(\u001b[0m\u001b[0mproblem\u001b[0m\u001b[0;34m)\u001b[0m\u001b[0;34m\u001b[0m\u001b[0;34m\u001b[0m\u001b[0m\n\u001b[1;32m    273\u001b[0m         \u001b[0;32mif\u001b[0m \u001b[0mmsg\u001b[0m\u001b[0;34m:\u001b[0m\u001b[0;34m\u001b[0m\u001b[0;34m\u001b[0m\u001b[0m\n\u001b[0;32m--> 274\u001b[0;31m             \u001b[0;32mraise\u001b[0m \u001b[0mQiskitOptimizationError\u001b[0m\u001b[0;34m(\u001b[0m\u001b[0;34m'Incompatible problem: {}'\u001b[0m\u001b[0;34m.\u001b[0m\u001b[0mformat\u001b[0m\u001b[0;34m(\u001b[0m\u001b[0mmsg\u001b[0m\u001b[0;34m)\u001b[0m\u001b[0;34m)\u001b[0m\u001b[0;34m\u001b[0m\u001b[0;34m\u001b[0m\u001b[0m\n\u001b[0m\u001b[1;32m    275\u001b[0m \u001b[0;34m\u001b[0m\u001b[0m\n\u001b[1;32m    276\u001b[0m     def _get_feasibility_status(self, problem: QuadraticProgram,\n",
      "\u001b[0;31mQiskitOptimizationError\u001b[0m: 'Incompatible problem: Quadratic constraints are not supported. '"
     ]
    }
   ],
   "source": [
    "qp_name = \"three_vars_quadratic\"\n",
    "results[qp_name] = [optimizer.solve(qps[qp_name]) for optimizer in solvers]"
   ]
  },
  {
   "cell_type": "code",
   "execution_count": null,
   "metadata": {},
   "outputs": [],
   "source": []
  }
 ],
 "metadata": {
  "kernelspec": {
   "display_name": "Python 3",
   "language": "python",
   "name": "python3"
  },
  "language_info": {
   "codemirror_mode": {
    "name": "ipython",
    "version": 3
   },
   "file_extension": ".py",
   "mimetype": "text/x-python",
   "name": "python",
   "nbconvert_exporter": "python",
   "pygments_lexer": "ipython3",
   "version": "3.8.5"
  }
 },
 "nbformat": 4,
 "nbformat_minor": 4
}
