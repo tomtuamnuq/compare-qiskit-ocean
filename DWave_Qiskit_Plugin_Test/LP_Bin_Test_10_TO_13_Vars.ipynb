{
 "cells": [
  {
   "cell_type": "code",
   "execution_count": 1,
   "metadata": {},
   "outputs": [],
   "source": [
    "from lp_random_gen import random_lp_int\n",
    "from docplex.mp.advmodel import AdvModel\n",
    "from docplex.mp.model_reader import ModelReader\n",
    "from helpers import *\n",
    "from qiskit.optimization.algorithms.optimization_algorithm import OptimizationResultStatus\n",
    "DIR = 'SYNTH_DATA/BINARY_SECOND/'\n",
    "getPath = lambda fn : DIR+fn+\".lp\""
   ]
  },
  {
   "cell_type": "markdown",
   "metadata": {},
   "source": [
    "# Create Test Data"
   ]
  },
  {
   "cell_type": "code",
   "execution_count": 2,
   "metadata": {},
   "outputs": [],
   "source": [
    "MAX_NUM_VARS = 30\n",
    "MIN_NUM_VARS = 10\n",
    "for i in range(MIN_NUM_VARS,MAX_NUM_VARS +1):\n",
    "    lp_bin = random_lp_int(i*2, i, 0, 1)\n",
    "    model = lp_bin.createLP(\"test_bin_\"+str(i))\n",
    "    with open(getPath(lp_bin.name), 'w+') as file:\n",
    "        file.write(model.export_as_lp_string())"
   ]
  },
  {
   "cell_type": "markdown",
   "metadata": {},
   "source": [
    "# Solve with DWave Systems"
   ]
  },
  {
   "cell_type": "code",
   "execution_count": 3,
   "metadata": {},
   "outputs": [],
   "source": [
    "from dwave.system import DWaveCliqueSampler, LeapHybridSampler"
   ]
  },
  {
   "cell_type": "code",
   "execution_count": 4,
   "metadata": {},
   "outputs": [],
   "source": [
    "num_reads = 2000\n",
    "solver_inst = [createSolver(LeapHybridSampler()), createSolver(DWaveCliqueSampler(),num_reads), createSolver(num_reads = num_reads)]\n",
    "solver_names = [\"Leap Hybrid\", \"DWaveClique\", \"DWaveSampler\"]\n",
    "solvers = zip(solver_inst, solver_names)\n",
    "qps = createModelsFromDir(DIR)"
   ]
  },
  {
   "cell_type": "code",
   "execution_count": 5,
   "metadata": {},
   "outputs": [],
   "source": [
    "with open(getPath(\"results\"), 'w+') as file:\n",
    "    file.write(\"Start Tests \\n \\n\")  \n"
   ]
  },
  {
   "cell_type": "code",
   "execution_count": 6,
   "metadata": {},
   "outputs": [
    {
     "name": "stderr",
     "output_type": "stream",
     "text": [
      "constraint A0leb0 is infeasible due to substitution\n",
      "constraint A1leb1 is infeasible due to substitution\n",
      "constraint A2leb2 is infeasible due to substitution\n",
      "constraint A3leb3 is infeasible due to substitution\n",
      "constraint A4leb4 is infeasible due to substitution\n",
      "constraint A5leb5 is infeasible due to substitution\n",
      "constraint A6leb6 is infeasible due to substitution\n",
      "constraint A7leb7 is infeasible due to substitution\n",
      "constraint A8leb8 is infeasible due to substitution\n",
      "constraint A9leb9 is infeasible due to substitution\n",
      "constraint A10leb10 is infeasible due to substitution\n",
      "constraint A11leb11 is infeasible due to substitution\n",
      "constraint A12leb12 is infeasible due to substitution\n",
      "constraint A13leb13 is infeasible due to substitution\n",
      "constraint A14leb14 is infeasible due to substitution\n",
      "constraint A15leb15 is infeasible due to substitution\n",
      "constraint A16leb16 is infeasible due to substitution\n",
      "constraint A18leb18 is infeasible due to substitution\n",
      "constraint A19leb19 is infeasible due to substitution\n",
      "constraint A0leb0 is infeasible due to substitution\n",
      "constraint A1leb1 is infeasible due to substitution\n",
      "constraint A2leb2 is infeasible due to substitution\n",
      "constraint A3leb3 is infeasible due to substitution\n",
      "constraint A4leb4 is infeasible due to substitution\n",
      "constraint A5leb5 is infeasible due to substitution\n",
      "constraint A6leb6 is infeasible due to substitution\n",
      "constraint A7leb7 is infeasible due to substitution\n",
      "constraint A8leb8 is infeasible due to substitution\n",
      "constraint A9leb9 is infeasible due to substitution\n",
      "constraint A10leb10 is infeasible due to substitution\n",
      "constraint A11leb11 is infeasible due to substitution\n",
      "constraint A12leb12 is infeasible due to substitution\n",
      "constraint A13leb13 is infeasible due to substitution\n",
      "constraint A14leb14 is infeasible due to substitution\n",
      "constraint A16leb16 is infeasible due to substitution\n",
      "constraint A17leb17 is infeasible due to substitution\n",
      "constraint A19leb19 is infeasible due to substitution\n"
     ]
    }
   ],
   "source": [
    "found_no_solution_ct = 0\n",
    "for qp_name in sorted(qps.keys(), key = lambda name : int(name[name.rfind('_')+1:])) :\n",
    "    results = []\n",
    "    with open(getPath(\"results\"), 'a+') as file:\n",
    "        file.write(\"\\n ------------------------------------- \\n\"+qp_name)\n",
    "        for optimizer, sname in solvers:\n",
    "            file.write(\"\\n\"+sname)\n",
    "            try:\n",
    "                res = optimizer.solve(qps[qp_name])\n",
    "                results.append(res)\n",
    "                if res.status == OptimizationResultStatus.SUCCESS:\n",
    "                    cres  = qps[qp_name].model.solve()\n",
    "                    if res.fval != cres.get_objective_value():\n",
    "                        file.write(\"\\n optimal value DWave   \"+str(res.fval) + \"  ,  cplex:\"+ str(cres.get_objective_value()))\n",
    "                        file.write(\"\\n\"+str(res.x)+\"   cplex:\"+str(cres.get_all_values()))\n",
    "                    else:\n",
    "                        file.write(\"\\n found solution!\")\n",
    "                else:\n",
    "                    file.write(\"\\n\"+str(res.status))  \n",
    "            except Exception as ex:\n",
    "                file.write(\"\\n\"+str(ex))\n",
    "        if any(res.status == OptimizationResultStatus.SUCCESS for res in results):\n",
    "            found_no_solution_ct = 0\n",
    "        else:\n",
    "            # test if cres can find a solution\n",
    "            \n",
    "            cres  = qps[qp_name].model.solve()\n",
    "            file.write(\"\\n Cres : \"+str(cres))\n",
    "            if cres.is_valid_solution():\n",
    "                found_no_solution_ct = found_no_solution_ct + 1\n",
    "            if found_no_solution_ct == 3:\n",
    "                break"
   ]
  },
  {
   "cell_type": "code",
   "execution_count": null,
   "metadata": {},
   "outputs": [],
   "source": []
  }
 ],
 "metadata": {
  "kernelspec": {
   "display_name": "Python 3",
   "language": "python",
   "name": "python3"
  },
  "language_info": {
   "codemirror_mode": {
    "name": "ipython",
    "version": 3
   },
   "file_extension": ".py",
   "mimetype": "text/x-python",
   "name": "python",
   "nbconvert_exporter": "python",
   "pygments_lexer": "ipython3",
   "version": "3.8.5"
  }
 },
 "nbformat": 4,
 "nbformat_minor": 4
}
