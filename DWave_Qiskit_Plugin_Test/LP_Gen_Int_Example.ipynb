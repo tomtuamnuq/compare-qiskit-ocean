{
 "cells": [
  {
   "cell_type": "code",
   "execution_count": 1,
   "metadata": {},
   "outputs": [],
   "source": [
    "from lp_random_gen import random_lp_int\n",
    "from docplex.mp.advmodel import AdvModel\n",
    "from docplex.mp.model_reader import ModelReader\n",
    "from helpers import *\n",
    "getPath = lambda fn : 'SYNTH_DATA/'+fn+\".lp\""
   ]
  },
  {
   "cell_type": "code",
   "execution_count": 2,
   "metadata": {},
   "outputs": [],
   "source": [
    "# save random binary Linear Program with 10 vars\n",
    "\n",
    "lp_bin = random_lp_int(15, 10, 0, 1)\n",
    "model = lp_bin.createLP(\"test_bin\")\n",
    "with open(getPath(lp_bin.name), 'w+') as file:\n",
    "    file.write(model.export_as_lp_string())"
   ]
  },
  {
   "cell_type": "code",
   "execution_count": 3,
   "metadata": {},
   "outputs": [
    {
     "name": "stdout",
     "output_type": "stream",
     "text": [
      "solution for: test_bin\n",
      "objective: 1\n",
      "x9=1\n",
      "\n"
     ]
    }
   ],
   "source": [
    "# read linear program from file\n",
    "model = ModelReader.read(filename=getPath(lp_bin.name),model_name = lp_bin.name, model_class=AdvModel)\n",
    "# solve with CPLEX\n",
    "print(model.solve())"
   ]
  },
  {
   "cell_type": "code",
   "execution_count": 4,
   "metadata": {},
   "outputs": [
    {
     "data": {
      "text/plain": [
       "False"
      ]
     },
     "execution_count": 4,
     "metadata": {},
     "output_type": "execute_result"
    }
   ],
   "source": [
    "# check x which was used internally for random generation\n",
    "all(lp_bin.x[i] == model.solution.get_all_values()[i] for i in range(0,len(lp_bin.x)))"
   ]
  },
  {
   "cell_type": "code",
   "execution_count": 5,
   "metadata": {},
   "outputs": [
    {
     "data": {
      "text/plain": [
       "array([1, 0, 1, 0, 1, 0, 0, 1, 1, 1])"
      ]
     },
     "execution_count": 5,
     "metadata": {},
     "output_type": "execute_result"
    }
   ],
   "source": [
    "lp_bin.x"
   ]
  },
  {
   "cell_type": "code",
   "execution_count": 6,
   "metadata": {},
   "outputs": [
    {
     "data": {
      "text/plain": [
       "2"
      ]
     },
     "execution_count": 6,
     "metadata": {},
     "output_type": "execute_result"
    }
   ],
   "source": [
    "# objective with lp_bin.x\n",
    "lp_bin.c.dot(lp_bin.x)"
   ]
  },
  {
   "cell_type": "code",
   "execution_count": 7,
   "metadata": {},
   "outputs": [],
   "source": [
    "# save random integer Linear Program with 5 vars\n",
    "\n",
    "lp_int = random_lp_int(15, 5, -1, 3)\n",
    "model = lp_int.createLP(\"test_int\")\n",
    "with open(getPath(lp_int.name), 'w+') as file:\n",
    "    file.write(model.export_as_lp_string())"
   ]
  },
  {
   "cell_type": "code",
   "execution_count": 8,
   "metadata": {},
   "outputs": [
    {
     "name": "stdout",
     "output_type": "stream",
     "text": [
      "solution for: test_int\n",
      "objective: -1\n",
      "x0=1\n",
      "x1=3\n",
      "x2=-1\n",
      "x4=1\n",
      "\n"
     ]
    }
   ],
   "source": [
    "# read linear program from file\n",
    "model = ModelReader.read(filename=getPath(lp_int.name),model_name = lp_int.name, model_class=AdvModel)\n",
    "# solve with CPLEX\n",
    "print(model.solve())"
   ]
  },
  {
   "cell_type": "markdown",
   "metadata": {},
   "source": [
    "# Solve with DWave Leap and CliqueSampler"
   ]
  },
  {
   "cell_type": "code",
   "execution_count": 9,
   "metadata": {},
   "outputs": [],
   "source": [
    "from dwave.system import DWaveCliqueSampler, LeapHybridSampler"
   ]
  },
  {
   "cell_type": "code",
   "execution_count": 10,
   "metadata": {},
   "outputs": [
    {
     "name": "stdout",
     "output_type": "stream",
     "text": [
      "test_bin\n",
      "test_int\n"
     ]
    }
   ],
   "source": [
    "solvers = [createSolver(LeapHybridSampler()), createSolver(DWaveCliqueSampler(),1000)]\n",
    "results = {}\n",
    "qps = {lp_bin.name : lp_bin.model, lp_int.name : lp_int.model}\n",
    "for qp_name in qps.keys():\n",
    "    print(qp_name)"
   ]
  },
  {
   "cell_type": "code",
   "execution_count": 11,
   "metadata": {},
   "outputs": [
    {
     "name": "stderr",
     "output_type": "stream",
     "text": [
      "constraint A0leb0 is infeasible due to substitution\n",
      "constraint A1leb1 is infeasible due to substitution\n",
      "constraint A2leb2 is infeasible due to substitution\n",
      "constraint A4leb4 is infeasible due to substitution\n",
      "constraint A5leb5 is infeasible due to substitution\n",
      "constraint A6leb6 is infeasible due to substitution\n",
      "constraint A7leb7 is infeasible due to substitution\n",
      "constraint A9leb9 is infeasible due to substitution\n",
      "constraint A11leb11 is infeasible due to substitution\n",
      "constraint A12leb12 is infeasible due to substitution\n",
      "constraint A13leb13 is infeasible due to substitution\n",
      "constraint A14leb14 is infeasible due to substitution\n"
     ]
    }
   ],
   "source": [
    "qp_name = \"test_bin\"\n",
    "results[qp_name] = [optimizer.solve(qps[qp_name]) for optimizer in solvers]\n",
    "# problem ids : \n",
    "# Leap 977fc3a7-2f64-43a5-9576-a2cdeb91c2a2\n",
    "# Advantage system a2a552cc-7fa1-45f1-956c-acbb67033c47"
   ]
  },
  {
   "cell_type": "code",
   "execution_count": 12,
   "metadata": {},
   "outputs": [
    {
     "name": "stdout",
     "output_type": "stream",
     "text": [
      "optimal function value: 1.0\n",
      "optimal value: [0. 0. 0. 0. 0. 0. 0. 0. 0. 1.]\n",
      "status: SUCCESS\n",
      "optimal function value: 2.0\n",
      "optimal value: [1. 0. 1. 0. 1. 0. 0. 1. 1. 1.]\n",
      "status: SUCCESS\n"
     ]
    }
   ],
   "source": [
    "for res in results[qp_name]:\n",
    "    print(res)"
   ]
  },
  {
   "cell_type": "markdown",
   "metadata": {},
   "source": [
    "## so we only found a solution with leap hybrid solver\n",
    "## why does advantage test say success?\n",
    "## lets try the integer problem"
   ]
  },
  {
   "cell_type": "code",
   "execution_count": 13,
   "metadata": {},
   "outputs": [
    {
     "name": "stderr",
     "output_type": "stream",
     "text": [
      "constraint A0leb0 is infeasible due to substitution\n",
      "constraint A1leb1 is infeasible due to substitution\n",
      "constraint A2leb2 is infeasible due to substitution\n",
      "constraint A3leb3 is infeasible due to substitution\n",
      "constraint A4leb4 is infeasible due to substitution\n",
      "constraint A5leb5 is infeasible due to substitution\n",
      "constraint A6leb6 is infeasible due to substitution\n",
      "constraint A7leb7 is infeasible due to substitution\n",
      "constraint A8leb8 is infeasible due to substitution\n",
      "constraint A9leb9 is infeasible due to substitution\n",
      "constraint A10leb10 is infeasible due to substitution\n",
      "constraint A11leb11 is infeasible due to substitution\n",
      "constraint A12leb12 is infeasible due to substitution\n",
      "constraint A13leb13 is infeasible due to substitution\n",
      "constraint A14leb14 is infeasible due to substitution\n"
     ]
    }
   ],
   "source": [
    "qp_name = \"test_int\"\n",
    "results[qp_name] = [optimizer.solve(qps[qp_name]) for optimizer in solvers]\n",
    "# problem ids : \n",
    "# Leap 0eae18c4-9db9-4706-9095-c838ffaea567\n",
    "# Advantage system 47c7003b-44bb-41bd-b039-1c232b8c047e"
   ]
  },
  {
   "cell_type": "code",
   "execution_count": 14,
   "metadata": {},
   "outputs": [
    {
     "name": "stdout",
     "output_type": "stream",
     "text": [
      "optimal function value: -1.0\n",
      "optimal value: [ 1.  3. -1.  0.  1.]\n",
      "status: SUCCESS\n",
      "optimal function value: -1.0\n",
      "optimal value: [ 1.  3. -1. -1.  0.]\n",
      "status: INFEASIBLE\n"
     ]
    }
   ],
   "source": [
    "for res in results[qp_name]:\n",
    "    print(res)"
   ]
  },
  {
   "cell_type": "markdown",
   "metadata": {},
   "source": [
    "## again, only leap hybrid was able to solve the problem"
   ]
  },
  {
   "cell_type": "code",
   "execution_count": null,
   "metadata": {},
   "outputs": [],
   "source": []
  }
 ],
 "metadata": {
  "kernelspec": {
   "display_name": "Python 3",
   "language": "python",
   "name": "python3"
  },
  "language_info": {
   "codemirror_mode": {
    "name": "ipython",
    "version": 3
   },
   "file_extension": ".py",
   "mimetype": "text/x-python",
   "name": "python",
   "nbconvert_exporter": "python",
   "pygments_lexer": "ipython3",
   "version": "3.8.5"
  }
 },
 "nbformat": 4,
 "nbformat_minor": 4
}
