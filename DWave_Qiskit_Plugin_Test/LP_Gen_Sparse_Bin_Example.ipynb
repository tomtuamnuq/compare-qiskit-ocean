{
 "cells": [
  {
   "cell_type": "code",
   "execution_count": 1,
   "metadata": {},
   "outputs": [],
   "source": [
    "from lp_random_gen import random_lp_int\n",
    "from docplex.mp.advmodel import AdvModel\n",
    "from docplex.mp.model_reader import ModelReader\n",
    "from helpers import *\n",
    "getPath = lambda fn : 'SYNTH_DATA/'+fn+\".lp\""
   ]
  },
  {
   "cell_type": "code",
   "execution_count": 2,
   "metadata": {},
   "outputs": [],
   "source": [
    "# save random binary Linear Program with 20 vars\n",
    "\n",
    "lp_bin = random_lp_int(5, 5, 0, 1)\n",
    "model = lp_bin.createLP(\"test_bin_mult\",4)\n",
    "with open(getPath(lp_bin.name), 'w+') as file:\n",
    "    file.write(model.export_as_lp_string())"
   ]
  },
  {
   "cell_type": "code",
   "execution_count": 3,
   "metadata": {},
   "outputs": [
    {
     "name": "stdout",
     "output_type": "stream",
     "text": [
      "solution for: test_bin_mult\n",
      "objective: 4\n",
      "x0_2=1\n",
      "x0_3=1\n",
      "x0_4=1\n",
      "x1_0=1\n",
      "x1_1=1\n",
      "x2_0=1\n",
      "x2_1=1\n",
      "x2_3=1\n",
      "x3_1=1\n",
      "x3_3=1\n",
      "x0_0=1\n",
      "x0_1=1\n",
      "x1_2=1\n",
      "\n"
     ]
    }
   ],
   "source": [
    "# read linear program from file\n",
    "model = ModelReader.read(filename=getPath(lp_bin.name),model_name = lp_bin.name, model_class=AdvModel)\n",
    "# solve with CPLEX\n",
    "print(model.solve())"
   ]
  },
  {
   "cell_type": "markdown",
   "metadata": {},
   "source": [
    "# Solve with DWave Leap and standard solver"
   ]
  },
  {
   "cell_type": "code",
   "execution_count": 4,
   "metadata": {},
   "outputs": [],
   "source": [
    "from dwave.system import LeapHybridSampler\n",
    "num_reads = 2000\n",
    "solvers = [createSolver(LeapHybridSampler()),createSolver(num_reads = num_reads)]\n",
    "results = {}\n",
    "qp_name = \"test_bin_mult_5\"\n",
    "qp = QuadraticProgram()\n",
    "qp.from_docplex(model)"
   ]
  },
  {
   "cell_type": "code",
   "execution_count": 5,
   "metadata": {},
   "outputs": [],
   "source": [
    "leap = solvers[0]\n",
    "results[qp_name+\"leap\"] = leap.solve(qp)"
   ]
  },
  {
   "cell_type": "code",
   "execution_count": 6,
   "metadata": {},
   "outputs": [
    {
     "data": {
      "text/plain": [
       "optimal function value: 4.0\n",
       "optimal value: [1. 1. 1. 1. 1. 0. 0. 1. 1. 0. 1. 0. 0. 1. 1. 1. 1. 1. 0. 0.]\n",
       "status: SUCCESS"
      ]
     },
     "execution_count": 6,
     "metadata": {},
     "output_type": "execute_result"
    }
   ],
   "source": [
    "results[qp_name+\"leap\"]"
   ]
  },
  {
   "cell_type": "code",
   "execution_count": 8,
   "metadata": {},
   "outputs": [],
   "source": [
    "adv = solvers[1]\n",
    "results[qp_name+\"adv\"] = leap.solve(qp)"
   ]
  },
  {
   "cell_type": "code",
   "execution_count": 9,
   "metadata": {},
   "outputs": [
    {
     "data": {
      "text/plain": [
       "optimal function value: 4.0\n",
       "optimal value: [1. 1. 1. 1. 1. 0. 0. 1. 1. 0. 1. 0. 0. 1. 1. 1. 1. 1. 0. 0.]\n",
       "status: SUCCESS"
      ]
     },
     "execution_count": 9,
     "metadata": {},
     "output_type": "execute_result"
    }
   ],
   "source": [
    "results[qp_name+\"adv\"]"
   ]
  },
  {
   "cell_type": "code",
   "execution_count": null,
   "metadata": {},
   "outputs": [],
   "source": []
  }
 ],
 "metadata": {
  "kernelspec": {
   "display_name": "Python 3",
   "language": "python",
   "name": "python3"
  },
  "language_info": {
   "codemirror_mode": {
    "name": "ipython",
    "version": 3
   },
   "file_extension": ".py",
   "mimetype": "text/x-python",
   "name": "python",
   "nbconvert_exporter": "python",
   "pygments_lexer": "ipython3",
   "version": "3.8.5"
  }
 },
 "nbformat": 4,
 "nbformat_minor": 4
}
