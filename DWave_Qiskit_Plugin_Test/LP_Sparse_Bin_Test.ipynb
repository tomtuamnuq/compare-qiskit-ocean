{
 "cells": [
  {
   "cell_type": "code",
   "execution_count": 1,
   "metadata": {},
   "outputs": [],
   "source": [
    "from lp_random_gen import random_lp_int\n",
    "from docplex.mp.advmodel import AdvModel\n",
    "from docplex.mp.model_reader import ModelReader\n",
    "from helpers import *\n",
    "from qiskit.optimization.algorithms.optimization_algorithm import OptimizationResultStatus\n",
    "DIR = 'SYNTH_DATA/BINARY_SPARSE/'\n",
    "getPath = lambda fn : DIR+fn+\".lp\""
   ]
  },
  {
   "cell_type": "markdown",
   "metadata": {},
   "source": [
    "# Create Test Data"
   ]
  },
  {
   "cell_type": "code",
   "execution_count": 2,
   "metadata": {},
   "outputs": [],
   "source": [
    "NUM_TESTS = 10\n",
    "num_constr_per_connection = 3\n",
    "num_vars_per_connection = 5\n",
    "lp_bin = random_lp_int(num_constr_per_connection, num_vars_per_connection, 0, 1)\n",
    "\n",
    "# create problems of size 5 , 10 ,15 , ... , 50\n",
    "for i in range(1,NUM_TESTS +1):\n",
    "    \n",
    "    model = lp_bin.createLP(\"test_bin_\"+str(i), i)\n",
    "    with open(getPath(lp_bin.name), 'w+') as file:\n",
    "        file.write(model.export_as_lp_string())"
   ]
  },
  {
   "cell_type": "markdown",
   "metadata": {},
   "source": [
    "# Solve with DWave Systems"
   ]
  },
  {
   "cell_type": "code",
   "execution_count": 3,
   "metadata": {},
   "outputs": [],
   "source": [
    "from dwave.system import LeapHybridSampler\n",
    "# we dont use DWaveCliqueSampler because the problem is sparse"
   ]
  },
  {
   "cell_type": "code",
   "execution_count": 4,
   "metadata": {},
   "outputs": [],
   "source": [
    "num_reads = 2000\n",
    "qps = createModelsFromDir(DIR)"
   ]
  },
  {
   "cell_type": "code",
   "execution_count": 5,
   "metadata": {},
   "outputs": [],
   "source": [
    "with open(getPath(\"results\"), 'w+') as file:\n",
    "    file.write(\"Start Tests \\n \\n\")  "
   ]
  },
  {
   "cell_type": "code",
   "execution_count": 6,
   "metadata": {},
   "outputs": [
    {
     "name": "stderr",
     "output_type": "stream",
     "text": [
      "constraint A0_leb0 is infeasible due to substitution\n",
      "constraint A0_leb2 is infeasible due to substitution\n",
      "constraint A1_leb0 is infeasible due to substitution\n",
      "constraint A1_leb2 is infeasible due to substitution\n",
      "constraint A2_leb0 is infeasible due to substitution\n",
      "constraint A2_leb1 is infeasible due to substitution\n",
      "constraint A2_leb2 is infeasible due to substitution\n",
      "constraint A0_leb0 is infeasible due to substitution\n",
      "constraint A0_leb1 is infeasible due to substitution\n",
      "constraint A1_leb1 is infeasible due to substitution\n",
      "constraint A2_leb0 is infeasible due to substitution\n",
      "constraint A2_leb1 is infeasible due to substitution\n",
      "constraint A3_leb0 is infeasible due to substitution\n",
      "constraint A3_leb1 is infeasible due to substitution\n",
      "constraint A3_leb2 is infeasible due to substitution\n",
      "constraint A0_leb0 is infeasible due to substitution\n",
      "constraint A0_leb1 is infeasible due to substitution\n",
      "constraint A1_leb1 is infeasible due to substitution\n",
      "constraint A1_leb2 is infeasible due to substitution\n",
      "constraint A2_leb0 is infeasible due to substitution\n",
      "constraint A2_leb1 is infeasible due to substitution\n",
      "constraint A2_leb2 is infeasible due to substitution\n",
      "constraint A3_leb1 is infeasible due to substitution\n",
      "constraint A4_leb1 is infeasible due to substitution\n",
      "constraint A4_leb2 is infeasible due to substitution\n",
      "constraint A0_leb2 is infeasible due to substitution\n",
      "constraint A1_leb0 is infeasible due to substitution\n",
      "constraint A1_leb1 is infeasible due to substitution\n",
      "constraint A2_leb0 is infeasible due to substitution\n",
      "constraint A2_leb1 is infeasible due to substitution\n",
      "constraint A3_leb1 is infeasible due to substitution\n",
      "constraint A3_leb2 is infeasible due to substitution\n",
      "constraint A4_leb1 is infeasible due to substitution\n",
      "constraint A5_leb0 is infeasible due to substitution\n",
      "constraint A5_leb1 is infeasible due to substitution\n",
      "constraint A5_leb2 is infeasible due to substitution\n",
      "constraint A0_leb0 is infeasible due to substitution\n",
      "constraint A0_leb1 is infeasible due to substitution\n",
      "constraint A0_leb2 is infeasible due to substitution\n",
      "constraint A1_leb0 is infeasible due to substitution\n",
      "constraint A1_leb1 is infeasible due to substitution\n",
      "constraint A1_leb2 is infeasible due to substitution\n",
      "constraint A2_leb1 is infeasible due to substitution\n",
      "constraint A3_leb0 is infeasible due to substitution\n",
      "constraint A3_leb1 is infeasible due to substitution\n",
      "constraint A3_leb2 is infeasible due to substitution\n",
      "constraint A4_leb1 is infeasible due to substitution\n",
      "constraint A5_leb0 is infeasible due to substitution\n",
      "constraint A5_leb1 is infeasible due to substitution\n",
      "constraint A5_leb2 is infeasible due to substitution\n",
      "constraint A6_leb0 is infeasible due to substitution\n",
      "constraint A6_leb1 is infeasible due to substitution\n",
      "constraint A6_leb2 is infeasible due to substitution\n",
      "constraint A0_leb0 is infeasible due to substitution\n",
      "constraint A0_leb1 is infeasible due to substitution\n",
      "constraint A0_leb2 is infeasible due to substitution\n",
      "constraint A1_leb0 is infeasible due to substitution\n",
      "constraint A1_leb1 is infeasible due to substitution\n",
      "constraint A1_leb2 is infeasible due to substitution\n",
      "constraint A2_leb2 is infeasible due to substitution\n",
      "constraint A3_leb0 is infeasible due to substitution\n",
      "constraint A4_leb0 is infeasible due to substitution\n",
      "constraint A4_leb1 is infeasible due to substitution\n",
      "constraint A5_leb0 is infeasible due to substitution\n",
      "constraint A5_leb1 is infeasible due to substitution\n",
      "constraint A6_leb0 is infeasible due to substitution\n",
      "constraint A6_leb1 is infeasible due to substitution\n",
      "constraint A7_leb1 is infeasible due to substitution\n",
      "constraint A7_leb2 is infeasible due to substitution\n",
      "constraint A0_leb0 is infeasible due to substitution\n",
      "constraint A0_leb1 is infeasible due to substitution\n",
      "constraint A0_leb2 is infeasible due to substitution\n",
      "constraint A1_leb1 is infeasible due to substitution\n",
      "constraint A1_leb2 is infeasible due to substitution\n",
      "constraint A2_leb2 is infeasible due to substitution\n",
      "constraint A3_leb0 is infeasible due to substitution\n",
      "constraint A3_leb1 is infeasible due to substitution\n",
      "constraint A3_leb2 is infeasible due to substitution\n",
      "constraint A4_leb0 is infeasible due to substitution\n",
      "constraint A4_leb2 is infeasible due to substitution\n",
      "constraint A5_leb0 is infeasible due to substitution\n",
      "constraint A5_leb1 is infeasible due to substitution\n",
      "constraint A5_leb2 is infeasible due to substitution\n",
      "constraint A6_leb0 is infeasible due to substitution\n",
      "constraint A6_leb1 is infeasible due to substitution\n",
      "constraint A6_leb2 is infeasible due to substitution\n",
      "constraint A7_leb0 is infeasible due to substitution\n",
      "constraint A7_leb2 is infeasible due to substitution\n",
      "constraint A8_leb0 is infeasible due to substitution\n",
      "constraint A8_leb1 is infeasible due to substitution\n",
      "constraint A8_leb2 is infeasible due to substitution\n",
      "constraint A0_leb1 is infeasible due to substitution\n",
      "constraint A0_leb2 is infeasible due to substitution\n",
      "constraint A1_leb0 is infeasible due to substitution\n",
      "constraint A1_leb2 is infeasible due to substitution\n",
      "constraint A2_leb0 is infeasible due to substitution\n",
      "constraint A2_leb1 is infeasible due to substitution\n",
      "constraint A2_leb2 is infeasible due to substitution\n",
      "constraint A3_leb0 is infeasible due to substitution\n",
      "constraint A3_leb1 is infeasible due to substitution\n",
      "constraint A3_leb2 is infeasible due to substitution\n",
      "constraint A4_leb0 is infeasible due to substitution\n",
      "constraint A4_leb1 is infeasible due to substitution\n",
      "constraint A5_leb0 is infeasible due to substitution\n",
      "constraint A5_leb1 is infeasible due to substitution\n",
      "constraint A6_leb1 is infeasible due to substitution\n",
      "constraint A7_leb1 is infeasible due to substitution\n",
      "constraint A8_leb0 is infeasible due to substitution\n",
      "constraint A8_leb2 is infeasible due to substitution\n",
      "constraint A9_leb0 is infeasible due to substitution\n"
     ]
    }
   ],
   "source": [
    "found_no_solution_ct = 0\n",
    "for qp_name in sorted(qps.keys(), key = lambda name : int(name[name.rfind('_')+1:])) :\n",
    "    results = {}\n",
    "    solvers = {\"Leap_Hybrid\" : createSolver(LeapHybridSampler()) , \"DWaveSampler\" : createSolver(num_reads = num_reads)}\n",
    "    \n",
    "    for sname in solvers.keys():\n",
    "        optimizer = solvers[sname]\n",
    "        try:\n",
    "            results[sname] = optimizer.solve(qps[qp_name])\n",
    "        except Exception as ex:\n",
    "            print(qp_name, \" \", sname, type(ex).__name__, \" : \", ex)\n",
    "    if any(res.status == OptimizationResultStatus.SUCCESS for res in results.values()):\n",
    "        found_no_solution_ct = 0\n",
    "        with open(getPath(\"results\"), 'a+') as file:\n",
    "            file.write(\"\\n ------------------------------------- \\n\"+qp_name)\n",
    "            for sname in solvers.keys():\n",
    "                file.write(\"\\n\"+sname)\n",
    "                if sname not in results:\n",
    "                    file.write(\"\\n Exception occurred\")\n",
    "                else:\n",
    "                    res = results[sname]\n",
    "                    if res.status == OptimizationResultStatus.SUCCESS:\n",
    "                        cres  = qps[qp_name].model.solve()\n",
    "                        if res.fval != cres.get_objective_value():\n",
    "                            file.write(\"\\n optimal value DWave   \"+str(res.fval) + \"  ,  cplex:\"+ str(cres.get_objective_value()))\n",
    "                            file.write(\"\\n\"+str(res.x)+\"   cplex:\"+str(cres.get_all_values()))\n",
    "                        else:\n",
    "                            file.write(\"\\n found solution!\")\n",
    "                    else:\n",
    "                        file.write(\"\\n\"+str(res.status))   \n",
    "    else:\n",
    "        # test if cres can find a solution\n",
    "            \n",
    "        cres  = qps[qp_name].model.solve()\n",
    "        with open(getPath(\"results\"), 'a+') as file:\n",
    "            file.write(\"\\n Cres : \"+str(cres))\n",
    "        if cres.is_valid_solution():\n",
    "            found_no_solution_ct = found_no_solution_ct + 1\n",
    "        if found_no_solution_ct == 2:\n",
    "            break"
   ]
  },
  {
   "cell_type": "markdown",
   "metadata": {},
   "source": [
    "Result:\n",
    "Leap finds solutions but they are not the best\n",
    "DWave Sampler finds solutions up to 3 x 5 vars"
   ]
  },
  {
   "cell_type": "code",
   "execution_count": null,
   "metadata": {},
   "outputs": [],
   "source": []
  }
 ],
 "metadata": {
  "kernelspec": {
   "display_name": "Python 3",
   "language": "python",
   "name": "python3"
  },
  "language_info": {
   "codemirror_mode": {
    "name": "ipython",
    "version": 3
   },
   "file_extension": ".py",
   "mimetype": "text/x-python",
   "name": "python",
   "nbconvert_exporter": "python",
   "pygments_lexer": "ipython3",
   "version": "3.8.5"
  }
 },
 "nbformat": 4,
 "nbformat_minor": 4
}
