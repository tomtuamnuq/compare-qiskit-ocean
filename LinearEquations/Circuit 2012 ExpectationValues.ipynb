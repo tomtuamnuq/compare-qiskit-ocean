{
 "cells": [
  {
   "cell_type": "code",
   "execution_count": 1,
   "metadata": {},
   "outputs": [],
   "source": [
    "from qiskit import QuantumCircuit, QuantumRegister, execute, Aer\n",
    "from qiskit.extensions import UnitaryGate, SdgGate\n",
    "from qiskit.visualization import plot_histogram\n",
    "import numpy as np\n",
    "from math import pi\n",
    "# works with qiskit meta-package version 0.18.3\n",
    "import warnings\n",
    "warnings.filterwarnings(\"ignore\") # suppress deprecation warnings"
   ]
  },
  {
   "cell_type": "code",
   "execution_count": 2,
   "metadata": {},
   "outputs": [],
   "source": [
    "def createStatePreparationCircuit(qb,c):\n",
    "    statePreparationCircuit=QuantumCircuit(qb)\n",
    "    if c==\"1\":\n",
    "        statePreparationCircuit.x(0) \n",
    "    elif c==\"b0\":\n",
    "        statePreparationCircuit.ry(pi/4,0)\n",
    "    elif c==\"b1\":\n",
    "        statePreparationCircuit.rx(-pi/4,0)\n",
    "        statePreparationCircuit.ry(-3*pi/2+pi/4,0)\n",
    "        statePreparationCircuit.rz(pi/4,0)\n",
    "    return statePreparationCircuit"
   ]
  },
  {
   "cell_type": "code",
   "execution_count": 3,
   "metadata": {},
   "outputs": [],
   "source": [
    "def createCircuit(r,c,M):\n",
    "    qa=QuantumRegister(1,name=\"a\") #store ancilla\n",
    "    qev=QuantumRegister(2,name=\"r\") #store both eigenvalues\n",
    "    qb=QuantumRegister(1,name=\"m\") #store |b>\n",
    "    qc=QuantumCircuit(qa,qev,qb)\n",
    "    qc=qc+createStatePreparationCircuit(qb,c)\n",
    "    qc.barrier();\n",
    "    \n",
    "    phaseEstimationCircuit=QuantumCircuit(qev,qb)\n",
    "    phaseEstimationCircuit.h(qev[0])\n",
    "    phaseEstimationCircuit.h(qev[1])\n",
    "    # add Hamiltonian Simulation\n",
    "    \n",
    "    #e^{i A pi/2} with control qev[1] and target qb[0]\n",
    "    hamiltonianOp=1/2*np.array([[complex(-1,1),complex(-1,-1)],\n",
    "                   [complex(-1,-1),complex(-1,1)]])\n",
    "    hamiltonianGate=UnitaryGate(hamiltonianOp)\n",
    "    phaseEstimationCircuit.append(hamiltonianGate.control(1),[qev[1],qb[0]])\n",
    "    # the controlled UnitaryGate can`t be inverted with qiskit meta-package version 0.19.2\n",
    "    \n",
    "    #e^{i pi A } with control qev[0] and target qb[0]\n",
    "    phaseEstimationCircuit.cx(qev[0],qb[0]) #simply an X Gate \n",
    "\n",
    "    phaseEstimationCircuit.swap(qev[0],qev[1])\n",
    "    phaseEstimationCircuit.h(qev[1])\n",
    "    phaseEstimationCircuit.append(SdgGate().control(1),qev)\n",
    "    phaseEstimationCircuit.h(qev[0])\n",
    "    qc=qc+phaseEstimationCircuit\n",
    "    \n",
    "    qc.barrier();\n",
    "    qc.swap(1,2)\n",
    "    qc.cry(2*pi/2**r,1,0)\n",
    "    qc.cry(pi/2**r,2,0);\n",
    "    \n",
    "    #invert circuit before Ry\n",
    "    qc.swap(1,2)\n",
    "    qc.barrier();\n",
    "    # the following line produces problems with qiskit meta-package version 0.19.2:\n",
    "    qc=qc+phaseEstimationCircuit.inverse()\n",
    "    if M==\"X\":\n",
    "        qc.h(qb[0]) \n",
    "    elif M==\"Y\":\n",
    "        qc.sdg(qb[0]) \n",
    "        qc.h(qb[0]) \n",
    "    qc.measure_all()\n",
    "    return qc"
   ]
  },
  {
   "cell_type": "code",
   "execution_count": 4,
   "metadata": {},
   "outputs": [],
   "source": [
    "def measureExpectationValue(qc):\n",
    "    counts=execute(qc,Aer.get_backend('qasm_simulator'),shots=20000).result().get_counts()\n",
    "    if \"0001\" not in counts:\n",
    "        a_square=0\n",
    "    else:\n",
    "        a_square=counts[\"0001\"]\n",
    "    if \"1001\" not in counts:\n",
    "        b_square=0\n",
    "    else:\n",
    "        b_square=counts[\"1001\"]\n",
    "    # eigenvalues are 1 and -1\n",
    "    expectationValue=(1*a_square+(-1)*b_square)/ (a_square+b_square)\n",
    "    return expectationValue"
   ]
  },
  {
   "cell_type": "code",
   "execution_count": 5,
   "metadata": {},
   "outputs": [
    {
     "name": "stdout",
     "output_type": "stream",
     "text": [
      "{'0001': 158, '1000': 14600, '1001': 345, '0000': 4897}\n"
     ]
    },
    {
     "data": {
      "image/png": "[encoded data removed]",
      "text/plain": [
       "<Figure size 504x360 with 1 Axes>"
      ]
     },
     "execution_count": 5,
     "metadata": {},
     "output_type": "execute_result"
    }
   ],
   "source": [
    "#setting parameter r as described in Figure 3 of the 2012 paper by Cao et al.:\n",
    "r=4\n",
    "qc=createCircuit(r,\"b1\",\"Z\")\n",
    "counts=execute(qc,Aer.get_backend('qasm_simulator'),shots=20000).result().get_counts()\n",
    "print(counts)\n",
    "plot_histogram(counts)"
   ]
  },
  {
   "cell_type": "code",
   "execution_count": 6,
   "metadata": {},
   "outputs": [
    {
     "name": "stdout",
     "output_type": "stream",
     "text": [
      "Observing  X  with input  1  has expectation value  -0.572895\n",
      "Observing  X  with input  b0  has expectation value  0.129151\n",
      "Observing  X  with input  b1  has expectation value  -0.669941\n",
      "Observing  Y  with input  1  has expectation value  -0.061983\n",
      "Observing  Y  with input  b0  has expectation value  0.012346\n",
      "Observing  Y  with input  b1  has expectation value  0.621181\n",
      "Observing  Z  with input  1  has expectation value  -0.784615\n",
      "Observing  Z  with input  b0  has expectation value  0.975309\n",
      "Observing  Z  with input  b1  has expectation value  -0.376299\n"
     ]
    }
   ],
   "source": [
    "results={}\n",
    "for M in [\"X\",\"Y\",\"Z\"]:\n",
    "    for c in [\"1\",\"b0\",\"b1\"]:\n",
    "        qc=createCircuit(r,c,M)\n",
    "        results[(c,M)]=measureExpectationValue(qc)\n",
    "        \n",
    "for c,M in results.keys():\n",
    "    M_X= results[(c,M)]\n",
    "    print(\"Observing \",M,\" with input \",c,\" has expectation value \",'{:f}'.format(M_X.real)) # gives results as shown in the tables"
   ]
  }
 ],
 "metadata": {
  "kernelspec": {
   "display_name": "Python 3",
   "language": "python",
   "name": "python3"
  },
  "language_info": {
   "codemirror_mode": {
    "name": "ipython",
    "version": 3
   },
   "file_extension": ".py",
   "mimetype": "text/x-python",
   "name": "python",
   "nbconvert_exporter": "python",
   "pygments_lexer": "ipython3",
   "version": "3.7.7"
  }
 },
 "nbformat": 4,
 "nbformat_minor": 4
}
