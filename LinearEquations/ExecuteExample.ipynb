{
 "cells": [
  {
   "cell_type": "code",
   "execution_count": 1,
   "metadata": {},
   "outputs": [],
   "source": [
    "from qiskit import QuantumCircuit, Aer, execute, IBMQ\n",
    "from qiskit.providers.aer.noise import NoiseModel\n",
    "qc=QuantumCircuit(2) \n",
    "IBMQ.load_account()\n",
    "provider=IBMQ.get_provider(hub='ibm-q')\n",
    "backend=provider.get_backend(\"ibmq_rome\")\n",
    "noise_model = NoiseModel.from_backend(backend)\n",
    "result=execute(qc,Aer.get_backend('qasm_simulator'),noise_model=noise_model,shots=4096).result()"
   ]
  }
 ],
 "metadata": {
  "kernelspec": {
   "display_name": "Python 3",
   "language": "python",
   "name": "python3"
  },
  "language_info": {
   "codemirror_mode": {
    "name": "ipython",
    "version": 3
   },
   "file_extension": ".py",
   "mimetype": "text/x-python",
   "name": "python",
   "nbconvert_exporter": "python",
   "pygments_lexer": "ipython3",
   "version": "3.7.6"
  }
 },
 "nbformat": 4,
 "nbformat_minor": 4
}
