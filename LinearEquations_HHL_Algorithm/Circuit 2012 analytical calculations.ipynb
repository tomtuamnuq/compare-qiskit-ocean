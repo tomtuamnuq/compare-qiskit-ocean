{
 "cells": [
  {
   "cell_type": "code",
   "execution_count": 1,
   "metadata": {},
   "outputs": [],
   "source": [
    "import numpy as np\n",
    "pauli_X=np.array([[complex(0,0),complex(1,0)],\n",
    "                   [complex(1,0),complex(0,0)]])\n",
    "pauli_Y=np.array([[complex(0,0),complex(0,-1)],\n",
    "                   [complex(0,1),complex(0,0)]])\n",
    "pauli_Z=np.array([[complex(1,0),complex(0,0)],\n",
    "                   [complex(0,0),complex(-1,0)]])\n",
    "operators={\"X\":pauli_X,\"Y\":pauli_Y,\"Z\":pauli_Z}\n"
   ]
  },
  {
   "cell_type": "code",
   "execution_count": 2,
   "metadata": {},
   "outputs": [],
   "source": [
    "def getAnalyticalObservation(A,b,M=\"\"):\n",
    "    A_inv=np.linalg.inv(A)\n",
    "    x=A_inv.dot(b)\n",
    "    x=x/np.linalg.norm(x,2)\n",
    "    if M in operators.keys():\n",
    "        operator=operators[M]\n",
    "        return np.vdot(operator.dot(x),x)\n",
    "    return x"
   ]
  },
  {
   "cell_type": "code",
   "execution_count": 3,
   "metadata": {},
   "outputs": [],
   "source": [
    "A=np.array([[3/2,1/2],[1/2,3/2]])\n",
    "# Get input states b:\n",
    "inputs=[]\n",
    "#adding |1>\n",
    "inputs.append(('1',np.array([0, 1])))\n",
    "\n",
    "#adding rotated state b0\n",
    "inputs.append(('b0',np.array([0.92388,0.382683])))\n",
    "\n",
    "#adding rotated state b1\n",
    "inputs.append(('b1',np.array([0.5,complex(-0.146447,0.853553)])))\n",
    "\n",
    "results={}\n",
    "for c,b in inputs:\n",
    "    x=getAnalyticalObservation(A,b) #solution in computational basis\n",
    "    for M in [\"X\",\"Y\",\"Z\"]:\n",
    "        M_X=getAnalyticalObservation(A,b,M)\n",
    "        results[(c,M)]=(x,M_X)"
   ]
  },
  {
   "cell_type": "code",
   "execution_count": 4,
   "metadata": {},
   "outputs": [
    {
     "name": "stdout",
     "output_type": "stream",
     "text": [
      "Base  X  with input  1  has expectation value  -0.600000  and solution  [-0.31622777  0.9486833 ]\n",
      "Base  Y  with input  1  has expectation value  0.000000  and solution  [-0.31622777  0.9486833 ]\n",
      "Base  Z  with input  1  has expectation value  -0.800000  and solution  [-0.31622777  0.9486833 ]\n",
      "Base  X  with input  b0  has expectation value  0.186033  and solution  [0.99562631 0.0934251 ]\n",
      "Base  Y  with input  b0  has expectation value  0.000000  and solution  [0.99562631 0.0934251 ]\n",
      "Base  Z  with input  b0  has expectation value  0.982544  and solution  [0.99562631 0.0934251 ]\n",
      "Base  X  with input  b1  has expectation value  -0.686156  and solution  [ 0.49918293-0.258787j   -0.28479689+0.77636101j]\n",
      "Base  Y  with input  b1  has expectation value  0.627689  and solution  [ 0.49918293-0.258787j   -0.28479689+0.77636101j]\n",
      "Base  Z  with input  b1  has expectation value  -0.367691  and solution  [ 0.49918293-0.258787j   -0.28479689+0.77636101j]\n"
     ]
    }
   ],
   "source": [
    "#print analytical results:\n",
    "for c,M in results.keys():\n",
    "    x,M_X= results[(c,M)]\n",
    "    print(\"Base \",M,\" with input \",c,\" has expectation value \",'{:f}'.format(M_X.real),\" and solution \",x)"
   ]
  }
 ],
 "metadata": {
  "kernelspec": {
   "display_name": "Python 3",
   "language": "python",
   "name": "python3"
  },
  "language_info": {
   "codemirror_mode": {
    "name": "ipython",
    "version": 3
   },
   "file_extension": ".py",
   "mimetype": "text/x-python",
   "name": "python",
   "nbconvert_exporter": "python",
   "pygments_lexer": "ipython3",
   "version": "3.7.7"
  }
 },
 "nbformat": 4,
 "nbformat_minor": 4
}
