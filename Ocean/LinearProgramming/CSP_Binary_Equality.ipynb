{
 "cells": [
  {
   "cell_type": "code",
   "execution_count": 1,
   "metadata": {},
   "outputs": [],
   "source": [
    "import dwavebinarycsp\n",
    "import dimod\n",
    "import neal\n",
    "import numpy as np\n",
    "from dwavebinarycsp.core.constraint import Constraint\n",
    "from dwave.system import DWaveSampler, EmbeddingComposite"
   ]
  },
  {
   "cell_type": "markdown",
   "metadata": {},
   "source": [
    "# Solve a binary linear Equation Ax=b as csp with default Solver Advantage_system1.1\n",
    "Problem ID c3d819e3-f75f-41d2-be4d-d4552c85dbb1"
   ]
  },
  {
   "cell_type": "code",
   "execution_count": 2,
   "metadata": {},
   "outputs": [],
   "source": [
    "A = np.array([[1,1,1,1,1],\n",
    "              [2,2,2,2,2],\n",
    "              [0,1,2,3,4],\n",
    "              [2,1,4,1,0],\n",
    "              [0,1,0,1,0]])\n",
    "b = np.array([2, 4, 3, 5, 1])\n",
    "solution = {'x0':0, 'x1':1,'x2':1,'x3':0,'x4':0 }\n",
    "no_solution = {'x0':0, 'x1':1,'x2':1,'x3':1,'x4':1 }"
   ]
  },
  {
   "cell_type": "code",
   "execution_count": 3,
   "metadata": {},
   "outputs": [],
   "source": [
    "m, n = A.shape\n",
    "vartype = dimod.Vartype.BINARY\n",
    "csp = dwavebinarycsp.ConstraintSatisfactionProblem(vartype)\n",
    "x = tuple(['x' + str(j) for j in range(n)])\n",
    "\n",
    "def make_f(i): # avoid late binding of i in for loop\n",
    "    return lambda *z : (sum(A[i,j]*z[j] for j in range(n)) == b[i])\n",
    "\n",
    "for v in x:\n",
    "    csp.add_variable(v)\n",
    "for i in range(m):\n",
    "    constraint = Constraint.from_func(make_f(i),x,vartype)\n",
    "    csp.add_constraint(constraint)"
   ]
  },
  {
   "cell_type": "code",
   "execution_count": 4,
   "metadata": {},
   "outputs": [],
   "source": [
    "def printAndGetTestResults(sampler, bqm):\n",
    "    sampleset = sampler.sample(bqm)\n",
    "    print(\"Sampling by \", sampler)\n",
    "    for sample, energy in sampleset.data(['sample', 'energy']):\n",
    "        isValid = csp.check(sample)\n",
    "        print(sample, isValid, energy)\n",
    "        if not isValid : return sampleset"
   ]
  },
  {
   "cell_type": "code",
   "execution_count": 5,
   "metadata": {},
   "outputs": [
    {
     "name": "stdout",
     "output_type": "stream",
     "text": [
      "Sampling by  <dimod.reference.samplers.exact_solver.ExactSolver object at 0x7f9463ee2a90>\n",
      "{'x0': 0, 'x1': 1, 'x2': 1, 'x3': 0, 'x4': 0} True 3.5840130863107333e-10\n",
      "{'x0': 0, 'x1': 0, 'x2': 1, 'x3': 1, 'x4': 0} False 4.00000000017501\n",
      "Sampling by  <neal.sampler.SimulatedAnnealingSampler object at 0x7f9463ee2640>\n",
      "{'x0': 0, 'x1': 1, 'x2': 1, 'x3': 0, 'x4': 0} True 3.5840486134475213e-10\n"
     ]
    }
   ],
   "source": [
    "bqm = dwavebinarycsp.stitch(csp)\n",
    "samplers = {\"BruteForce\" : dimod.ExactSolver() , \"Neal\" : neal.SimulatedAnnealingSampler()}\n",
    "samplesets = {s: printAndGetTestResults(samplers[s],bqm) for s in samplers.keys()}"
   ]
  },
  {
   "cell_type": "code",
   "execution_count": 7,
   "metadata": {},
   "outputs": [],
   "source": [
    "sampler = EmbeddingComposite(DWaveSampler())\n",
    "sampleset = sampler.sample(bqm,num_reads = 100)"
   ]
  },
  {
   "cell_type": "code",
   "execution_count": 9,
   "metadata": {},
   "outputs": [
    {
     "data": {
      "text/html": [
       "<div>\n",
       "<style scoped>\n",
       "    .dataframe tbody tr th:only-of-type {\n",
       "        vertical-align: middle;\n",
       "    }\n",
       "\n",
       "    .dataframe tbody tr th {\n",
       "        vertical-align: top;\n",
       "    }\n",
       "\n",
       "    .dataframe thead th {\n",
       "        text-align: right;\n",
       "    }\n",
       "</style>\n",
       "<table border=\"1\" class=\"dataframe\">\n",
       "  <thead>\n",
       "    <tr style=\"text-align: right;\">\n",
       "      <th></th>\n",
       "      <th>x0</th>\n",
       "      <th>x1</th>\n",
       "      <th>x2</th>\n",
       "      <th>x3</th>\n",
       "      <th>x4</th>\n",
       "      <th>chain_break_fraction</th>\n",
       "      <th>energy</th>\n",
       "      <th>num_occurrences</th>\n",
       "    </tr>\n",
       "  </thead>\n",
       "  <tbody>\n",
       "    <tr>\n",
       "      <th>0</th>\n",
       "      <td>0</td>\n",
       "      <td>1</td>\n",
       "      <td>1</td>\n",
       "      <td>0</td>\n",
       "      <td>0</td>\n",
       "      <td>0.0</td>\n",
       "      <td>3.584013e-10</td>\n",
       "      <td>69</td>\n",
       "    </tr>\n",
       "    <tr>\n",
       "      <th>1</th>\n",
       "      <td>0</td>\n",
       "      <td>0</td>\n",
       "      <td>1</td>\n",
       "      <td>1</td>\n",
       "      <td>0</td>\n",
       "      <td>0.0</td>\n",
       "      <td>4.000000e+00</td>\n",
       "      <td>12</td>\n",
       "    </tr>\n",
       "    <tr>\n",
       "      <th>2</th>\n",
       "      <td>1</td>\n",
       "      <td>0</td>\n",
       "      <td>0</td>\n",
       "      <td>1</td>\n",
       "      <td>0</td>\n",
       "      <td>0.0</td>\n",
       "      <td>4.194090e+00</td>\n",
       "      <td>14</td>\n",
       "    </tr>\n",
       "    <tr>\n",
       "      <th>3</th>\n",
       "      <td>0</td>\n",
       "      <td>0</td>\n",
       "      <td>0</td>\n",
       "      <td>1</td>\n",
       "      <td>0</td>\n",
       "      <td>0.0</td>\n",
       "      <td>7.548199e+00</td>\n",
       "      <td>2</td>\n",
       "    </tr>\n",
       "    <tr>\n",
       "      <th>4</th>\n",
       "      <td>0</td>\n",
       "      <td>1</td>\n",
       "      <td>1</td>\n",
       "      <td>0</td>\n",
       "      <td>1</td>\n",
       "      <td>0.0</td>\n",
       "      <td>8.000000e+00</td>\n",
       "      <td>1</td>\n",
       "    </tr>\n",
       "    <tr>\n",
       "      <th>5</th>\n",
       "      <td>1</td>\n",
       "      <td>0</td>\n",
       "      <td>0</td>\n",
       "      <td>1</td>\n",
       "      <td>1</td>\n",
       "      <td>0.0</td>\n",
       "      <td>1.219409e+01</td>\n",
       "      <td>2</td>\n",
       "    </tr>\n",
       "  </tbody>\n",
       "</table>\n",
       "</div>"
      ],
      "text/plain": [
       "   x0  x1  x2  x3  x4  chain_break_fraction        energy  num_occurrences\n",
       "0   0   1   1   0   0                   0.0  3.584013e-10               69\n",
       "1   0   0   1   1   0                   0.0  4.000000e+00               12\n",
       "2   1   0   0   1   0                   0.0  4.194090e+00               14\n",
       "3   0   0   0   1   0                   0.0  7.548199e+00                2\n",
       "4   0   1   1   0   1                   0.0  8.000000e+00                1\n",
       "5   1   0   0   1   1                   0.0  1.219409e+01                2"
      ]
     },
     "execution_count": 9,
     "metadata": {},
     "output_type": "execute_result"
    }
   ],
   "source": [
    "sampleset.to_pandas_dataframe()"
   ]
  },
  {
   "cell_type": "code",
   "execution_count": null,
   "metadata": {},
   "outputs": [],
   "source": []
  },
  {
   "cell_type": "code",
   "execution_count": null,
   "metadata": {},
   "outputs": [],
   "source": []
  },
  {
   "cell_type": "code",
   "execution_count": null,
   "metadata": {},
   "outputs": [],
   "source": []
  }
 ],
 "metadata": {
  "kernelspec": {
   "display_name": "Python 3",
   "language": "python",
   "name": "python3"
  },
  "language_info": {
   "codemirror_mode": {
    "name": "ipython",
    "version": 3
   },
   "file_extension": ".py",
   "mimetype": "text/x-python",
   "name": "python",
   "nbconvert_exporter": "python",
   "pygments_lexer": "ipython3",
   "version": "3.8.5"
  }
 },
 "nbformat": 4,
 "nbformat_minor": 4
}
