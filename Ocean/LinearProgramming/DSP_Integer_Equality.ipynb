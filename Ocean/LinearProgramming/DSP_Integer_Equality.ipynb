{
 "cells": [
  {
   "cell_type": "code",
   "execution_count": 1,
   "metadata": {},
   "outputs": [],
   "source": [
    "import dwavebinarycsp\n",
    "import dimod\n",
    "import neal\n",
    "import numpy as np\n",
    "from dwavebinarycsp.core.constraint import Constraint\n",
    "from dwave.system import DWaveSampler, EmbeddingComposite"
   ]
  },
  {
   "cell_type": "markdown",
   "metadata": {},
   "source": [
    "# Solve an integer linear Equation Ax=b as dsp with default Solver Advantage_system1.1\n",
    "\n",
    "## Not able to perform yet easily because no class Discrete Satisfaction Problem exists"
   ]
  },
  {
   "cell_type": "code",
   "execution_count": 2,
   "metadata": {},
   "outputs": [
    {
     "name": "stdout",
     "output_type": "stream",
     "text": [
      "[7 5 6]\n"
     ]
    },
    {
     "data": {
      "text/plain": [
       "array([10,  8, 12])"
      ]
     },
     "execution_count": 2,
     "metadata": {},
     "output_type": "execute_result"
    }
   ],
   "source": [
    "A = np.array([[0,1,2,3,4,1],\n",
    "              [2,1,4,1,0,2],\n",
    "              [1,5,2,3,1,1]])\n",
    "m, n = A.shape\n",
    "values = range(0,6)\n",
    "b = np.array([7,5,6])\n",
    "\n",
    "solution = {'x0':2, 'x1':0,'x2':0,'x3':1,'x4':1, 'x5':0 }\n",
    "no_solution = {'x0':1, 'x1':1,'x2':1,'x3':1,'x4':1, 'x5':0  }\n",
    "\n",
    "print(A.dot(np.array([2,0,0,1,1,0])))\n",
    "A.dot(np.array([1,1,1,1,1,0]))"
   ]
  },
  {
   "cell_type": "markdown",
   "metadata": {},
   "source": [
    "class DSP ? \n",
    "Need to set up discrete quadratic model from scratch!!!"
   ]
  },
  {
   "cell_type": "code",
   "execution_count": null,
   "metadata": {},
   "outputs": [],
   "source": []
  }
 ],
 "metadata": {
  "kernelspec": {
   "display_name": "Python 3",
   "language": "python",
   "name": "python3"
  },
  "language_info": {
   "codemirror_mode": {
    "name": "ipython",
    "version": 3
   },
   "file_extension": ".py",
   "mimetype": "text/x-python",
   "name": "python",
   "nbconvert_exporter": "python",
   "pygments_lexer": "ipython3",
   "version": "3.8.5"
  }
 },
 "nbformat": 4,
 "nbformat_minor": 4
}
