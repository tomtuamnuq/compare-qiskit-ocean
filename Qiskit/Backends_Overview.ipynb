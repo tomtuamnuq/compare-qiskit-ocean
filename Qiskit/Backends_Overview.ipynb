{
 "cells": [
  {
   "cell_type": "code",
   "execution_count": 1,
   "metadata": {},
   "outputs": [],
   "source": [
    "from qiskit import IBMQ\n",
    "import networkx as nx\n",
    "from qiskit.providers.ibmq import least_busy\n",
    "import matplotlib.pyplot as plt"
   ]
  },
  {
   "cell_type": "code",
   "execution_count": 2,
   "metadata": {},
   "outputs": [
    {
     "name": "stderr",
     "output_type": "stream",
     "text": [
      "/home/tom/anaconda3/envs/Qiskit_Ocean/lib/python3.8/site-packages/qiskit/providers/ibmq/ibmqfactory.py:192: UserWarning: Timestamps in IBMQ backend properties, jobs, and job results are all now in local time instead of UTC.\n",
      "  warnings.warn('Timestamps in IBMQ backend properties, jobs, and job results '\n"
     ]
    },
    {
     "data": {
      "text/plain": [
       "[<AccountProvider for IBMQ(hub='ibm-q', group='open', project='main')>]"
      ]
     },
     "execution_count": 2,
     "metadata": {},
     "output_type": "execute_result"
    }
   ],
   "source": [
    "IBMQ.load_account() # Load account from disk\n",
    "IBMQ.providers()    # List all available providers"
   ]
  },
  {
   "cell_type": "code",
   "execution_count": 3,
   "metadata": {},
   "outputs": [
    {
     "data": {
      "text/plain": [
       "[<IBMQSimulator('ibmq_qasm_simulator') from IBMQ(hub='ibm-q', group='open', project='main')>,\n",
       " <IBMQBackend('ibmqx2') from IBMQ(hub='ibm-q', group='open', project='main')>,\n",
       " <IBMQBackend('ibmq_16_melbourne') from IBMQ(hub='ibm-q', group='open', project='main')>,\n",
       " <IBMQBackend('ibmq_vigo') from IBMQ(hub='ibm-q', group='open', project='main')>,\n",
       " <IBMQBackend('ibmq_ourense') from IBMQ(hub='ibm-q', group='open', project='main')>,\n",
       " <IBMQBackend('ibmq_valencia') from IBMQ(hub='ibm-q', group='open', project='main')>,\n",
       " <IBMQBackend('ibmq_armonk') from IBMQ(hub='ibm-q', group='open', project='main')>,\n",
       " <IBMQBackend('ibmq_athens') from IBMQ(hub='ibm-q', group='open', project='main')>,\n",
       " <IBMQBackend('ibmq_santiago') from IBMQ(hub='ibm-q', group='open', project='main')>]"
      ]
     },
     "execution_count": 3,
     "metadata": {},
     "output_type": "execute_result"
    }
   ],
   "source": [
    "provider = IBMQ.get_provider(hub='ibm-q')\n",
    "provider.backends()"
   ]
  },
  {
   "cell_type": "code",
   "execution_count": 4,
   "metadata": {},
   "outputs": [
    {
     "name": "stdout",
     "output_type": "stream",
     "text": [
      " Backend with only 21 pending jobs is ibmq_athens\n"
     ]
    }
   ],
   "source": [
    "backends = provider.backends(filters=lambda x: x.configuration().n_qubits >= 5\n",
    "                                    and not x.configuration().simulator\n",
    "                                    and x.status().operational==True)\n",
    "\n",
    "print(f\" Backend with only {least_busy(backends).status().pending_jobs} pending jobs is {least_busy(backends).name()}\")"
   ]
  },
  {
   "cell_type": "code",
   "execution_count": 5,
   "metadata": {},
   "outputs": [
    {
     "name": "stdout",
     "output_type": "stream",
     "text": [
      "5ec99ce097dd450014f7459e\n",
      "5e9aa85c39011700187a55da\n",
      " ibmq_16_melbourne currently has 3285 pending jobs\n"
     ]
    }
   ],
   "source": [
    "backend = provider.get_backend('ibmq_16_melbourne')\n",
    "\n",
    "# list all jobs which have been executed from our provider\n",
    "for job in backend.jobs():\n",
    "    print(job.job_id())\n",
    "    \n",
    "print(f\" {backend.name()} currently has {backend.status().pending_jobs} pending jobs\")"
   ]
  },
  {
   "cell_type": "code",
   "execution_count": 6,
   "metadata": {},
   "outputs": [
    {
     "data": {
      "image/png": "[encoded data removed]",
      "text/plain": [
       "<Figure size 432x288 with 1 Axes>"
      ]
     },
     "metadata": {},
     "output_type": "display_data"
    }
   ],
   "source": [
    "melbourne_conf = backend.configuration()\n",
    "G = nx.Graph()\n",
    "G.add_nodes_from(range(0,melbourne_conf.n_qubits))\n",
    "G.add_edges_from(melbourne_conf.coupling_map)\n",
    "nx.draw(G, with_labels = True)"
   ]
  },
  {
   "cell_type": "code",
   "execution_count": 7,
   "metadata": {},
   "outputs": [
    {
     "data": {
      "text/plain": [
       "[Nduv(datetime.datetime(2021, 1, 19, 6, 57, 33, tzinfo=tzlocal()), T1, us, 55.19096195339715),\n",
       " Nduv(datetime.datetime(2021, 1, 19, 7, 5, 9, tzinfo=tzlocal()), T2, us, 57.81040786310472),\n",
       " Nduv(datetime.datetime(2021, 1, 19, 10, 53, 4, tzinfo=tzlocal()), frequency, GHz, 5.235713586122091),\n",
       " Nduv(datetime.datetime(2021, 1, 19, 10, 53, 4, tzinfo=tzlocal()), anharmonicity, GHz, 0),\n",
       " Nduv(datetime.datetime(2021, 1, 19, 6, 52, 14, tzinfo=tzlocal()), readout_error, , 0.08709999999999996),\n",
       " Nduv(datetime.datetime(2021, 1, 19, 6, 52, 14, tzinfo=tzlocal()), prob_meas0_prep1, , 0.12360000000000004),\n",
       " Nduv(datetime.datetime(2021, 1, 19, 6, 52, 14, tzinfo=tzlocal()), prob_meas1_prep0, , 0.0506),\n",
       " Nduv(datetime.datetime(2021, 1, 19, 6, 52, 14, tzinfo=tzlocal()), readout_length, ns, 3555.555555555555)]"
      ]
     },
     "execution_count": 7,
     "metadata": {},
     "output_type": "execute_result"
    }
   ],
   "source": [
    "melbourne_props = backend.properties()\n",
    "melbourne_props.qubits[1]"
   ]
  },
  {
   "cell_type": "code",
   "execution_count": 8,
   "metadata": {},
   "outputs": [
    {
     "data": {
      "text/plain": [
       "['id', 'rz', 'sx', 'x', 'cx']"
      ]
     },
     "execution_count": 8,
     "metadata": {},
     "output_type": "execute_result"
    }
   ],
   "source": [
    "melbourne_conf.basis_gates"
   ]
  },
  {
   "cell_type": "code",
   "execution_count": 9,
   "metadata": {},
   "outputs": [
    {
     "data": {
      "text/plain": [
       "10"
      ]
     },
     "execution_count": 9,
     "metadata": {},
     "output_type": "execute_result"
    }
   ],
   "source": [
    "gates_on_qubit_1 = [gate.to_dict() for gate in melbourne_props.gates if 1 in gate.qubits]\n",
    "len(gates_on_qubit_1)"
   ]
  },
  {
   "cell_type": "code",
   "execution_count": 10,
   "metadata": {},
   "outputs": [
    {
     "name": "stdout",
     "output_type": "stream",
     "text": [
      "id involves qubits:[1] and has an error rate of 0.0007991151468568459\n",
      "rz involves qubits:[1] and has an error rate of 0\n",
      "sx involves qubits:[1] and has an error rate of 0.0007991151468568459\n",
      "x involves qubits:[1] and has an error rate of 0.0007991151468568459\n",
      "cx involves qubits:[1, 13] and has an error rate of 0.04541782155783536\n",
      "cx involves qubits:[1, 2] and has an error rate of 0.011514763520980908\n",
      "cx involves qubits:[1, 0] and has an error rate of 0.01881209976077461\n"
     ]
    }
   ],
   "source": [
    "for gate in gates_on_qubit_1 : \n",
    "    if gate['qubits'][0] == 1:\n",
    "        print(\"{} involves qubits:{} and has an error rate of {}\".format(gate['gate'],gate['qubits'],melbourne_props.gate_error(gate['gate'], gate['qubits'])))"
   ]
  },
  {
   "cell_type": "code",
   "execution_count": null,
   "metadata": {},
   "outputs": [],
   "source": []
  }
 ],
 "metadata": {
  "kernelspec": {
   "display_name": "Python 3",
   "language": "python",
   "name": "python3"
  },
  "language_info": {
   "codemirror_mode": {
    "name": "ipython",
    "version": 3
   },
   "file_extension": ".py",
   "mimetype": "text/x-python",
   "name": "python",
   "nbconvert_exporter": "python",
   "pygments_lexer": "ipython3",
   "version": "3.8.5"
  }
 },
 "nbformat": 4,
 "nbformat_minor": 4
}
