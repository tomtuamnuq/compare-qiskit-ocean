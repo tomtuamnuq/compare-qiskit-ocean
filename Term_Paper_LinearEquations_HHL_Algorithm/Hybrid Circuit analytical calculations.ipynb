{
 "cells": [
  {
   "cell_type": "code",
   "execution_count": 1,
   "metadata": {},
   "outputs": [],
   "source": [
    "import numpy as np\n",
    "from math import sqrt\n",
    "hadamard=np.array([[complex(1/sqrt(2),0),complex(1/sqrt(2),0)],\n",
    "                   [complex(1/sqrt(2),0),complex(-1/sqrt(2),0)]])\n",
    "pauli_X=np.array([[complex(0,0),complex(1,0)],\n",
    "                   [complex(1,0),complex(0,0)]])"
   ]
  },
  {
   "cell_type": "code",
   "execution_count": 2,
   "metadata": {},
   "outputs": [],
   "source": [
    "# Get input states b:\n",
    "inputs=[]\n",
    "#adding |0>\n",
    "inputs.append(('0',np.array([1, 0])))\n",
    "\n",
    "#adding |+>\n",
    "inputs.append(('+',hadamard.dot(np.array([1, 0]))))\n",
    "\n",
    "#adding rotated state b2\n",
    "inputs.append(('b2',np.array([0.92388,complex(0.270598,-0.270598)])))\n",
    "\n",
    "results={}\n",
    "for lamb in [1/4,1/2]:\n",
    "    A=np.array([[1/2,lamb-1/2],[lamb-1/2,1/2]])\n",
    "    A_inv=np.linalg.inv(A)\n",
    "    for c, b in inputs:\n",
    "        x=A_inv.dot(b)\n",
    "        x=x/np.linalg.norm(x,2)\n",
    "        M_X=np.vdot(pauli_X.dot(x),x) # expectation value of x in X basis\n",
    "        results[(lamb,c)]=(x,M_X)\n"
   ]
  },
  {
   "cell_type": "code",
   "execution_count": 3,
   "metadata": {},
   "outputs": [
    {
     "name": "stdout",
     "output_type": "stream",
     "text": [
      "lambda  0.25  with input  0  has expectation value  0.800000  and solution  [0.89442719 0.4472136 ]\n",
      "lambda  0.25  with input  +  has expectation value  1.000000  and solution  [0.70710678+0.j 0.70710678+0.j]\n",
      "lambda  0.25  with input  b2  has expectation value  0.928571  and solution  [0.8006638 -0.1022764j  0.55374649-0.20455279j]\n",
      "lambda  0.5  with input  0  has expectation value  0.000000  and solution  [1. 0.]\n",
      "lambda  0.5  with input  +  has expectation value  1.000000  and solution  [0.70710678+0.j 0.70710678+0.j]\n",
      "lambda  0.5  with input  b2  has expectation value  0.500000  and solution  [0.92387963+0.j         0.27059789-0.27059789j]\n"
     ]
    }
   ],
   "source": [
    "#print analytical results:\n",
    "for l,b in results.keys():\n",
    "    x,M_X= results[(l,b)]\n",
    "    print(\"lambda \",l,\" with input \",b,\" has expectation value \",'{:f}'.format(M_X.real),\" and solution \",x)"
   ]
  }
 ],
 "metadata": {
  "kernelspec": {
   "display_name": "Python 3",
   "language": "python",
   "name": "python3"
  },
  "language_info": {
   "codemirror_mode": {
    "name": "ipython",
    "version": 3
   },
   "file_extension": ".py",
   "mimetype": "text/x-python",
   "name": "python",
   "nbconvert_exporter": "python",
   "pygments_lexer": "ipython3",
   "version": "3.7.6"
  }
 },
 "nbformat": 4,
 "nbformat_minor": 4
}
