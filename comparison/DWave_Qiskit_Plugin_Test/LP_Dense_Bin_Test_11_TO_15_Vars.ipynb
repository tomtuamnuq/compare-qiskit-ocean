{
 "cells": [
  {
   "cell_type": "code",
   "execution_count": 1,
   "metadata": {},
   "outputs": [],
   "source": [
    "from lp_random_gen import random_lp_int\n",
    "from docplex.mp.advmodel import AdvModel\n",
    "from docplex.mp.model_reader import ModelReader\n",
    "from helpers import *\n",
    "from qiskit.optimization.algorithms.optimization_algorithm import OptimizationResultStatus\n",
    "DIR = 'SYNTH_DATA/BINARY_15/'\n",
    "getPath = lambda fn : DIR+fn+\".lp\""
   ]
  },
  {
   "cell_type": "markdown",
   "metadata": {},
   "source": [
    "# Create Test Data"
   ]
  },
  {
   "cell_type": "code",
   "execution_count": 2,
   "metadata": {},
   "outputs": [],
   "source": [
    "MAX_NUM_VARS = 15\n",
    "MIN_NUM_VARS = 11\n",
    "for i in range(MIN_NUM_VARS,MAX_NUM_VARS +1):\n",
    "    lp_bin = random_lp_int(i*2, i, 0, 1)\n",
    "    model = lp_bin.createLP(\"test_bin_\"+str(i))\n",
    "    with open(getPath(lp_bin.name), 'w+') as file:\n",
    "        file.write(model.export_as_lp_string())"
   ]
  },
  {
   "cell_type": "markdown",
   "metadata": {},
   "source": [
    "# Solve with DWave Systems"
   ]
  },
  {
   "cell_type": "code",
   "execution_count": 3,
   "metadata": {},
   "outputs": [],
   "source": [
    "from dwave.system import DWaveCliqueSampler, LeapHybridSampler"
   ]
  },
  {
   "cell_type": "code",
   "execution_count": 4,
   "metadata": {},
   "outputs": [],
   "source": [
    "num_reads = 2000\n",
    "qps = createModelsFromDir(DIR)"
   ]
  },
  {
   "cell_type": "code",
   "execution_count": 5,
   "metadata": {},
   "outputs": [],
   "source": [
    "with open(getPath(\"results\"), 'w+') as file:\n",
    "    file.write(\"Start Tests \\n \\n\")  \n"
   ]
  },
  {
   "cell_type": "code",
   "execution_count": 6,
   "metadata": {},
   "outputs": [
    {
     "name": "stdout",
     "output_type": "stream",
     "text": [
      "test_bin_11\n",
      "test_bin_11   DWaveClique ValueError  :  Cannot embed given BQM (size 128), sampler can only handle problems of size 120\n"
     ]
    },
    {
     "name": "stderr",
     "output_type": "stream",
     "text": [
      "constraint A0_leb0 is infeasible due to substitution\n",
      "constraint A0_leb1 is infeasible due to substitution\n",
      "constraint A0_leb2 is infeasible due to substitution\n",
      "constraint A0_leb3 is infeasible due to substitution\n",
      "constraint A0_leb4 is infeasible due to substitution\n",
      "constraint A0_leb6 is infeasible due to substitution\n",
      "constraint A0_leb7 is infeasible due to substitution\n",
      "constraint A0_leb8 is infeasible due to substitution\n",
      "constraint A0_leb9 is infeasible due to substitution\n",
      "constraint A0_leb10 is infeasible due to substitution\n",
      "constraint A0_leb11 is infeasible due to substitution\n",
      "constraint A0_leb12 is infeasible due to substitution\n",
      "constraint A0_leb13 is infeasible due to substitution\n",
      "constraint A0_leb14 is infeasible due to substitution\n",
      "constraint A0_leb15 is infeasible due to substitution\n",
      "constraint A0_leb16 is infeasible due to substitution\n",
      "constraint A0_leb17 is infeasible due to substitution\n",
      "constraint A0_leb20 is infeasible due to substitution\n",
      "constraint A0_leb21 is infeasible due to substitution\n"
     ]
    },
    {
     "name": "stdout",
     "output_type": "stream",
     "text": [
      "test_bin_12\n"
     ]
    },
    {
     "name": "stderr",
     "output_type": "stream",
     "text": [
      "constraint A0_leb3 is infeasible due to substitution\n",
      "constraint A0_leb13 is infeasible due to substitution\n",
      "constraint A0_leb20 is infeasible due to substitution\n"
     ]
    },
    {
     "name": "stdout",
     "output_type": "stream",
     "text": [
      "test_bin_12   DWaveClique ValueError  :  Cannot embed given BQM (size 147), sampler can only handle problems of size 120\n"
     ]
    },
    {
     "name": "stderr",
     "output_type": "stream",
     "text": [
      "constraint A0_leb0 is infeasible due to substitution\n",
      "constraint A0_leb1 is infeasible due to substitution\n",
      "constraint A0_leb2 is infeasible due to substitution\n",
      "constraint A0_leb3 is infeasible due to substitution\n",
      "constraint A0_leb5 is infeasible due to substitution\n",
      "constraint A0_leb6 is infeasible due to substitution\n",
      "constraint A0_leb7 is infeasible due to substitution\n",
      "constraint A0_leb8 is infeasible due to substitution\n",
      "constraint A0_leb9 is infeasible due to substitution\n",
      "constraint A0_leb10 is infeasible due to substitution\n",
      "constraint A0_leb11 is infeasible due to substitution\n",
      "constraint A0_leb12 is infeasible due to substitution\n",
      "constraint A0_leb13 is infeasible due to substitution\n",
      "constraint A0_leb14 is infeasible due to substitution\n",
      "constraint A0_leb15 is infeasible due to substitution\n",
      "constraint A0_leb16 is infeasible due to substitution\n",
      "constraint A0_leb17 is infeasible due to substitution\n",
      "constraint A0_leb18 is infeasible due to substitution\n",
      "constraint A0_leb20 is infeasible due to substitution\n",
      "constraint A0_leb21 is infeasible due to substitution\n",
      "constraint A0_leb22 is infeasible due to substitution\n",
      "constraint A0_leb23 is infeasible due to substitution\n"
     ]
    },
    {
     "name": "stdout",
     "output_type": "stream",
     "text": [
      "test_bin_13\n",
      "test_bin_13   DWaveClique ValueError  :  Cannot embed given BQM (size 158), sampler can only handle problems of size 120\n"
     ]
    },
    {
     "name": "stderr",
     "output_type": "stream",
     "text": [
      "constraint A0_leb1 is infeasible due to substitution\n",
      "constraint A0_leb2 is infeasible due to substitution\n",
      "constraint A0_leb3 is infeasible due to substitution\n",
      "constraint A0_leb4 is infeasible due to substitution\n",
      "constraint A0_leb5 is infeasible due to substitution\n",
      "constraint A0_leb6 is infeasible due to substitution\n",
      "constraint A0_leb7 is infeasible due to substitution\n",
      "constraint A0_leb9 is infeasible due to substitution\n",
      "constraint A0_leb10 is infeasible due to substitution\n",
      "constraint A0_leb11 is infeasible due to substitution\n",
      "constraint A0_leb12 is infeasible due to substitution\n",
      "constraint A0_leb13 is infeasible due to substitution\n",
      "constraint A0_leb15 is infeasible due to substitution\n",
      "constraint A0_leb17 is infeasible due to substitution\n",
      "constraint A0_leb18 is infeasible due to substitution\n",
      "constraint A0_leb19 is infeasible due to substitution\n",
      "constraint A0_leb20 is infeasible due to substitution\n",
      "constraint A0_leb21 is infeasible due to substitution\n",
      "constraint A0_leb22 is infeasible due to substitution\n",
      "constraint A0_leb23 is infeasible due to substitution\n",
      "constraint A0_leb24 is infeasible due to substitution\n",
      "constraint A0_leb25 is infeasible due to substitution\n"
     ]
    },
    {
     "name": "stdout",
     "output_type": "stream",
     "text": [
      "test_bin_14\n",
      "test_bin_14   DWaveClique ValueError  :  Cannot embed given BQM (size 175), sampler can only handle problems of size 120\n"
     ]
    },
    {
     "name": "stderr",
     "output_type": "stream",
     "text": [
      "constraint A0_leb0 is infeasible due to substitution\n",
      "constraint A0_leb1 is infeasible due to substitution\n",
      "constraint A0_leb2 is infeasible due to substitution\n",
      "constraint A0_leb3 is infeasible due to substitution\n",
      "constraint A0_leb4 is infeasible due to substitution\n",
      "constraint A0_leb5 is infeasible due to substitution\n",
      "constraint A0_leb6 is infeasible due to substitution\n",
      "constraint A0_leb7 is infeasible due to substitution\n",
      "constraint A0_leb8 is infeasible due to substitution\n",
      "constraint A0_leb9 is infeasible due to substitution\n",
      "constraint A0_leb10 is infeasible due to substitution\n",
      "constraint A0_leb11 is infeasible due to substitution\n",
      "constraint A0_leb13 is infeasible due to substitution\n",
      "constraint A0_leb14 is infeasible due to substitution\n",
      "constraint A0_leb15 is infeasible due to substitution\n",
      "constraint A0_leb17 is infeasible due to substitution\n",
      "constraint A0_leb18 is infeasible due to substitution\n",
      "constraint A0_leb19 is infeasible due to substitution\n",
      "constraint A0_leb20 is infeasible due to substitution\n",
      "constraint A0_leb22 is infeasible due to substitution\n",
      "constraint A0_leb23 is infeasible due to substitution\n",
      "constraint A0_leb24 is infeasible due to substitution\n",
      "constraint A0_leb25 is infeasible due to substitution\n",
      "constraint A0_leb27 is infeasible due to substitution\n"
     ]
    },
    {
     "name": "stdout",
     "output_type": "stream",
     "text": [
      "test_bin_15\n"
     ]
    },
    {
     "name": "stderr",
     "output_type": "stream",
     "text": [
      "constraint A0_leb1 is infeasible due to substitution\n",
      "constraint A0_leb2 is infeasible due to substitution\n",
      "constraint A0_leb4 is infeasible due to substitution\n",
      "constraint A0_leb13 is infeasible due to substitution\n",
      "constraint A0_leb19 is infeasible due to substitution\n",
      "constraint A0_leb21 is infeasible due to substitution\n",
      "constraint A0_leb27 is infeasible due to substitution\n",
      "constraint A0_leb28 is infeasible due to substitution\n"
     ]
    },
    {
     "name": "stdout",
     "output_type": "stream",
     "text": [
      "test_bin_15   DWaveClique ValueError  :  Cannot embed given BQM (size 191), sampler can only handle problems of size 120\n"
     ]
    },
    {
     "name": "stderr",
     "output_type": "stream",
     "text": [
      "constraint A0_leb0 is infeasible due to substitution\n",
      "constraint A0_leb1 is infeasible due to substitution\n",
      "constraint A0_leb2 is infeasible due to substitution\n",
      "constraint A0_leb3 is infeasible due to substitution\n",
      "constraint A0_leb4 is infeasible due to substitution\n",
      "constraint A0_leb5 is infeasible due to substitution\n",
      "constraint A0_leb6 is infeasible due to substitution\n",
      "constraint A0_leb7 is infeasible due to substitution\n",
      "constraint A0_leb8 is infeasible due to substitution\n",
      "constraint A0_leb9 is infeasible due to substitution\n",
      "constraint A0_leb10 is infeasible due to substitution\n",
      "constraint A0_leb11 is infeasible due to substitution\n",
      "constraint A0_leb12 is infeasible due to substitution\n",
      "constraint A0_leb13 is infeasible due to substitution\n",
      "constraint A0_leb14 is infeasible due to substitution\n",
      "constraint A0_leb16 is infeasible due to substitution\n",
      "constraint A0_leb17 is infeasible due to substitution\n",
      "constraint A0_leb18 is infeasible due to substitution\n",
      "constraint A0_leb19 is infeasible due to substitution\n",
      "constraint A0_leb20 is infeasible due to substitution\n",
      "constraint A0_leb21 is infeasible due to substitution\n",
      "constraint A0_leb22 is infeasible due to substitution\n",
      "constraint A0_leb23 is infeasible due to substitution\n",
      "constraint A0_leb24 is infeasible due to substitution\n",
      "constraint A0_leb25 is infeasible due to substitution\n",
      "constraint A0_leb26 is infeasible due to substitution\n",
      "constraint A0_leb27 is infeasible due to substitution\n",
      "constraint A0_leb28 is infeasible due to substitution\n",
      "constraint A0_leb29 is infeasible due to substitution\n"
     ]
    }
   ],
   "source": [
    "found_no_solution_ct = 0\n",
    "for qp_name in sorted(qps.keys(), key = lambda name : int(name[name.rfind('_')+1:])) :\n",
    "    print(qp_name)\n",
    "    results = {}\n",
    "    solvers = {\"Leap_Hybrid\" : createSolver(LeapHybridSampler()) , \"DWaveClique\": createSolver(DWaveCliqueSampler(),num_reads), \"DWaveSampler\" : createSolver(num_reads = num_reads)}\n",
    "    for sname in solvers.keys():\n",
    "        optimizer = solvers[sname]\n",
    "        try:\n",
    "            results[sname] = optimizer.solve(qps[qp_name])\n",
    "        except Exception as ex:\n",
    "            print(qp_name, \" \", sname, type(ex).__name__, \" : \", ex)\n",
    "    if any(res.status == OptimizationResultStatus.SUCCESS for res in results.values()):\n",
    "        found_no_solution_ct = 0\n",
    "        with open(getPath(\"results\"), 'a+') as file:\n",
    "            file.write(\"\\n ------------------------------------- \\n\"+qp_name)\n",
    "            for sname in solvers.keys():\n",
    "                file.write(\"\\n\"+sname)\n",
    "                if sname not in results:\n",
    "                    file.write(\"\\n Exception occurred\")\n",
    "                else:\n",
    "                    res = results[sname]\n",
    "                    if res.status == OptimizationResultStatus.SUCCESS:\n",
    "                        cres  = qps[qp_name].model.solve()\n",
    "                        if res.fval != cres.get_objective_value():\n",
    "                            file.write(\"\\n optimal value DWave   \"+str(res.fval) + \"  ,  cplex:\"+ str(cres.get_objective_value()))\n",
    "                            file.write(\"\\n\"+str(res.x)+\"   cplex:\"+str(cres.get_all_values()))\n",
    "                        else:\n",
    "                            file.write(\"\\n found solution!\")\n",
    "                    else:\n",
    "                        file.write(\"\\n\"+str(res.status))   \n",
    "    else:\n",
    "        # test if cres can find a solution\n",
    "            \n",
    "        cres  = qps[qp_name].model.solve()\n",
    "        with open(getPath(\"results\"), 'a+') as file:\n",
    "            file.write(\"\\n Cres : \"+str(cres))\n",
    "        if cres.is_valid_solution():\n",
    "            found_no_solution_ct = found_no_solution_ct + 1\n",
    "        if found_no_solution_ct == 2:\n",
    "            break"
   ]
  },
  {
   "cell_type": "code",
   "execution_count": 7,
   "metadata": {},
   "outputs": [
    {
     "data": {
      "text/plain": [
       "{'Leap_Hybrid': optimal function value: -2.0\n",
       " optimal value: [0. 1. 0. 0. 1. 1. 1. 1. 1. 0. 0. 0. 0. 1. 1.]\n",
       " status: INFEASIBLE,\n",
       " 'DWaveSampler': optimal function value: -3.0\n",
       " optimal value: [0. 1. 1. 0. 1. 1. 1. 1. 1. 0. 0. 0. 0. 1. 1.]\n",
       " status: INFEASIBLE}"
      ]
     },
     "execution_count": 7,
     "metadata": {},
     "output_type": "execute_result"
    }
   ],
   "source": [
    "# no solution with 15 vars found\n",
    "results"
   ]
  },
  {
   "cell_type": "code",
   "execution_count": 9,
   "metadata": {},
   "outputs": [
    {
     "data": {
      "text/plain": [
       "\\ This file has been generated by DOcplex\n",
       "\\ ENCODING=ISO-8859-1\n",
       "\\Problem name: test_bin_15\n",
       "\n",
       "Minimize\n",
       " obj: x0_0 + x0_1 - x0_4 - x0_5 - x0_6 - x0_7 - x0_8 + x0_9 - x0_10 + x0_11\n",
       "      - x0_12 - x0_13 - x0_14\n",
       "Subject To\n",
       " A0_leb0: 4 x0_0 - 9 x0_1 + 10 x0_4 + 5 x0_5 + x0_6 + 2 x0_7 - 9 x0_8 + 5 x0_9\n",
       "          - 2 x0_10 + 6 x0_11 - 2 x0_12 + 9 x0_13 - 10 x0_14 + 5 x0_2 + 2 x0_3\n",
       "           <= 2\n",
       " A0_leb1: 10 x0_0 - 8 x0_1 - 9 x0_4 - 6 x0_5 + 5 x0_6 - 2 x0_7 - 3 x0_8\n",
       "          + 10 x0_9 - 9 x0_10 + 4 x0_11 + 5 x0_12 + 10 x0_13 + 7 x0_14 - 2 x0_3\n",
       "           <= -11\n",
       " A0_leb2: - 2 x0_0 + 9 x0_1 - 7 x0_4 - 3 x0_5 + 10 x0_6 + x0_7 + 3 x0_8\n",
       "          - 10 x0_9 + 6 x0_10 - 7 x0_11 - 10 x0_13 - 3 x0_14 - 2 x0_2 - 4 x0_3\n",
       "           <= 8\n",
       " A0_leb3: 6 x0_0 - 2 x0_1 + 5 x0_4 - 9 x0_5 - 6 x0_6 - 10 x0_7 - 3 x0_8 + 7 x0_9\n",
       "          - 2 x0_10 - 3 x0_11 - 4 x0_12 + 7 x0_13 - 4 x0_14 + 4 x0_3 <= -2\n",
       " A0_leb4: - 8 x0_0 - 10 x0_1 - 4 x0_4 + x0_5 + 8 x0_6 + 2 x0_7 - 10 x0_8\n",
       "          - 4 x0_9 + 8 x0_10 - 2 x0_11 - 3 x0_12 + 5 x0_13 + 2 x0_14 + 10 x0_2\n",
       "          + 9 x0_3 <= 11\n",
       " A0_leb5: 9 x0_1 + 10 x0_4 + 9 x0_5 - 6 x0_6 + 4 x0_7 - x0_8 - 7 x0_9 + 3 x0_10\n",
       "          + 10 x0_11 + 2 x0_12 + 2 x0_13 - 6 x0_14 - 10 x0_2 - 2 x0_3 <= 5\n",
       " A0_leb6: - 3 x0_0 - 8 x0_1 - 2 x0_4 - 2 x0_5 - 5 x0_6 + x0_7 - 6 x0_8 - 5 x0_9\n",
       "          - 10 x0_10 + 7 x0_11 - 6 x0_12 + 2 x0_13 + 4 x0_14 + 3 x0_2 - 3 x0_3\n",
       "           <= -19\n",
       " A0_leb7: 10 x0_0 + 9 x0_1 + x0_4 + 4 x0_5 + x0_7 + x0_8 - 10 x0_9 + x0_10\n",
       "          + 6 x0_11 + 6 x0_12 - 6 x0_13 - 5 x0_14 + x0_2 - 3 x0_3 <= 21\n",
       " A0_leb8: 6 x0_0 + 6 x0_1 + 9 x0_4 + 4 x0_5 + 9 x0_6 + 2 x0_7 - 5 x0_8 - 2 x0_9\n",
       "          + 3 x0_10 + x0_11 + 8 x0_12 - 10 x0_13 - 7 x0_14 + 9 x0_2 + 8 x0_3\n",
       "           <= 34\n",
       " A0_leb9: 8 x0_0 + 9 x0_1 - 7 x0_5 + 7 x0_6 - x0_7 - 3 x0_9 - 7 x0_10 + 3 x0_11\n",
       "          + 6 x0_12 + 4 x0_13 + 9 x0_14 + 7 x0_2 <= 18\n",
       " A0_leb10: - 2 x0_0 + 4 x0_1 + x0_4 + 4 x0_5 - 7 x0_6 + 8 x0_7 + 3 x0_8 - 7 x0_9\n",
       "           + 10 x0_10 + 7 x0_11 - 2 x0_13 + 8 x0_14 + 5 x0_2 + 6 x0_3 <= 31\n",
       " A0_leb11: 9 x0_0 - 7 x0_1 + 8 x0_4 - 6 x0_5 + 5 x0_6 - 5 x0_7 - 2 x0_8 - 7 x0_9\n",
       "           + 6 x0_10 - 6 x0_11 - 6 x0_12 - x0_13 + 2 x0_14 - 3 x0_2 - 3 x0_3\n",
       "            <= -1\n",
       " A0_leb12: 10 x0_0 + 10 x0_1 - x0_4 - 2 x0_5 - 7 x0_6 + 7 x0_7 - 10 x0_8\n",
       "           - 2 x0_9 - 4 x0_10 - 6 x0_11 + 5 x0_12 - 7 x0_13 - 8 x0_14 - 6 x0_2\n",
       "           - 6 x0_3 <= 13\n",
       " A0_leb13: - 2 x0_0 + 3 x0_1 + 6 x0_4 + 9 x0_5 - 3 x0_7 + 5 x0_8 - x0_9\n",
       "           - 9 x0_10 + 5 x0_11 - 5 x0_12 + 9 x0_13 + 4 x0_14 - 2 x0_2 - 10 x0_3\n",
       "            <= -21\n",
       " A0_leb14: 5 x0_0 + x0_1 + 8 x0_4 - 5 x0_5 - 6 x0_6 + 5 x0_7 - 9 x0_8 - x0_9\n",
       "           - 10 x0_10 + 9 x0_11 + 9 x0_12 + x0_13 - 2 x0_14 - 7 x0_2 - 9 x0_3\n",
       "            <= -13\n",
       " A0_leb15: 5 x0_1 + x0_4 + 2 x0_5 - 4 x0_6 + 6 x0_7 - 8 x0_8 - 2 x0_9 + 7 x0_10\n",
       "           - 5 x0_11 - 8 x0_12 + 7 x0_13 + 3 x0_14 - x0_3 <= 17\n",
       " A0_leb16: 3 x0_0 - 6 x0_1 + 8 x0_4 - 4 x0_5 + 10 x0_7 + 6 x0_8 - 9 x0_9\n",
       "           + 8 x0_10 + 2 x0_11 - 10 x0_12 - 6 x0_13 + 4 x0_14 + x0_2 + 2 x0_3\n",
       "            <= 19\n",
       " A0_leb17: x0_0 - 2 x0_1 + x0_4 + 3 x0_5 - 10 x0_6 + 2 x0_7 + x0_8 + 4 x0_9\n",
       "           + 2 x0_10 + 4 x0_12 - 6 x0_13 - 6 x0_14 + 7 x0_2 - 2 x0_3 <= 9\n",
       " A0_leb18: 6 x0_0 + 4 x0_1 - 7 x0_4 - 7 x0_5 - 3 x0_6 + 7 x0_7 + 9 x0_8 - 9 x0_9\n",
       "           - 3 x0_11 + 7 x0_12 - 5 x0_13 + 10 x0_14 + 9 x0_2 + 7 x0_3 <= 33\n",
       " A0_leb19: - 10 x0_0 - x0_1 - 8 x0_4 - 9 x0_5 - 8 x0_6 - x0_7 + 9 x0_8 - 5 x0_9\n",
       "           + 7 x0_10 - 8 x0_11 - 7 x0_12 + 9 x0_13 - 9 x0_14 <= -4\n",
       " A0_leb20: 4 x0_0 + 7 x0_1 + 8 x0_5 + 5 x0_6 + 3 x0_7 - 4 x0_8 - 9 x0_9\n",
       "           - 10 x0_10 - 7 x0_11 - 5 x0_12 - 3 x0_13 + 4 x0_14 + 8 x0_2 + 6 x0_3\n",
       "            <= 18\n",
       " A0_leb21: - x0_1 - 10 x0_4 - 9 x0_5 + 4 x0_7 - 9 x0_8 - 2 x0_9 - 4 x0_10\n",
       "           + 5 x0_11 - 2 x0_12 + 5 x0_13 - 7 x0_14 + x0_2 <= 0\n",
       " A0_leb22: 7 x0_0 + x0_1 + 2 x0_4 - 10 x0_5 - 6 x0_6 - 9 x0_7 - 3 x0_8 + 3 x0_9\n",
       "           - 4 x0_10 + 4 x0_11 - 10 x0_12 + 6 x0_13 - 9 x0_14 - 7 x0_3 <= -11\n",
       " A0_leb23: - 4 x0_0 - 4 x0_1 - 6 x0_4 + x0_5 - 2 x0_6 - 4 x0_7 + 5 x0_8 - 8 x0_9\n",
       "           - 3 x0_10 - 5 x0_11 + 7 x0_12 + 4 x0_13 + 5 x0_14 - x0_2 + 3 x0_3\n",
       "            <= -12\n",
       " A0_leb24: - x0_0 + 3 x0_1 - 10 x0_4 - 2 x0_5 - 5 x0_6 + 6 x0_7 + 8 x0_8\n",
       "           - 2 x0_9 + 6 x0_10 + 2 x0_11 - 5 x0_12 - 6 x0_13 + 8 x0_14 + 8 x0_2\n",
       "            <= 24\n",
       " A0_leb25: 10 x0_0 - 10 x0_1 + 2 x0_4 + 6 x0_5 - 2 x0_6 - 3 x0_7 - 8 x0_8\n",
       "           + 7 x0_9 - 3 x0_10 + 9 x0_11 - 7 x0_12 + 10 x0_13 + 8 x0_14 + 2 x0_3\n",
       "            <= -2\n",
       " A0_leb26: x0_0 - 9 x0_1 + x0_4 - 4 x0_5 - 5 x0_6 + 4 x0_7 + 6 x0_8 - 6 x0_9\n",
       "           + x0_10 + 10 x0_11 + 2 x0_12 - 5 x0_13 - 5 x0_14 + 6 x0_2 - 7 x0_3\n",
       "            <= -4\n",
       " A0_leb27: - 9 x0_0 - 7 x0_1 - 8 x0_4 + 5 x0_5 - 10 x0_6 - 9 x0_7 - x0_8\n",
       "           + 9 x0_9 - 6 x0_11 + 9 x0_12 + 5 x0_13 - 8 x0_14 - 7 x0_3 <= -30\n",
       " A0_leb28: - 10 x0_0 + x0_1 + 7 x0_4 + 10 x0_5 - 3 x0_6 - 3 x0_7 - 2 x0_8\n",
       "           + 5 x0_10 + 4 x0_11 - 7 x0_12 - 4 x0_13 - 2 x0_2 + 9 x0_3 <= 1\n",
       " A0_leb29: - 2 x0_0 - 7 x0_1 - 3 x0_4 - 5 x0_5 - x0_6 - 10 x0_7 + x0_8 - 5 x0_9\n",
       "           + x0_10 - 4 x0_11 - x0_12 + 7 x0_13 - 10 x0_14 + x0_2 + 3 x0_3 <= \n",
       "           -12\n",
       "\n",
       "Bounds\n",
       " 0 <= x0_0 <= 1\n",
       " 0 <= x0_1 <= 1\n",
       " 0 <= x0_4 <= 1\n",
       " 0 <= x0_5 <= 1\n",
       " 0 <= x0_6 <= 1\n",
       " 0 <= x0_7 <= 1\n",
       " 0 <= x0_8 <= 1\n",
       " 0 <= x0_9 <= 1\n",
       " 0 <= x0_10 <= 1\n",
       " 0 <= x0_11 <= 1\n",
       " 0 <= x0_12 <= 1\n",
       " 0 <= x0_13 <= 1\n",
       " 0 <= x0_14 <= 1\n",
       " 0 <= x0_2 <= 1\n",
       " 0 <= x0_3 <= 1\n",
       "\n",
       "Binaries\n",
       " x0_0 x0_1 x0_4 x0_5 x0_6 x0_7 x0_8 x0_9 x0_10 x0_11 x0_12 x0_13 x0_14 x0_2 x0_3\n",
       "End"
      ]
     },
     "execution_count": 9,
     "metadata": {},
     "output_type": "execute_result"
    }
   ],
   "source": [
    "qps[qp_name]"
   ]
  }
 ],
 "metadata": {
  "kernelspec": {
   "display_name": "Python 3",
   "language": "python",
   "name": "python3"
  },
  "language_info": {
   "codemirror_mode": {
    "name": "ipython",
    "version": 3
   },
   "file_extension": ".py",
   "mimetype": "text/x-python",
   "name": "python",
   "nbconvert_exporter": "python",
   "pygments_lexer": "ipython3",
   "version": "3.8.5"
  }
 },
 "nbformat": 4,
 "nbformat_minor": 4
}
