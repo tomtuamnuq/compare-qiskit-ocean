{
 "cells": [
  {
   "cell_type": "code",
   "execution_count": 1,
   "metadata": {},
   "outputs": [],
   "source": [
    "import networkx as nx\n",
    "import dwave_networkx as dnx\n",
    "from dwave.system import DWaveCliqueSampler"
   ]
  },
  {
   "cell_type": "markdown",
   "metadata": {},
   "source": [
    "# Test embedding of complete graphs with Advantage System\n",
    "Problem ID : e3328f74-3ac2-490f-8e6f-d28baa4259b0 returned len(clique) = 99\n",
    "e5573764-414d-4e00-955b-f7f2ffa055de"
   ]
  },
  {
   "cell_type": "code",
   "execution_count": 2,
   "metadata": {},
   "outputs": [],
   "source": [
    "sampler = DWaveCliqueSampler()\n",
    "a = sampler.largest_clique_size \n",
    "K_a = nx.complete_graph(a)"
   ]
  },
  {
   "cell_type": "code",
   "execution_count": 3,
   "metadata": {},
   "outputs": [],
   "source": [
    "clique = dnx.maximum_clique(K_a, sampler = sampler)"
   ]
  },
  {
   "cell_type": "code",
   "execution_count": 4,
   "metadata": {},
   "outputs": [
    {
     "name": "stdout",
     "output_type": "stream",
     "text": [
      "Missing node =2\n",
      "Missing node =4\n",
      "Missing node =11\n",
      "Missing node =12\n",
      "Missing node =14\n",
      "Missing node =18\n",
      "Missing node =20\n",
      "Missing node =23\n",
      "Missing node =31\n",
      "Missing node =33\n",
      "Missing node =35\n",
      "Missing node =37\n",
      "Missing node =41\n",
      "Missing node =46\n",
      "Missing node =66\n",
      "Missing node =69\n",
      "Missing node =72\n",
      "Missing node =81\n",
      "Missing node =85\n",
      "Missing node =89\n",
      "Missing node =100\n",
      "Missing node =102\n",
      "Missing node =105\n",
      "Missing node =107\n",
      "Missing node =116\n"
     ]
    }
   ],
   "source": [
    "for node in K_a.nodes :\n",
    "    if node not in clique:\n",
    "        print(f\"Missing {node =}\")"
   ]
  },
  {
   "cell_type": "code",
   "execution_count": 5,
   "metadata": {},
   "outputs": [
    {
     "name": "stdout",
     "output_type": "stream",
     "text": [
      "95\n"
     ]
    }
   ],
   "source": [
    "print(len(clique))"
   ]
  },
  {
   "cell_type": "code",
   "execution_count": null,
   "metadata": {},
   "outputs": [],
   "source": []
  }
 ],
 "metadata": {
  "kernelspec": {
   "display_name": "Python 3",
   "language": "python",
   "name": "python3"
  },
  "language_info": {
   "codemirror_mode": {
    "name": "ipython",
    "version": 3
   },
   "file_extension": ".py",
   "mimetype": "text/x-python",
   "name": "python",
   "nbconvert_exporter": "python",
   "pygments_lexer": "ipython3",
   "version": "3.8.5"
  }
 },
 "nbformat": 4,
 "nbformat_minor": 4
}
