{
 "cells": [
  {
   "cell_type": "code",
   "execution_count": 4,
   "metadata": {},
   "outputs": [],
   "source": [
    "import networkx as nx\n",
    "import dimod \n",
    "import matplotlib.pyplot as plt\n",
    "import dwave_networkx as dnx\n",
    "from dwave.embedding import pegasus\n",
    "import neal, dwave.system"
   ]
  },
  {
   "cell_type": "markdown",
   "metadata": {},
   "source": [
    "# Test embedding of complete graphs with Simulation Neal"
   ]
  },
  {
   "cell_type": "code",
   "execution_count": 6,
   "metadata": {},
   "outputs": [],
   "source": [
    "# Define target Pegasus Graph\n",
    "\n",
    "M = 16 # Defines number of qubits in Pegasus graph : 24M(M-1)\n",
    "P_M = dnx.pegasus_graph(M, data = True) # allow the use of pegasus indizes\n",
    "\n",
    "# Define source complete graph\n",
    "\n",
    "a = 12*(M-1) # See section 3.1 in Next Generation Topologies White Paper\n",
    "K_a = nx.complete_graph(a)"
   ]
  },
  {
   "cell_type": "code",
   "execution_count": 7,
   "metadata": {},
   "outputs": [],
   "source": [
    "# Embedding K_a into P_M\n",
    "embedding = pegasus.find_clique_embedding(K_a, target_graph=P_M)"
   ]
  },
  {
   "cell_type": "code",
   "execution_count": null,
   "metadata": {},
   "outputs": [],
   "source": [
    "\"\"\"\n",
    "Alternative:\n",
    "from minorminer import find_embedding\n",
    "# Embedding K_a into P_M\n",
    "timeout = 60\n",
    "tries = 50\n",
    "embedding = find_embedding(K_a, P_M, timeout = timeout, tries = tries)\n",
    "\"\"\""
   ]
  },
  {
   "cell_type": "code",
   "execution_count": 8,
   "metadata": {},
   "outputs": [
    {
     "name": "stdout",
     "output_type": "stream",
     "text": [
      "Found Embedding\n"
     ]
    }
   ],
   "source": [
    "if embedding:\n",
    "    print(\"Found Embedding\")"
   ]
  },
  {
   "cell_type": "code",
   "execution_count": 24,
   "metadata": {},
   "outputs": [],
   "source": [
    "structured_sampler = dimod.StructureComposite(neal.SimulatedAnnealingSampler(), P_M.nodes, P_M.edges)\n",
    "sampler = dwave.system.FixedEmbeddingComposite(structured_sampler, embedding = embedding)\n",
    "num_reads = 500\n",
    "max_clique_size_avg = 0\n",
    "for i in range(num_reads):\n",
    "    max_clique_size_avg += len(dnx.maximum_clique(K_a, sampler = sampler))\n",
    "    \n",
    "max_clique_size_avg = max_clique_size_avg / num_reads\n"
   ]
  },
  {
   "cell_type": "code",
   "execution_count": 30,
   "metadata": {},
   "outputs": [
    {
     "name": "stdout",
     "output_type": "stream",
     "text": [
      "Found max_clique_size_avg = 163.938. We wanted 180. So 16.06 are missing\n"
     ]
    }
   ],
   "source": [
    "print(f'Found {max_clique_size_avg = }. We wanted {a}. So {a - max_clique_size_avg :.4} are missing')"
   ]
  },
  {
   "cell_type": "code",
   "execution_count": null,
   "metadata": {},
   "outputs": [],
   "source": []
  }
 ],
 "metadata": {
  "kernelspec": {
   "display_name": "Python 3",
   "language": "python",
   "name": "python3"
  },
  "language_info": {
   "codemirror_mode": {
    "name": "ipython",
    "version": 3
   },
   "file_extension": ".py",
   "mimetype": "text/x-python",
   "name": "python",
   "nbconvert_exporter": "python",
   "pygments_lexer": "ipython3",
   "version": "3.8.5"
  }
 },
 "nbformat": 4,
 "nbformat_minor": 4
}
