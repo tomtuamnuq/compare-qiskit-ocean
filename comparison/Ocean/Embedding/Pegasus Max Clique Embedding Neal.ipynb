{
 "cells": [
  {
   "cell_type": "code",
   "execution_count": 1,
   "metadata": {},
   "outputs": [],
   "source": [
    "import networkx as nx\n",
    "import dimod \n",
    "import matplotlib.pyplot as plt\n",
    "import dwave_networkx as dnx\n",
    "from dwave.embedding import pegasus\n",
    "import neal, dwave.system"
   ]
  },
  {
   "cell_type": "markdown",
   "metadata": {},
   "source": [
    "# Test embedding of complete graphs with Simulation Neal"
   ]
  },
  {
   "cell_type": "code",
   "execution_count": 2,
   "metadata": {},
   "outputs": [
    {
     "output_type": "execute_result",
     "data": {
      "text/plain": [
       "180"
      ]
     },
     "metadata": {},
     "execution_count": 2
    }
   ],
   "source": [
    "# Define target Pegasus Graph\n",
    "\n",
    "M = 16 # Defines number of qubits in Pegasus graph : 24M(M-1)\n",
    "P_M = dnx.pegasus_graph(M, data = True) # allow the use of pegasus indizes\n",
    "\n",
    "# Define source complete graph\n",
    "\n",
    "a = 12*(M-1) # See section 3.1 in Next Generation Topologies White Paper\n",
    "K_a = nx.complete_graph(a)\n",
    "a"
   ]
  },
  {
   "cell_type": "code",
   "execution_count": 3,
   "metadata": {},
   "outputs": [],
   "source": [
    "# Embedding K_a into P_M\n",
    "embedding = pegasus.find_clique_embedding(K_a, target_graph=P_M)"
   ]
  },
  {
   "cell_type": "code",
   "execution_count": 4,
   "metadata": {},
   "outputs": [
    {
     "output_type": "execute_result",
     "data": {
      "text/plain": [
       "'\\nAlternative:\\nfrom minorminer import find_embedding\\n# Embedding K_a into P_M\\ntimeout = 60\\ntries = 50\\nembedding = find_embedding(K_a, P_M, timeout = timeout, tries = tries)\\n'"
      ]
     },
     "metadata": {},
     "execution_count": 4
    }
   ],
   "source": [
    "\"\"\"\n",
    "Alternative:\n",
    "from minorminer import find_embedding\n",
    "# Embedding K_a into P_M\n",
    "timeout = 60\n",
    "tries = 50\n",
    "embedding = find_embedding(K_a, P_M, timeout = timeout, tries = tries)\n",
    "\"\"\""
   ]
  },
  {
   "cell_type": "code",
   "execution_count": 5,
   "metadata": {},
   "outputs": [
    {
     "output_type": "stream",
     "name": "stdout",
     "text": [
      "Found Embedding\n"
     ]
    }
   ],
   "source": [
    "if embedding:\n",
    "    print(\"Found Embedding\")"
   ]
  },
  {
   "cell_type": "code",
   "execution_count": 6,
   "metadata": {},
   "outputs": [
    {
     "output_type": "stream",
     "name": "stdout",
     "text": [
      "P_a has : Nodes 5640   Connections 40484\n"
     ]
    },
    {
     "output_type": "execute_result",
     "data": {
      "text/plain": [
       "Counter({6: 32, 7: 208, 10: 32, 11: 208, 14: 688, 15: 4472})"
      ]
     },
     "metadata": {},
     "execution_count": 6
    }
   ],
   "source": [
    "print(f\"P_a has : Nodes {P_M.number_of_nodes()}   Connections {P_M.number_of_edges()}\")\n",
    "from collections import Counter\n",
    "degree_ct = Counter()\n",
    "for node, degree in dict(P_M.degree()).items():\n",
    "    degree_ct[degree] += 1\n",
    "degree_ct"
   ]
  },
  {
   "cell_type": "code",
   "execution_count": 7,
   "metadata": {},
   "outputs": [
    {
     "output_type": "stream",
     "name": "stdout",
     "text": [
      "The embedding has 180 nodes\n"
     ]
    },
    {
     "output_type": "execute_result",
     "data": {
      "text/plain": [
       "Counter({16: 64, 17: 100, 18: 16})"
      ]
     },
     "metadata": {},
     "execution_count": 7
    }
   ],
   "source": [
    "chain_ct = Counter()\n",
    "for node, chainlist in embedding.items():\n",
    "    chain_ct[len(chainlist)] += 1\n",
    "print(f\"The embedding has {len(embedding.keys())} nodes\")\n",
    "chain_ct"
   ]
  },
  {
   "cell_type": "code",
   "execution_count": 8,
   "metadata": {
    "tags": []
   },
   "outputs": [],
   "source": [
    "structured_sampler = dimod.StructureComposite(neal.SimulatedAnnealingSampler(), P_M.nodes, P_M.edges)\n",
    "sampler = dwave.system.FixedEmbeddingComposite(structured_sampler, embedding = embedding)\n",
    "num_reads = 500\n",
    "max_clique_size_avg = 0\n",
    "for i in range(num_reads):\n",
    "    max_clique_size_avg += dnx.clique_number(K_a, sampler=sampler)\n",
    "    \n",
    "max_clique_size_avg = max_clique_size_avg / num_reads\n",
    "\n",
    "# to run this line 95 in clique.py (dwave-networkx - algorithms) must be commented out\n",
    "# the decorator checks if sampler is properly implemented can be skipped..."
   ]
  },
  {
   "cell_type": "code",
   "execution_count": 9,
   "metadata": {},
   "outputs": [
    {
     "output_type": "stream",
     "name": "stdout",
     "text": [
      "Found max_clique_size_avg = 164.032. We wanted 180. So 15.97 are missing\n"
     ]
    }
   ],
   "source": [
    "print(f'Found {max_clique_size_avg = }. We wanted {a}. So {a - max_clique_size_avg :.4} are missing')"
   ]
  }
 ],
 "metadata": {
  "kernelspec": {
   "name": "python388jvsc74a57bd0173f2ffbce537830dc37cc01123f1dcc118f483457eee13e6b392e68a5e39cc7",
   "display_name": "Python 3.8.8 64-bit ('Qiskit_Ocean': conda)"
  },
  "language_info": {
   "codemirror_mode": {
    "name": "ipython",
    "version": 3
   },
   "file_extension": ".py",
   "mimetype": "text/x-python",
   "name": "python",
   "nbconvert_exporter": "python",
   "pygments_lexer": "ipython3",
   "version": "3.8.8"
  }
 },
 "nbformat": 4,
 "nbformat_minor": 4
}