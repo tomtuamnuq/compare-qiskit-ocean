{
 "metadata": {
  "language_info": {
   "codemirror_mode": {
    "name": "ipython",
    "version": 3
   },
   "file_extension": ".py",
   "mimetype": "text/x-python",
   "name": "python",
   "nbconvert_exporter": "python",
   "pygments_lexer": "ipython3",
   "version": "3.8.8"
  },
  "orig_nbformat": 2,
  "kernelspec": {
   "name": "python388jvsc74a57bd0173f2ffbce537830dc37cc01123f1dcc118f483457eee13e6b392e68a5e39cc7",
   "display_name": "Python 3.8.8 64-bit ('Qiskit_Ocean': conda)"
  }
 },
 "nbformat": 4,
 "nbformat_minor": 2,
 "cells": [
  {
   "cell_type": "code",
   "execution_count": 1,
   "metadata": {},
   "outputs": [],
   "source": [
    "from pyqubo import Binary"
   ]
  },
  {
   "cell_type": "code",
   "execution_count": 2,
   "metadata": {},
   "outputs": [],
   "source": [
    "x_0, x_1, x_2 = (Binary('x_'+str(i)) for i in range(3))\n",
    "linear_obj = - x_0 - x_2\n",
    "quadratic_obj = - x_0 + x_0*x_2 + x_1 - 2*x_1*x_2\n",
    "linear_cstr = 8*(x_1 - x_2)**2\n",
    "qubo_bqm = (linear_obj + quadratic_obj + linear_cstr).compile().to_bqm()"
   ]
  },
  {
   "cell_type": "code",
   "execution_count": 3,
   "metadata": {},
   "outputs": [
    {
     "output_type": "stream",
     "name": "stdout",
     "text": [
      "BinaryQuadraticModel({x_1: 9.0, x_2: 7.0, x_0: -2.0}, {('x_1', 'x_2'): -18.0, ('x_2', 'x_0'): 1.0}, 0.0, 'BINARY')\n"
     ]
    }
   ],
   "source": [
    "print(qubo)"
   ]
  }
 ]
}