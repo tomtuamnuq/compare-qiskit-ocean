{
 "cells": [
  {
   "cell_type": "code",
   "execution_count": 1,
   "metadata": {},
   "outputs": [],
   "source": [
    "from qiskit.optimization import QuadraticProgram\n",
    "from docplex.mp.advmodel import AdvModel\n",
    "from docplex.mp.model_reader import ModelReader\n",
    "\n",
    "from qiskit.optimization.algorithms import MinimumEigenOptimizer\n",
    "\n",
    "from dwave.plugins.qiskit import DWaveMinimumEigensolver\n",
    "from dwave.system import DWaveCliqueSampler, LeapHybridSampler\n",
    "\n",
    "import numpy as np"
   ]
  },
  {
   "cell_type": "markdown",
   "metadata": {},
   "source": [
    "# Test the smallest binary instance from QPLIB\n",
    "## taken from http://qplib.zib.de/lp/QPLIB_3834.lp"
   ]
  },
  {
   "cell_type": "code",
   "execution_count": 2,
   "metadata": {},
   "outputs": [],
   "source": [
    "model = ModelReader.read(filename='QPLIB_DATA/QPLIB_3834.lp',model_name = \"Test_QPLIB_Small\", model_class=AdvModel)"
   ]
  },
  {
   "cell_type": "code",
   "execution_count": 3,
   "metadata": {},
   "outputs": [],
   "source": [
    "qp = QuadraticProgram()\n",
    "qp.from_docplex(model)"
   ]
  },
  {
   "cell_type": "code",
   "execution_count": 4,
   "metadata": {},
   "outputs": [],
   "source": [
    "dwave_solver_hybrid = DWaveMinimumEigensolver(sampler =  LeapHybridSampler())\n",
    "optimizer = MinimumEigenOptimizer(dwave_solver_hybrid)"
   ]
  },
  {
   "cell_type": "code",
   "execution_count": 5,
   "metadata": {},
   "outputs": [],
   "source": [
    "result = optimizer.solve(qp) # Problem ID : 46e887a7-d787-4307-8443-c6d7c6b454a4"
   ]
  },
  {
   "cell_type": "code",
   "execution_count": 6,
   "metadata": {},
   "outputs": [
    {
     "data": {
      "text/plain": [
       "optimal function value: 18564.07397699\n",
       "optimal value: [1. 1. 1. 1. 1. 1. 1. 1. 1. 1. 1. 1. 0. 1. 1. 1. 1. 1. 1. 1. 0. 0. 0. 0.\n",
       " 0. 0. 0. 0. 0. 0. 0. 0. 0. 0. 0. 0. 0. 0. 0. 0. 0. 0. 0. 0. 0. 0. 0. 0.\n",
       " 0. 0.]\n",
       "status: INFEASIBLE"
      ]
     },
     "execution_count": 6,
     "metadata": {},
     "output_type": "execute_result"
    }
   ],
   "source": [
    "result"
   ]
  }
 ],
 "metadata": {
  "kernelspec": {
   "display_name": "Python 3",
   "language": "python",
   "name": "python3"
  },
  "language_info": {
   "codemirror_mode": {
    "name": "ipython",
    "version": 3
   },
   "file_extension": ".py",
   "mimetype": "text/x-python",
   "name": "python",
   "nbconvert_exporter": "python",
   "pygments_lexer": "ipython3",
   "version": "3.8.5"
  }
 },
 "nbformat": 4,
 "nbformat_minor": 4
}
