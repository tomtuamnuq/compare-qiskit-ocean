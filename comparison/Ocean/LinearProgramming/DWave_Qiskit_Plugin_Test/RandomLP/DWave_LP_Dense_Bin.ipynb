{
 "cells": [
  {
   "cell_type": "code",
   "execution_count": 1,
   "metadata": {},
   "outputs": [],
   "source": [
    "from collections import OrderedDict\n",
    "import time\n",
    "import os\n",
    "import logging\n",
    "\n",
    "from qiskit.optimization.algorithms import CplexOptimizer\n",
    "from qiskit.optimization.algorithms.optimization_algorithm import OptimizationResultStatus\n",
    "\n",
    "from dwave.system import DWaveCliqueSampler, LeapHybridSampler\n",
    "\n",
    "from helpers import create_models, create_dwave_meo"
   ]
  },
  {
   "cell_type": "code",
   "execution_count": 2,
   "metadata": {},
   "outputs": [
    {
     "data": {
      "text/plain": [
       "'TEST_DATA/14_03_2021/DENSE/'"
      ]
     },
     "execution_count": 2,
     "metadata": {},
     "output_type": "execute_result"
    }
   ],
   "source": [
    "TEST_DIR = 'TEST_DATA' + \"/\" + time.strftime(\"%d_%m_%Y\") + \"/DENSE/\"\n",
    "RES_DIR = 'RESULTS' + \"/\" + time.strftime(\"%d_%m_%Y\") + \"/DENSE/\"\n",
    "os.makedirs(RES_DIR, exist_ok=True)\n",
    "TEST_DIR"
   ]
  },
  {
   "cell_type": "code",
   "execution_count": 3,
   "metadata": {},
   "outputs": [],
   "source": [
    "logger = logging.getLogger()\n",
    "logger.setLevel(logging.INFO)"
   ]
  },
  {
   "cell_type": "code",
   "execution_count": 4,
   "metadata": {},
   "outputs": [],
   "source": [
    "qps = create_models(TEST_DIR)"
   ]
  },
  {
   "cell_type": "code",
   "execution_count": 5,
   "metadata": {},
   "outputs": [
    {
     "name": "stderr",
     "output_type": "stream",
     "text": [
      "2021-03-14 14:44:47,189 dwave.cloud.client INFO MainThread Fetching definitions of all available solvers\n",
      "2021-03-14 14:44:49,176 dwave.cloud.client INFO MainThread Adding solver BQMSolver(id='hybrid_binary_quadratic_model_version2')\n",
      "2021-03-14 14:44:49,179 dwave.cloud.client INFO MainThread Adding solver DQMSolver(id='hybrid_discrete_quadratic_model_version1')\n",
      "2021-03-14 14:44:49,436 dwave.cloud.client INFO MainThread Fetching definitions of all available solvers\n",
      "2021-03-14 14:44:51,607 dwave.cloud.client INFO MainThread Adding solver StructuredSolver(id='DW_2000Q_6')\n",
      "2021-03-14 14:44:51,688 dwave.cloud.client INFO MainThread Adding solver StructuredSolver(id='Advantage_system1.1')\n"
     ]
    }
   ],
   "source": [
    "# init Optimizers\n",
    "cplex = CplexOptimizer()\n",
    "hybrid = create_dwave_meo(LeapHybridSampler())\n",
    "clique = create_dwave_meo(DWaveCliqueSampler())\n",
    "dwave_auto = create_dwave_meo()"
   ]
  },
  {
   "cell_type": "code",
   "execution_count": 6,
   "metadata": {},
   "outputs": [
    {
     "name": "stdout",
     "output_type": "stream",
     "text": [
      "test_10\n",
      "number of qubits:  29\n",
      "Leap successful!\n",
      "Dwave Quantum successful!\n",
      "\n",
      " optimal value Dwave quantum -4.0  ,  cplex:-8.0\n",
      "test_15\n",
      "number of qubits:  46\n",
      "Leap successful!\n",
      "Dwave quantum solver found no solution.\n",
      "test_20\n",
      "number of qubits:  65\n",
      "Leap successful!\n",
      "\n",
      " optimal value Leap   -7.0  ,  cplex:-8.0\n",
      "Dwave quantum solver found no solution.\n",
      "test_25\n",
      "number of qubits:  85\n",
      "Leap successful!\n",
      "\n",
      " optimal value Leap   -11.0  ,  cplex:-15.0\n",
      "Dwave quantum solver found no solution.\n",
      "test_30\n",
      "number of qubits:  110\n",
      "Leap successful!\n",
      "\n",
      " optimal value Leap   -11.0  ,  cplex:-14.0\n",
      "Dwave quantum solver found no solution.\n",
      "test_35\n",
      "number of qubits:  126\n",
      "Leap successful!\n",
      "\n",
      " optimal value Leap   -8.0  ,  cplex:-12.0\n"
     ]
    },
    {
     "name": "stderr",
     "output_type": "stream",
     "text": [
      "2021-03-14 14:55:32,860 dwave.cloud.client INFO MainThread Fetching definitions of all available solvers\n",
      "2021-03-14 14:55:36,692 dwave.cloud.client INFO MainThread Adding solver StructuredSolver(id='DW_2000Q_6')\n",
      "2021-03-14 14:55:36,773 dwave.cloud.client INFO MainThread Adding solver StructuredSolver(id='Advantage_system1.1')\n"
     ]
    },
    {
     "name": "stdout",
     "output_type": "stream",
     "text": [
      "Dwave quantum solver found no solution.\n",
      "test_40\n",
      "number of qubits:  155\n",
      "Leap successful!\n",
      "\n",
      " optimal value Leap   -7.0  ,  cplex:-13.0\n",
      "Dwave quantum solver found no solution.\n",
      "test_45\n",
      "number of qubits:  171\n",
      "Leap successful!\n",
      "\n",
      " optimal value Leap   -4.0  ,  cplex:-7.0\n",
      "Dwave quantum solver found no solution.\n",
      "test_50\n",
      "number of qubits:  200\n",
      "Leap successful!\n",
      "\n",
      " optimal value Leap   -7.0  ,  cplex:-18.0\n",
      "Dwave quantum solver found no solution.\n",
      "test_55\n",
      "number of qubits:  218\n",
      "Leap successful!\n",
      "\n",
      " optimal value Leap   12.0  ,  cplex:-18.0\n",
      "test_55   ValueError  :  no embedding found\n"
     ]
    }
   ],
   "source": [
    "results = OrderedDict()\n",
    "for qp_name, qp in qps.items() :\n",
    "    \n",
    "    print(qp_name)\n",
    "    print(\"number of qubits: \", qp.qubo.get_num_vars())\n",
    "    output_file_handler = logging.FileHandler(filename=RES_DIR + qp.name + \".log\")\n",
    "    logger.addHandler(output_file_handler)\n",
    "    \n",
    "    if qp.qubo.get_num_vars() > clique.min_eigen_solver.sampler.largest_clique_size:\n",
    "        dwave = dwave_auto\n",
    "    else:\n",
    "        dwave = clique\n",
    "\n",
    "    with open(RES_DIR + qp.name + '.res', 'w') as file:\n",
    "        file.write(str(\"Start \" + qp.name + \"\\n \" + str(qp.qubo.get_num_vars()) + \" qubits needed\"))  \n",
    "        file.write(\"\\n Leap: \\n\")\n",
    "        logger.info(\"\\n Leap: \\n \")\n",
    "        res_classic = cplex.solve(qp)\n",
    "        \n",
    "        res_hybrid = hybrid.solve(qp)\n",
    "        logger.info(str(res_hybrid.min_eigen_solver_result.sampleset.info))\n",
    "        if res_hybrid.status != OptimizationResultStatus.SUCCESS:\n",
    "            file.write(\"No solution found with DWave Hybrid Sampler Leap.\")\n",
    "            file.write(\"\\n CPLEX:\\n\")\n",
    "            file.write(str(res_classic))\n",
    "            break\n",
    "        else:\n",
    "            print(\"Leap successful!\")\n",
    "            \n",
    "            if res_hybrid.fval == res_classic.fval:\n",
    "                file.write(\"\\n Leap found optimal solution\\n\")\n",
    "\n",
    "            else:\n",
    "                print(\"\\n optimal value Leap   \"+str(res_hybrid.fval) + \"  ,  cplex:\"+ str(res_classic.fval))\n",
    "                file.write(\"\\n Leap: \\n\")\n",
    "                file.write(str(res_hybrid))\n",
    "                file.write(\"\\n CPLEX:\\n\")\n",
    "                file.write(str(res_classic))\n",
    "            file.write(\"\\n DWave Quantum: \\n\")\n",
    "            logger.info(\"\\n DWave Quantum: \\n \")\n",
    "            try:\n",
    "                res_quantum = dwave.solve(qp)\n",
    "                problem_id = str(res_quantum.min_eigen_solver_result.sampleset.info['problem_id'])\n",
    "                logger.info(\"\\n problem id \" + problem_id)\n",
    "                file.write(\"\\n problem id: \" + problem_id)\n",
    "                \n",
    "                if res_quantum.status != OptimizationResultStatus.SUCCESS:\n",
    "                    print(\"Dwave quantum solver found no solution.\")\n",
    "                    file.write(\"\\n No solution found with DWave Quantum Solver \\n\")\n",
    "                else:\n",
    "                    print(\"Dwave Quantum successful!\")\n",
    "                    if res_quantum.fval == res_classic.fval:\n",
    "                        file.write(\"\\n DWave quantum solver found optimal solution\\n\")\n",
    "                    else:\n",
    "                        print(\"\\n optimal value Dwave quantum \"+str(res_quantum.fval) + \"  ,  cplex:\"+ str(res_classic.fval))\n",
    "                        file.write(\"\\n DWave quantum solver:\\n\")\n",
    "                        file.write(str(res_quantum))\n",
    "                        file.write(\"\\n CPLEX:\\n\")\n",
    "                        file.write(str(res_classic))\n",
    "\n",
    "            except Exception as ex:\n",
    "                print(qp_name, \" \", type(ex).__name__, \" : \", ex)\n",
    "                file.write(\"\\n DWave Solver produced an exception:\\n\")\n",
    "                file.write(str(ex))\n",
    "                \n",
    "    logger.removeHandler(output_file_handler)\n",
    "\n",
    "# see Class SubstituteVariables in https://qiskit.org/documentation/_modules/qiskit/optimization/problems/quadratic_program.html#QuadraticProgram\n",
    "# for logger warning constraint A0_leb0 is infeasible due to substitution\n",
    "# Afterwards a check for feasability of substituted solution is done to set OptimizationResultStatus"
   ]
  },
  {
   "cell_type": "code",
   "execution_count": 8,
   "metadata": {},
   "outputs": [
    {
     "data": {
      "text/plain": [
       "optimal function value: 12.0\n",
       "optimal value: [0. 1. 0. 0. 0. 1. 1. 1. 0. 1. 0. 0. 1. 1. 0. 1. 1. 1. 0. 0. 0. 0. 1. 0.\n",
       " 0. 1. 0. 1. 0. 1. 0. 0. 0. 1. 1. 0. 1. 0. 0. 1. 0. 0. 0. 1. 1. 0. 1. 1.\n",
       " 0. 0. 0. 0. 1. 0. 1.]\n",
       "status: SUCCESS"
      ]
     },
     "execution_count": 8,
     "metadata": {},
     "output_type": "execute_result"
    }
   ],
   "source": [
    "res_hybrid.min_eigen_solver_result.sampleset"
   ]
  },
  {
   "cell_type": "code",
   "execution_count": null,
   "metadata": {},
   "outputs": [],
   "source": []
  }
 ],
 "metadata": {
  "kernelspec": {
   "display_name": "Python 3",
   "language": "python",
   "name": "python3"
  },
  "language_info": {
   "codemirror_mode": {
    "name": "ipython",
    "version": 3
   },
   "file_extension": ".py",
   "mimetype": "text/x-python",
   "name": "python",
   "nbconvert_exporter": "python",
   "pygments_lexer": "ipython3",
   "version": "3.8.5"
  }
 },
 "nbformat": 4,
 "nbformat_minor": 4
}
