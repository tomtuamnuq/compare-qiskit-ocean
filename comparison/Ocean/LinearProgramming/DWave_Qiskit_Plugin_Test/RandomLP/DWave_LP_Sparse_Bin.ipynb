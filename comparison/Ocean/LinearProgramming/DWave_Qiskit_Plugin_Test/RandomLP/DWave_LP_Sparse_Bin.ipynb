{
 "cells": [
  {
   "cell_type": "code",
   "execution_count": 1,
   "metadata": {},
   "outputs": [],
   "source": [
    "from collections import OrderedDict\n",
    "import time\n",
    "import os\n",
    "import logging\n",
    "\n",
    "from qiskit.optimization.algorithms import CplexOptimizer\n",
    "from qiskit.optimization.algorithms.optimization_algorithm import OptimizationResultStatus\n",
    "\n",
    "from dwave.system import LeapHybridSampler\n",
    "\n",
    "from helpers import create_models, create_dwave_meo"
   ]
  },
  {
   "cell_type": "code",
   "execution_count": 2,
   "metadata": {},
   "outputs": [
    {
     "data": {
      "text/plain": [
       "'TEST_DATA/16_03_2021/SPARSE/'"
      ]
     },
     "execution_count": 2,
     "metadata": {},
     "output_type": "execute_result"
    }
   ],
   "source": [
    "TEST_DIR = 'TEST_DATA' + \"/\" + time.strftime(\"%d_%m_%Y\") + \"/SPARSE/\"\n",
    "RES_DIR = 'RESULTS' + \"/\" + time.strftime(\"%d_%m_%Y\") + \"/SPARSE/\"\n",
    "os.makedirs(RES_DIR, exist_ok=True)\n",
    "TEST_DIR"
   ]
  },
  {
   "cell_type": "code",
   "execution_count": 3,
   "metadata": {},
   "outputs": [],
   "source": [
    "logger = logging.getLogger()\n",
    "logger.setLevel(logging.INFO)"
   ]
  },
  {
   "cell_type": "code",
   "execution_count": 4,
   "metadata": {},
   "outputs": [],
   "source": [
    "qps = create_models(TEST_DIR)"
   ]
  },
  {
   "cell_type": "code",
   "execution_count": 5,
   "metadata": {},
   "outputs": [
    {
     "name": "stderr",
     "output_type": "stream",
     "text": [
      "2021-03-16 16:19:28,433 dwave.cloud.client INFO MainThread Fetching definitions of all available solvers\n",
      "2021-03-16 16:19:32,734 dwave.cloud.client INFO MainThread Adding solver BQMSolver(id='hybrid_binary_quadratic_model_version2')\n",
      "2021-03-16 16:19:32,737 dwave.cloud.client INFO MainThread Adding solver DQMSolver(id='hybrid_discrete_quadratic_model_version1')\n"
     ]
    }
   ],
   "source": [
    "# init Optimizers\n",
    "cplex = CplexOptimizer()\n",
    "hybrid = create_dwave_meo(LeapHybridSampler())\n",
    "dwave = create_dwave_meo(num_reads=1000)"
   ]
  },
  {
   "cell_type": "code",
   "execution_count": 6,
   "metadata": {},
   "outputs": [
    {
     "name": "stdout",
     "output_type": "stream",
     "text": [
      "test_10\n",
      "number of qubits:  70\n",
      "Leap successful!\n",
      "\n",
      " optimal value Leap   -3.0  ,  cplex:-6.0\n"
     ]
    },
    {
     "name": "stderr",
     "output_type": "stream",
     "text": [
      "2021-03-16 16:20:00,538 dwave.cloud.client INFO MainThread Fetching definitions of all available solvers\n",
      "2021-03-16 16:20:04,571 dwave.cloud.client INFO MainThread Adding solver StructuredSolver(id='DW_2000Q_6')\n",
      "2021-03-16 16:20:04,652 dwave.cloud.client INFO MainThread Adding solver StructuredSolver(id='Advantage_system1.1')\n"
     ]
    },
    {
     "name": "stdout",
     "output_type": "stream",
     "text": [
      "Dwave Quantum successful!\n",
      "\n",
      " optimal value Dwave quantum 4.0  ,  cplex:-6.0\n",
      "test_13\n",
      "number of qubits:  100\n",
      "Leap successful!\n",
      "\n",
      " optimal value Leap   -14.0  ,  cplex:-18.0\n",
      "Dwave Quantum successful!\n",
      "\n",
      " optimal value Dwave quantum -2.0  ,  cplex:-18.0\n",
      "test_16\n",
      "number of qubits:  125\n",
      "Leap successful!\n",
      "\n",
      " optimal value Leap   -2.0  ,  cplex:-19.0\n",
      "Dwave quantum solver found no solution.\n",
      "test_19\n",
      "number of qubits:  141\n",
      "Leap successful!\n",
      "\n",
      " optimal value Leap   0.0  ,  cplex:-20.0\n",
      "Dwave quantum solver found no solution.\n",
      "test_22\n",
      "number of qubits:  166\n",
      "Leap successful!\n",
      "\n",
      " optimal value Leap   -11.0  ,  cplex:-21.0\n",
      "Dwave quantum solver found no solution.\n",
      "test_25\n",
      "number of qubits:  172\n",
      "test_28\n",
      "number of qubits:  217\n",
      "Leap successful!\n",
      "\n",
      " optimal value Leap   0.0  ,  cplex:-31.0\n",
      "test_31\n",
      "number of qubits:  233\n",
      "test_34\n",
      "number of qubits:  255\n",
      "test_37\n",
      "number of qubits:  285\n"
     ]
    }
   ],
   "source": [
    "results = OrderedDict()\n",
    "count_fail_hybrid, count_fail_dwave = 0, 0\n",
    "\n",
    "for qp_name, qp in qps.items() :\n",
    "    \n",
    "    print(qp_name)\n",
    "    print(\"number of qubits: \", qp.qubo.get_num_vars())\n",
    "    output_file_handler = logging.FileHandler(filename=RES_DIR + qp.name + \".log\")\n",
    "    logger.addHandler(output_file_handler)\n",
    "    \n",
    "    with open(RES_DIR + qp.name + '.res', 'w') as file:\n",
    "        file.write(str(\"Start \" + qp.name + \"\\n \" + str(qp.qubo.get_num_vars()) + \" qubits needed\"))  \n",
    "        file.write(\"\\n Leap: \\n\")\n",
    "        logger.info(\"\\n Leap: \\n \")\n",
    "        res_classic = cplex.solve(qp)\n",
    "        \n",
    "        res_hybrid = hybrid.solve(qp)\n",
    "        problem_id = str(res_hybrid.min_eigen_solver_result.sampleset.info['problem_id'])\n",
    "        logger.info(\"\\n problem id \" + problem_id)\n",
    "        file.write(\"\\n problem id: \" + problem_id)\n",
    "        if res_hybrid.status != OptimizationResultStatus.SUCCESS:\n",
    "            file.write(\"\\n No solution found with DWave Hybrid Sampler Leap.\\n\")\n",
    "            file.write(\"\\n CPLEX:\\n\")\n",
    "            file.write(str(res_classic))\n",
    "            count_fail_hybrid = count_fail_hybrid + 1\n",
    "            if count_fail_hybrid > 2 :\n",
    "                break\n",
    "        else:\n",
    "            print(\"Leap successful!\")\n",
    "            count_fail_hybrid = 0\n",
    "            \n",
    "            if res_hybrid.fval == res_classic.fval:\n",
    "                file.write(\"\\n Leap found optimal solution\\n\")\n",
    "\n",
    "            else:\n",
    "                print(\"\\n optimal value Leap   \"+str(res_hybrid.fval) + \"  ,  cplex:\"+ str(res_classic.fval))\n",
    "                file.write(\"\\n Leap: \\n\")\n",
    "                file.write(str(res_hybrid))\n",
    "                file.write(\"\\n CPLEX:\\n\")\n",
    "                file.write(str(res_classic))\n",
    "                \n",
    "            \n",
    "            \n",
    "            if count_fail_dwave <= 2:\n",
    "                file.write(\"\\n DWave Quantum: \\n\")\n",
    "                logger.info(\"\\n DWave Quantum: \\n \")\n",
    "                try:\n",
    "                    res_quantum = dwave.solve(qp)\n",
    "                    problem_id = str(res_quantum.min_eigen_solver_result.sampleset.info['problem_id'])\n",
    "                    logger.info(\"\\n problem id \" + problem_id)\n",
    "                    file.write(\"\\n problem id: \" + problem_id)\n",
    "\n",
    "                    if res_quantum.status != OptimizationResultStatus.SUCCESS:\n",
    "                        print(\"Dwave quantum solver found no solution.\")\n",
    "                        file.write(\"\\n No solution found with DWave Quantum Solver \\n\")\n",
    "                        count_fail_dwave = count_fail_dwave + 1\n",
    "                        if count_fail_dwave == 3:\n",
    "                            file.write(\"\\n Stop testing DWave Quantum Solver \\n\")\n",
    "                    else:\n",
    "                        print(\"Dwave Quantum successful!\")\n",
    "                        count_fail_dwave = 0\n",
    "                        \n",
    "                        if res_quantum.fval == res_classic.fval:\n",
    "                            file.write(\"\\n DWave quantum solver found optimal solution\\n\")\n",
    "                        else:\n",
    "                            print(\"\\n optimal value Dwave quantum \"+str(res_quantum.fval) + \"  ,  cplex:\"+ str(res_classic.fval))\n",
    "                            file.write(\"\\n DWave quantum solver:\\n\")\n",
    "                            file.write(str(res_quantum))\n",
    "                            file.write(\"\\n CPLEX:\\n\")\n",
    "                            file.write(str(res_classic))\n",
    "\n",
    "                except Exception as ex:\n",
    "                    print(qp_name, \" \", type(ex).__name__, \" : \", ex)\n",
    "                    file.write(\"\\n DWave Solver produced an exception:\\n\")\n",
    "                    file.write(str(ex))\n",
    "                \n",
    "    logger.removeHandler(output_file_handler)\n",
    "\n",
    "# see Class SubstituteVariables in https://qiskit.org/documentation/_modules/qiskit/optimization/problems/quadratic_program.html#QuadraticProgram\n",
    "# for logger warning constraint A0_leb0 is infeasible due to substitution\n",
    "# Afterwards a check for feasability of substituted solution is done to set OptimizationResultStatus"
   ]
  }
 ],
 "metadata": {
  "kernelspec": {
   "display_name": "Python 3",
   "language": "python",
   "name": "python3"
  },
  "language_info": {
   "codemirror_mode": {
    "name": "ipython",
    "version": 3
   },
   "file_extension": ".py",
   "mimetype": "text/x-python",
   "name": "python",
   "nbconvert_exporter": "python",
   "pygments_lexer": "ipython3",
   "version": "3.8.5"
  }
 },
 "nbformat": 4,
 "nbformat_minor": 4
}
