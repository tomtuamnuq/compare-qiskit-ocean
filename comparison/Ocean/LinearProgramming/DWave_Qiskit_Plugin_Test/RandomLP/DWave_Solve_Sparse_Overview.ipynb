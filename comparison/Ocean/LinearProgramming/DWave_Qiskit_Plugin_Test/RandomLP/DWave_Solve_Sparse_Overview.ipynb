{
 "cells": [
  {
   "cell_type": "code",
   "execution_count": 1,
   "metadata": {},
   "outputs": [],
   "source": [
    "import time\n",
    "\n",
    "from dwave.system import LeapHybridSampler\n",
    "\n",
    "from qiskit.optimization.algorithms import CplexOptimizer\n",
    "\n",
    "from helpers import create_models, create_dwave_meo\n",
    "\n",
    "DIR = 'TEST_DATA' + \"/\" + time.strftime(\"%d_%m_%Y\") + \"/SPARSE/\""
   ]
  },
  {
   "cell_type": "code",
   "execution_count": 2,
   "metadata": {},
   "outputs": [],
   "source": [
    "# select linear program to solve\n",
    "qps = create_models(DIR)\n",
    "qp = qps['test_13']"
   ]
  },
  {
   "cell_type": "code",
   "execution_count": 3,
   "metadata": {},
   "outputs": [],
   "source": [
    "# init Optimizers\n",
    "cplex = CplexOptimizer()\n",
    "leap = create_dwave_meo(LeapHybridSampler())\n",
    "dwave_auto = create_dwave_meo()"
   ]
  },
  {
   "cell_type": "code",
   "execution_count": 4,
   "metadata": {},
   "outputs": [
    {
     "data": {
      "text/plain": [
       "optimal function value: 1.0\n",
       "optimal value: [ 1.  1.  1.  1. -0. -0.  1. -0. -0. -0. -0. -0.  1. -0. -0.  1.  1. -0.\n",
       "  1. -0.  1.  1.  1. -0.  1. -0. -0. -0.  1. -0.]\n",
       "status: SUCCESS"
      ]
     },
     "execution_count": 4,
     "metadata": {},
     "output_type": "execute_result"
    }
   ],
   "source": [
    "# solve classically\n",
    "cplex.solve(qp)"
   ]
  },
  {
   "cell_type": "code",
   "execution_count": 5,
   "metadata": {},
   "outputs": [
    {
     "data": {
      "text/plain": [
       "optimal function value: 2.0\n",
       "optimal value: [1. 0. 0. 1. 0. 0. 1. 0. 0. 0. 0. 0. 1. 0. 0. 1. 1. 0. 1. 0. 1. 1. 1. 0.\n",
       " 1. 1. 0. 0. 0. 0.]\n",
       "status: SUCCESS"
      ]
     },
     "execution_count": 5,
     "metadata": {},
     "output_type": "execute_result"
    }
   ],
   "source": [
    "# solve hybrid\n",
    "res_leap = leap.solve(qp)\n",
    "res_leap"
   ]
  },
  {
   "cell_type": "code",
   "execution_count": 6,
   "metadata": {},
   "outputs": [
    {
     "name": "stderr",
     "output_type": "stream",
     "text": [
      "constraint A0_leb0 is infeasible due to substitution\n",
      "constraint A0_leb1 is infeasible due to substitution\n",
      "constraint A0_leb2 is infeasible due to substitution\n",
      "constraint A0_leb3 is infeasible due to substitution\n",
      "constraint A0_leb4 is infeasible due to substitution\n",
      "constraint A0_leb5 is infeasible due to substitution\n",
      "constraint A0_leb6 is infeasible due to substitution\n",
      "constraint A0_leb7 is infeasible due to substitution\n",
      "constraint A0_leb9 is infeasible due to substitution\n",
      "constraint A0_leb10 is infeasible due to substitution\n",
      "constraint A0_leb11 is infeasible due to substitution\n",
      "constraint A0_leb12 is infeasible due to substitution\n",
      "constraint A0_leb13 is infeasible due to substitution\n",
      "constraint A0_leb14 is infeasible due to substitution\n"
     ]
    },
    {
     "data": {
      "text/plain": [
       "optimal function value: 4.0\n",
       "optimal value: [0. 1. 1. 0. 0. 1. 1. 1. 0. 1. 0. 0. 1. 0. 0. 1. 1. 0. 1. 1. 1. 1. 1. 0.\n",
       " 0. 1. 0. 0. 1. 1.]\n",
       "status: INFEASIBLE"
      ]
     },
     "execution_count": 6,
     "metadata": {},
     "output_type": "execute_result"
    }
   ],
   "source": [
    "# solve quantum\n",
    "res_dwave = dwave_auto.solve(qp)\n",
    "res_dwave"
   ]
  }
 ],
 "metadata": {
  "kernelspec": {
   "display_name": "Python 3",
   "language": "python",
   "name": "python3"
  },
  "language_info": {
   "codemirror_mode": {
    "name": "ipython",
    "version": 3
   },
   "file_extension": ".py",
   "mimetype": "text/x-python",
   "name": "python",
   "nbconvert_exporter": "python",
   "pygments_lexer": "ipython3",
   "version": "3.8.5"
  }
 },
 "nbformat": 4,
 "nbformat_minor": 4
}
