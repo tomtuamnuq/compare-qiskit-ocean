{
 "cells": [
  {
   "cell_type": "code",
   "execution_count": null,
   "metadata": {},
   "outputs": [],
   "source": [
    "import time\n",
    "\n",
    "from dwave.system import LeapHybridSampler\n",
    "\n",
    "from qiskit.optimization.algorithms import CplexOptimizer\n",
    "\n",
    "from helpers import create_models, create_dwave_meo\n",
    "\n",
    "DIR = 'TEST_DATA' + \"/\" + time.strftime(\"%d_%m_%Y\") + \"/SPARSE/\"\n"
   ]
  },
  {
   "cell_type": "code",
   "execution_count": null,
   "metadata": {},
   "outputs": [],
   "source": [
    "# select linear program to solve\n",
    "qps = create_models(DIR)\n",
    "qp = qps['test_13']"
   ]
  },
  {
   "cell_type": "code",
   "execution_count": null,
   "metadata": {},
   "outputs": [],
   "source": [
    "# init Optimizers\n",
    "cplex = CplexOptimizer()\n",
    "leap = create_dwave_meo(LeapHybridSampler())\n",
    "dwave_auto = create_dwave_meo()"
   ]
  },
  {
   "cell_type": "code",
   "execution_count": null,
   "metadata": {},
   "outputs": [],
   "source": [
    "# solve classically\n",
    "cplex.solve(qp)"
   ]
  },
  {
   "cell_type": "code",
   "execution_count": null,
   "metadata": {},
   "outputs": [],
   "source": [
    "# solve hybrid\n",
    "res_leap = leap.solve(qp)\n",
    "res_leap"
   ]
  },
  {
   "cell_type": "code",
   "execution_count": null,
   "metadata": {},
   "outputs": [],
   "source": [
    "# solve quantum\n",
    "res_dwave = dwave_auto.solve(qp)\n",
    "res_dwave"
   ]
  }
 ],
 "metadata": {
  "kernelspec": {
   "display_name": "Python 3",
   "language": "python",
   "name": "python3"
  },
  "language_info": {
   "codemirror_mode": {
    "name": "ipython",
    "version": 3
   },
   "file_extension": ".py",
   "mimetype": "text/x-python",
   "name": "python",
   "nbconvert_exporter": "python",
   "pygments_lexer": "ipython3",
   "version": "3.8.5"
  }
 },
 "nbformat": 4,
 "nbformat_minor": 4
}
