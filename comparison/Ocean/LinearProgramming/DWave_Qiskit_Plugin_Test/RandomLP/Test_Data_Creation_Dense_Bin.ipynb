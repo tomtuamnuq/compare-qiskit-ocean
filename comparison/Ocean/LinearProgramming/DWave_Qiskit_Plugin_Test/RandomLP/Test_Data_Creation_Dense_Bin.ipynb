{
 "cells": [
  {
   "cell_type": "code",
   "execution_count": 1,
   "metadata": {},
   "outputs": [],
   "source": [
    "import os \n",
    "import shutil\n",
    "import time\n",
    "\n",
    "from random_lp.lp_random_gen import RandomLP\n",
    "\n",
    "DIR = 'TEST_DATA' + \"/\" + time.strftime(\"%d_%m_%Y\")\n",
    "# last: 14_03_2021\n",
    "\n",
    "def getPath(filename = \"\", directory = \"\"):\n",
    "    return DIR + \"/\" + directory + \"/\" + filename"
   ]
  },
  {
   "cell_type": "code",
   "execution_count": 2,
   "metadata": {},
   "outputs": [],
   "source": [
    "shutil.rmtree(DIR, ignore_errors=True)"
   ]
  },
  {
   "cell_type": "code",
   "execution_count": 3,
   "metadata": {},
   "outputs": [],
   "source": [
    "os.makedirs(getPath(directory = \"DENSE\"))"
   ]
  },
  {
   "cell_type": "code",
   "execution_count": 4,
   "metadata": {},
   "outputs": [
    {
     "name": "stdout",
     "output_type": "stream",
     "text": [
      "55\n"
     ]
    }
   ],
   "source": [
    "# create dense random binary Linear Programs\n",
    "# start with 10 variables and 5 constraints\n",
    "max_qubits = 200\n",
    "var = 10\n",
    "while True:\n",
    "    cstr = int(var / 2)\n",
    "    lp_bin = RandomLP.create_random_binary_prog(\"test_\" + str(var), cstr, var)              \n",
    "    lp_bin.write_to_lp_file(getPath(lp_bin.name, directory = \"DENSE\"))\n",
    "    if lp_bin.complexity() > max_qubits :\n",
    "        print(var)\n",
    "        break\n",
    "    var = var + 5\n",
    "    "
   ]
  }
 ],
 "metadata": {
  "kernelspec": {
   "display_name": "Python 3",
   "language": "python",
   "name": "python3"
  },
  "language_info": {
   "codemirror_mode": {
    "name": "ipython",
    "version": 3
   },
   "file_extension": ".py",
   "mimetype": "text/x-python",
   "name": "python",
   "nbconvert_exporter": "python",
   "pygments_lexer": "ipython3",
   "version": "3.8.5"
  }
 },
 "nbformat": 4,
 "nbformat_minor": 4
}
