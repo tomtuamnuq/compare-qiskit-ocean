{
 "cells": [
  {
   "cell_type": "code",
   "execution_count": 1,
   "metadata": {},
   "outputs": [],
   "source": [
    "import os \n",
    "import shutil\n",
    "import time\n",
    "\n",
    "from random_lp.lp_random_gen import RandomLP\n",
    "\n",
    "DIR = 'TEST_DATA' + \"/\" + time.strftime(\"%d_%m_%Y\") # 26.03.2021\n",
    "\n",
    "\n",
    "def getPath(filename = \"\", directory = \"\"):\n",
    "    return DIR + \"/\" + directory + \"/\" + filename"
   ]
  },
  {
   "cell_type": "code",
   "execution_count": 2,
   "metadata": {},
   "outputs": [],
   "source": [
    "shutil.rmtree(DIR, ignore_errors=True)"
   ]
  },
  {
   "cell_type": "code",
   "execution_count": 3,
   "metadata": {},
   "outputs": [],
   "source": [
    "os.makedirs(getPath(directory = \"SPARSE\"))"
   ]
  },
  {
   "cell_type": "code",
   "execution_count": 4,
   "metadata": {},
   "outputs": [
    {
     "output_type": "stream",
     "name": "stdout",
     "text": [
      "38\n"
     ]
    }
   ],
   "source": [
    "# create sparse random binary Linear Programs\n",
    "# 3 variables with 2 constraints each\n",
    "max_qubits = 290\n",
    "var = 3\n",
    "cstr = 2\n",
    "\n",
    "multiple = 26\n",
    "while True:\n",
    "    lp_bin = RandomLP.create_random_binary_prog(\"test_\" + str(multiple), cstr, var, multiple=multiple, penalty=1)              \n",
    "    lp_bin.write_to_lp_file(getPath(lp_bin.name, directory = \"SPARSE\"))\n",
    "    if lp_bin.complexity() > max_qubits :\n",
    "        print(multiple)\n",
    "        break\n",
    "    multiple = multiple + 3\n",
    "    "
   ]
  },
  {
   "cell_type": "code",
   "execution_count": 5,
   "metadata": {
    "tags": [
     "outputPrepend"
    ]
   },
   "outputs": [
    {
     "output_type": "stream",
     "name": "stdout",
     "text": [
      "*A24_leb0@int_slack@1 + 10 x24_1^2\n - 16 x24_1*x24_2 - 2 x24_1*A24_leb0@int_slack@0\n - 4 x24_1*A24_leb0@int_slack@1 - 6 x24_1*A24_leb1@int_slack@0\n - 12 x24_1*A24_leb1@int_slack@1 - 24 x24_1*A24_leb1@int_slack@2\n - 6 x24_1*A24_leb1@int_slack@3 + 10 x24_2^2 - 2 x24_2*A24_leb0@int_slack@0\n - 4 x24_2*A24_leb0@int_slack@1 + 6 x24_2*A24_leb1@int_slack@0\n + 12 x24_2*A24_leb1@int_slack@1 + 24 x24_2*A24_leb1@int_slack@2\n + 6 x24_2*A24_leb1@int_slack@3 + 18 x25_0^2 - 6 x25_0*x25_1\n - 6 x25_0*A25_leb0@int_slack@0 - 12 x25_0*A25_leb0@int_slack@1\n - 12 x25_0*A25_leb0@int_slack@2 + 6 x25_0*A25_leb1@int_slack@0 + 5 x25_1^2\n - 18 x25_1*x25_2 + 4 x25_1*A25_leb0@int_slack@0\n + 8 x25_1*A25_leb0@int_slack@1 + 8 x25_1*A25_leb0@int_slack@2\n + 2 x25_1*A25_leb1@int_slack@0 + 18 x25_2^2 - 6 x25_2*A25_leb0@int_slack@0\n - 12 x25_2*A25_leb0@int_slack@1 - 12 x25_2*A25_leb0@int_slack@2\n - 6 x25_2*A25_leb1@int_slack@0 + 9 x26_0^2 + 6 x26_0*x26_1\n - 6 x26_0*A26_leb1@int_slack@0 - 12 x26_0*A26_leb1@int_slack@1\n - 6 x26_0*A26_leb1@int_slack@2 + 2 x26_1^2 + 4 x26_1*x26_2\n - 2 x26_1*A26_leb0@int_slack@0 - 4 x26_1*A26_leb0@int_slack@1\n - 2 x26_1*A26_leb0@int_slack@2 - 2 x26_1*A26_leb1@int_slack@0\n - 4 x26_1*A26_leb1@int_slack@1 - 2 x26_1*A26_leb1@int_slack@2 + 4 x26_2^2\n - 4 x26_2*A26_leb0@int_slack@0 - 8 x26_2*A26_leb0@int_slack@1\n - 4 x26_2*A26_leb0@int_slack@2 + 10 x27_0^2 - 10 x27_0*x27_1 - 22 x27_0*x27_2\n - 2 x27_0*A27_leb0@int_slack@0 + 6 x27_0*A27_leb1@int_slack@0\n + 12 x27_0*A27_leb1@int_slack@1 + 24 x27_0*A27_leb1@int_slack@2\n + 12 x27_0*A27_leb1@int_slack@3 + 5 x27_1^2 + 14 x27_1*x27_2\n + 4 x27_1*A27_leb0@int_slack@0 - 2 x27_1*A27_leb1@int_slack@0\n - 4 x27_1*A27_leb1@int_slack@1 - 8 x27_1*A27_leb1@int_slack@2\n - 4 x27_1*A27_leb1@int_slack@3 + 13 x27_2^2 + 4 x27_2*A27_leb0@int_slack@0\n - 6 x27_2*A27_leb1@int_slack@0 - 12 x27_2*A27_leb1@int_slack@1\n - 24 x27_2*A27_leb1@int_slack@2 - 12 x27_2*A27_leb1@int_slack@3 + 13 x28_0^2\n + 6 x28_0*x28_1 - 20 x28_0*x28_2 - 6 x28_0*A28_leb0@int_slack@0\n - 12 x28_0*A28_leb0@int_slack@1 - 24 x28_0*A28_leb0@int_slack@2\n - 4 x28_0*A28_leb1@int_slack@0 - 4 x28_0*A28_leb1@int_slack@1 + 18 x28_1^2\n - 6 x28_1*A28_leb0@int_slack@0 - 12 x28_1*A28_leb0@int_slack@1\n - 24 x28_1*A28_leb0@int_slack@2 + 6 x28_1*A28_leb1@int_slack@0\n + 6 x28_1*A28_leb1@int_slack@1 + 8 x28_2^2 + 4 x28_2*A28_leb0@int_slack@0\n + 8 x28_2*A28_leb0@int_slack@1 + 16 x28_2*A28_leb0@int_slack@2\n + 4 x28_2*A28_leb1@int_slack@0 + 4 x28_2*A28_leb1@int_slack@1 + 13 x29_0^2\n - 22 x29_0*x29_1 + 30 x29_0*x29_2 + 6 x29_0*A29_leb0@int_slack@0\n + 12 x29_0*A29_leb0@int_slack@1 + 6 x29_0*A29_leb0@int_slack@2\n - 4 x29_0*A29_leb1@int_slack@0 - 8 x29_0*A29_leb1@int_slack@1 + 10 x29_1^2\n - 24 x29_1*x29_2 - 6 x29_1*A29_leb0@int_slack@0\n - 12 x29_1*A29_leb0@int_slack@1 - 6 x29_1*A29_leb0@int_slack@2\n + 2 x29_1*A29_leb1@int_slack@0 + 4 x29_1*A29_leb1@int_slack@1 + 18 x29_2^2\n + 6 x29_2*A29_leb0@int_slack@0 + 12 x29_2*A29_leb0@int_slack@1\n + 6 x29_2*A29_leb0@int_slack@2 - 6 x29_2*A29_leb1@int_slack@0\n - 12 x29_2*A29_leb1@int_slack@1 + 10 x30_0^2 - 18 x30_0*x30_1 + 6 x30_0*x30_2\n + 2 x30_0*A30_leb0@int_slack@0 + 4 x30_0*A30_leb0@int_slack@1\n - 6 x30_0*A30_leb1@int_slack@0 - 12 x30_0*A30_leb1@int_slack@1 + 13 x30_1^2\n - 18 x30_1*x30_2 - 6 x30_1*A30_leb0@int_slack@0\n - 12 x30_1*A30_leb0@int_slack@1 + 4 x30_1*A30_leb1@int_slack@0\n + 8 x30_1*A30_leb1@int_slack@1 + 9 x30_2^2 + 6 x30_2*A30_leb0@int_slack@0\n + 12 x30_2*A30_leb0@int_slack@1 + 2 x31_0^2 + 2 x31_0*x31_1 - 4 x31_0*x31_2\n - 2 x31_0*A31_leb0@int_slack@0 - 4 x31_0*A31_leb0@int_slack@1\n - 2 x31_0*A31_leb0@int_slack@2 + 2 x31_0*A31_leb1@int_slack@0\n + 2 x31_0*A31_leb1@int_slack@1 + 5 x31_1^2 - 8 x31_1*x31_2\n - 4 x31_1*A31_leb0@int_slack@0 - 8 x31_1*A31_leb0@int_slack@1\n - 4 x31_1*A31_leb0@int_slack@2 - 2 x31_1*A31_leb1@int_slack@0\n - 2 x31_1*A31_leb1@int_slack@1 + 4 x31_2^2 + 4 x31_2*A31_leb0@int_slack@0\n + 8 x31_2*A31_leb0@int_slack@1 + 4 x31_2*A31_leb0@int_slack@2 + 10 x32_0^2\n + 18 x32_0*x32_1 - 8 x32_0*x32_2 + 6 x32_0*A32_leb0@int_slack@0\n + 12 x32_0*A32_leb0@int_slack@1 + 18 x32_0*A32_leb0@int_slack@2\n - 2 x32_0*A32_leb1@int_slack@0 - 4 x32_0*A32_leb1@int_slack@1\n - 4 x32_0*A32_leb1@int_slack@2 + 9 x32_1^2 - 12 x32_1*x32_2\n + 6 x32_1*A32_leb0@int_slack@0 + 12 x32_1*A32_leb0@int_slack@1\n + 18 x32_1*A32_leb0@int_slack@2 + 8 x32_2^2 - 4 x32_2*A32_leb0@int_slack@0\n - 8 x32_2*A32_leb0@int_slack@1 - 12 x32_2*A32_leb0@int_slack@2\n - 4 x32_2*A32_leb1@int_slack@0 - 8 x32_2*A32_leb1@int_slack@1\n - 8 x32_2*A32_leb1@int_slack@2 + 18 x33_0^2 + 24 x33_0*x33_1 - 6 x33_0*x33_2\n + 6 x33_0*A33_leb0@int_slack@0 + 12 x33_0*A33_leb0@int_slack@1\n + 6 x33_0*A33_leb1@int_slack@0 + 12 x33_0*A33_leb1@int_slack@1\n + 12 x33_0*A33_leb1@int_slack@2 + 10 x33_1^2 + 6 x33_1*x33_2\n + 2 x33_1*A33_leb0@int_slack@0 + 4 x33_1*A33_leb0@int_slack@1\n + 6 x33_1*A33_leb1@int_slack@0 + 12 x33_1*A33_leb1@int_slack@1\n + 12 x33_1*A33_leb1@int_slack@2 + 13 x33_2^2 - 6 x33_2*A33_leb0@int_slack@0\n - 12 x33_2*A33_leb0@int_slack@1 + 4 x33_2*A33_leb1@int_slack@0\n + 8 x33_2*A33_leb1@int_slack@1 + 8 x33_2*A33_leb1@int_slack@2 + 2 x34_0^2\n - 2 x34_0*x34_2 + 2 x34_0*A34_leb0@int_slack@0 + 4 x34_0*A34_leb0@int_slack@1\n + 2 x34_0*A34_leb0@int_slack@2 - 2 x34_0*A34_leb1@int_slack@0\n - 2 x34_0*A34_leb1@int_slack@1 + 2 x34_1^2 - 6 x34_1*x34_2\n + 2 x34_1*A34_leb0@int_slack@0 + 4 x34_1*A34_leb0@int_slack@1\n + 2 x34_1*A34_leb0@int_slack@2 + 2 x34_1*A34_leb1@int_slack@0\n + 2 x34_1*A34_leb1@int_slack@1 + 5 x34_2^2 - 4 x34_2*A34_leb0@int_slack@0\n - 8 x34_2*A34_leb0@int_slack@1 - 4 x34_2*A34_leb0@int_slack@2\n - 2 x34_2*A34_leb1@int_slack@0 - 2 x34_2*A34_leb1@int_slack@1 + 10 x35_0^2\n + 18 x35_0*x35_1 + 12 x35_0*x35_2 + 2 x35_0*A35_leb0@int_slack@0\n + 2 x35_0*A35_leb0@int_slack@1 - 6 x35_0*A35_leb1@int_slack@0\n - 12 x35_0*A35_leb1@int_slack@1 - 18 x35_0*A35_leb1@int_slack@2 + 9 x35_1^2\n + 18 x35_1*x35_2 - 6 x35_1*A35_leb1@int_slack@0\n - 12 x35_1*A35_leb1@int_slack@1 - 18 x35_1*A35_leb1@int_slack@2 + 18 x35_2^2\n - 6 x35_2*A35_leb0@int_slack@0 - 6 x35_2*A35_leb0@int_slack@1\n - 6 x35_2*A35_leb1@int_slack@0 - 12 x35_2*A35_leb1@int_slack@1\n - 18 x35_2*A35_leb1@int_slack@2 + 18 x36_0^2 - 12 x36_0*x36_1\n + 12 x36_0*x36_2 - 6 x36_0*A36_leb0@int_slack@0\n - 12 x36_0*A36_leb0@int_slack@1 - 24 x36_0*A36_leb0@int_slack@2\n - 6 x36_0*A36_leb0@int_slack@3 + 6 x36_0*A36_leb1@int_slack@0\n + 12 x36_0*A36_leb1@int_slack@1 + 6 x36_0*A36_leb1@int_slack@2 + 4 x36_1^2\n + 4 x36_1*x36_2 - 4 x36_1*A36_leb1@int_slack@0 - 8 x36_1*A36_leb1@int_slack@1\n - 4 x36_1*A36_leb1@int_slack@2 + 10 x36_2^2 - 6 x36_2*A36_leb0@int_slack@0\n - 12 x36_2*A36_leb0@int_slack@1 - 24 x36_2*A36_leb0@int_slack@2\n - 6 x36_2*A36_leb0@int_slack@3 - 2 x36_2*A36_leb1@int_slack@0\n - 4 x36_2*A36_leb1@int_slack@1 - 2 x36_2*A36_leb1@int_slack@2 + 5 x37_0^2\n + 6 x37_0*x37_1 - 4 x37_0*x37_2 - 2 x37_0*A37_leb0@int_slack@0\n - 4 x37_0*A37_leb0@int_slack@1 - 2 x37_0*A37_leb0@int_slack@2\n + 4 x37_0*A37_leb1@int_slack@0 + 8 x37_0*A37_leb1@int_slack@1\n + 4 x37_0*A37_leb1@int_slack@2 + 5 x37_1^2 - 12 x37_1*x37_2\n + 2 x37_1*A37_leb0@int_slack@0 + 4 x37_1*A37_leb0@int_slack@1\n + 2 x37_1*A37_leb0@int_slack@2 + 4 x37_1*A37_leb1@int_slack@0\n + 8 x37_1*A37_leb1@int_slack@1 + 4 x37_1*A37_leb1@int_slack@2 + 8 x37_2^2\n - 4 x37_2*A37_leb0@int_slack@0 - 8 x37_2*A37_leb0@int_slack@1\n - 4 x37_2*A37_leb0@int_slack@2 - 4 x37_2*A37_leb1@int_slack@0\n - 8 x37_2*A37_leb1@int_slack@1 - 4 x37_2*A37_leb1@int_slack@2\n + A0_leb0@int_slack@0^2 + 4 A0_leb0@int_slack@0*A0_leb0@int_slack@1\n + 8 A0_leb0@int_slack@0*A0_leb0@int_slack@2 + 4 A0_leb0@int_slack@1^2\n + 16 A0_leb0@int_slack@1*A0_leb0@int_slack@2 + 16 A0_leb0@int_slack@2^2\n + A0_leb1@int_slack@0^2 + 4 A0_leb1@int_slack@0*A0_leb1@int_slack@1\n + 2 A0_leb1@int_slack@0*A0_leb1@int_slack@2 + 4 A0_leb1@int_slack@1^2\n + 4 A0_leb1@int_slack@1*A0_leb1@int_slack@2 + A0_leb1@int_slack@2^2\n + A1_leb0@int_slack@0^2 + 4 A1_leb0@int_slack@0*A1_leb0@int_slack@1\n + 2 A1_leb0@int_slack@0*A1_leb0@int_slack@2 + 4 A1_leb0@int_slack@1^2\n + 4 A1_leb0@int_slack@1*A1_leb0@int_slack@2 + A1_leb0@int_slack@2^2\n + A1_leb1@int_slack@0^2 + 4 A1_leb1@int_slack@0*A1_leb1@int_slack@1\n + 8 A1_leb1@int_slack@0*A1_leb1@int_slack@2\n + 2 A1_leb1@int_slack@0*A1_leb1@int_slack@3 + 4 A1_leb1@int_slack@1^2\n + 16 A1_leb1@int_slack@1*A1_leb1@int_slack@2\n + 4 A1_leb1@int_slack@1*A1_leb1@int_slack@3 + 16 A1_leb1@int_slack@2^2\n + 8 A1_leb1@int_slack@2*A1_leb1@int_slack@3 + A1_leb1@int_slack@3^2\n + A2_leb0@int_slack@0^2 + 4 A2_leb0@int_slack@0*A2_leb0@int_slack@1\n + 8 A2_leb0@int_slack@0*A2_leb0@int_slack@2 + 4 A2_leb0@int_slack@1^2\n + 16 A2_leb0@int_slack@1*A2_leb0@int_slack@2 + 16 A2_leb0@int_slack@2^2\n + A2_leb1@int_slack@0^2 + 4 A2_leb1@int_slack@0*A2_leb1@int_slack@1\n + 2 A2_leb1@int_slack@0*A2_leb1@int_slack@2 + 4 A2_leb1@int_slack@1^2\n + 4 A2_leb1@int_slack@1*A2_leb1@int_slack@2 + A2_leb1@int_slack@2^2\n + A3_leb0@int_slack@0^2 + 2 A3_leb0@int_slack@0*A3_leb0@int_slack@1\n + A3_leb0@int_slack@1^2 + A3_leb1@int_slack@0^2\n + 4 A3_leb1@int_slack@0*A3_leb1@int_slack@1 + 4 A3_leb1@int_slack@1^2\n + A4_leb1@int_slack@0^2 + 4 A4_leb1@int_slack@0*A4_leb1@int_slack@1\n + 4 A4_leb1@int_slack@0*A4_leb1@int_slack@2 + 4 A4_leb1@int_slack@1^2\n + 8 A4_leb1@int_slack@1*A4_leb1@int_slack@2 + 4 A4_leb1@int_slack@2^2\n + A5_leb1@int_slack@0^2 + A6_leb0@int_slack@0^2\n + 4 A6_leb0@int_slack@0*A6_leb0@int_slack@1\n + 8 A6_leb0@int_slack@0*A6_leb0@int_slack@2\n + 2 A6_leb0@int_slack@0*A6_leb0@int_slack@3 + 4 A6_leb0@int_slack@1^2\n + 16 A6_leb0@int_slack@1*A6_leb0@int_slack@2\n + 4 A6_leb0@int_slack@1*A6_leb0@int_slack@3 + 16 A6_leb0@int_slack@2^2\n + 8 A6_leb0@int_slack@2*A6_leb0@int_slack@3 + A6_leb0@int_slack@3^2\n + A6_leb1@int_slack@0^2 + 4 A6_leb1@int_slack@0*A6_leb1@int_slack@1\n + 2 A6_leb1@int_slack@0*A6_leb1@int_slack@2 + 4 A6_leb1@int_slack@1^2\n + 4 A6_leb1@int_slack@1*A6_leb1@int_slack@2 + A6_leb1@int_slack@2^2\n + A7_leb0@int_slack@0^2 + 4 A7_leb0@int_slack@0*A7_leb0@int_slack@1\n + 6 A7_leb0@int_slack@0*A7_leb0@int_slack@2 + 4 A7_leb0@int_slack@1^2\n + 12 A7_leb0@int_slack@1*A7_leb0@int_slack@2 + 9 A7_leb0@int_slack@2^2\n + A7_leb1@int_slack@0^2 + 4 A7_leb1@int_slack@0*A7_leb1@int_slack@1\n + 8 A7_leb1@int_slack@0*A7_leb1@int_slack@2 + 4 A7_leb1@int_slack@1^2\n + 16 A7_leb1@int_slack@1*A7_leb1@int_slack@2 + 16 A7_leb1@int_slack@2^2\n + A8_leb0@int_slack@0^2 + A8_leb1@int_slack@0^2\n + 4 A8_leb1@int_slack@0*A8_leb1@int_slack@1\n + 4 A8_leb1@int_slack@0*A8_leb1@int_slack@2 + 4 A8_leb1@int_slack@1^2\n + 8 A8_leb1@int_slack@1*A8_leb1@int_slack@2 + 4 A8_leb1@int_slack@2^2\n + A9_leb0@int_slack@0^2 + 2 A9_leb0@int_slack@0*A9_leb0@int_slack@1\n + A9_leb0@int_slack@1^2 + A9_leb1@int_slack@0^2 + A10_leb0@int_slack@0^2\n + A10_leb1@int_slack@0^2 + A11_leb0@int_slack@0^2\n + 2 A11_leb0@int_slack@0*A11_leb0@int_slack@1 + A11_leb0@int_slack@1^2\n + A11_leb1@int_slack@0^2 + 4 A11_leb1@int_slack@0*A11_leb1@int_slack@1\n + 2 A11_leb1@int_slack@0*A11_leb1@int_slack@2 + 4 A11_leb1@int_slack@1^2\n + 4 A11_leb1@int_slack@1*A11_leb1@int_slack@2 + A11_leb1@int_slack@2^2\n + A12_leb0@int_slack@0^2 + 4 A12_leb0@int_slack@0*A12_leb0@int_slack@1\n + 8 A12_leb0@int_slack@0*A12_leb0@int_slack@2\n + 2 A12_leb0@int_slack@0*A12_leb0@int_slack@3 + 4 A12_leb0@int_slack@1^2\n + 16 A12_leb0@int_slack@1*A12_leb0@int_slack@2\n + 4 A12_leb0@int_slack@1*A12_leb0@int_slack@3 + 16 A12_leb0@int_slack@2^2\n + 8 A12_leb0@int_slack@2*A12_leb0@int_slack@3 + A12_leb0@int_slack@3^2\n + A12_leb1@int_slack@0^2 + 4 A12_leb1@int_slack@0*A12_leb1@int_slack@1\n + 6 A12_leb1@int_slack@0*A12_leb1@int_slack@2 + 4 A12_leb1@int_slack@1^2\n + 12 A12_leb1@int_slack@1*A12_leb1@int_slack@2 + 9 A12_leb1@int_slack@2^2\n + A13_leb0@int_slack@0^2 + 4 A13_leb0@int_slack@0*A13_leb0@int_slack@1\n + 4 A13_leb0@int_slack@0*A13_leb0@int_slack@2 + 4 A13_leb0@int_slack@1^2\n + 8 A13_leb0@int_slack@1*A13_leb0@int_slack@2 + 4 A13_leb0@int_slack@2^2\n + A13_leb1@int_slack@0^2 + 4 A13_leb1@int_slack@0*A13_leb1@int_slack@1\n + 4 A13_leb1@int_slack@1^2 + A14_leb0@int_slack@0^2 + A14_leb1@int_slack@0^2\n + 4 A14_leb1@int_slack@0*A14_leb1@int_slack@1\n + 2 A14_leb1@int_slack@0*A14_leb1@int_slack@2 + 4 A14_leb1@int_slack@1^2\n + 4 A14_leb1@int_slack@1*A14_leb1@int_slack@2 + A14_leb1@int_slack@2^2\n + A15_leb0@int_slack@0^2 + A15_leb1@int_slack@0^2\n + 4 A15_leb1@int_slack@0*A15_leb1@int_slack@1\n + 2 A15_leb1@int_slack@0*A15_leb1@int_slack@2 + 4 A15_leb1@int_slack@1^2\n + 4 A15_leb1@int_slack@1*A15_leb1@int_slack@2 + A15_leb1@int_slack@2^2\n + A16_leb0@int_slack@0^2 + 4 A16_leb0@int_slack@0*A16_leb0@int_slack@1\n + 4 A16_leb0@int_slack@1^2 + A16_leb1@int_slack@0^2\n + 4 A16_leb1@int_slack@0*A16_leb1@int_slack@1 + 4 A16_leb1@int_slack@1^2\n + A17_leb0@int_slack@0^2 + 4 A17_leb0@int_slack@0*A17_leb0@int_slack@1\n + 4 A17_leb0@int_slack@1^2 + A17_leb1@int_slack@0^2\n + 4 A17_leb1@int_slack@0*A17_leb1@int_slack@1\n + 2 A17_leb1@int_slack@0*A17_leb1@int_slack@2 + 4 A17_leb1@int_slack@1^2\n + 4 A17_leb1@int_slack@1*A17_leb1@int_slack@2 + A17_leb1@int_slack@2^2\n + A18_leb0@int_slack@0^2 + 4 A18_leb0@int_slack@0*A18_leb0@int_slack@1\n + 4 A18_leb0@int_slack@0*A18_leb0@int_slack@2 + 4 A18_leb0@int_slack@1^2\n + 8 A18_leb0@int_slack@1*A18_leb0@int_slack@2 + 4 A18_leb0@int_slack@2^2\n + A18_leb1@int_slack@0^2 + 4 A18_leb1@int_slack@0*A18_leb1@int_slack@1\n + 4 A18_leb1@int_slack@0*A18_leb1@int_slack@2 + 4 A18_leb1@int_slack@1^2\n + 8 A18_leb1@int_slack@1*A18_leb1@int_slack@2 + 4 A18_leb1@int_slack@2^2\n + A19_leb0@int_slack@0^2 + 2 A19_leb0@int_slack@0*A19_leb0@int_slack@1\n + A19_leb0@int_slack@1^2 + A19_leb1@int_slack@0^2\n + 4 A19_leb1@int_slack@0*A19_leb1@int_slack@1 + 4 A19_leb1@int_slack@1^2\n + A20_leb0@int_slack@0^2 + 4 A20_leb0@int_slack@0*A20_leb0@int_slack@1\n + 4 A20_leb0@int_slack@1^2 + A20_leb1@int_slack@0^2\n + 4 A20_leb1@int_slack@0*A20_leb1@int_slack@1 + 4 A20_leb1@int_slack@1^2\n + A21_leb0@int_slack@0^2 + 2 A21_leb0@int_slack@0*A21_leb0@int_slack@1\n + A21_leb0@int_slack@1^2 + A21_leb1@int_slack@0^2\n + 2 A21_leb1@int_slack@0*A21_leb1@int_slack@1 + A21_leb1@int_slack@1^2\n + A22_leb0@int_slack@0^2 + 4 A22_leb0@int_slack@0*A22_leb0@int_slack@1\n + 2 A22_leb0@int_slack@0*A22_leb0@int_slack@2 + 4 A22_leb0@int_slack@1^2\n + 4 A22_leb0@int_slack@1*A22_leb0@int_slack@2 + A22_leb0@int_slack@2^2\n + A22_leb1@int_slack@0^2 + A23_leb0@int_slack@0^2\n + 4 A23_leb0@int_slack@0*A23_leb0@int_slack@1\n + 6 A23_leb0@int_slack@0*A23_leb0@int_slack@2 + 4 A23_leb0@int_slack@1^2\n + 12 A23_leb0@int_slack@1*A23_leb0@int_slack@2 + 9 A23_leb0@int_slack@2^2\n + A23_leb1@int_slack@0^2 + 4 A23_leb1@int_slack@0*A23_leb1@int_slack@1\n + 8 A23_leb1@int_slack@0*A23_leb1@int_slack@2\n + 6 A23_leb1@int_slack@0*A23_leb1@int_slack@3 + 4 A23_leb1@int_slack@1^2\n + 16 A23_leb1@int_slack@1*A23_leb1@int_slack@2\n + 12 A23_leb1@int_slack@1*A23_leb1@int_slack@3 + 16 A23_leb1@int_slack@2^2\n + 24 A23_leb1@int_slack@2*A23_leb1@int_slack@3 + 9 A23_leb1@int_slack@3^2\n + A24_leb0@int_slack@0^2 + 4 A24_leb0@int_slack@0*A24_leb0@int_slack@1\n + 4 A24_leb0@int_slack@1^2 + A24_leb1@int_slack@0^2\n + 4 A24_leb1@int_slack@0*A24_leb1@int_slack@1\n + 8 A24_leb1@int_slack@0*A24_leb1@int_slack@2\n + 2 A24_leb1@int_slack@0*A24_leb1@int_slack@3 + 4 A24_leb1@int_slack@1^2\n + 16 A24_leb1@int_slack@1*A24_leb1@int_slack@2\n + 4 A24_leb1@int_slack@1*A24_leb1@int_slack@3 + 16 A24_leb1@int_slack@2^2\n + 8 A24_leb1@int_slack@2*A24_leb1@int_slack@3 + A24_leb1@int_slack@3^2\n + A25_leb0@int_slack@0^2 + 4 A25_leb0@int_slack@0*A25_leb0@int_slack@1\n + 4 A25_leb0@int_slack@0*A25_leb0@int_slack@2 + 4 A25_leb0@int_slack@1^2\n + 8 A25_leb0@int_slack@1*A25_leb0@int_slack@2 + 4 A25_leb0@int_slack@2^2\n + A25_leb1@int_slack@0^2 + A26_leb0@int_slack@0^2\n + 4 A26_leb0@int_slack@0*A26_leb0@int_slack@1\n + 2 A26_leb0@int_slack@0*A26_leb0@int_slack@2 + 4 A26_leb0@int_slack@1^2\n + 4 A26_leb0@int_slack@1*A26_leb0@int_slack@2 + A26_leb0@int_slack@2^2\n + A26_leb1@int_slack@0^2 + 4 A26_leb1@int_slack@0*A26_leb1@int_slack@1\n + 2 A26_leb1@int_slack@0*A26_leb1@int_slack@2 + 4 A26_leb1@int_slack@1^2\n + 4 A26_leb1@int_slack@1*A26_leb1@int_slack@2 + A26_leb1@int_slack@2^2\n + A27_leb0@int_slack@0^2 + A27_leb1@int_slack@0^2\n + 4 A27_leb1@int_slack@0*A27_leb1@int_slack@1\n + 8 A27_leb1@int_slack@0*A27_leb1@int_slack@2\n + 4 A27_leb1@int_slack@0*A27_leb1@int_slack@3 + 4 A27_leb1@int_slack@1^2\n + 16 A27_leb1@int_slack@1*A27_leb1@int_slack@2\n + 8 A27_leb1@int_slack@1*A27_leb1@int_slack@3 + 16 A27_leb1@int_slack@2^2\n + 16 A27_leb1@int_slack@2*A27_leb1@int_slack@3 + 4 A27_leb1@int_slack@3^2\n + A28_leb0@int_slack@0^2 + 4 A28_leb0@int_slack@0*A28_leb0@int_slack@1\n + 8 A28_leb0@int_slack@0*A28_leb0@int_slack@2 + 4 A28_leb0@int_slack@1^2\n + 16 A28_leb0@int_slack@1*A28_leb0@int_slack@2 + 16 A28_leb0@int_slack@2^2\n + A28_leb1@int_slack@0^2 + 2 A28_leb1@int_slack@0*A28_leb1@int_slack@1\n + A28_leb1@int_slack@1^2 + A29_leb0@int_slack@0^2\n + 4 A29_leb0@int_slack@0*A29_leb0@int_slack@1\n + 2 A29_leb0@int_slack@0*A29_leb0@int_slack@2 + 4 A29_leb0@int_slack@1^2\n + 4 A29_leb0@int_slack@1*A29_leb0@int_slack@2 + A29_leb0@int_slack@2^2\n + A29_leb1@int_slack@0^2 + 4 A29_leb1@int_slack@0*A29_leb1@int_slack@1\n + 4 A29_leb1@int_slack@1^2 + A30_leb0@int_slack@0^2\n + 4 A30_leb0@int_slack@0*A30_leb0@int_slack@1 + 4 A30_leb0@int_slack@1^2\n + A30_leb1@int_slack@0^2 + 4 A30_leb1@int_slack@0*A30_leb1@int_slack@1\n + 4 A30_leb1@int_slack@1^2 + A31_leb0@int_slack@0^2\n + 4 A31_leb0@int_slack@0*A31_leb0@int_slack@1\n + 2 A31_leb0@int_slack@0*A31_leb0@int_slack@2 + 4 A31_leb0@int_slack@1^2\n + 4 A31_leb0@int_slack@1*A31_leb0@int_slack@2 + A31_leb0@int_slack@2^2\n + A31_leb1@int_slack@0^2 + 2 A31_leb1@int_slack@0*A31_leb1@int_slack@1\n + A31_leb1@int_slack@1^2 + A32_leb0@int_slack@0^2\n + 4 A32_leb0@int_slack@0*A32_leb0@int_slack@1\n + 6 A32_leb0@int_slack@0*A32_leb0@int_slack@2 + 4 A32_leb0@int_slack@1^2\n + 12 A32_leb0@int_slack@1*A32_leb0@int_slack@2 + 9 A32_leb0@int_slack@2^2\n + A32_leb1@int_slack@0^2 + 4 A32_leb1@int_slack@0*A32_leb1@int_slack@1\n + 4 A32_leb1@int_slack@0*A32_leb1@int_slack@2 + 4 A32_leb1@int_slack@1^2\n + 8 A32_leb1@int_slack@1*A32_leb1@int_slack@2 + 4 A32_leb1@int_slack@2^2\n + A33_leb0@int_slack@0^2 + 4 A33_leb0@int_slack@0*A33_leb0@int_slack@1\n + 4 A33_leb0@int_slack@1^2 + A33_leb1@int_slack@0^2\n + 4 A33_leb1@int_slack@0*A33_leb1@int_slack@1\n + 4 A33_leb1@int_slack@0*A33_leb1@int_slack@2 + 4 A33_leb1@int_slack@1^2\n + 8 A33_leb1@int_slack@1*A33_leb1@int_slack@2 + 4 A33_leb1@int_slack@2^2\n + A34_leb0@int_slack@0^2 + 4 A34_leb0@int_slack@0*A34_leb0@int_slack@1\n + 2 A34_leb0@int_slack@0*A34_leb0@int_slack@2 + 4 A34_leb0@int_slack@1^2\n + 4 A34_leb0@int_slack@1*A34_leb0@int_slack@2 + A34_leb0@int_slack@2^2\n + A34_leb1@int_slack@0^2 + 2 A34_leb1@int_slack@0*A34_leb1@int_slack@1\n + A34_leb1@int_slack@1^2 + A35_leb0@int_slack@0^2\n + 2 A35_leb0@int_slack@0*A35_leb0@int_slack@1 + A35_leb0@int_slack@1^2\n + A35_leb1@int_slack@0^2 + 4 A35_leb1@int_slack@0*A35_leb1@int_slack@1\n + 6 A35_leb1@int_slack@0*A35_leb1@int_slack@2 + 4 A35_leb1@int_slack@1^2\n + 12 A35_leb1@int_slack@1*A35_leb1@int_slack@2 + 9 A35_leb1@int_slack@2^2\n + A36_leb0@int_slack@0^2 + 4 A36_leb0@int_slack@0*A36_leb0@int_slack@1\n + 8 A36_leb0@int_slack@0*A36_leb0@int_slack@2\n + 2 A36_leb0@int_slack@0*A36_leb0@int_slack@3 + 4 A36_leb0@int_slack@1^2\n + 16 A36_leb0@int_slack@1*A36_leb0@int_slack@2\n + 4 A36_leb0@int_slack@1*A36_leb0@int_slack@3 + 16 A36_leb0@int_slack@2^2\n + 8 A36_leb0@int_slack@2*A36_leb0@int_slack@3 + A36_leb0@int_slack@3^2\n + A36_leb1@int_slack@0^2 + 4 A36_leb1@int_slack@0*A36_leb1@int_slack@1\n + 2 A36_leb1@int_slack@0*A36_leb1@int_slack@2 + 4 A36_leb1@int_slack@1^2\n + 4 A36_leb1@int_slack@1*A36_leb1@int_slack@2 + A36_leb1@int_slack@2^2\n + A37_leb0@int_slack@0^2 + 4 A37_leb0@int_slack@0*A37_leb0@int_slack@1\n + 2 A37_leb0@int_slack@0*A37_leb0@int_slack@2 + 4 A37_leb0@int_slack@1^2\n + 4 A37_leb0@int_slack@1*A37_leb0@int_slack@2 + A37_leb0@int_slack@2^2\n + A37_leb1@int_slack@0^2 + 4 A37_leb1@int_slack@0*A37_leb1@int_slack@1\n + 2 A37_leb1@int_slack@0*A37_leb1@int_slack@2 + 4 A37_leb1@int_slack@1^2\n + 4 A37_leb1@int_slack@1*A37_leb1@int_slack@2 + A37_leb1@int_slack@2^2 ] +\n 542;\n \nsubject to {\n\n}\n"
     ]
    }
   ],
   "source": [
    "lp_bin.qubo.to_docplex().prettyprint()"
   ]
  },
  {
   "cell_type": "code",
   "execution_count": 6,
   "metadata": {},
   "outputs": [
    {
     "output_type": "execute_result",
     "data": {
      "text/plain": [
       "300"
      ]
     },
     "metadata": {},
     "execution_count": 6
    }
   ],
   "source": [
    "lp_bin.complexity()"
   ]
  },
  {
   "cell_type": "code",
   "execution_count": null,
   "metadata": {},
   "outputs": [],
   "source": []
  }
 ],
 "metadata": {
  "kernelspec": {
   "display_name": "Python 3",
   "language": "python",
   "name": "python3"
  },
  "language_info": {
   "codemirror_mode": {
    "name": "ipython",
    "version": 3
   },
   "file_extension": ".py",
   "mimetype": "text/x-python",
   "name": "python",
   "nbconvert_exporter": "python",
   "pygments_lexer": "ipython3",
   "version": "3.8.8-final"
  }
 },
 "nbformat": 4,
 "nbformat_minor": 4
}