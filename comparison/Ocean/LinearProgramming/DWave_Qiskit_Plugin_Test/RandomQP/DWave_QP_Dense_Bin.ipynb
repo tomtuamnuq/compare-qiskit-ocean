{
 "cells": [
  {
   "cell_type": "code",
   "execution_count": 1,
   "metadata": {},
   "outputs": [],
   "source": [
    "from collections import OrderedDict\n",
    "import time\n",
    "import os\n",
    "import logging, warnings\n",
    "\n",
    "from qiskit.optimization.algorithms import CplexOptimizer\n",
    "from qiskit.optimization.algorithms.optimization_algorithm import OptimizationResultStatus\n",
    "\n",
    "from dwave.system import DWaveCliqueSampler, LeapHybridSampler\n",
    "\n",
    "from random_lp.lp_random_gen import create_models\n",
    "from utilities.helpers import create_dwave_meo"
   ]
  },
  {
   "cell_type": "code",
   "execution_count": 2,
   "metadata": {},
   "outputs": [
    {
     "output_type": "execute_result",
     "data": {
      "text/plain": [
       "'TEST_DATA/28_03_2021/DENSE/'"
      ]
     },
     "metadata": {},
     "execution_count": 2
    }
   ],
   "source": [
    "TEST_DIR = 'TEST_DATA' + \"/\" + time.strftime(\"%d_%m_%Y\") + \"/DENSE/\"\n",
    "RES_DIR = 'RESULTS' + \"/\" + time.strftime(\"%d_%m_%Y\") + \"/DENSE/\"\n",
    "os.makedirs(RES_DIR, exist_ok=True)\n",
    "TEST_DIR"
   ]
  },
  {
   "cell_type": "code",
   "execution_count": 3,
   "metadata": {},
   "outputs": [],
   "source": [
    "logger = logging.getLogger()\n",
    "logger.setLevel(logging.INFO)\n",
    "warnings.filterwarnings(\"ignore\", category=DeprecationWarning)"
   ]
  },
  {
   "cell_type": "code",
   "execution_count": 4,
   "metadata": {},
   "outputs": [],
   "source": [
    "qps = create_models(TEST_DIR)"
   ]
  },
  {
   "cell_type": "code",
   "execution_count": 5,
   "metadata": {},
   "outputs": [
    {
     "output_type": "stream",
     "name": "stderr",
     "text": [
      "2021-03-28 15:24:00,699 dwave.cloud.client INFO MainThread Fetching definitions of all available solvers\n",
      "2021-03-28 15:24:05,832 dwave.cloud.client INFO MainThread Adding solver BQMSolver(id='hybrid_binary_quadratic_model_version2')\n",
      "2021-03-28 15:24:05,834 dwave.cloud.client INFO MainThread Adding solver DQMSolver(id='hybrid_discrete_quadratic_model_version1')\n",
      "2021-03-28 15:24:06,329 dwave.cloud.client INFO MainThread Fetching definitions of all available solvers\n",
      "2021-03-28 15:24:08,920 dwave.cloud.client INFO MainThread Adding solver StructuredSolver(id='DW_2000Q_6')\n",
      "2021-03-28 15:24:09,039 dwave.cloud.client INFO MainThread Adding solver StructuredSolver(id='Advantage_system1.1')\n",
      "2021-03-28 15:24:09,675 dwave.cloud.client INFO MainThread Fetching definitions of all available solvers\n",
      "2021-03-28 15:24:14,468 dwave.cloud.client INFO MainThread Adding solver StructuredSolver(id='DW_2000Q_6')\n",
      "2021-03-28 15:24:14,625 dwave.cloud.client INFO MainThread Adding solver StructuredSolver(id='Advantage_system1.1')\n"
     ]
    }
   ],
   "source": [
    "# init Optimizers\n",
    "cplex = CplexOptimizer()\n",
    "hybrid = create_dwave_meo(LeapHybridSampler())\n",
    "clique = create_dwave_meo(DWaveCliqueSampler(), num_reads=4096)\n",
    "dwave_auto = create_dwave_meo(num_reads=4096)"
   ]
  },
  {
   "cell_type": "code",
   "execution_count": 6,
   "metadata": {},
   "outputs": [
    {
     "output_type": "stream",
     "name": "stdout",
     "text": [
      "test_dense_10\n",
      "number of qubits:  25\n",
      "Leap successful!\n",
      "Dwave Quantum successful!\n",
      "\n",
      " optimal value Dwave quantum -9.0  ,  cplex:-11.0\n",
      "test_dense_15\n",
      "number of qubits:  36\n",
      "Leap successful!\n",
      "\n",
      " optimal value Leap   -16.0  ,  cplex:-18.0\n",
      "Dwave Quantum successful!\n",
      "\n",
      " optimal value Dwave quantum -5.0  ,  cplex:-18.0\n",
      "test_dense_20\n",
      "number of qubits:  55\n",
      "Leap successful!\n",
      "\n",
      " optimal value Leap   -17.0  ,  cplex:-22.0\n",
      "Dwave quantum solver found no solution.\n",
      "test_dense_25\n",
      "number of qubits:  72\n",
      "Leap successful!\n",
      "\n",
      " optimal value Leap   -23.0  ,  cplex:-39.0\n",
      "Dwave quantum solver found no solution.\n",
      "test_dense_30\n",
      "number of qubits:  90\n",
      "Leap successful!\n",
      "\n",
      " optimal value Leap   -26.0  ,  cplex:-47.0\n",
      "Dwave quantum solver found no solution.\n",
      "test_dense_35\n",
      "number of qubits:  102\n",
      "Leap successful!\n",
      "\n",
      " optimal value Leap   -19.0  ,  cplex:-41.0\n",
      "test_dense_45\n",
      "number of qubits:  145\n",
      "Leap successful!\n",
      "\n",
      " optimal value Leap   -38.0  ,  cplex:-69.0\n",
      "test_dense_55\n",
      "number of qubits:  185\n",
      "Leap successful!\n",
      "\n",
      " optimal value Leap   -28.0  ,  cplex:-104.0\n",
      "test_dense_65\n",
      "number of qubits:  225\n"
     ]
    },
    {
     "output_type": "error",
     "ename": "KeyboardInterrupt",
     "evalue": "",
     "traceback": [
      "\u001b[0;31m---------------------------------------------------------------------------\u001b[0m",
      "\u001b[0;31mKeyboardInterrupt\u001b[0m                         Traceback (most recent call last)",
      "\u001b[0;32m<ipython-input-6-4d48a05f5b85>\u001b[0m in \u001b[0;36m<module>\u001b[0;34m\u001b[0m\n\u001b[1;32m     24\u001b[0m         \u001b[0mres_classic\u001b[0m \u001b[0;34m=\u001b[0m \u001b[0mcplex\u001b[0m\u001b[0;34m.\u001b[0m\u001b[0msolve\u001b[0m\u001b[0;34m(\u001b[0m\u001b[0mqp\u001b[0m\u001b[0;34m)\u001b[0m\u001b[0;34m\u001b[0m\u001b[0;34m\u001b[0m\u001b[0m\n\u001b[1;32m     25\u001b[0m \u001b[0;34m\u001b[0m\u001b[0m\n\u001b[0;32m---> 26\u001b[0;31m         \u001b[0mres_hybrid\u001b[0m \u001b[0;34m=\u001b[0m \u001b[0mhybrid\u001b[0m\u001b[0;34m.\u001b[0m\u001b[0msolve\u001b[0m\u001b[0;34m(\u001b[0m\u001b[0mqp\u001b[0m\u001b[0;34m)\u001b[0m\u001b[0;34m\u001b[0m\u001b[0;34m\u001b[0m\u001b[0m\n\u001b[0m\u001b[1;32m     27\u001b[0m         \u001b[0mlogger\u001b[0m\u001b[0;34m.\u001b[0m\u001b[0minfo\u001b[0m\u001b[0;34m(\u001b[0m\u001b[0mstr\u001b[0m\u001b[0;34m(\u001b[0m\u001b[0mres_hybrid\u001b[0m\u001b[0;34m.\u001b[0m\u001b[0mmin_eigen_solver_result\u001b[0m\u001b[0;34m.\u001b[0m\u001b[0msampleset\u001b[0m\u001b[0;34m.\u001b[0m\u001b[0minfo\u001b[0m\u001b[0;34m)\u001b[0m\u001b[0;34m)\u001b[0m\u001b[0;34m\u001b[0m\u001b[0;34m\u001b[0m\u001b[0m\n\u001b[1;32m     28\u001b[0m         \u001b[0;32mif\u001b[0m \u001b[0mres_hybrid\u001b[0m\u001b[0;34m.\u001b[0m\u001b[0mstatus\u001b[0m \u001b[0;34m!=\u001b[0m \u001b[0mOptimizationResultStatus\u001b[0m\u001b[0;34m.\u001b[0m\u001b[0mSUCCESS\u001b[0m\u001b[0;34m:\u001b[0m\u001b[0;34m\u001b[0m\u001b[0;34m\u001b[0m\u001b[0m\n",
      "\u001b[0;32m~/Bachelorarbeit/GitHub/qiskit-aqua/qiskit/optimization/algorithms/minimum_eigen_optimizer.py\u001b[0m in \u001b[0;36msolve\u001b[0;34m(self, problem)\u001b[0m\n\u001b[1;32m    186\u001b[0m \u001b[0;34m\u001b[0m\u001b[0m\n\u001b[1;32m    187\u001b[0m         \u001b[0;31m# construct operator and offset\u001b[0m\u001b[0;34m\u001b[0m\u001b[0;34m\u001b[0m\u001b[0;34m\u001b[0m\u001b[0m\n\u001b[0;32m--> 188\u001b[0;31m         \u001b[0moperator\u001b[0m\u001b[0;34m,\u001b[0m \u001b[0moffset\u001b[0m \u001b[0;34m=\u001b[0m \u001b[0mproblem_\u001b[0m\u001b[0;34m.\u001b[0m\u001b[0mto_ising\u001b[0m\u001b[0;34m(\u001b[0m\u001b[0;34m)\u001b[0m\u001b[0;34m\u001b[0m\u001b[0;34m\u001b[0m\u001b[0m\n\u001b[0m\u001b[1;32m    189\u001b[0m \u001b[0;34m\u001b[0m\u001b[0m\n\u001b[1;32m    190\u001b[0m         \u001b[0;31m# only try to solve non-empty Ising Hamiltonians\u001b[0m\u001b[0;34m\u001b[0m\u001b[0;34m\u001b[0m\u001b[0;34m\u001b[0m\u001b[0m\n",
      "\u001b[0;32m~/Bachelorarbeit/GitHub/qiskit-aqua/qiskit/optimization/problems/quadratic_program.py\u001b[0m in \u001b[0;36mto_ising\u001b[0;34m(self)\u001b[0m\n\u001b[1;32m   1254\u001b[0m         \u001b[0;31m# appropriate size\u001b[0m\u001b[0;34m\u001b[0m\u001b[0;34m\u001b[0m\u001b[0;34m\u001b[0m\u001b[0m\n\u001b[1;32m   1255\u001b[0m         \u001b[0;32mif\u001b[0m \u001b[0misinstance\u001b[0m\u001b[0;34m(\u001b[0m\u001b[0mqubit_op\u001b[0m\u001b[0;34m,\u001b[0m \u001b[0mOperatorBase\u001b[0m\u001b[0;34m)\u001b[0m\u001b[0;34m:\u001b[0m\u001b[0;34m\u001b[0m\u001b[0;34m\u001b[0m\u001b[0m\n\u001b[0;32m-> 1256\u001b[0;31m             \u001b[0mqubit_op\u001b[0m \u001b[0;34m=\u001b[0m \u001b[0mqubit_op\u001b[0m\u001b[0;34m.\u001b[0m\u001b[0mreduce\u001b[0m\u001b[0;34m(\u001b[0m\u001b[0;34m)\u001b[0m\u001b[0;34m\u001b[0m\u001b[0;34m\u001b[0m\u001b[0m\n\u001b[0m\u001b[1;32m   1257\u001b[0m         \u001b[0;32melse\u001b[0m\u001b[0;34m:\u001b[0m\u001b[0;34m\u001b[0m\u001b[0;34m\u001b[0m\u001b[0m\n\u001b[1;32m   1258\u001b[0m             \u001b[0mqubit_op\u001b[0m \u001b[0;34m=\u001b[0m \u001b[0mI\u001b[0m \u001b[0;34m^\u001b[0m \u001b[0mnum_nodes\u001b[0m\u001b[0;34m\u001b[0m\u001b[0;34m\u001b[0m\u001b[0m\n",
      "\u001b[0;32m~/Bachelorarbeit/GitHub/qiskit-aqua/qiskit/aqua/operators/list_ops/summed_op.py\u001b[0m in \u001b[0;36mreduce\u001b[0;34m(self)\u001b[0m\n\u001b[1;32m    126\u001b[0m         \u001b[0;31m# group duplicate operators\u001b[0m\u001b[0;34m\u001b[0m\u001b[0;34m\u001b[0m\u001b[0;34m\u001b[0m\u001b[0m\n\u001b[1;32m    127\u001b[0m         \u001b[0;32mif\u001b[0m \u001b[0misinstance\u001b[0m\u001b[0;34m(\u001b[0m\u001b[0mreduced_ops\u001b[0m\u001b[0;34m,\u001b[0m \u001b[0mSummedOp\u001b[0m\u001b[0;34m)\u001b[0m\u001b[0;34m:\u001b[0m\u001b[0;34m\u001b[0m\u001b[0;34m\u001b[0m\u001b[0m\n\u001b[0;32m--> 128\u001b[0;31m             \u001b[0mreduced_ops\u001b[0m \u001b[0;34m=\u001b[0m \u001b[0mreduced_ops\u001b[0m\u001b[0;34m.\u001b[0m\u001b[0mcollapse_summands\u001b[0m\u001b[0;34m(\u001b[0m\u001b[0;34m)\u001b[0m\u001b[0;34m\u001b[0m\u001b[0;34m\u001b[0m\u001b[0m\n\u001b[0m\u001b[1;32m    129\u001b[0m \u001b[0;34m\u001b[0m\u001b[0m\n\u001b[1;32m    130\u001b[0m         \u001b[0;32mif\u001b[0m \u001b[0misinstance\u001b[0m\u001b[0;34m(\u001b[0m\u001b[0mreduced_ops\u001b[0m\u001b[0;34m,\u001b[0m \u001b[0mSummedOp\u001b[0m\u001b[0;34m)\u001b[0m \u001b[0;32mand\u001b[0m \u001b[0mlen\u001b[0m\u001b[0;34m(\u001b[0m\u001b[0mreduced_ops\u001b[0m\u001b[0;34m.\u001b[0m\u001b[0moplist\u001b[0m\u001b[0;34m)\u001b[0m \u001b[0;34m==\u001b[0m \u001b[0;36m1\u001b[0m\u001b[0;34m:\u001b[0m\u001b[0;34m\u001b[0m\u001b[0;34m\u001b[0m\u001b[0m\n",
      "\u001b[0;32m~/Bachelorarbeit/GitHub/qiskit-aqua/qiskit/aqua/operators/list_ops/summed_op.py\u001b[0m in \u001b[0;36mcollapse_summands\u001b[0;34m(self)\u001b[0m\n\u001b[1;32m     96\u001b[0m                 \u001b[0mnew_op\u001b[0m \u001b[0;34m=\u001b[0m \u001b[0mPrimitiveOp\u001b[0m\u001b[0;34m(\u001b[0m\u001b[0mop\u001b[0m\u001b[0;34m.\u001b[0m\u001b[0mprimitive\u001b[0m\u001b[0;34m)\u001b[0m\u001b[0;34m\u001b[0m\u001b[0;34m\u001b[0m\u001b[0m\n\u001b[1;32m     97\u001b[0m                 \u001b[0mnew_coeff\u001b[0m \u001b[0;34m=\u001b[0m \u001b[0mop\u001b[0m\u001b[0;34m.\u001b[0m\u001b[0mcoeff\u001b[0m \u001b[0;34m*\u001b[0m \u001b[0mself\u001b[0m\u001b[0;34m.\u001b[0m\u001b[0mcoeff\u001b[0m\u001b[0;34m\u001b[0m\u001b[0;34m\u001b[0m\u001b[0m\n\u001b[0;32m---> 98\u001b[0;31m                 \u001b[0;32mif\u001b[0m \u001b[0mnew_op\u001b[0m \u001b[0;32min\u001b[0m \u001b[0moplist\u001b[0m\u001b[0;34m:\u001b[0m\u001b[0;34m\u001b[0m\u001b[0;34m\u001b[0m\u001b[0m\n\u001b[0m\u001b[1;32m     99\u001b[0m                     \u001b[0mindex\u001b[0m \u001b[0;34m=\u001b[0m \u001b[0moplist\u001b[0m\u001b[0;34m.\u001b[0m\u001b[0mindex\u001b[0m\u001b[0;34m(\u001b[0m\u001b[0mnew_op\u001b[0m\u001b[0;34m)\u001b[0m\u001b[0;34m\u001b[0m\u001b[0;34m\u001b[0m\u001b[0m\n\u001b[1;32m    100\u001b[0m                     \u001b[0mcoeffs\u001b[0m\u001b[0;34m[\u001b[0m\u001b[0mindex\u001b[0m\u001b[0;34m]\u001b[0m \u001b[0;34m+=\u001b[0m \u001b[0mnew_coeff\u001b[0m\u001b[0;34m\u001b[0m\u001b[0;34m\u001b[0m\u001b[0m\n",
      "\u001b[0;32m~/Bachelorarbeit/GitHub/qiskit-aqua/qiskit/aqua/operators/operator_base.py\u001b[0m in \u001b[0;36m__eq__\u001b[0;34m(self, other)\u001b[0m\n\u001b[1;32m    280\u001b[0m         \u001b[0;32mif\u001b[0m \u001b[0;32mnot\u001b[0m \u001b[0misinstance\u001b[0m\u001b[0;34m(\u001b[0m\u001b[0mother\u001b[0m\u001b[0;34m,\u001b[0m \u001b[0mOperatorBase\u001b[0m\u001b[0;34m)\u001b[0m\u001b[0;34m:\u001b[0m\u001b[0;34m\u001b[0m\u001b[0;34m\u001b[0m\u001b[0m\n\u001b[1;32m    281\u001b[0m             \u001b[0;32mreturn\u001b[0m \u001b[0mNotImplemented\u001b[0m\u001b[0;34m\u001b[0m\u001b[0;34m\u001b[0m\u001b[0m\n\u001b[0;32m--> 282\u001b[0;31m         \u001b[0;32mreturn\u001b[0m \u001b[0mself\u001b[0m\u001b[0;34m.\u001b[0m\u001b[0mequals\u001b[0m\u001b[0;34m(\u001b[0m\u001b[0mcast\u001b[0m\u001b[0;34m(\u001b[0m\u001b[0mOperatorBase\u001b[0m\u001b[0;34m,\u001b[0m \u001b[0mother\u001b[0m\u001b[0;34m)\u001b[0m\u001b[0;34m)\u001b[0m\u001b[0;34m\u001b[0m\u001b[0;34m\u001b[0m\u001b[0m\n\u001b[0m\u001b[1;32m    283\u001b[0m \u001b[0;34m\u001b[0m\u001b[0m\n\u001b[1;32m    284\u001b[0m     \u001b[0;34m@\u001b[0m\u001b[0mabstractmethod\u001b[0m\u001b[0;34m\u001b[0m\u001b[0;34m\u001b[0m\u001b[0m\n",
      "\u001b[0;32m~/Bachelorarbeit/GitHub/qiskit-aqua/qiskit/aqua/operators/primitive_ops/pauli_op.py\u001b[0m in \u001b[0;36mequals\u001b[0;34m(self, other)\u001b[0m\n\u001b[1;32m     80\u001b[0m             \u001b[0;32mreturn\u001b[0m \u001b[0;32mFalse\u001b[0m\u001b[0;34m\u001b[0m\u001b[0;34m\u001b[0m\u001b[0m\n\u001b[1;32m     81\u001b[0m \u001b[0;34m\u001b[0m\u001b[0m\n\u001b[0;32m---> 82\u001b[0;31m         \u001b[0;32mreturn\u001b[0m \u001b[0mself\u001b[0m\u001b[0;34m.\u001b[0m\u001b[0mprimitive\u001b[0m \u001b[0;34m==\u001b[0m \u001b[0mother\u001b[0m\u001b[0;34m.\u001b[0m\u001b[0mprimitive\u001b[0m\u001b[0;34m\u001b[0m\u001b[0;34m\u001b[0m\u001b[0m\n\u001b[0m\u001b[1;32m     83\u001b[0m \u001b[0;34m\u001b[0m\u001b[0m\n\u001b[1;32m     84\u001b[0m     \u001b[0;32mdef\u001b[0m \u001b[0m_expand_dim\u001b[0m\u001b[0;34m(\u001b[0m\u001b[0mself\u001b[0m\u001b[0;34m,\u001b[0m \u001b[0mnum_qubits\u001b[0m\u001b[0;34m:\u001b[0m \u001b[0mint\u001b[0m\u001b[0;34m)\u001b[0m \u001b[0;34m->\u001b[0m \u001b[0;34m'PauliOp'\u001b[0m\u001b[0;34m:\u001b[0m\u001b[0;34m\u001b[0m\u001b[0;34m\u001b[0m\u001b[0m\n",
      "\u001b[0;32m~/Bachelorarbeit/GitHub/qiskit-terra/qiskit/quantum_info/operators/symplectic/pauli.py\u001b[0m in \u001b[0;36m__eq__\u001b[0;34m(self, other)\u001b[0m\n\u001b[1;32m    228\u001b[0m             \u001b[0;32mreturn\u001b[0m \u001b[0;32mFalse\u001b[0m\u001b[0;34m\u001b[0m\u001b[0;34m\u001b[0m\u001b[0m\n\u001b[1;32m    229\u001b[0m         return (len(self) == len(other)\n\u001b[0;32m--> 230\u001b[0;31m                 \u001b[0;32mand\u001b[0m \u001b[0mnp\u001b[0m\u001b[0;34m.\u001b[0m\u001b[0mall\u001b[0m\u001b[0;34m(\u001b[0m\u001b[0mnp\u001b[0m\u001b[0;34m.\u001b[0m\u001b[0mmod\u001b[0m\u001b[0;34m(\u001b[0m\u001b[0mself\u001b[0m\u001b[0;34m.\u001b[0m\u001b[0m_phase\u001b[0m\u001b[0;34m,\u001b[0m \u001b[0;36m4\u001b[0m\u001b[0;34m)\u001b[0m \u001b[0;34m==\u001b[0m \u001b[0mnp\u001b[0m\u001b[0;34m.\u001b[0m\u001b[0mmod\u001b[0m\u001b[0;34m(\u001b[0m\u001b[0mother\u001b[0m\u001b[0;34m.\u001b[0m\u001b[0m_phase\u001b[0m\u001b[0;34m,\u001b[0m \u001b[0;36m4\u001b[0m\u001b[0;34m)\u001b[0m\u001b[0;34m)\u001b[0m\u001b[0;34m\u001b[0m\u001b[0;34m\u001b[0m\u001b[0m\n\u001b[0m\u001b[1;32m    231\u001b[0m                 \u001b[0;32mand\u001b[0m \u001b[0mnp\u001b[0m\u001b[0;34m.\u001b[0m\u001b[0mall\u001b[0m\u001b[0;34m(\u001b[0m\u001b[0mself\u001b[0m\u001b[0;34m.\u001b[0m\u001b[0m_z\u001b[0m \u001b[0;34m==\u001b[0m \u001b[0mother\u001b[0m\u001b[0;34m.\u001b[0m\u001b[0m_z\u001b[0m\u001b[0;34m)\u001b[0m\u001b[0;34m\u001b[0m\u001b[0;34m\u001b[0m\u001b[0m\n\u001b[1;32m    232\u001b[0m                 and np.all(self._x == other._x))\n",
      "\u001b[0;31mKeyboardInterrupt\u001b[0m: "
     ]
    }
   ],
   "source": [
    "results = OrderedDict()\n",
    "count_fail_hybrid, count_fail_dwave = 0, 0\n",
    "\n",
    "for qp_name, qp in qps.items() :\n",
    "    \n",
    "    print(qp_name)\n",
    "    print(\"number of qubits: \", qp.qubo.get_num_vars())\n",
    "    output_file_handler = logging.FileHandler(filename=RES_DIR + qp.name + \".log\")\n",
    "    logger.addHandler(output_file_handler)\n",
    "\n",
    "    # set problem labels\n",
    "    for solver, label in zip([hybrid, clique, dwave_auto], [\"hybrid_\", \"clique_\", \"auto_emb_\"]):\n",
    "        solver.min_eigen_solver.sampler.set_label(label + qp_name + \"_\" + str(qp.complexity()))\n",
    "\n",
    "    if qp.qubo.get_num_vars() > clique.min_eigen_solver.sampler.child.largest_clique_size:\n",
    "        dwave = dwave_auto\n",
    "    else:\n",
    "        dwave = clique\n",
    "\n",
    "    with open(RES_DIR + qp.name + '.res', 'w') as file:\n",
    "        file.write(str(\"Start \" + qp.name + \"\\n \" + str(qp.qubo.get_num_vars()) + \" qubits needed\"))  \n",
    "        file.write(\"\\n Leap: \\n\")\n",
    "        logger.info(\"\\n Leap: \\n \")\n",
    "        res_classic = cplex.solve(qp)\n",
    "        \n",
    "        res_hybrid = hybrid.solve(qp)\n",
    "        logger.info(str(res_hybrid.min_eigen_solver_result.sampleset.info))\n",
    "        if res_hybrid.status != OptimizationResultStatus.SUCCESS:\n",
    "            file.write(\"No solution found with DWave Hybrid Sampler Leap.\")\n",
    "            file.write(\"\\n CPLEX:\\n\")\n",
    "            file.write(str(res_classic))\n",
    "            count_fail_hybrid = count_fail_hybrid + 1\n",
    "            if count_fail_hybrid > 2 :\n",
    "                break\n",
    "        else:\n",
    "            print(\"Leap successful!\")\n",
    "            count_fail_hybrid = 0\n",
    "            if res_hybrid.fval == res_classic.fval:\n",
    "                file.write(\"\\n Leap found optimal solution\\n\")\n",
    "\n",
    "            else:\n",
    "                print(\"\\n optimal value Leap   \"+str(res_hybrid.fval) + \"  ,  cplex:\"+ str(res_classic.fval))\n",
    "                file.write(\"\\n Leap: \\n\")\n",
    "                file.write(str(res_hybrid))\n",
    "                file.write(\"\\n CPLEX:\\n\")\n",
    "                file.write(str(res_classic))\n",
    "            if count_fail_dwave <= 2:\n",
    "                file.write(\"\\n DWave Quantum: \\n\")\n",
    "                logger.info(\"\\n DWave Quantum: \\n \")\n",
    "                try:\n",
    "                    \n",
    "                    res_quantum = dwave.solve(qp)\n",
    "                    problem_id = str(res_quantum.min_eigen_solver_result.sampleset.info['problem_id'])\n",
    "                    logger.info(\"\\n problem id \" + problem_id)\n",
    "                    file.write(\"\\n problem id: \" + problem_id)\n",
    "                    \n",
    "                    if res_quantum.status != OptimizationResultStatus.SUCCESS:\n",
    "                        print(\"Dwave quantum solver found no solution.\")\n",
    "                        file.write(\"\\n No solution found with DWave Quantum Solver \\n\")\n",
    "                        count_fail_dwave = count_fail_dwave + 1\n",
    "                        if count_fail_dwave == 3:\n",
    "                            file.write(\"\\n Stop testing DWave Quantum Solver \\n\")\n",
    "                    else:\n",
    "                        print(\"Dwave Quantum successful!\")\n",
    "                        count_fail_dwave = 0\n",
    "                        if res_quantum.fval == res_classic.fval:\n",
    "                            file.write(\"\\n DWave quantum solver found optimal solution\\n\")\n",
    "                        else:\n",
    "                            print(\"\\n optimal value Dwave quantum \"+str(res_quantum.fval) + \"  ,  cplex:\"+ str(res_classic.fval))\n",
    "                            file.write(\"\\n DWave quantum solver:\\n\")\n",
    "                            file.write(str(res_quantum))\n",
    "                            file.write(\"\\n CPLEX:\\n\")\n",
    "                            file.write(str(res_classic))\n",
    "\n",
    "                except Exception as ex:\n",
    "                    print(qp_name, \" \", type(ex).__name__, \" : \", ex)\n",
    "                    file.write(\"\\n DWave Solver produced an exception:\\n\")\n",
    "                    file.write(str(ex))\n",
    "                \n",
    "    logger.removeHandler(output_file_handler)"
   ]
  },
  {
   "source": [
    "# test_dense_65 needed more than 90 minutes to calculate... aborted before submission to DWave Hybrid Leap"
   ],
   "cell_type": "markdown",
   "metadata": {}
  }
 ],
 "metadata": {
  "kernelspec": {
   "display_name": "Python 3",
   "language": "python",
   "name": "python3"
  },
  "language_info": {
   "codemirror_mode": {
    "name": "ipython",
    "version": 3
   },
   "file_extension": ".py",
   "mimetype": "text/x-python",
   "name": "python",
   "nbconvert_exporter": "python",
   "pygments_lexer": "ipython3",
   "version": "3.8.8-final"
  }
 },
 "nbformat": 4,
 "nbformat_minor": 4
}