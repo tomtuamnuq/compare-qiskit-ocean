{
 "cells": [
  {
   "cell_type": "code",
   "execution_count": 1,
   "metadata": {},
   "outputs": [
    {
     "output_type": "execute_result",
     "data": {
      "text/plain": [
       "'TEST_DATA/28_03_2021'"
      ]
     },
     "metadata": {},
     "execution_count": 1
    }
   ],
   "source": [
    "import os \n",
    "import shutil\n",
    "import time\n",
    "\n",
    "from random_lp.random_qp import RandomQP\n",
    "\n",
    "DIR = 'TEST_DATA' + \"/\" + time.strftime(\"%d_%m_%Y\")\n",
    "\n",
    "def getPath(filename = \"\", directory = \"\"):\n",
    "    return DIR + \"/\" + directory + \"/\" + filename\n",
    "\n",
    "DIR"
   ]
  },
  {
   "cell_type": "code",
   "execution_count": 2,
   "metadata": {},
   "outputs": [],
   "source": [
    "shutil.rmtree(getPath(directory = \"DENSE\"), ignore_errors=True)"
   ]
  },
  {
   "cell_type": "code",
   "execution_count": 3,
   "metadata": {},
   "outputs": [],
   "source": [
    "os.makedirs(getPath(directory = \"DENSE\"))"
   ]
  },
  {
   "cell_type": "code",
   "execution_count": 4,
   "metadata": {},
   "outputs": [
    {
     "output_type": "stream",
     "name": "stdout",
     "text": [
      "65\n"
     ]
    }
   ],
   "source": [
    "# create dense random binary quadratic Programs\n",
    "# start with 10 variables and 5 constraints\n",
    "max_qubits = 200\n",
    "var = 10\n",
    "while True:\n",
    "    cstr = int(var / 2)\n",
    "    qp_bin = RandomQP.create_random_binary_prog(\"test_dense_\" + str(var), cstr, var)              \n",
    "    qp_bin.write_to_lp_file(getPath(qp_bin.name, directory = \"DENSE\"))\n",
    "    if qp_bin.complexity() > max_qubits :\n",
    "        print(var)\n",
    "        break\n",
    "    if qp_bin.complexity() > 100 :\n",
    "        var = var + 10\n",
    "    else:\n",
    "        var = var + 5\n",
    "    "
   ]
  },
  {
   "cell_type": "code",
   "execution_count": null,
   "metadata": {},
   "outputs": [],
   "source": []
  }
 ],
 "metadata": {
  "kernelspec": {
   "display_name": "Python 3",
   "language": "python",
   "name": "python3"
  },
  "language_info": {
   "codemirror_mode": {
    "name": "ipython",
    "version": 3
   },
   "file_extension": ".py",
   "mimetype": "text/x-python",
   "name": "python",
   "nbconvert_exporter": "python",
   "pygments_lexer": "ipython3",
   "version": "3.8.8-final"
  }
 },
 "nbformat": 4,
 "nbformat_minor": 4
}