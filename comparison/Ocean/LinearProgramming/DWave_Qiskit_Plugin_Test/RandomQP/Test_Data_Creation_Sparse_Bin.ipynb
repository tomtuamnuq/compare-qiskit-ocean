{
 "cells": [
  {
   "cell_type": "code",
   "execution_count": 1,
   "metadata": {},
   "outputs": [
    {
     "output_type": "execute_result",
     "data": {
      "text/plain": [
       "'TEST_DATA/28_03_2021'"
      ]
     },
     "metadata": {},
     "execution_count": 1
    }
   ],
   "source": [
    "import os \n",
    "import shutil\n",
    "import time\n",
    "\n",
    "from docplex.mp.error_handler import DOcplexException\n",
    "\n",
    "from random_lp.random_qp import RandomQP\n",
    "\n",
    "DIR = 'TEST_DATA' + \"/\" + time.strftime(\"%d_%m_%Y\")\n",
    "\n",
    "\n",
    "def getPath(filename = \"\", directory = \"\"):\n",
    "    return DIR + \"/\" + directory + \"/\" + filename\n",
    "\n",
    "DIR"
   ]
  },
  {
   "cell_type": "code",
   "execution_count": 2,
   "metadata": {},
   "outputs": [],
   "source": [
    "shutil.rmtree(getPath(directory = \"SPARSE\"), ignore_errors=True)"
   ]
  },
  {
   "cell_type": "code",
   "execution_count": 3,
   "metadata": {},
   "outputs": [],
   "source": [
    "os.makedirs(getPath(directory = \"SPARSE\"))"
   ]
  },
  {
   "cell_type": "code",
   "execution_count": 4,
   "metadata": {},
   "outputs": [
    {
     "output_type": "stream",
     "name": "stdout",
     "text": [
      "Expecting constraint, got: True with type: <class 'numpy.bool_'>\n",
      "126\n",
      "Expecting constraint, got: True with type: <class 'numpy.bool_'>\n",
      "204\n",
      "Expecting constraint, got: True with type: <class 'numpy.bool_'>\n",
      "189\n",
      "Expecting constraint, got: True with type: <class 'numpy.bool_'>\n",
      "193\n",
      "Expecting constraint, got: True with type: <class 'numpy.bool_'>\n",
      "194\n",
      "Expecting constraint, got: True with type: <class 'numpy.bool_'>\n",
      "237\n",
      "Expecting constraint, got: True with type: <class 'numpy.bool_'>\n",
      "222\n",
      "Expecting constraint, got: True with type: <class 'numpy.bool_'>\n",
      "233\n",
      "Expecting constraint, got: True with type: <class 'numpy.bool_'>\n",
      "232\n",
      "Expecting constraint, got: True with type: <class 'numpy.bool_'>\n",
      "230\n",
      "Expecting constraint, got: True with type: <class 'numpy.bool_'>\n",
      "224\n",
      "Expecting constraint, got: True with type: <class 'numpy.bool_'>\n",
      "227\n",
      "Expecting constraint, got: True with type: <class 'numpy.bool_'>\n",
      "282\n",
      "Expecting constraint, got: True with type: <class 'numpy.bool_'>\n",
      "287\n",
      "Expecting constraint, got: True with type: <class 'numpy.bool_'>\n",
      "277\n",
      "Expecting constraint, got: True with type: <class 'numpy.bool_'>\n",
      "276\n",
      "Expecting constraint, got: True with type: <class 'numpy.bool_'>\n",
      "273\n",
      "Expecting constraint, got: True with type: <class 'numpy.bool_'>\n",
      "268\n",
      "Expecting constraint, got: True with type: <class 'numpy.bool_'>\n",
      "274\n",
      "Expecting constraint, got: True with type: <class 'numpy.bool_'>\n",
      "267\n",
      "Expecting constraint, got: True with type: <class 'numpy.bool_'>\n",
      "260\n",
      "Expecting constraint, got: True with type: <class 'numpy.bool_'>\n",
      "310\n",
      "Expecting constraint, got: True with type: <class 'numpy.bool_'>\n",
      "317\n",
      "Expecting constraint, got: True with type: <class 'numpy.bool_'>\n",
      "303\n",
      "Expecting constraint, got: True with type: <class 'numpy.bool_'>\n",
      "312\n",
      "Expecting constraint, got: True with type: <class 'numpy.bool_'>\n",
      "297\n",
      "Expecting constraint, got: True with type: <class 'numpy.bool_'>\n",
      "311\n",
      "Expecting constraint, got: True with type: <class 'numpy.bool_'>\n",
      "308\n",
      "Expecting constraint, got: True with type: <class 'numpy.bool_'>\n",
      "320\n",
      "Expecting constraint, got: True with type: <class 'numpy.bool_'>\n",
      "300\n",
      "Expecting constraint, got: True with type: <class 'numpy.bool_'>\n",
      "320\n",
      "Expecting constraint, got: True with type: <class 'numpy.bool_'>\n",
      "315\n",
      "Expecting constraint, got: True with type: <class 'numpy.bool_'>\n",
      "317\n",
      "49\n"
     ]
    }
   ],
   "source": [
    "# create sparse random binary quadratic Programs\n",
    "# 3 variables with 2 constraints each\n",
    "max_qubits = 290\n",
    "var = 3\n",
    "cstr = 2\n",
    "\n",
    "multiple = 10\n",
    "while True:\n",
    "    qp_bin = RandomQP.create_random_binary_prog(\"test_sparse_\" + str(multiple), cstr, var, multiple=multiple)   \n",
    "    try:         \n",
    "        qp_bin.write_to_lp_file(getPath(qp_bin.name, directory = \"SPARSE\"))\n",
    "        if qp_bin.complexity() > max_qubits :\n",
    "            print(multiple)\n",
    "            break\n",
    "        if qp_bin.complexity() > 100 :\n",
    "            multiple = multiple + 6\n",
    "        else:\n",
    "            multiple = multiple + 3\n",
    "    except DOcplexException as ex:\n",
    "        print(ex)\n",
    "        print(qp_bin.complexity())\n",
    "    "
   ]
  },
  {
   "cell_type": "code",
   "execution_count": 5,
   "metadata": {
    "tags": [
     "outputPrepend"
    ]
   },
   "outputs": [
    {
     "output_type": "stream",
     "name": "stdout",
     "text": [
      "16_1*A16_leb1@int_slack@0 - 1320 x16_1*A16_leb1@int_slack@1\n + 659 x16_2^2 + 660 x16_2*A16_leb1@int_slack@0\n + 1320 x16_2*A16_leb1@int_slack@1 + 659 x17_0^2 - x17_0*x17_2\n + 660 x17_0*A17_leb0@int_slack@0 - 660 x17_0*A17_leb1@int_slack@0\n + 659 x17_1^2 - 1322 x17_1*x17_2 - 660 x17_1*A17_leb0@int_slack@0\n - 660 x17_1*A17_leb1@int_slack@0 + 660 x17_2^2\n + 660 x17_2*A17_leb0@int_slack@0 + 660 x17_2*A17_leb1@int_slack@0\n + 330 x18_0^2 - 661 x18_0*x18_1 + 660 x18_0*x18_2\n - 660 x18_0*A18_leb0@int_slack@0 - 1320 x18_0*A18_leb0@int_slack@1\n + 660 x18_1^2 + 660 x18_1*A18_leb0@int_slack@0\n + 1320 x18_1*A18_leb0@int_slack@1 + 660 x18_1*A18_leb1@int_slack@0\n + 1320 x18_1*A18_leb1@int_slack@1 + 659 x18_2^2\n - 660 x18_2*A18_leb0@int_slack@0 - 1320 x18_2*A18_leb0@int_slack@1\n + 660 x18_2*A18_leb1@int_slack@0 + 1320 x18_2*A18_leb1@int_slack@1\n + 661 x19_0^2 - x19_0*x19_1 + 660 x19_0*x19_2\n + 660 x19_0*A19_leb0@int_slack@0 + 1320 x19_0*A19_leb0@int_slack@1\n - 660 x19_0*A19_leb1@int_slack@0 - 660 x19_0*A19_leb1@int_slack@1\n + 660 x19_1^2 - 661 x19_1*x19_2 - 660 x19_1*A19_leb0@int_slack@0\n - 1320 x19_1*A19_leb0@int_slack@1 - 660 x19_1*A19_leb1@int_slack@0\n - 660 x19_1*A19_leb1@int_slack@1 + 331 x19_2^2\n + 660 x19_2*A19_leb0@int_slack@0 + 1320 x19_2*A19_leb0@int_slack@1\n + 660 x20_0^2 + 662 x20_0*x20_1 - 659 x20_0*x20_2\n - 660 x20_0*A20_leb0@int_slack@0 - 1320 x20_0*A20_leb0@int_slack@1\n - 660 x20_0*A20_leb1@int_slack@0 - 1320 x20_0*A20_leb1@int_slack@1\n + 331 x20_1^2 + x20_1*x20_2 - 660 x20_1*A20_leb1@int_slack@0\n - 1320 x20_1*A20_leb1@int_slack@1 + 329 x20_2^2\n + 660 x20_2*A20_leb0@int_slack@0 + 1320 x20_2*A20_leb0@int_slack@1\n + 331 x21_0^2 + 658 x21_0*x21_1 + 661 x21_0*x21_2\n - 660 x21_0*A21_leb1@int_slack@0 - 660 x21_0*A21_leb1@int_slack@1\n + 659 x21_1^2 + 659 x21_1*x21_2 - 660 x21_1*A21_leb1@int_slack@0\n - 660 x21_1*A21_leb1@int_slack@1 + 331 x21_2^2\n - 660 x21_2*A21_leb1@int_slack@0 - 660 x21_2*A21_leb1@int_slack@1\n + 331 x22_0^2 + 659 x22_0*x22_2 + 660 x22_0*A22_leb0@int_slack@0\n + 1320 x22_0*A22_leb0@int_slack@1 + x22_1*x22_2 + 660 x22_2^2\n + 660 x22_2*A22_leb0@int_slack@0 + 1320 x22_2*A22_leb0@int_slack@1\n - 660 x22_2*A22_leb1@int_slack@0 - 1320 x22_2*A22_leb1@int_slack@1\n + 660 x23_0^2 - 1320 x23_0*x23_1 - x23_0*x23_2\n + 660 x23_0*A23_leb0@int_slack@0 + 1320 x23_0*A23_leb0@int_slack@1\n - 660 x23_0*A23_leb1@int_slack@0 - 660 x23_0*A23_leb1@int_slack@1\n + 659 x23_1^2 - x23_1*x23_2 - 660 x23_1*A23_leb0@int_slack@0\n - 1320 x23_1*A23_leb0@int_slack@1 + 660 x23_1*A23_leb1@int_slack@0\n + 660 x23_1*A23_leb1@int_slack@1 + x23_2^2 + 659 x24_0^2 - 661 x24_0*x24_1\n - 660 x24_0*x24_2 + 660 x24_0*A24_leb0@int_slack@0\n + 1320 x24_0*A24_leb0@int_slack@1 + 660 x24_0*A24_leb0@int_slack@2\n + 660 x24_0*A24_leb1@int_slack@0 + 330 x24_1^2 + 662 x24_1*x24_2\n - 660 x24_1*A24_leb0@int_slack@0 - 1320 x24_1*A24_leb0@int_slack@1\n - 660 x24_1*A24_leb0@int_slack@2 + 330 x24_2^2\n - 660 x24_2*A24_leb0@int_slack@0 - 1320 x24_2*A24_leb0@int_slack@1\n - 660 x24_2*A24_leb0@int_slack@2 + 329 x25_0^2 + 661 x25_0*x25_1\n - 659 x25_0*x25_2 - 660 x25_0*A25_leb0@int_slack@0\n - 1320 x25_0*A25_leb0@int_slack@1 + 661 x25_1^2\n - 660 x25_1*A25_leb0@int_slack@0 - 1320 x25_1*A25_leb0@int_slack@1\n + 660 x25_1*A25_leb1@int_slack@0 + 1320 x25_1*A25_leb1@int_slack@1\n + 660 x25_2^2 + 660 x25_2*A25_leb0@int_slack@0\n + 1320 x25_2*A25_leb0@int_slack@1 + 660 x25_2*A25_leb1@int_slack@0\n + 1320 x25_2*A25_leb1@int_slack@1 + 330 x26_0^2 + 659 x26_0*x26_1\n - 662 x26_0*x26_2 + 660 x26_0*A26_leb0@int_slack@0\n + 1320 x26_0*A26_leb0@int_slack@1 + 331 x26_1^2 - 659 x26_1*x26_2\n + 660 x26_1*A26_leb0@int_slack@0 + 1320 x26_1*A26_leb0@int_slack@1\n + 659 x26_2^2 - 660 x26_2*A26_leb0@int_slack@0\n - 1320 x26_2*A26_leb0@int_slack@1 - 660 x26_2*A26_leb1@int_slack@0\n - 660 x26_2*A26_leb1@int_slack@1 + 661 x27_0^2 + 1321 x27_0*x27_1\n - 660 x27_0*A27_leb0@int_slack@0 - 660 x27_0*A27_leb0@int_slack@1\n - 660 x27_0*A27_leb1@int_slack@0 - 1320 x27_0*A27_leb1@int_slack@1\n + 661 x27_1^2 - 660 x27_1*A27_leb0@int_slack@0\n - 660 x27_1*A27_leb0@int_slack@1 - 660 x27_1*A27_leb1@int_slack@0\n - 1320 x27_1*A27_leb1@int_slack@1 + 661 x27_2^2\n + 660 x27_2*A27_leb0@int_slack@0 + 660 x27_2*A27_leb0@int_slack@1\n - 660 x27_2*A27_leb1@int_slack@0 - 1320 x27_2*A27_leb1@int_slack@1\n + 659 x28_0^2 + 662 x28_0*x28_1 + 2 x28_0*x28_2\n + 660 x28_0*A28_leb0@int_slack@0 + 660 x28_0*A28_leb0@int_slack@1\n + 660 x28_0*A28_leb1@int_slack@0 + 660 x28_0*A28_leb1@int_slack@1\n + 331 x28_1^2 + 659 x28_1*x28_2 + 660 x28_1*A28_leb0@int_slack@0\n + 660 x28_1*A28_leb0@int_slack@1 + 660 x28_2^2\n + 660 x28_2*A28_leb0@int_slack@0 + 660 x28_2*A28_leb0@int_slack@1\n - 660 x28_2*A28_leb1@int_slack@0 - 660 x28_2*A28_leb1@int_slack@1\n + 331 x29_0^2 - 659 x29_0*x29_1 - 659 x29_0*x29_2\n - 660 x29_0*A29_leb1@int_slack@0 - 1320 x29_0*A29_leb1@int_slack@1\n + 661 x29_1^2 + 1320 x29_1*x29_2 - 660 x29_1*A29_leb0@int_slack@0\n + 660 x29_1*A29_leb1@int_slack@0 + 1320 x29_1*A29_leb1@int_slack@1\n + 659 x29_2^2 - 660 x29_2*A29_leb0@int_slack@0\n + 660 x29_2*A29_leb1@int_slack@0 + 1320 x29_2*A29_leb1@int_slack@1\n + 330 x30_0^2 - x30_0*x30_2 - 660 x30_0*A30_leb0@int_slack@0\n - 660 x30_0*A30_leb0@int_slack@1 + 331 x30_1^2 + 661 x30_1*x30_2\n + 329 x30_2^2 + 661 x31_0^2 + 2 x31_0*x31_2 + 660 x31_0*A31_leb0@int_slack@0\n + 660 x31_0*A31_leb1@int_slack@0 + 1320 x31_0*A31_leb1@int_slack@1\n + 660 x31_0*A31_leb1@int_slack@2 + 661 x31_1^2 + 1321 x31_1*x31_2\n + 660 x31_1*A31_leb0@int_slack@0 - 660 x31_1*A31_leb1@int_slack@0\n - 1320 x31_1*A31_leb1@int_slack@1 - 660 x31_1*A31_leb1@int_slack@2\n + 661 x31_2^2 + 660 x31_2*A31_leb0@int_slack@0\n - 660 x31_2*A31_leb1@int_slack@0 - 1320 x31_2*A31_leb1@int_slack@1\n - 660 x31_2*A31_leb1@int_slack@2 + 330 x32_0^2 - 659 x32_0*x32_1\n + 660 x32_0*x32_2 - 660 x32_0*A32_leb1@int_slack@0\n - 1320 x32_0*A32_leb1@int_slack@1 + 660 x32_1^2 - 1320 x32_1*x32_2\n + 660 x32_1*A32_leb1@int_slack@0 + 1320 x32_1*A32_leb1@int_slack@1\n + 659 x32_2^2 - 660 x32_2*A32_leb1@int_slack@0\n - 1320 x32_2*A32_leb1@int_slack@1 + 331 x33_0^2 + 660 x33_0*x33_1\n - x33_0*x33_2 - 660 x33_0*A33_leb0@int_slack@0\n - 1320 x33_0*A33_leb0@int_slack@1 - 660 x33_0*A33_leb0@int_slack@2\n + 659 x33_1^2 - 659 x33_1*x33_2 - 660 x33_1*A33_leb0@int_slack@0\n - 1320 x33_1*A33_leb0@int_slack@1 - 660 x33_1*A33_leb0@int_slack@2\n - 660 x33_1*A33_leb1@int_slack@0 - 660 x33_1*A33_leb1@int_slack@1\n + 329 x33_2^2 + 660 x33_2*A33_leb1@int_slack@0\n + 660 x33_2*A33_leb1@int_slack@1 + 330 x34_0^2 + 659 x34_0*x34_1\n + 660 x34_0*x34_2 + 661 x34_1^2 - 660 x34_1*A34_leb1@int_slack@0\n + 661 x34_2^2 + 660 x34_2*A34_leb1@int_slack@0 + 660 x35_0^2\n - 662 x35_0*x35_1 - 1318 x35_0*x35_2 - 660 x35_0*A35_leb0@int_slack@0\n - 660 x35_0*A35_leb0@int_slack@1 - 660 x35_0*A35_leb1@int_slack@0\n - 1320 x35_0*A35_leb1@int_slack@1 + 329 x35_1^2 + 662 x35_1*x35_2\n + 660 x35_1*A35_leb0@int_slack@0 + 660 x35_1*A35_leb0@int_slack@1\n + 659 x35_2^2 + 660 x35_2*A35_leb0@int_slack@0\n + 660 x35_2*A35_leb0@int_slack@1 + 660 x35_2*A35_leb1@int_slack@0\n + 1320 x35_2*A35_leb1@int_slack@1 + 330 x36_0^2 - 660 x36_0*x36_1\n + 659 x36_0*x36_2 + 660 x36_0*A36_leb1@int_slack@0\n + 1320 x36_0*A36_leb1@int_slack@1 + 660 x36_0*A36_leb1@int_slack@2\n + 329 x36_1^2 - 661 x36_1*x36_2 - 660 x36_1*A36_leb1@int_slack@0\n - 1320 x36_1*A36_leb1@int_slack@1 - 660 x36_1*A36_leb1@int_slack@2\n + 330 x36_2^2 + 660 x36_2*A36_leb1@int_slack@0\n + 1320 x36_2*A36_leb1@int_slack@1 + 660 x36_2*A36_leb1@int_slack@2\n + 660 x37_0^2 + 661 x37_0*x37_2 + 660 x37_0*A37_leb0@int_slack@0\n + 1320 x37_0*A37_leb0@int_slack@1 + 659 x37_1^2 - 659 x37_1*x37_2\n - 660 x37_1*A37_leb0@int_slack@0 - 1320 x37_1*A37_leb0@int_slack@1\n + 329 x37_2^2 + 660 x37_2*A37_leb0@int_slack@0\n + 1320 x37_2*A37_leb0@int_slack@1 + 331 x38_0^2 - 659 x38_0*x38_1\n + 2 x38_0*x38_2 + 660 x38_0*A38_leb0@int_slack@0\n + 1320 x38_0*A38_leb0@int_slack@1 + 661 x38_1^2\n - 660 x38_1*A38_leb0@int_slack@0 - 1320 x38_1*A38_leb0@int_slack@1\n - 660 x38_1*A38_leb1@int_slack@0 - 660 x38_1*A38_leb1@int_slack@1 + x38_2^2\n + 661 x39_0^2 - 661 x39_0*x39_1 - 660 x39_0*A39_leb0@int_slack@0\n - 660 x39_0*A39_leb0@int_slack@1 - 660 x39_0*A39_leb1@int_slack@0\n - 660 x39_0*A39_leb1@int_slack@1 + 331 x39_1^2 + 661 x39_1*x39_2\n + 660 x39_1*A39_leb1@int_slack@0 + 660 x39_1*A39_leb1@int_slack@1\n + 660 x39_2^2 - 660 x39_2*A39_leb0@int_slack@0\n - 660 x39_2*A39_leb0@int_slack@1 + 660 x39_2*A39_leb1@int_slack@0\n + 660 x39_2*A39_leb1@int_slack@1 - x40_0^2 - x40_0*x40_1 + 2 x40_0*x40_2\n + 659 x40_1^2 - 662 x40_1*x40_2 + 660 x40_1*A40_leb0@int_slack@0\n - 660 x40_1*A40_leb1@int_slack@0 + 331 x40_2^2\n + 660 x40_2*A40_leb1@int_slack@0 + 659 x41_0^2 - 2 x41_0*x41_1\n - 659 x41_0*x41_2 - 660 x41_0*A41_leb0@int_slack@0\n - 1320 x41_0*A41_leb0@int_slack@1 - 660 x41_0*A41_leb1@int_slack@0\n + 661 x41_1^2 - 660 x41_1*x41_2 + 660 x41_1*A41_leb0@int_slack@0\n + 1320 x41_1*A41_leb0@int_slack@1 - 660 x41_1*A41_leb1@int_slack@0\n + 331 x41_2^2 + 660 x41_2*A41_leb1@int_slack@0 + 661 x42_0^2\n + 660 x42_0*x42_1 + 662 x42_0*x42_2 + 660 x42_0*A42_leb0@int_slack@0\n + 660 x42_0*A42_leb1@int_slack@0 + 1320 x42_0*A42_leb1@int_slack@1\n + 329 x42_1^2 + x42_1*x42_2 + 660 x42_1*A42_leb1@int_slack@0\n + 1320 x42_1*A42_leb1@int_slack@1 + 329 x42_2^2\n + 660 x42_2*A42_leb0@int_slack@0 + 331 x43_0^2 - 2 x43_0*x43_1 + x43_0*x43_2\n - 660 x43_0*A43_leb0@int_slack@0 - 660 x43_0*A43_leb0@int_slack@1\n + 330 x43_1^2 + 661 x43_1*x43_2 + 660 x43_1*A43_leb1@int_slack@0\n + 1320 x43_1*A43_leb1@int_slack@1 + 330 x43_2^2\n + 660 x43_2*A43_leb1@int_slack@0 + 1320 x43_2*A43_leb1@int_slack@1\n + 330 x44_0^2 + 659 x44_0*x44_1 - 660 x44_0*x44_2\n - 660 x44_0*A44_leb0@int_slack@0 - 1320 x44_0*A44_leb0@int_slack@1\n + 659 x44_1^2 - 1319 x44_1*x44_2 - 660 x44_1*A44_leb0@int_slack@0\n - 1320 x44_1*A44_leb0@int_slack@1 + 660 x44_1*A44_leb1@int_slack@0\n + 660 x44_1*A44_leb1@int_slack@1 + 660 x44_2^2\n + 660 x44_2*A44_leb0@int_slack@0 + 1320 x44_2*A44_leb0@int_slack@1\n - 660 x44_2*A44_leb1@int_slack@0 - 660 x44_2*A44_leb1@int_slack@1\n + 660 x45_0^2 - x45_0*x45_1 - 659 x45_0*x45_2\n + 660 x45_0*A45_leb0@int_slack@0 - 660 x45_0*A45_leb1@int_slack@0\n - 1320 x45_0*A45_leb1@int_slack@1 + 661 x45_1^2 + 660 x45_1*x45_2\n + 660 x45_1*A45_leb0@int_slack@0 + 660 x45_1*A45_leb1@int_slack@0\n + 1320 x45_1*A45_leb1@int_slack@1 + 330 x45_2^2\n + 660 x45_2*A45_leb1@int_slack@0 + 1320 x45_2*A45_leb1@int_slack@1\n + 659 x46_0^2 - 1321 x46_0*x46_1 + 660 x46_0*x46_2\n - 660 x46_0*A46_leb0@int_slack@0 + 660 x46_0*A46_leb1@int_slack@0\n + 1320 x46_0*A46_leb1@int_slack@1 + 659 x46_1^2 - 662 x46_1*x46_2\n + 660 x46_1*A46_leb0@int_slack@0 - 660 x46_1*A46_leb1@int_slack@0\n - 1320 x46_1*A46_leb1@int_slack@1 + 331 x46_2^2\n + 660 x46_2*A46_leb1@int_slack@0 + 1320 x46_2*A46_leb1@int_slack@1\n + 659 x47_0^2 + 660 x47_0*A47_leb0@int_slack@0\n + 660 x47_0*A47_leb1@int_slack@0 + 660 x47_0*A47_leb1@int_slack@1\n + 660 x47_1^2 + 660 x47_1*A47_leb0@int_slack@0\n - 660 x47_1*A47_leb1@int_slack@0 - 660 x47_1*A47_leb1@int_slack@1 + x47_2^2\n + 331 x48_0^2 + 658 x48_0*x48_1 + 660 x48_0*x48_2\n + 660 x48_0*A48_leb1@int_slack@0 + 1320 x48_0*A48_leb1@int_slack@1\n + 660 x48_0*A48_leb1@int_slack@2 + 659 x48_1^2\n - 660 x48_1*A48_leb0@int_slack@0 - 660 x48_1*A48_leb0@int_slack@1\n + 660 x48_1*A48_leb1@int_slack@0 + 1320 x48_1*A48_leb1@int_slack@1\n + 660 x48_1*A48_leb1@int_slack@2 + 659 x48_2^2\n + 660 x48_2*A48_leb0@int_slack@0 + 660 x48_2*A48_leb0@int_slack@1\n + 660 x48_2*A48_leb1@int_slack@0 + 1320 x48_2*A48_leb1@int_slack@1\n + 660 x48_2*A48_leb1@int_slack@2 + 330 A0_leb1@int_slack@0^2\n + 660 A0_leb1@int_slack@0*A0_leb1@int_slack@1 + 330 A0_leb1@int_slack@1^2\n + 330 A1_leb0@int_slack@0^2 + 330 A1_leb1@int_slack@0^2\n + 660 A1_leb1@int_slack@0*A1_leb1@int_slack@1 + 330 A1_leb1@int_slack@1^2\n + 330 A2_leb0@int_slack@0^2 + 660 A2_leb0@int_slack@0*A2_leb0@int_slack@1\n + 330 A2_leb0@int_slack@1^2 + 330 A3_leb0@int_slack@0^2\n + 330 A3_leb1@int_slack@0^2 + 1320 A3_leb1@int_slack@0*A3_leb1@int_slack@1\n + 1320 A3_leb1@int_slack@1^2 + 330 A4_leb0@int_slack@0^2\n + 1320 A4_leb0@int_slack@0*A4_leb0@int_slack@1 + 1320 A4_leb0@int_slack@1^2\n + 330 A4_leb1@int_slack@0^2 + 660 A4_leb1@int_slack@0*A4_leb1@int_slack@1\n + 330 A4_leb1@int_slack@1^2 + 330 A5_leb0@int_slack@0^2\n + 660 A5_leb0@int_slack@0*A5_leb0@int_slack@1 + 330 A5_leb0@int_slack@1^2\n + 330 A5_leb1@int_slack@0^2 + 330 A6_leb0@int_slack@0^2\n + 330 A6_leb1@int_slack@0^2 + 1320 A6_leb1@int_slack@0*A6_leb1@int_slack@1\n + 1320 A6_leb1@int_slack@1^2 + 330 A7_leb0@int_slack@0^2\n + 330 A7_leb1@int_slack@0^2 + 660 A7_leb1@int_slack@0*A7_leb1@int_slack@1\n + 330 A7_leb1@int_slack@1^2 + 330 A8_leb0@int_slack@0^2\n + 1320 A8_leb0@int_slack@0*A8_leb0@int_slack@1\n + 660 A8_leb0@int_slack@0*A8_leb0@int_slack@2 + 1320 A8_leb0@int_slack@1^2\n + 1320 A8_leb0@int_slack@1*A8_leb0@int_slack@2 + 330 A8_leb0@int_slack@2^2\n + 330 A8_leb1@int_slack@0^2 + 330 A9_leb0@int_slack@0^2\n + 1320 A9_leb0@int_slack@0*A9_leb0@int_slack@1 + 1320 A9_leb0@int_slack@1^2\n + 330 A9_leb1@int_slack@0^2 + 660 A9_leb1@int_slack@0*A9_leb1@int_slack@1\n + 330 A9_leb1@int_slack@1^2 + 330 A10_leb0@int_slack@0^2\n + 660 A10_leb0@int_slack@0*A10_leb0@int_slack@1 + 330 A10_leb0@int_slack@1^2\n + 330 A10_leb1@int_slack@0^2 + 660 A10_leb1@int_slack@0*A10_leb1@int_slack@1\n + 330 A10_leb1@int_slack@1^2 + 330 A11_leb1@int_slack@0^2\n + 1320 A11_leb1@int_slack@0*A11_leb1@int_slack@1\n + 1320 A11_leb1@int_slack@1^2 + 330 A12_leb1@int_slack@0^2\n + 660 A12_leb1@int_slack@0*A12_leb1@int_slack@1 + 330 A12_leb1@int_slack@1^2\n + 330 A13_leb0@int_slack@0^2 + 330 A13_leb1@int_slack@0^2\n + 1320 A13_leb1@int_slack@0*A13_leb1@int_slack@1\n + 660 A13_leb1@int_slack@0*A13_leb1@int_slack@2 + 1320 A13_leb1@int_slack@1^2\n + 1320 A13_leb1@int_slack@1*A13_leb1@int_slack@2 + 330 A13_leb1@int_slack@2^2\n + 330 A14_leb0@int_slack@0^2 + 330 A14_leb1@int_slack@0^2\n + 1320 A14_leb1@int_slack@0*A14_leb1@int_slack@1\n + 1320 A14_leb1@int_slack@1^2 + 330 A15_leb0@int_slack@0^2\n + 330 A15_leb1@int_slack@0^2 + 1320 A15_leb1@int_slack@0*A15_leb1@int_slack@1\n + 1320 A15_leb1@int_slack@1^2 + 330 A16_leb1@int_slack@0^2\n + 1320 A16_leb1@int_slack@0*A16_leb1@int_slack@1\n + 1320 A16_leb1@int_slack@1^2 + 330 A17_leb0@int_slack@0^2\n + 330 A17_leb1@int_slack@0^2 + 330 A18_leb0@int_slack@0^2\n + 1320 A18_leb0@int_slack@0*A18_leb0@int_slack@1\n + 1320 A18_leb0@int_slack@1^2 + 330 A18_leb1@int_slack@0^2\n + 1320 A18_leb1@int_slack@0*A18_leb1@int_slack@1\n + 1320 A18_leb1@int_slack@1^2 + 330 A19_leb0@int_slack@0^2\n + 1320 A19_leb0@int_slack@0*A19_leb0@int_slack@1\n + 1320 A19_leb0@int_slack@1^2 + 330 A19_leb1@int_slack@0^2\n + 660 A19_leb1@int_slack@0*A19_leb1@int_slack@1 + 330 A19_leb1@int_slack@1^2\n + 330 A20_leb0@int_slack@0^2 + 1320 A20_leb0@int_slack@0*A20_leb0@int_slack@1\n + 1320 A20_leb0@int_slack@1^2 + 330 A20_leb1@int_slack@0^2\n + 1320 A20_leb1@int_slack@0*A20_leb1@int_slack@1\n + 1320 A20_leb1@int_slack@1^2 + 330 A21_leb1@int_slack@0^2\n + 660 A21_leb1@int_slack@0*A21_leb1@int_slack@1 + 330 A21_leb1@int_slack@1^2\n + 330 A22_leb0@int_slack@0^2 + 1320 A22_leb0@int_slack@0*A22_leb0@int_slack@1\n + 1320 A22_leb0@int_slack@1^2 + 330 A22_leb1@int_slack@0^2\n + 1320 A22_leb1@int_slack@0*A22_leb1@int_slack@1\n + 1320 A22_leb1@int_slack@1^2 + 330 A23_leb0@int_slack@0^2\n + 1320 A23_leb0@int_slack@0*A23_leb0@int_slack@1\n + 1320 A23_leb0@int_slack@1^2 + 330 A23_leb1@int_slack@0^2\n + 660 A23_leb1@int_slack@0*A23_leb1@int_slack@1 + 330 A23_leb1@int_slack@1^2\n + 330 A24_leb0@int_slack@0^2 + 1320 A24_leb0@int_slack@0*A24_leb0@int_slack@1\n + 660 A24_leb0@int_slack@0*A24_leb0@int_slack@2 + 1320 A24_leb0@int_slack@1^2\n + 1320 A24_leb0@int_slack@1*A24_leb0@int_slack@2 + 330 A24_leb0@int_slack@2^2\n + 330 A24_leb1@int_slack@0^2 + 330 A25_leb0@int_slack@0^2\n + 1320 A25_leb0@int_slack@0*A25_leb0@int_slack@1\n + 1320 A25_leb0@int_slack@1^2 + 330 A25_leb1@int_slack@0^2\n + 1320 A25_leb1@int_slack@0*A25_leb1@int_slack@1\n + 1320 A25_leb1@int_slack@1^2 + 330 A26_leb0@int_slack@0^2\n + 1320 A26_leb0@int_slack@0*A26_leb0@int_slack@1\n + 1320 A26_leb0@int_slack@1^2 + 330 A26_leb1@int_slack@0^2\n + 660 A26_leb1@int_slack@0*A26_leb1@int_slack@1 + 330 A26_leb1@int_slack@1^2\n + 330 A27_leb0@int_slack@0^2 + 660 A27_leb0@int_slack@0*A27_leb0@int_slack@1\n + 330 A27_leb0@int_slack@1^2 + 330 A27_leb1@int_slack@0^2\n + 1320 A27_leb1@int_slack@0*A27_leb1@int_slack@1\n + 1320 A27_leb1@int_slack@1^2 + 330 A28_leb0@int_slack@0^2\n + 660 A28_leb0@int_slack@0*A28_leb0@int_slack@1 + 330 A28_leb0@int_slack@1^2\n + 330 A28_leb1@int_slack@0^2 + 660 A28_leb1@int_slack@0*A28_leb1@int_slack@1\n + 330 A28_leb1@int_slack@1^2 + 330 A29_leb0@int_slack@0^2\n + 330 A29_leb1@int_slack@0^2 + 1320 A29_leb1@int_slack@0*A29_leb1@int_slack@1\n + 1320 A29_leb1@int_slack@1^2 + 330 A30_leb0@int_slack@0^2\n + 660 A30_leb0@int_slack@0*A30_leb0@int_slack@1 + 330 A30_leb0@int_slack@1^2\n + 330 A31_leb0@int_slack@0^2 + 330 A31_leb1@int_slack@0^2\n + 1320 A31_leb1@int_slack@0*A31_leb1@int_slack@1\n + 660 A31_leb1@int_slack@0*A31_leb1@int_slack@2 + 1320 A31_leb1@int_slack@1^2\n + 1320 A31_leb1@int_slack@1*A31_leb1@int_slack@2 + 330 A31_leb1@int_slack@2^2\n + 330 A32_leb1@int_slack@0^2 + 1320 A32_leb1@int_slack@0*A32_leb1@int_slack@1\n + 1320 A32_leb1@int_slack@1^2 + 330 A33_leb0@int_slack@0^2\n + 1320 A33_leb0@int_slack@0*A33_leb0@int_slack@1\n + 660 A33_leb0@int_slack@0*A33_leb0@int_slack@2 + 1320 A33_leb0@int_slack@1^2\n + 1320 A33_leb0@int_slack@1*A33_leb0@int_slack@2 + 330 A33_leb0@int_slack@2^2\n + 330 A33_leb1@int_slack@0^2 + 660 A33_leb1@int_slack@0*A33_leb1@int_slack@1\n + 330 A33_leb1@int_slack@1^2 + 330 A34_leb1@int_slack@0^2\n + 330 A35_leb0@int_slack@0^2 + 660 A35_leb0@int_slack@0*A35_leb0@int_slack@1\n + 330 A35_leb0@int_slack@1^2 + 330 A35_leb1@int_slack@0^2\n + 1320 A35_leb1@int_slack@0*A35_leb1@int_slack@1\n + 1320 A35_leb1@int_slack@1^2 + 330 A36_leb1@int_slack@0^2\n + 1320 A36_leb1@int_slack@0*A36_leb1@int_slack@1\n + 660 A36_leb1@int_slack@0*A36_leb1@int_slack@2 + 1320 A36_leb1@int_slack@1^2\n + 1320 A36_leb1@int_slack@1*A36_leb1@int_slack@2 + 330 A36_leb1@int_slack@2^2\n + 330 A37_leb0@int_slack@0^2 + 1320 A37_leb0@int_slack@0*A37_leb0@int_slack@1\n + 1320 A37_leb0@int_slack@1^2 + 330 A38_leb0@int_slack@0^2\n + 1320 A38_leb0@int_slack@0*A38_leb0@int_slack@1\n + 1320 A38_leb0@int_slack@1^2 + 330 A38_leb1@int_slack@0^2\n + 660 A38_leb1@int_slack@0*A38_leb1@int_slack@1 + 330 A38_leb1@int_slack@1^2\n + 330 A39_leb0@int_slack@0^2 + 660 A39_leb0@int_slack@0*A39_leb0@int_slack@1\n + 330 A39_leb0@int_slack@1^2 + 330 A39_leb1@int_slack@0^2\n + 660 A39_leb1@int_slack@0*A39_leb1@int_slack@1 + 330 A39_leb1@int_slack@1^2\n + 330 A40_leb0@int_slack@0^2 + 330 A40_leb1@int_slack@0^2\n + 330 A41_leb0@int_slack@0^2 + 1320 A41_leb0@int_slack@0*A41_leb0@int_slack@1\n + 1320 A41_leb0@int_slack@1^2 + 330 A41_leb1@int_slack@0^2\n + 330 A42_leb0@int_slack@0^2 + 330 A42_leb1@int_slack@0^2\n + 1320 A42_leb1@int_slack@0*A42_leb1@int_slack@1\n + 1320 A42_leb1@int_slack@1^2 + 330 A43_leb0@int_slack@0^2\n + 660 A43_leb0@int_slack@0*A43_leb0@int_slack@1 + 330 A43_leb0@int_slack@1^2\n + 330 A43_leb1@int_slack@0^2 + 1320 A43_leb1@int_slack@0*A43_leb1@int_slack@1\n + 1320 A43_leb1@int_slack@1^2 + 330 A44_leb0@int_slack@0^2\n + 1320 A44_leb0@int_slack@0*A44_leb0@int_slack@1\n + 1320 A44_leb0@int_slack@1^2 + 330 A44_leb1@int_slack@0^2\n + 660 A44_leb1@int_slack@0*A44_leb1@int_slack@1 + 330 A44_leb1@int_slack@1^2\n + 330 A45_leb0@int_slack@0^2 + 330 A45_leb1@int_slack@0^2\n + 1320 A45_leb1@int_slack@0*A45_leb1@int_slack@1\n + 1320 A45_leb1@int_slack@1^2 + 330 A46_leb0@int_slack@0^2\n + 330 A46_leb1@int_slack@0^2 + 1320 A46_leb1@int_slack@0*A46_leb1@int_slack@1\n + 1320 A46_leb1@int_slack@1^2 + 330 A47_leb0@int_slack@0^2\n + 330 A47_leb1@int_slack@0^2 + 660 A47_leb1@int_slack@0*A47_leb1@int_slack@1\n + 330 A47_leb1@int_slack@1^2 + 330 A48_leb0@int_slack@0^2\n + 660 A48_leb0@int_slack@0*A48_leb0@int_slack@1 + 330 A48_leb0@int_slack@1^2\n + 330 A48_leb1@int_slack@0^2 + 1320 A48_leb1@int_slack@0*A48_leb1@int_slack@1\n + 660 A48_leb1@int_slack@0*A48_leb1@int_slack@2 + 1320 A48_leb1@int_slack@1^2\n + 1320 A48_leb1@int_slack@1*A48_leb1@int_slack@2 + 330 A48_leb1@int_slack@2^2\n ] + 84810;\n \nsubject to {\n\n}\n"
     ]
    }
   ],
   "source": [
    "qp_bin.qubo.to_docplex().prettyprint()"
   ]
  },
  {
   "cell_type": "code",
   "execution_count": null,
   "metadata": {},
   "outputs": [],
   "source": []
  }
 ],
 "metadata": {
  "kernelspec": {
   "display_name": "Python 3",
   "language": "python",
   "name": "python3"
  },
  "language_info": {
   "codemirror_mode": {
    "name": "ipython",
    "version": 3
   },
   "file_extension": ".py",
   "mimetype": "text/x-python",
   "name": "python",
   "nbconvert_exporter": "python",
   "pygments_lexer": "ipython3",
   "version": "3.8.8-final"
  }
 },
 "nbformat": 4,
 "nbformat_minor": 4
}