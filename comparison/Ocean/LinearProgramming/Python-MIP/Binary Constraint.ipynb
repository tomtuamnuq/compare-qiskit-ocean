{
 "cells": [
  {
   "cell_type": "code",
   "execution_count": 10,
   "metadata": {},
   "outputs": [],
   "source": [
    "from mip import Model, BINARY, xsum, OptimizationStatus #  CONTINUOUS, INTEGER\n",
    "import numpy as np\n",
    "from itertools import permutations"
   ]
  },
  {
   "cell_type": "code",
   "execution_count": 11,
   "metadata": {},
   "outputs": [],
   "source": [
    "A = np.array([[1,1,1,1,1],\n",
    "              [2,2,2,2,2],\n",
    "              [0,1,2,3,4],\n",
    "              [2,1,4,1,0],\n",
    "              [0,1,0,1,0]])\n",
    "var_type = BINARY\n",
    "max_gap = 0.05\n",
    "max_seconds=10"
   ]
  },
  {
   "cell_type": "code",
   "execution_count": 12,
   "metadata": {},
   "outputs": [],
   "source": [
    "def createModelAndCheck(A, b, var_type, max_gap, max_seconds):\n",
    "    n,m = A.shape\n",
    "    model = Model()\n",
    "    x = [model.add_var(var_type=var_type) for i in range(n)]\n",
    "    \n",
    "    for i in range(m):\n",
    "        A_i = A[i]\n",
    "        b_i = b[i]\n",
    "        model += xsum(A_i[j]*x[j] for j in range(n)) == b_i\n",
    "    \n",
    "    model.max_gap = max_gap\n",
    "    status = model.optimize(max_seconds=max_seconds)\n",
    "    if status != OptimizationStatus.INFEASIBLE:\n",
    "        print(\"Found b: \", b)\n",
    "    if status == OptimizationStatus.OPTIMAL:\n",
    "        print('optimal solution cost {} found'.format(model.objective_value))\n",
    "    elif status == OptimizationStatus.FEASIBLE:\n",
    "        print('sol.cost {} found, best possible: {}'.format(model.objective_value, model.objective_bound))\n",
    "    elif status == OptimizationStatus.NO_SOLUTION_FOUND:\n",
    "        print('no feasible solution found, lower bound is: {}'.format(model.objective_bound))\n",
    "    if status == OptimizationStatus.OPTIMAL or status == OptimizationStatus.FEASIBLE:\n",
    "        print('solution:')\n",
    "        for v in model.vars:\n",
    "            if abs(v.x) > 1e-6: # only printing non-zeros\n",
    "                print('{} : {}'.format(v.name, v.x))"
   ]
  },
  {
   "cell_type": "code",
   "execution_count": 14,
   "metadata": {},
   "outputs": [
    {
     "name": "stdout",
     "output_type": "stream",
     "text": [
      "Found b:  [2 4 3 5 1]\n",
      "optimal solution cost 0.0 found\n",
      "solution:\n",
      "var(1) : 1.0\n",
      "var(2) : 1.0\n",
      "Found b:  [3 6 5 7 1]\n",
      "optimal solution cost 0.0 found\n",
      "solution:\n",
      "var(0) : 1.0\n",
      "var(2) : 1.0\n",
      "var(3) : 1.0\n",
      "Found b:  [3 6 7 5 1]\n",
      "optimal solution cost 0.0 found\n",
      "solution:\n",
      "var(1) : 1.0\n",
      "var(2) : 1.0\n",
      "var(4) : 1.0\n"
     ]
    }
   ],
   "source": [
    "brute_force_b = list(permutations([0,1,2,3,4,5,6,7,8],5))\n",
    "for b in brute_force_b:\n",
    "    createModelAndCheck(A, np.array(b), var_type, max_gap, max_seconds)\n"
   ]
  },
  {
   "cell_type": "code",
   "execution_count": 16,
   "metadata": {},
   "outputs": [
    {
     "data": {
      "text/plain": [
       "array([2, 4, 3, 5, 1])"
      ]
     },
     "execution_count": 16,
     "metadata": {},
     "output_type": "execute_result"
    }
   ],
   "source": [
    "A.dot(np.array([0,1,1,0,0]))"
   ]
  },
  {
   "cell_type": "markdown",
   "metadata": {},
   "source": [
    "Found b:  [2 4 3 5 1]\n",
    "optimal solution cost 0.0 found\n",
    "solution:\n",
    "var(1) : 1.0\n",
    "var(2) : 1.0\n",
    "Found b:  [3 6 5 7 1]\n",
    "optimal solution cost 0.0 found\n",
    "solution:\n",
    "var(0) : 1.0\n",
    "var(2) : 1.0\n",
    "var(3) : 1.0\n",
    "Found b:  [3 6 7 5 1]\n",
    "optimal solution cost 0.0 found\n",
    "solution:\n",
    "var(1) : 1.0\n",
    "var(2) : 1.0\n",
    "var(4) : 1.0\n"
   ]
  },
  {
   "cell_type": "code",
   "execution_count": null,
   "metadata": {},
   "outputs": [],
   "source": []
  }
 ],
 "metadata": {
  "kernelspec": {
   "display_name": "Python 3",
   "language": "python",
   "name": "python3"
  },
  "language_info": {
   "codemirror_mode": {
    "name": "ipython",
    "version": 3
   },
   "file_extension": ".py",
   "mimetype": "text/x-python",
   "name": "python",
   "nbconvert_exporter": "python",
   "pygments_lexer": "ipython3",
   "version": "3.8.5"
  }
 },
 "nbformat": 4,
 "nbformat_minor": 4
}
