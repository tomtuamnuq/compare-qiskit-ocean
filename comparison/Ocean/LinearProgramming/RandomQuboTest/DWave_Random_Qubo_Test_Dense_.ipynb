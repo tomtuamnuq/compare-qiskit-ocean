{
 "metadata": {
  "language_info": {
   "codemirror_mode": {
    "name": "ipython",
    "version": 3
   },
   "file_extension": ".py",
   "mimetype": "text/x-python",
   "name": "python",
   "nbconvert_exporter": "python",
   "pygments_lexer": "ipython3",
   "version": "3.8.8"
  },
  "orig_nbformat": 2,
  "kernelspec": {
   "name": "python388jvsc74a57bd0173f2ffbce537830dc37cc01123f1dcc118f483457eee13e6b392e68a5e39cc7",
   "display_name": "Python 3.8.8 64-bit ('Qiskit_Ocean': conda)"
  }
 },
 "nbformat": 4,
 "nbformat_minor": 2,
 "cells": [
  {
   "cell_type": "code",
   "execution_count": 1,
   "metadata": {},
   "outputs": [],
   "source": [
    "import time, os, logging, warnings\n",
    "from qiskit_optimization.algorithms import CplexOptimizer\n",
    "warnings.filterwarnings(\"ignore\", category=DeprecationWarning)\n",
    "from qiskit.optimization.algorithms.optimization_algorithm import OptimizationResultStatus\n",
    "from dwave.system import DWaveCliqueSampler\n",
    "from utilities.helpers import create_dwave_meo, create_quadratic_programs_from_paths"
   ]
  },
  {
   "cell_type": "code",
   "execution_count": 2,
   "metadata": {},
   "outputs": [
    {
     "output_type": "execute_result",
     "data": {
      "text/plain": [
       "'TEST_DATA/27_04_2021/SPARSE/'"
      ]
     },
     "metadata": {},
     "execution_count": 2
    }
   ],
   "source": [
    "TEST_DIR = 'TEST_DATA' + \"/\" + time.strftime(\"%d_%m_%Y\") + \"/DENSE/\"\n",
    "RES_DIR = 'RESULTS' + \"/\" + time.strftime(\"%d_%m_%Y\") + \"/DENSE/\"\n",
    "os.makedirs(RES_DIR, exist_ok=True)\n",
    "TEST_DIR"
   ]
  },
  {
   "cell_type": "code",
   "execution_count": 3,
   "metadata": {},
   "outputs": [],
   "source": [
    "# select linear programs to solve\n",
    "qps = create_quadratic_programs_from_paths(TEST_DIR, True)\n",
    "# init Optimizers\n",
    "cplex = CplexOptimizer()\n",
    "dwave = create_dwave_meo(DWaveCliqueSampler(), num_reads=4096)\n",
    "prelabel = \"clique_dense_\""
   ]
  },
  {
   "cell_type": "code",
   "execution_count": 4,
   "metadata": {},
   "outputs": [
    {
     "output_type": "stream",
     "name": "stdout",
     "text": [
      "test_50\n",
      "number of qubits:  250\n",
      "Dwave Quantum successful!\n",
      "test_55\n",
      "number of qubits:  275\n",
      "Dwave Quantum successful!\n",
      "test_60\n",
      "number of qubits:  300\n",
      "Dwave Quantum successful!\n",
      "test_65\n",
      "number of qubits:  325\n",
      "Dwave Quantum successful!\n",
      "test_70\n",
      "number of qubits:  350\n",
      "Dwave Quantum successful!\n",
      "\n",
      " optimal value Dwave quantum -1086.0  ,  cplex:-1090.0\n",
      "test_75\n",
      "number of qubits:  375\n",
      "Dwave Quantum successful!\n",
      "\n",
      " optimal value Dwave quantum -1083.0  ,  cplex:-1085.0\n",
      "test_80\n",
      "number of qubits:  400\n",
      "Dwave Quantum successful!\n",
      "\n",
      " optimal value Dwave quantum -1115.0  ,  cplex:-1117.0\n",
      "test_85\n",
      "number of qubits:  425\n",
      "Dwave Quantum successful!\n",
      "\n",
      " optimal value Dwave quantum -1267.0  ,  cplex:-1270.0\n",
      "test_90\n",
      "number of qubits:  450\n",
      "Dwave Quantum successful!\n",
      "\n",
      " optimal value Dwave quantum -1370.0  ,  cplex:-1376.0\n",
      "test_95\n",
      "number of qubits:  475\n",
      "Dwave Quantum successful!\n",
      "\n",
      " optimal value Dwave quantum -1425.0  ,  cplex:-1431.0\n",
      "test_100\n",
      "number of qubits:  500\n",
      "Dwave Quantum successful!\n",
      "\n",
      " optimal value Dwave quantum -1664.0  ,  cplex:-1670.0\n",
      "test_105\n",
      "number of qubits:  525\n",
      "Dwave Quantum successful!\n",
      "\n",
      " optimal value Dwave quantum -1647.0  ,  cplex:-1657.0\n"
     ]
    }
   ],
   "source": [
    "logger = logging.getLogger()\n",
    "logger.setLevel(logging.INFO)\n",
    "warnings.filterwarnings(\"ignore\", category=DeprecationWarning)\n",
    "\n",
    "count_fail_dwave = 0\n",
    "\n",
    "for qp_name, qp in qps.items() :\n",
    "    \n",
    "    print(qp_name)\n",
    "    print(\"number of qubits: \", qp.get_num_vars())\n",
    "    output_file_handler = logging.FileHandler(filename=RES_DIR + qp.name + \".log\")\n",
    "    logger.addHandler(output_file_handler)\n",
    "\n",
    "    # set problem label\n",
    "    dwave.min_eigen_solver.sampler.set_label(prelabel + qp_name + \"_\" + str(qp.get_num_vars()))\n",
    "\n",
    "    with open(RES_DIR + qp.name + '.res', 'w') as file:\n",
    "        file.write(str(\"Start \" + qp.name + \"\\n \" + str(qp.get_num_vars()) + \" qubits needed\"))  \n",
    "        file.write(\"\\n DWave Quantum: \\n\")\n",
    "        logger.info(\"\\n DWave Quantum: \\n \")\n",
    "        try:\n",
    "            res_classic = cplex.solve(qp)\n",
    "            res_quantum = dwave.solve(qp)\n",
    "            problem_id = str(res_quantum.min_eigen_solver_result.sampleset.info['problem_id'])\n",
    "            logger.info(\"\\n problem id \" + problem_id)\n",
    "            file.write(\"\\n problem id: \" + problem_id)\n",
    "            \n",
    "            if res_quantum.status != OptimizationResultStatus.SUCCESS:\n",
    "                print(\"Dwave quantum solver found no solution.\")\n",
    "                file.write(\"\\n No solution found with DWave Quantum Solver \\n\")\n",
    "                count_fail_dwave = count_fail_dwave + 1\n",
    "                if count_fail_dwave == 3:\n",
    "                    file.write(\"\\n Stop testing DWave Quantum Solver \\n\")\n",
    "                    break\n",
    "            else:\n",
    "                print(\"Dwave Quantum successful!\")\n",
    "                count_fail_dwave = 0\n",
    "                if res_quantum.fval == res_classic.fval:\n",
    "                    file.write(\"\\n DWave quantum solver found optimal solution\\n\")\n",
    "                else:\n",
    "                    print(\"\\n optimal value Dwave quantum \"+str(res_quantum.fval) \\\n",
    "                                           + \"  ,  cplex:\"+ str(res_classic.fval))\n",
    "                    file.write(\"\\n DWave quantum solver:\\n\")\n",
    "                    file.write(str(res_quantum))\n",
    "                    file.write(\"\\n CPLEX:\\n\")\n",
    "                    file.write(str(res_classic))\n",
    "\n",
    "        except Exception as ex:\n",
    "            print(qp_name, \" \", type(ex).__name__, \" : \", ex)\n",
    "            file.write(\"\\n Cplex or DWave solver produced an exception:\\n\")\n",
    "            file.write(str(ex))\n",
    "            count_fail_dwave = count_fail_dwave + 1\n",
    "            if count_fail_dwave == 3:\n",
    "                file.write(\"\\n Stop testing because of Exception! \\n\")\n",
    "                break\n",
    "                \n",
    "    logger.removeHandler(output_file_handler)"
   ]
  },
  {
   "cell_type": "code",
   "execution_count": null,
   "metadata": {},
   "outputs": [],
   "source": []
  }
 ]
}