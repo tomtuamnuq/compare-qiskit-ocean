{
 "metadata": {
  "language_info": {
   "codemirror_mode": {
    "name": "ipython",
    "version": 3
   },
   "file_extension": ".py",
   "mimetype": "text/x-python",
   "name": "python",
   "nbconvert_exporter": "python",
   "pygments_lexer": "ipython3",
   "version": "3.8.8"
  },
  "orig_nbformat": 2,
  "kernelspec": {
   "name": "python388jvsc74a57bd0173f2ffbce537830dc37cc01123f1dcc118f483457eee13e6b392e68a5e39cc7",
   "display_name": "Python 3.8.8 64-bit ('Qiskit_Ocean': conda)"
  }
 },
 "nbformat": 4,
 "nbformat_minor": 2,
 "cells": [
  {
   "cell_type": "code",
   "execution_count": 1,
   "metadata": {},
   "outputs": [],
   "source": [
    "import os \n",
    "import shutil\n",
    "import time\n",
    "\n",
    "from random_qubo.random_qubo import RandomQubo\n",
    "DIR = 'TEST_DATA' + \"/\" + time.strftime(\"%d_%m_%Y\") # 27.04.2021\n",
    "def getPath(filename = \"\", directory = \"\"):\n",
    "    return DIR + \"/\" + directory + \"/\" + filename\n",
    "\n",
    "# bounds = {} for defaults\n",
    "bounds = {\"matrix_q_lb\": -5, \"matrix_q_ub\": 5, \"c_lb\": -5, \"c_ub\": 5}\n"
   ]
  },
  {
   "cell_type": "code",
   "execution_count": 2,
   "metadata": {},
   "outputs": [],
   "source": [
    "shutil.rmtree(DIR, ignore_errors=True)\n",
    "os.makedirs(getPath(directory = \"SPARSE\"))\n",
    "os.makedirs(getPath(directory = \"DENSE\"))\n"
   ]
  },
  {
   "cell_type": "code",
   "execution_count": 3,
   "metadata": {},
   "outputs": [
    {
     "output_type": "stream",
     "name": "stdout",
     "text": [
      "105\n"
     ]
    }
   ],
   "source": [
    "# create sparse random qubos\n",
    "# 5 variables connected\n",
    "# start with 5x20 qubits\n",
    "max_qubits = 500\n",
    "var = 5\n",
    "multiple = 50\n",
    "while True:\n",
    "    qp = RandomQubo.create_random_qubo(\"test_\" + str(multiple), var, multiple=multiple, **bounds)              \n",
    "    qp.write_to_lp_file(getPath(qp.name, directory = \"SPARSE\"))\n",
    "    if qp.get_num_vars() > max_qubits :\n",
    "        print(multiple)\n",
    "        break\n",
    "    multiple = multiple + 5\n",
    "    "
   ]
  },
  {
   "cell_type": "code",
   "execution_count": 4,
   "metadata": {},
   "outputs": [
    {
     "output_type": "stream",
     "name": "stdout",
     "text": [
      "100\n"
     ]
    }
   ],
   "source": [
    "# create dense random qubos\n",
    "# start with 50 variables\n",
    "max_qubits = 90\n",
    "var = 50\n",
    "while True:\n",
    "    qp = RandomQubo.create_random_qubo(\"test_\" + str(var), var, **bounds)              \n",
    "    qp.write_to_lp_file(getPath(qp.name, directory = \"DENSE\"))\n",
    "    if qp.get_num_vars() > max_qubits :\n",
    "        print(var)\n",
    "        break\n",
    "    var = var + 10\n",
    "    "
   ]
  },
  {
   "cell_type": "code",
   "execution_count": null,
   "metadata": {},
   "outputs": [],
   "source": []
  }
 ]
}