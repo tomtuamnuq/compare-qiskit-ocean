{
 "metadata": {
  "language_info": {
   "codemirror_mode": {
    "name": "ipython",
    "version": 3
   },
   "file_extension": ".py",
   "mimetype": "text/x-python",
   "name": "python",
   "nbconvert_exporter": "python",
   "pygments_lexer": "ipython3",
   "version": "3.8.8"
  },
  "orig_nbformat": 2,
  "kernelspec": {
   "name": "python388jvsc74a57bd0173f2ffbce537830dc37cc01123f1dcc118f483457eee13e6b392e68a5e39cc7",
   "display_name": "Python 3.8.8 64-bit ('Qiskit_Ocean': conda)"
  }
 },
 "nbformat": 4,
 "nbformat_minor": 2,
 "cells": [
  {
   "cell_type": "code",
   "execution_count": 1,
   "metadata": {},
   "outputs": [],
   "source": [
    "import os \n",
    "import shutil\n",
    "import time\n",
    "\n",
    "from random_qubo.random_qubo import RandomQubo\n",
    "\n",
    "DIR = 'TEST_DATA' + \"/\" + time.strftime(\"%d_%m_%Y\") # 26.04.2021\n",
    "def getPath(filename = \"\", directory = \"\"):\n",
    "    return DIR + \"/\" + directory + \"/\" + filename"
   ]
  },
  {
   "cell_type": "code",
   "execution_count": 2,
   "metadata": {},
   "outputs": [],
   "source": [
    "shutil.rmtree(DIR, ignore_errors=True)\n",
    "os.makedirs(getPath(directory = \"SPARSE\"))\n",
    "os.makedirs(getPath(directory = \"DENSE\"))"
   ]
  },
  {
   "cell_type": "code",
   "execution_count": 3,
   "metadata": {},
   "outputs": [
    {
     "output_type": "stream",
     "name": "stdout",
     "text": [
      "51\n"
     ]
    }
   ],
   "source": [
    "# create sparse random qubos\n",
    "# 3 variables connected\n",
    "# start with 3x15 qubits\n",
    "max_qubits = 150\n",
    "var = 3\n",
    "multiple = 15\n",
    "while True:\n",
    "    qp = RandomQubo.create_random_qubo(\"test_\" + str(multiple), var, multiple=multiple)              \n",
    "    qp.write_to_lp_file(getPath(qp.name, directory = \"SPARSE\"))\n",
    "    if qp.get_num_vars() > max_qubits :\n",
    "        print(multiple)\n",
    "        break\n",
    "    multiple = multiple + 6\n",
    "    "
   ]
  },
  {
   "cell_type": "code",
   "execution_count": 4,
   "metadata": {},
   "outputs": [
    {
     "output_type": "stream",
     "name": "stdout",
     "text": [
      "70\n"
     ]
    }
   ],
   "source": [
    "# create dense random qubos\n",
    "# start with 10 variables\n",
    "max_qubits = 60\n",
    "var = 10\n",
    "while True:\n",
    "    qp = RandomQubo.create_random_qubo(\"test_\" + str(var), var)              \n",
    "    qp.write_to_lp_file(getPath(qp.name, directory = \"DENSE\"))\n",
    "    if qp.get_num_vars() > max_qubits :\n",
    "        print(var)\n",
    "        break\n",
    "    var = var + 10\n",
    "    "
   ]
  },
  {
   "cell_type": "code",
   "execution_count": null,
   "metadata": {},
   "outputs": [],
   "source": []
  }
 ]
}