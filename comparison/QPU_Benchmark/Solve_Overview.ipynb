{
 "metadata": {
  "language_info": {
   "codemirror_mode": {
    "name": "ipython",
    "version": 3
   },
   "file_extension": ".py",
   "mimetype": "text/x-python",
   "name": "python",
   "nbconvert_exporter": "python",
   "pygments_lexer": "ipython3",
   "version": "3.8.8"
  },
  "orig_nbformat": 2,
  "kernelspec": {
   "name": "python388jvsc74a57bd0173f2ffbce537830dc37cc01123f1dcc118f483457eee13e6b392e68a5e39cc7",
   "display_name": "Python 3.8.8 64-bit ('Qiskit_Ocean': conda)"
  }
 },
 "nbformat": 4,
 "nbformat_minor": 2,
 "cells": [
  {
   "cell_type": "code",
   "execution_count": 1,
   "metadata": {},
   "outputs": [
    {
     "output_type": "execute_result",
     "data": {
      "text/plain": [
       "'TEST_DATA/21_05_2021'"
      ]
     },
     "metadata": {},
     "execution_count": 1
    }
   ],
   "source": [
    "import time, warnings\n",
    "from typing import Tuple\n",
    "warnings.simplefilter(\"ignore\")\n",
    "import numpy as np\n",
    "\n",
    "from qiskit import IBMQ\n",
    "from qiskit.test.mock import FakeMumbai\n",
    "from qiskit.test.mock.fake_qasm_backend import FakeQasmBackend\n",
    "from qiskit.providers.aer import AerSimulator\n",
    "from qiskit.providers.aer.noise import NoiseModel\n",
    "from qiskit_optimization import QuadraticProgram\n",
    "from qiskit_optimization.algorithms import MinimumEigenOptimizer as MEO\n",
    "from qiskit_optimization.algorithms import MinimumEigenOptimizationResult as MEORes\n",
    "from qiskit_optimization.algorithms import CplexOptimizer\n",
    "\n",
    "import dimod\n",
    "from dwave.system import DWaveSampler, EmbeddingComposite, DWaveCliqueSampler\n",
    "\n",
    "\n",
    "from utilities.helpers import create_qaoa_meo, create_quadratic_programs_from_paths\n",
    "DIR = 'TEST_DATA' + \"/\" + time.strftime(\"%d_%m_%Y\")\n",
    "DIR"
   ]
  },
  {
   "cell_type": "code",
   "execution_count": 2,
   "metadata": {},
   "outputs": [],
   "source": [
    "# select QUBOs to solve\n",
    "qps_dense = create_quadratic_programs_from_paths(DIR + \"/DENSE/\")\n",
    "qp_dense = qps_dense['test_3']\n",
    "qps_sparse = create_quadratic_programs_from_paths(DIR + \"/SPARSE/\")\n",
    "qp_sparse = qps_sparse['test_3']\n",
    "qps_multiple = create_quadratic_programs_from_paths(DIR + \"/MULTIPLE/\")\n",
    "qp_mult = qps_multiple[\"test_20\"]\n",
    "\n",
    "qp_cplex = create_quadratic_programs_from_paths(DIR + \"/CPLEX/\")['test_cplex']"
   ]
  },
  {
   "cell_type": "code",
   "execution_count": 3,
   "metadata": {},
   "outputs": [],
   "source": [
    "# set parameters and arguments\n",
    "num_reads = 1024\n",
    "classic_iters = 5\n",
    "\n",
    "def qaoa_callback(eval_ct: int, opt_pars: np.ndarray, mean: float, stdev: float) -> None:\n",
    "    \"\"\"Print parameterset of last iteration.\"\"\"\n",
    "    if eval_ct == classic_iters:\n",
    "        print(\"Evaluation count reached \", eval_ct, \"with pars:\", opt_pars)\n",
    "\n",
    "device = FakeMumbai()\n",
    "qaoa_kwargs = {\"shots\": num_reads, \"noise_model\": NoiseModel.from_backend(device),\n",
    "                \"max_iter\": classic_iters, \"qaoa_callback\": qaoa_callback, \"optimization_level\": 3}\n",
    "\n",
    "dwave_parameters = {'num_reads': num_reads, 'annealing_time': 3}"
   ]
  },
  {
   "cell_type": "code",
   "execution_count": 4,
   "metadata": {},
   "outputs": [],
   "source": [
    "def init_qaoa_optimizers(device: FakeQasmBackend) -> Tuple[MEO, MEO]:\n",
    "    # init local backend simulator with noise model\n",
    "    local = AerSimulator.from_backend(device)\n",
    "    qaoa_local = create_qaoa_meo(backend=local, **qaoa_kwargs)\n",
    "    # init IBM Q Experience Simulator\n",
    "    IBMQ.load_account()\n",
    "    ibmq = IBMQ.get_provider(hub='ibm-q').get_backend('simulator_statevector')\n",
    "    conf = device.configuration()\n",
    "    qaoa_ibmq_sim = create_qaoa_meo(backend=ibmq, coupling_map=conf.coupling_map, basis_gates=conf.basis_gates,   \n",
    "                                **qaoa_kwargs)\n",
    "    return qaoa_local, qaoa_ibmq_sim"
   ]
  },
  {
   "cell_type": "code",
   "execution_count": 5,
   "metadata": {},
   "outputs": [],
   "source": [
    "# init Optimizers\n",
    "cplex = CplexOptimizer()\n",
    "qaoa_local_sim, qaoa_ibmq_sim = init_qaoa_optimizers(device)\n",
    "\n",
    "dwave_dense = DWaveCliqueSampler()\n",
    "dwave_sparse = EmbeddingComposite(DWaveSampler()) # TODO rename to dwave_auto\n",
    "\n",
    "def dwave_solve_qp(sampler: dimod.Sampler, qubo: QuadraticProgram):\n",
    "    bqm = dimod.as_bqm(qubo.objective.linear.to_array(), qubo.objective.quadratic.to_array(), dimod.BINARY)\n",
    "    sampleset = sampler.sample(bqm, **dwave_parameters)\n",
    "    return sampleset"
   ]
  },
  {
   "cell_type": "code",
   "execution_count": 6,
   "metadata": {},
   "outputs": [],
   "source": [
    "def eval_qaoa_result(res: MEORes) -> Tuple[float, float]:\n",
    "    prob = res.samples[0].probability\n",
    "    fval = res.samples[0].fval\n",
    "    return prob, fval"
   ]
  },
  {
   "cell_type": "code",
   "execution_count": 22,
   "metadata": {},
   "outputs": [],
   "source": [
    "def eval_bqm_sampleset(sampleset) -> Tuple[float, float]:\n",
    "    prob = sampleset.record.num_occurrences[0] / num_reads\n",
    "    fval = sampleset.record.energy[0]\n",
    "    return prob, fval"
   ]
  },
  {
   "cell_type": "code",
   "execution_count": 8,
   "metadata": {},
   "outputs": [
    {
     "output_type": "stream",
     "name": "stdout",
     "text": [
      "test_3\n",
      "optimal function value: -7.0\n",
      "optimal value: [0. 1. 0.]\n",
      "status: SUCCESS\n",
      "test_3\n",
      "optimal function value: -30.0\n",
      "optimal value: [1. 1. 1. 1. 0. 1. 1. 0. 1.]\n",
      "status: SUCCESS\n"
     ]
    }
   ],
   "source": [
    "# solve classically\n",
    "for qp in (qp_dense, qp_sparse):\n",
    "    print(qp.name)\n",
    "    print(cplex.solve(qp))"
   ]
  },
  {
   "cell_type": "code",
   "execution_count": 9,
   "metadata": {},
   "outputs": [
    {
     "output_type": "stream",
     "name": "stdout",
     "text": [
      "Evaluation count reached  5 with pars: [-0.4452515  -0.11805434]\n"
     ]
    },
    {
     "output_type": "execute_result",
     "data": {
      "text/plain": [
       "(True, 0.18584078672878301, -7.0)"
      ]
     },
     "metadata": {},
     "execution_count": 9
    }
   ],
   "source": [
    "# solve by using Mumbai noise model with local qasm sim\n",
    "res_dense_qaoa = qaoa_local_sim.solve(qp_dense)\n",
    "eval_qaoa_result(res_dense_qaoa)"
   ]
  },
  {
   "cell_type": "code",
   "execution_count": 10,
   "metadata": {},
   "outputs": [
    {
     "output_type": "execute_result",
     "data": {
      "text/plain": [
       "(True, 1.0, -7.0)"
      ]
     },
     "metadata": {},
     "execution_count": 10
    }
   ],
   "source": [
    "# solve by using D-Wave Pegasus Advantage system\n",
    "res_dense_dwave = dwave_solve_qp(dwave_dense, qp_dense)\n",
    "eval_bqm_sampleset(res_dense_dwave)"
   ]
  },
  {
   "cell_type": "code",
   "execution_count": 12,
   "metadata": {},
   "outputs": [
    {
     "output_type": "execute_result",
     "data": {
      "text/plain": [
       "optimal function value: -34.0\n",
       "optimal value: [ 1. -0.  1.  1.  0.  1.  0.  0.  1.  0.  0.  0.  1.  1.  1.  1.  1.  0.\n",
       "  1.  1.  0.  0.  0.  0.]\n",
       "status: SUCCESS"
      ]
     },
     "metadata": {},
     "execution_count": 12
    }
   ],
   "source": [
    "qp_sparse = qps_sparse['test_8']\n",
    "cplex.solve(qp_sparse)"
   ]
  },
  {
   "cell_type": "code",
   "execution_count": 13,
   "metadata": {},
   "outputs": [
    {
     "output_type": "stream",
     "name": "stderr",
     "text": [
      "/home/tom/anaconda3/envs/Qiskit_Ocean/lib/python3.8/site-packages/qiskit/providers/ibmq/ibmqbackend.py:810: DeprecationWarning: Passing a Qobj to Backend.run is deprecated and will be removed in a future release. Please pass in circuits or pulse schedules instead.\n",
      "  return super().run(circuits, job_name=job_name, job_share_level=job_share_level,\n",
      "/home/tom/anaconda3/envs/Qiskit_Ocean/lib/python3.8/site-packages/qiskit/providers/ibmq/ibmqbackend.py:810: DeprecationWarning: Passing a Qobj to Backend.run is deprecated and will be removed in a future release. Please pass in circuits or pulse schedules instead.\n",
      "  return super().run(circuits, job_name=job_name, job_share_level=job_share_level,\n",
      "/home/tom/anaconda3/envs/Qiskit_Ocean/lib/python3.8/site-packages/qiskit/providers/ibmq/ibmqbackend.py:810: DeprecationWarning: Passing a Qobj to Backend.run is deprecated and will be removed in a future release. Please pass in circuits or pulse schedules instead.\n",
      "  return super().run(circuits, job_name=job_name, job_share_level=job_share_level,\n",
      "/home/tom/anaconda3/envs/Qiskit_Ocean/lib/python3.8/site-packages/qiskit/providers/ibmq/ibmqbackend.py:810: DeprecationWarning: Passing a Qobj to Backend.run is deprecated and will be removed in a future release. Please pass in circuits or pulse schedules instead.\n",
      "  return super().run(circuits, job_name=job_name, job_share_level=job_share_level,\n",
      "/home/tom/anaconda3/envs/Qiskit_Ocean/lib/python3.8/site-packages/qiskit/providers/ibmq/ibmqbackend.py:810: DeprecationWarning: Passing a Qobj to Backend.run is deprecated and will be removed in a future release. Please pass in circuits or pulse schedules instead.\n",
      "  return super().run(circuits, job_name=job_name, job_share_level=job_share_level,\n",
      "Evaluation count reached  5 with pars: [-0.49264645  5.43584363]\n",
      "/home/tom/anaconda3/envs/Qiskit_Ocean/lib/python3.8/site-packages/qiskit/providers/ibmq/ibmqbackend.py:810: DeprecationWarning: Passing a Qobj to Backend.run is deprecated and will be removed in a future release. Please pass in circuits or pulse schedules instead.\n",
      "  return super().run(circuits, job_name=job_name, job_share_level=job_share_level,\n"
     ]
    },
    {
     "output_type": "execute_result",
     "data": {
      "text/plain": [
       "(True, 0.00097712146924277, -19.0)"
      ]
     },
     "metadata": {},
     "execution_count": 13
    }
   ],
   "source": [
    "# solve by using Mumbai noise model with IBM Q Experience simulator\n",
    "warnings.filterwarnings(\"ignore\", category=DeprecationWarning)\n",
    "res_sparse_qaoa = qaoa_ibmq_sim.solve(qp_sparse)\n",
    "eval_qaoa_result(res_sparse_qaoa)"
   ]
  },
  {
   "cell_type": "code",
   "execution_count": 14,
   "metadata": {},
   "outputs": [
    {
     "output_type": "execute_result",
     "data": {
      "text/plain": [
       "optimal function value: -3859.0\n",
       "optimal value: [1. 1. 1. 0. 1. 0. 1. 0. 1. 1. 1. 1. 1. 1. 0. 1. 1. 1. 0. 1. 1. 1. 0. 0.\n",
       " 1. 1. 1. 1. 1. 0. 1. 1. 1. 0. 1. 1. 0. 0. 1. 1. 0. 1. 0. 1. 0. 1. 0. 1.\n",
       " 1. 0. 0. 1. 1. 0. 1. 0. 0. 0. 0. 1. 1. 1. 1. 1. 1. 1. 1. 1. 0. 1. 1. 1.\n",
       " 1. 1. 0. 0. 0. 1. 0. 1. 1. 1. 1. 1. 1. 1. 0. 0. 1. 1. 0. 1. 1. 1. 0. 0.\n",
       " 0. 1. 1. 0. 0. 1. 0. 1. 0. 1. 0. 1. 1. 1. 0. 1. 1. 1. 0. 1. 0. 1. 1. 1.\n",
       " 1. 0. 1. 0. 0. 1. 0. 1. 1. 1. 0. 1. 0. 1. 1. 1. 1. 0. 0. 0. 0. 1. 1. 0.\n",
       " 1. 1. 0. 1. 1. 1. 1. 0. 1. 1. 1. 1. 0. 0. 1. 0. 1. 0. 0. 0. 0. 0. 1. 0.\n",
       " 1. 1. 0. 0. 0. 0. 1. 1. 0. 0. 1. 1. 0. 0. 1. 1. 1. 1. 1. 1. 0. 1. 1. 0.\n",
       " 1. 0. 0. 0. 0. 0. 0. 1. 1. 0. 0. 1. 1. 0. 1. 1. 1. 1. 1. 0. 0. 1. 0. 1.\n",
       " 1. 1. 0. 1. 0. 1. 0. 1. 0. 1. 0. 1. 1. 1. 1. 1. 0. 1. 0. 1. 0. 1. 1. 1.\n",
       " 1. 1. 1. 1. 0. 1. 0. 1. 1. 0. 0. 1. 1. 1. 0. 1. 1. 1. 0. 1. 0. 1. 1. 0.\n",
       " 1. 1. 1. 1. 1. 1. 1. 0. 1. 0. 1. 1. 1. 0. 1. 0. 1. 1. 1. 0. 0. 1. 0. 1.\n",
       " 1. 1. 0. 1. 0. 1. 1. 1. 1. 0. 1. 0. 0. 0. 1. 1. 1. 1. 1. 0. 1. 1. 0. 1.\n",
       " 0. 1. 1. 0. 0. 1. 1. 1. 0. 1. 1. 1. 0. 1. 0. 0. 0. 1. 1. 0. 1. 0. 0. 1.\n",
       " 1. 1. 1. 0. 1. 1. 1. 1. 1. 0. 0. 1. 1. 1. 1. 1. 1. 0. 0. 0. 1. 0. 0. 1.\n",
       " 0. 1. 0. 1. 0. 1. 0. 1. 1. 1. 1. 0. 0. 0. 0. 0. 1. 1. 0. 0. 1. 0. 1. 1.\n",
       " 1. 0. 1. 0. 1. 0. 1. 1. 0. 1. 1. 0. 0. 1. 0. 1. 1. 0. 0. 0. 0. 1. 0. 1.\n",
       " 0. 0. 0. 1. 0. 1. 1. 0. 1. 0. 0. 1. 1. 0. 0. 0. 0. 1. 1. 1. 0. 1. 0. 1.\n",
       " 0. 1. 0. 1. 0. 0. 1. 0. 1. 0. 1. 0. 0. 0. 1. 1. 0. 1. 1. 1. 0. 1. 1. 0.\n",
       " 1. 1. 0. 1. 0. 1. 1. 0. 0. 1. 0. 1. 1. 0. 0. 1. 0. 1. 1. 1. 1. 1. 0. 0.\n",
       " 1. 1. 1. 1. 1. 1. 0. 0. 0. 1. 0. 1. 1. 0. 1. 1. 1. 1. 0. 1. 1. 1. 1. 1.\n",
       " 1. 1. 1. 0. 1. 0. 1. 0. 1. 1. 1. 1. 1. 0. 0. 1. 0. 0. 1. 1. 0. 1. 1. 1.\n",
       " 1. 1. 1. 1. 0. 1. 0. 0. 1. 1. 0. 1.]\n",
       "status: SUCCESS"
      ]
     },
     "metadata": {},
     "execution_count": 14
    }
   ],
   "source": [
    "cplex.solve(qp_mult) # takes just a few minutes"
   ]
  },
  {
   "cell_type": "code",
   "execution_count": 15,
   "metadata": {},
   "outputs": [
    {
     "output_type": "execute_result",
     "data": {
      "text/plain": [
       "(True, 0.0009765625, -3720.0)"
      ]
     },
     "metadata": {},
     "execution_count": 15
    }
   ],
   "source": [
    "# solve by using D-Wave Pegasus Advantage system\n",
    "res_mult_dwave = dwave_solve_qp(dwave_sparse, qp_mult)\n",
    "eval_bqm_sampleset(res_mult_dwave)"
   ]
  },
  {
   "cell_type": "code",
   "execution_count": 20,
   "metadata": {},
   "outputs": [
    {
     "output_type": "stream",
     "name": "stdout",
     "text": [
      "optimal function value: -66.0\noptimal value: [1. 1. 1. 1. 1. 1. 1. 1. 1. 0.]\nstatus: SUCCESS\n"
     ]
    },
    {
     "output_type": "execute_result",
     "data": {
      "text/plain": [
       "0.2542507479993219"
      ]
     },
     "metadata": {},
     "execution_count": 20
    }
   ],
   "source": [
    "start_time = time.perf_counter()\n",
    "res_cplex = cplex.solve(qp_cplex)\n",
    "cplex_runtime = time.perf_counter() - start_time\n",
    "print(res_cplex)\n",
    "cplex_runtime"
   ]
  },
  {
   "cell_type": "code",
   "execution_count": 23,
   "metadata": {},
   "outputs": [
    {
     "output_type": "stream",
     "name": "stdout",
     "text": [
      "(0.458984375, -66.0)\n"
     ]
    },
    {
     "output_type": "execute_result",
     "data": {
      "text/plain": [
       "0.503130922001219"
      ]
     },
     "metadata": {},
     "execution_count": 23
    }
   ],
   "source": [
    "start_time = time.perf_counter()\n",
    "res_cplex_dwave = dwave_solve_qp(dwave_sparse, qp_cplex)\n",
    "dwave_runtime = time.perf_counter() - start_time\n",
    "print(eval_bqm_sampleset(res_cplex_dwave))\n",
    "dwave_runtime"
   ]
  },
  {
   "cell_type": "code",
   "execution_count": null,
   "metadata": {},
   "outputs": [],
   "source": []
  }
 ]
}