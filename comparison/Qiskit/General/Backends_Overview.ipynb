{
 "cells": [
  {
   "cell_type": "code",
   "execution_count": 1,
   "metadata": {},
   "outputs": [],
   "source": [
    "from qiskit import IBMQ\n",
    "import networkx as nx\n",
    "from qiskit.providers.ibmq import least_busy\n",
    "import matplotlib.pyplot as plt"
   ]
  },
  {
   "cell_type": "code",
   "execution_count": 2,
   "metadata": {},
   "outputs": [
    {
     "output_type": "execute_result",
     "data": {
      "text/plain": [
       "[<AccountProvider for IBMQ(hub='ibm-q', group='open', project='main')>]"
      ]
     },
     "metadata": {},
     "execution_count": 2
    }
   ],
   "source": [
    "IBMQ.load_account() # Load account from disk\n",
    "IBMQ.providers()    # List all available providers"
   ]
  },
  {
   "cell_type": "code",
   "execution_count": 3,
   "metadata": {},
   "outputs": [
    {
     "output_type": "execute_result",
     "data": {
      "text/plain": [
       "[<IBMQSimulator('ibmq_qasm_simulator') from IBMQ(hub='ibm-q', group='open', project='main')>,\n",
       " <IBMQBackend('ibmqx2') from IBMQ(hub='ibm-q', group='open', project='main')>,\n",
       " <IBMQBackend('ibmq_16_melbourne') from IBMQ(hub='ibm-q', group='open', project='main')>,\n",
       " <IBMQBackend('ibmq_armonk') from IBMQ(hub='ibm-q', group='open', project='main')>,\n",
       " <IBMQBackend('ibmq_athens') from IBMQ(hub='ibm-q', group='open', project='main')>,\n",
       " <IBMQBackend('ibmq_santiago') from IBMQ(hub='ibm-q', group='open', project='main')>,\n",
       " <IBMQBackend('ibmq_lima') from IBMQ(hub='ibm-q', group='open', project='main')>,\n",
       " <IBMQBackend('ibmq_belem') from IBMQ(hub='ibm-q', group='open', project='main')>,\n",
       " <IBMQBackend('ibmq_quito') from IBMQ(hub='ibm-q', group='open', project='main')>,\n",
       " <IBMQSimulator('simulator_statevector') from IBMQ(hub='ibm-q', group='open', project='main')>,\n",
       " <IBMQSimulator('simulator_mps') from IBMQ(hub='ibm-q', group='open', project='main')>,\n",
       " <IBMQSimulator('simulator_extended_stabilizer') from IBMQ(hub='ibm-q', group='open', project='main')>,\n",
       " <IBMQSimulator('simulator_stabilizer') from IBMQ(hub='ibm-q', group='open', project='main')>]"
      ]
     },
     "metadata": {},
     "execution_count": 3
    }
   ],
   "source": [
    "provider = IBMQ.get_provider(hub='ibm-q')\n",
    "provider.backends()"
   ]
  },
  {
   "cell_type": "code",
   "execution_count": 4,
   "metadata": {},
   "outputs": [
    {
     "output_type": "stream",
     "name": "stdout",
     "text": [
      " Backend with only 42 pending jobs is ibmq_belem\n"
     ]
    }
   ],
   "source": [
    "backends = provider.backends(filters=lambda x: x.configuration().n_qubits >= 5\n",
    "                                    and not x.configuration().simulator\n",
    "                                    and x.status().operational==True)\n",
    "\n",
    "print(f\" Backend with only {least_busy(backends).status().pending_jobs} pending jobs is {least_busy(backends).name()}\")"
   ]
  },
  {
   "cell_type": "code",
   "execution_count": 5,
   "metadata": {},
   "outputs": [
    {
     "output_type": "stream",
     "name": "stdout",
     "text": [
      "5ec99ce097dd450014f7459e\n",
      "5e9aa85c39011700187a55da\n",
      " ibmq_16_melbourne currently has 14755 pending jobs\n"
     ]
    }
   ],
   "source": [
    "backend = provider.get_backend('ibmq_16_melbourne')\n",
    "\n",
    "# list all jobs which have been executed from our provider\n",
    "for job in backend.jobs():\n",
    "    print(job.job_id())\n",
    "    \n",
    "print(f\" {backend.name()} currently has {backend.status().pending_jobs} pending jobs\")"
   ]
  },
  {
   "cell_type": "code",
   "execution_count": 6,
   "metadata": {},
   "outputs": [
    {
     "output_type": "display_data",
     "data": {
      "text/plain": "<Figure size 432x288 with 1 Axes>",
      "image/svg+xml": "<?xml version=\"1.0\" encoding=\"utf-8\" standalone=\"no\"?>\n<!DOCTYPE svg PUBLIC \"-//W3C//DTD SVG 1.1//EN\"\n  \"http://www.w3.org/Graphics/SVG/1.1/DTD/svg11.dtd\">\n<svg height=\"231.84pt\" version=\"1.1\" viewBox=\"0 0 349.2 231.84\" width=\"349.2pt\" xmlns=\"http://www.w3.org/2000/svg\" xmlns:xlink=\"http://www.w3.org/1999/xlink\">\n <metadata>\n  <rdf:RDF xmlns:cc=\"http://creativecommons.org/ns#\" xmlns:dc=\"http://purl.org/dc/elements/1.1/\" xmlns:rdf=\"http://www.w3.org/1999/02/22-rdf-syntax-ns#\">\n   <cc:Work>\n    <dc:type rdf:resource=\"http://purl.org/dc/dcmitype/StillImage\"/>\n    <dc:date>2021-04-09T11:26:05.488549</dc:date>\n    <dc:format>image/svg+xml</dc:format>\n    <dc:creator>\n     <cc:Agent>\n      <dc:title>Matplotlib v3.4.1, https://matplotlib.org/</dc:title>\n     </cc:Agent>\n    </dc:creator>\n   </cc:Work>\n  </rdf:RDF>\n </metadata>\n <defs>\n  <style type=\"text/css\">*{stroke-linecap:butt;stroke-linejoin:round;}</style>\n </defs>\n <g id=\"figure_1\">\n  <g id=\"patch_1\">\n   <path d=\"M 0 231.84 \nL 349.2 231.84 \nL 349.2 0 \nL 0 0 \nz\n\" style=\"fill:none;\"/>\n  </g>\n  <g id=\"axes_1\">\n   <g id=\"patch_2\">\n    <path d=\"M 7.2 224.64 \nL 342 224.64 \nL 342 7.2 \nL 7.2 7.2 \nz\n\" style=\"fill:#ffffff;\"/>\n   </g>\n   <g id=\"LineCollection_1\">\n    <path clip-path=\"url(#p95da62fe9e)\" d=\"M 326.781818 139.471881 \nL 285.598354 114.680731 \n\" style=\"fill:none;stroke:#000000;\"/>\n    <path clip-path=\"url(#p95da62fe9e)\" d=\"M 326.781818 139.471881 \nL 312.979355 214.756364 \n\" style=\"fill:none;stroke:#000000;\"/>\n    <path clip-path=\"url(#p95da62fe9e)\" d=\"M 285.598354 114.680731 \nL 243.92863 91.585412 \n\" style=\"fill:none;stroke:#000000;\"/>\n    <path clip-path=\"url(#p95da62fe9e)\" d=\"M 285.598354 114.680731 \nL 271.131149 194.303473 \n\" style=\"fill:none;stroke:#000000;\"/>\n    <path clip-path=\"url(#p95da62fe9e)\" d=\"M 243.92863 91.585412 \nL 202.052316 69.515215 \n\" style=\"fill:none;stroke:#000000;\"/>\n    <path clip-path=\"url(#p95da62fe9e)\" d=\"M 243.92863 91.585412 \nL 229.397658 172.641956 \n\" style=\"fill:none;stroke:#000000;\"/>\n    <path clip-path=\"url(#p95da62fe9e)\" d=\"M 202.052316 69.515215 \nL 159.888193 48.670998 \n\" style=\"fill:none;stroke:#000000;\"/>\n    <path clip-path=\"url(#p95da62fe9e)\" d=\"M 202.052316 69.515215 \nL 187.707381 151.091333 \n\" style=\"fill:none;stroke:#000000;\"/>\n    <path clip-path=\"url(#p95da62fe9e)\" d=\"M 159.888193 48.670998 \nL 117.222852 30.001948 \n\" style=\"fill:none;stroke:#000000;\"/>\n    <path clip-path=\"url(#p95da62fe9e)\" d=\"M 159.888193 48.670998 \nL 145.914978 130.217551 \n\" style=\"fill:none;stroke:#000000;\"/>\n    <path clip-path=\"url(#p95da62fe9e)\" d=\"M 117.222852 30.001948 \nL 73.740694 17.083636 \n\" style=\"fill:none;stroke:#000000;\"/>\n    <path clip-path=\"url(#p95da62fe9e)\" d=\"M 117.222852 30.001948 \nL 103.817373 110.599787 \n\" style=\"fill:none;stroke:#000000;\"/>\n    <path clip-path=\"url(#p95da62fe9e)\" d=\"M 73.740694 17.083636 \nL 60.915773 93.811694 \n\" style=\"fill:none;stroke:#000000;\"/>\n    <path clip-path=\"url(#p95da62fe9e)\" d=\"M 22.418182 126.501226 \nL 60.915773 93.811694 \n\" style=\"fill:none;stroke:#000000;\"/>\n    <path clip-path=\"url(#p95da62fe9e)\" d=\"M 60.915773 93.811694 \nL 103.817373 110.599787 \n\" style=\"fill:none;stroke:#000000;\"/>\n    <path clip-path=\"url(#p95da62fe9e)\" d=\"M 103.817373 110.599787 \nL 145.914978 130.217551 \n\" style=\"fill:none;stroke:#000000;\"/>\n    <path clip-path=\"url(#p95da62fe9e)\" d=\"M 145.914978 130.217551 \nL 187.707381 151.091333 \n\" style=\"fill:none;stroke:#000000;\"/>\n    <path clip-path=\"url(#p95da62fe9e)\" d=\"M 187.707381 151.091333 \nL 229.397658 172.641956 \n\" style=\"fill:none;stroke:#000000;\"/>\n    <path clip-path=\"url(#p95da62fe9e)\" d=\"M 229.397658 172.641956 \nL 271.131149 194.303473 \n\" style=\"fill:none;stroke:#000000;\"/>\n    <path clip-path=\"url(#p95da62fe9e)\" d=\"M 271.131149 194.303473 \nL 312.979355 214.756364 \n\" style=\"fill:none;stroke:#000000;\"/>\n   </g>\n   <g id=\"matplotlib.axis_1\">\n    <g id=\"xtick_1\"/>\n    <g id=\"xtick_2\"/>\n    <g id=\"xtick_3\"/>\n    <g id=\"xtick_4\"/>\n    <g id=\"xtick_5\"/>\n    <g id=\"xtick_6\"/>\n    <g id=\"xtick_7\"/>\n    <g id=\"xtick_8\"/>\n   </g>\n   <g id=\"matplotlib.axis_2\">\n    <g id=\"ytick_1\"/>\n    <g id=\"ytick_2\"/>\n    <g id=\"ytick_3\"/>\n    <g id=\"ytick_4\"/>\n    <g id=\"ytick_5\"/>\n    <g id=\"ytick_6\"/>\n    <g id=\"ytick_7\"/>\n   </g>\n   <g id=\"PathCollection_1\">\n    <defs>\n     <path d=\"M 0 8.660254 \nC 2.296726 8.660254 4.499694 7.747755 6.123724 6.123724 \nC 7.747755 4.499694 8.660254 2.296726 8.660254 0 \nC 8.660254 -2.296726 7.747755 -4.499694 6.123724 -6.123724 \nC 4.499694 -7.747755 2.296726 -8.660254 0 -8.660254 \nC -2.296726 -8.660254 -4.499694 -7.747755 -6.123724 -6.123724 \nC -7.747755 -4.499694 -8.660254 -2.296726 -8.660254 0 \nC -8.660254 2.296726 -7.747755 4.499694 -6.123724 6.123724 \nC -4.499694 7.747755 -2.296726 8.660254 0 8.660254 \nz\n\" id=\"m86a375f1da\" style=\"stroke:#1f78b4;\"/>\n    </defs>\n    <g clip-path=\"url(#p95da62fe9e)\">\n     <use style=\"fill:#1f78b4;stroke:#1f78b4;\" x=\"326.781818\" xlink:href=\"#m86a375f1da\" y=\"139.471881\"/>\n     <use style=\"fill:#1f78b4;stroke:#1f78b4;\" x=\"285.598354\" xlink:href=\"#m86a375f1da\" y=\"114.680731\"/>\n     <use style=\"fill:#1f78b4;stroke:#1f78b4;\" x=\"243.92863\" xlink:href=\"#m86a375f1da\" y=\"91.585412\"/>\n     <use style=\"fill:#1f78b4;stroke:#1f78b4;\" x=\"202.052316\" xlink:href=\"#m86a375f1da\" y=\"69.515215\"/>\n     <use style=\"fill:#1f78b4;stroke:#1f78b4;\" x=\"159.888193\" xlink:href=\"#m86a375f1da\" y=\"48.670998\"/>\n     <use style=\"fill:#1f78b4;stroke:#1f78b4;\" x=\"117.222852\" xlink:href=\"#m86a375f1da\" y=\"30.001948\"/>\n     <use style=\"fill:#1f78b4;stroke:#1f78b4;\" x=\"73.740694\" xlink:href=\"#m86a375f1da\" y=\"17.083636\"/>\n     <use style=\"fill:#1f78b4;stroke:#1f78b4;\" x=\"22.418182\" xlink:href=\"#m86a375f1da\" y=\"126.501226\"/>\n     <use style=\"fill:#1f78b4;stroke:#1f78b4;\" x=\"60.915773\" xlink:href=\"#m86a375f1da\" y=\"93.811694\"/>\n     <use style=\"fill:#1f78b4;stroke:#1f78b4;\" x=\"103.817373\" xlink:href=\"#m86a375f1da\" y=\"110.599787\"/>\n     <use style=\"fill:#1f78b4;stroke:#1f78b4;\" x=\"145.914978\" xlink:href=\"#m86a375f1da\" y=\"130.217551\"/>\n     <use style=\"fill:#1f78b4;stroke:#1f78b4;\" x=\"187.707381\" xlink:href=\"#m86a375f1da\" y=\"151.091333\"/>\n     <use style=\"fill:#1f78b4;stroke:#1f78b4;\" x=\"229.397658\" xlink:href=\"#m86a375f1da\" y=\"172.641956\"/>\n     <use style=\"fill:#1f78b4;stroke:#1f78b4;\" x=\"271.131149\" xlink:href=\"#m86a375f1da\" y=\"194.303473\"/>\n     <use style=\"fill:#1f78b4;stroke:#1f78b4;\" x=\"312.979355\" xlink:href=\"#m86a375f1da\" y=\"214.756364\"/>\n    </g>\n   </g>\n   <g id=\"patch_3\">\n    <path d=\"M 7.2 224.64 \nL 7.2 7.2 \n\" style=\"fill:none;stroke:#000000;stroke-linecap:square;stroke-linejoin:miter;stroke-width:0.8;\"/>\n   </g>\n   <g id=\"patch_4\">\n    <path d=\"M 342 224.64 \nL 342 7.2 \n\" style=\"fill:none;stroke:#000000;stroke-linecap:square;stroke-linejoin:miter;stroke-width:0.8;\"/>\n   </g>\n   <g id=\"patch_5\">\n    <path d=\"M 7.2 224.64 \nL 342 224.64 \n\" style=\"fill:none;stroke:#000000;stroke-linecap:square;stroke-linejoin:miter;stroke-width:0.8;\"/>\n   </g>\n   <g id=\"patch_6\">\n    <path d=\"M 7.2 7.2 \nL 342 7.2 \n\" style=\"fill:none;stroke:#000000;stroke-linecap:square;stroke-linejoin:miter;stroke-width:0.8;\"/>\n   </g>\n   <g id=\"text_1\">\n    <g clip-path=\"url(#p95da62fe9e)\">\n     <!-- 0 -->\n     <g transform=\"translate(322.964318 142.783131)scale(0.12 -0.12)\">\n      <defs>\n       <path d=\"M 2034 4250 \nQ 1547 4250 1301 3770 \nQ 1056 3291 1056 2328 \nQ 1056 1369 1301 889 \nQ 1547 409 2034 409 \nQ 2525 409 2770 889 \nQ 3016 1369 3016 2328 \nQ 3016 3291 2770 3770 \nQ 2525 4250 2034 4250 \nz\nM 2034 4750 \nQ 2819 4750 3233 4129 \nQ 3647 3509 3647 2328 \nQ 3647 1150 3233 529 \nQ 2819 -91 2034 -91 \nQ 1250 -91 836 529 \nQ 422 1150 422 2328 \nQ 422 3509 836 4129 \nQ 1250 4750 2034 4750 \nz\n\" id=\"DejaVuSans-30\" transform=\"scale(0.015625)\"/>\n      </defs>\n      <use xlink:href=\"#DejaVuSans-30\"/>\n     </g>\n    </g>\n   </g>\n   <g id=\"text_2\">\n    <g clip-path=\"url(#p95da62fe9e)\">\n     <!-- 1 -->\n     <g transform=\"translate(281.780854 117.991981)scale(0.12 -0.12)\">\n      <defs>\n       <path d=\"M 794 531 \nL 1825 531 \nL 1825 4091 \nL 703 3866 \nL 703 4441 \nL 1819 4666 \nL 2450 4666 \nL 2450 531 \nL 3481 531 \nL 3481 0 \nL 794 0 \nL 794 531 \nz\n\" id=\"DejaVuSans-31\" transform=\"scale(0.015625)\"/>\n      </defs>\n      <use xlink:href=\"#DejaVuSans-31\"/>\n     </g>\n    </g>\n   </g>\n   <g id=\"text_3\">\n    <g clip-path=\"url(#p95da62fe9e)\">\n     <!-- 2 -->\n     <g transform=\"translate(240.11113 94.896662)scale(0.12 -0.12)\">\n      <defs>\n       <path d=\"M 1228 531 \nL 3431 531 \nL 3431 0 \nL 469 0 \nL 469 531 \nQ 828 903 1448 1529 \nQ 2069 2156 2228 2338 \nQ 2531 2678 2651 2914 \nQ 2772 3150 2772 3378 \nQ 2772 3750 2511 3984 \nQ 2250 4219 1831 4219 \nQ 1534 4219 1204 4116 \nQ 875 4013 500 3803 \nL 500 4441 \nQ 881 4594 1212 4672 \nQ 1544 4750 1819 4750 \nQ 2544 4750 2975 4387 \nQ 3406 4025 3406 3419 \nQ 3406 3131 3298 2873 \nQ 3191 2616 2906 2266 \nQ 2828 2175 2409 1742 \nQ 1991 1309 1228 531 \nz\n\" id=\"DejaVuSans-32\" transform=\"scale(0.015625)\"/>\n      </defs>\n      <use xlink:href=\"#DejaVuSans-32\"/>\n     </g>\n    </g>\n   </g>\n   <g id=\"text_4\">\n    <g clip-path=\"url(#p95da62fe9e)\">\n     <!-- 3 -->\n     <g transform=\"translate(198.234816 72.826465)scale(0.12 -0.12)\">\n      <defs>\n       <path d=\"M 2597 2516 \nQ 3050 2419 3304 2112 \nQ 3559 1806 3559 1356 \nQ 3559 666 3084 287 \nQ 2609 -91 1734 -91 \nQ 1441 -91 1130 -33 \nQ 819 25 488 141 \nL 488 750 \nQ 750 597 1062 519 \nQ 1375 441 1716 441 \nQ 2309 441 2620 675 \nQ 2931 909 2931 1356 \nQ 2931 1769 2642 2001 \nQ 2353 2234 1838 2234 \nL 1294 2234 \nL 1294 2753 \nL 1863 2753 \nQ 2328 2753 2575 2939 \nQ 2822 3125 2822 3475 \nQ 2822 3834 2567 4026 \nQ 2313 4219 1838 4219 \nQ 1578 4219 1281 4162 \nQ 984 4106 628 3988 \nL 628 4550 \nQ 988 4650 1302 4700 \nQ 1616 4750 1894 4750 \nQ 2613 4750 3031 4423 \nQ 3450 4097 3450 3541 \nQ 3450 3153 3228 2886 \nQ 3006 2619 2597 2516 \nz\n\" id=\"DejaVuSans-33\" transform=\"scale(0.015625)\"/>\n      </defs>\n      <use xlink:href=\"#DejaVuSans-33\"/>\n     </g>\n    </g>\n   </g>\n   <g id=\"text_5\">\n    <g clip-path=\"url(#p95da62fe9e)\">\n     <!-- 4 -->\n     <g transform=\"translate(156.070693 51.982248)scale(0.12 -0.12)\">\n      <defs>\n       <path d=\"M 2419 4116 \nL 825 1625 \nL 2419 1625 \nL 2419 4116 \nz\nM 2253 4666 \nL 3047 4666 \nL 3047 1625 \nL 3713 1625 \nL 3713 1100 \nL 3047 1100 \nL 3047 0 \nL 2419 0 \nL 2419 1100 \nL 313 1100 \nL 313 1709 \nL 2253 4666 \nz\n\" id=\"DejaVuSans-34\" transform=\"scale(0.015625)\"/>\n      </defs>\n      <use xlink:href=\"#DejaVuSans-34\"/>\n     </g>\n    </g>\n   </g>\n   <g id=\"text_6\">\n    <g clip-path=\"url(#p95da62fe9e)\">\n     <!-- 5 -->\n     <g transform=\"translate(113.405352 33.313198)scale(0.12 -0.12)\">\n      <defs>\n       <path d=\"M 691 4666 \nL 3169 4666 \nL 3169 4134 \nL 1269 4134 \nL 1269 2991 \nQ 1406 3038 1543 3061 \nQ 1681 3084 1819 3084 \nQ 2600 3084 3056 2656 \nQ 3513 2228 3513 1497 \nQ 3513 744 3044 326 \nQ 2575 -91 1722 -91 \nQ 1428 -91 1123 -41 \nQ 819 9 494 109 \nL 494 744 \nQ 775 591 1075 516 \nQ 1375 441 1709 441 \nQ 2250 441 2565 725 \nQ 2881 1009 2881 1497 \nQ 2881 1984 2565 2268 \nQ 2250 2553 1709 2553 \nQ 1456 2553 1204 2497 \nQ 953 2441 691 2322 \nL 691 4666 \nz\n\" id=\"DejaVuSans-35\" transform=\"scale(0.015625)\"/>\n      </defs>\n      <use xlink:href=\"#DejaVuSans-35\"/>\n     </g>\n    </g>\n   </g>\n   <g id=\"text_7\">\n    <g clip-path=\"url(#p95da62fe9e)\">\n     <!-- 6 -->\n     <g transform=\"translate(69.923194 20.394886)scale(0.12 -0.12)\">\n      <defs>\n       <path d=\"M 2113 2584 \nQ 1688 2584 1439 2293 \nQ 1191 2003 1191 1497 \nQ 1191 994 1439 701 \nQ 1688 409 2113 409 \nQ 2538 409 2786 701 \nQ 3034 994 3034 1497 \nQ 3034 2003 2786 2293 \nQ 2538 2584 2113 2584 \nz\nM 3366 4563 \nL 3366 3988 \nQ 3128 4100 2886 4159 \nQ 2644 4219 2406 4219 \nQ 1781 4219 1451 3797 \nQ 1122 3375 1075 2522 \nQ 1259 2794 1537 2939 \nQ 1816 3084 2150 3084 \nQ 2853 3084 3261 2657 \nQ 3669 2231 3669 1497 \nQ 3669 778 3244 343 \nQ 2819 -91 2113 -91 \nQ 1303 -91 875 529 \nQ 447 1150 447 2328 \nQ 447 3434 972 4092 \nQ 1497 4750 2381 4750 \nQ 2619 4750 2861 4703 \nQ 3103 4656 3366 4563 \nz\n\" id=\"DejaVuSans-36\" transform=\"scale(0.015625)\"/>\n      </defs>\n      <use xlink:href=\"#DejaVuSans-36\"/>\n     </g>\n    </g>\n   </g>\n   <g id=\"text_8\">\n    <g clip-path=\"url(#p95da62fe9e)\">\n     <!-- 7 -->\n     <g transform=\"translate(18.600682 129.812476)scale(0.12 -0.12)\">\n      <defs>\n       <path d=\"M 525 4666 \nL 3525 4666 \nL 3525 4397 \nL 1831 0 \nL 1172 0 \nL 2766 4134 \nL 525 4134 \nL 525 4666 \nz\n\" id=\"DejaVuSans-37\" transform=\"scale(0.015625)\"/>\n      </defs>\n      <use xlink:href=\"#DejaVuSans-37\"/>\n     </g>\n    </g>\n   </g>\n   <g id=\"text_9\">\n    <g clip-path=\"url(#p95da62fe9e)\">\n     <!-- 8 -->\n     <g transform=\"translate(57.098273 97.122944)scale(0.12 -0.12)\">\n      <defs>\n       <path d=\"M 2034 2216 \nQ 1584 2216 1326 1975 \nQ 1069 1734 1069 1313 \nQ 1069 891 1326 650 \nQ 1584 409 2034 409 \nQ 2484 409 2743 651 \nQ 3003 894 3003 1313 \nQ 3003 1734 2745 1975 \nQ 2488 2216 2034 2216 \nz\nM 1403 2484 \nQ 997 2584 770 2862 \nQ 544 3141 544 3541 \nQ 544 4100 942 4425 \nQ 1341 4750 2034 4750 \nQ 2731 4750 3128 4425 \nQ 3525 4100 3525 3541 \nQ 3525 3141 3298 2862 \nQ 3072 2584 2669 2484 \nQ 3125 2378 3379 2068 \nQ 3634 1759 3634 1313 \nQ 3634 634 3220 271 \nQ 2806 -91 2034 -91 \nQ 1263 -91 848 271 \nQ 434 634 434 1313 \nQ 434 1759 690 2068 \nQ 947 2378 1403 2484 \nz\nM 1172 3481 \nQ 1172 3119 1398 2916 \nQ 1625 2713 2034 2713 \nQ 2441 2713 2670 2916 \nQ 2900 3119 2900 3481 \nQ 2900 3844 2670 4047 \nQ 2441 4250 2034 4250 \nQ 1625 4250 1398 4047 \nQ 1172 3844 1172 3481 \nz\n\" id=\"DejaVuSans-38\" transform=\"scale(0.015625)\"/>\n      </defs>\n      <use xlink:href=\"#DejaVuSans-38\"/>\n     </g>\n    </g>\n   </g>\n   <g id=\"text_10\">\n    <g clip-path=\"url(#p95da62fe9e)\">\n     <!-- 9 -->\n     <g transform=\"translate(99.999873 113.911037)scale(0.12 -0.12)\">\n      <defs>\n       <path d=\"M 703 97 \nL 703 672 \nQ 941 559 1184 500 \nQ 1428 441 1663 441 \nQ 2288 441 2617 861 \nQ 2947 1281 2994 2138 \nQ 2813 1869 2534 1725 \nQ 2256 1581 1919 1581 \nQ 1219 1581 811 2004 \nQ 403 2428 403 3163 \nQ 403 3881 828 4315 \nQ 1253 4750 1959 4750 \nQ 2769 4750 3195 4129 \nQ 3622 3509 3622 2328 \nQ 3622 1225 3098 567 \nQ 2575 -91 1691 -91 \nQ 1453 -91 1209 -44 \nQ 966 3 703 97 \nz\nM 1959 2075 \nQ 2384 2075 2632 2365 \nQ 2881 2656 2881 3163 \nQ 2881 3666 2632 3958 \nQ 2384 4250 1959 4250 \nQ 1534 4250 1286 3958 \nQ 1038 3666 1038 3163 \nQ 1038 2656 1286 2365 \nQ 1534 2075 1959 2075 \nz\n\" id=\"DejaVuSans-39\" transform=\"scale(0.015625)\"/>\n      </defs>\n      <use xlink:href=\"#DejaVuSans-39\"/>\n     </g>\n    </g>\n   </g>\n   <g id=\"text_11\">\n    <g clip-path=\"url(#p95da62fe9e)\">\n     <!-- 10 -->\n     <g transform=\"translate(138.279978 133.528801)scale(0.12 -0.12)\">\n      <use xlink:href=\"#DejaVuSans-31\"/>\n      <use x=\"63.623047\" xlink:href=\"#DejaVuSans-30\"/>\n     </g>\n    </g>\n   </g>\n   <g id=\"text_12\">\n    <g clip-path=\"url(#p95da62fe9e)\">\n     <!-- 11 -->\n     <g transform=\"translate(180.072381 154.402583)scale(0.12 -0.12)\">\n      <use xlink:href=\"#DejaVuSans-31\"/>\n      <use x=\"63.623047\" xlink:href=\"#DejaVuSans-31\"/>\n     </g>\n    </g>\n   </g>\n   <g id=\"text_13\">\n    <g clip-path=\"url(#p95da62fe9e)\">\n     <!-- 12 -->\n     <g transform=\"translate(221.762658 175.953206)scale(0.12 -0.12)\">\n      <use xlink:href=\"#DejaVuSans-31\"/>\n      <use x=\"63.623047\" xlink:href=\"#DejaVuSans-32\"/>\n     </g>\n    </g>\n   </g>\n   <g id=\"text_14\">\n    <g clip-path=\"url(#p95da62fe9e)\">\n     <!-- 13 -->\n     <g transform=\"translate(263.496149 197.614723)scale(0.12 -0.12)\">\n      <use xlink:href=\"#DejaVuSans-31\"/>\n      <use x=\"63.623047\" xlink:href=\"#DejaVuSans-33\"/>\n     </g>\n    </g>\n   </g>\n   <g id=\"text_15\">\n    <g clip-path=\"url(#p95da62fe9e)\">\n     <!-- 14 -->\n     <g transform=\"translate(305.344355 218.067614)scale(0.12 -0.12)\">\n      <use xlink:href=\"#DejaVuSans-31\"/>\n      <use x=\"63.623047\" xlink:href=\"#DejaVuSans-34\"/>\n     </g>\n    </g>\n   </g>\n  </g>\n </g>\n <defs>\n  <clipPath id=\"p95da62fe9e\">\n   <rect height=\"217.44\" width=\"334.8\" x=\"7.2\" y=\"7.2\"/>\n  </clipPath>\n </defs>\n</svg>\n",
      "image/png": "[encoded data removed]"
     },
     "metadata": {}
    }
   ],
   "source": [
    "melbourne_conf = backend.configuration()\n",
    "G = nx.Graph()\n",
    "G.add_nodes_from(range(0,melbourne_conf.n_qubits))\n",
    "G.add_edges_from(melbourne_conf.coupling_map)\n",
    "pos = nx.kamada_kawai_layout(G)\n",
    "nx.draw_networkx(G, pos, with_labels = True)"
   ]
  },
  {
   "cell_type": "code",
   "execution_count": 7,
   "metadata": {},
   "outputs": [
    {
     "output_type": "execute_result",
     "data": {
      "text/plain": [
       "[Nduv(datetime.datetime(2021, 4, 8, 9, 14, 42, tzinfo=tzlocal()), T1, us, 48.57040506577225),\n",
       " Nduv(datetime.datetime(2021, 4, 8, 9, 30, 12, tzinfo=tzlocal()), T2, us, 48.11874386807706),\n",
       " Nduv(datetime.datetime(2021, 4, 8, 16, 31, 16, tzinfo=tzlocal()), frequency, GHz, 5.235058514865316),\n",
       " Nduv(datetime.datetime(2021, 4, 8, 16, 31, 16, tzinfo=tzlocal()), anharmonicity, GHz, 0),\n",
       " Nduv(datetime.datetime(2021, 4, 8, 9, 3, tzinfo=tzlocal()), readout_error, , 0.03590000000000004),\n",
       " Nduv(datetime.datetime(2021, 4, 8, 9, 3, tzinfo=tzlocal()), prob_meas0_prep1, , 0.0564),\n",
       " Nduv(datetime.datetime(2021, 4, 8, 9, 3, tzinfo=tzlocal()), prob_meas1_prep0, , 0.01539999999999997),\n",
       " Nduv(datetime.datetime(2021, 4, 8, 9, 3, tzinfo=tzlocal()), readout_length, ns, 3555.555555555555)]"
      ]
     },
     "metadata": {},
     "execution_count": 7
    }
   ],
   "source": [
    "melbourne_props = backend.properties()\n",
    "melbourne_props.qubits[1]"
   ]
  },
  {
   "cell_type": "code",
   "execution_count": 8,
   "metadata": {},
   "outputs": [
    {
     "output_type": "execute_result",
     "data": {
      "text/plain": [
       "['id', 'rz', 'sx', 'x', 'cx']"
      ]
     },
     "metadata": {},
     "execution_count": 8
    }
   ],
   "source": [
    "melbourne_conf.basis_gates"
   ]
  },
  {
   "cell_type": "code",
   "execution_count": 9,
   "metadata": {},
   "outputs": [
    {
     "output_type": "execute_result",
     "data": {
      "text/plain": [
       "10"
      ]
     },
     "metadata": {},
     "execution_count": 9
    }
   ],
   "source": [
    "gates_on_qubit_1 = [gate.to_dict() for gate in melbourne_props.gates if 1 in gate.qubits]\n",
    "len(gates_on_qubit_1)"
   ]
  },
  {
   "cell_type": "code",
   "execution_count": 10,
   "metadata": {},
   "outputs": [
    {
     "output_type": "stream",
     "name": "stdout",
     "text": [
      "id involves qubits:[1] and has an error rate of 0.0008840690366020388\nrz involves qubits:[1] and has an error rate of 0\nsx involves qubits:[1] and has an error rate of 0.0008840690366020388\nx involves qubits:[1] and has an error rate of 0.0008840690366020388\ncx involves qubits:[1, 13] and has an error rate of 0.05500223937612761\ncx involves qubits:[1, 2] and has an error rate of 0.010889085467851195\ncx involves qubits:[1, 0] and has an error rate of 0.022233585627947666\n"
     ]
    }
   ],
   "source": [
    "for gate in gates_on_qubit_1 : \n",
    "    if gate['qubits'][0] == 1:\n",
    "        print(\"{} involves qubits:{} and has an error rate of {}\".format(gate['gate'],gate['qubits'],melbourne_props.gate_error(gate['gate'], gate['qubits'])))"
   ]
  },
  {
   "cell_type": "code",
   "execution_count": null,
   "metadata": {},
   "outputs": [],
   "source": []
  }
 ],
 "metadata": {
  "kernelspec": {
   "name": "python388jvsc74a57bd0173f2ffbce537830dc37cc01123f1dcc118f483457eee13e6b392e68a5e39cc7",
   "display_name": "Python 3.8.8 64-bit ('Qiskit_Ocean': conda)"
  },
  "language_info": {
   "codemirror_mode": {
    "name": "ipython",
    "version": 3
   },
   "file_extension": ".py",
   "mimetype": "text/x-python",
   "name": "python",
   "nbconvert_exporter": "python",
   "pygments_lexer": "ipython3",
   "version": "3.8.8"
  }
 },
 "nbformat": 4,
 "nbformat_minor": 4
}