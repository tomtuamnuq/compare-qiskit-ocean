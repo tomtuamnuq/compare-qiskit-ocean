{
 "cells": [
  {
   "cell_type": "code",
   "execution_count": 2,
   "metadata": {},
   "outputs": [],
   "source": [
    "from qiskit import BasicAer\n",
    "from qiskit.aqua import QuantumInstance, aqua_globals\n",
    "from qiskit.aqua.algorithms import QAOA\n",
    "from qiskit.aqua.components.optimizers import COBYLA\n",
    "from qiskit.optimization.algorithms import MinimumEigenOptimizer, CplexOptimizer\n",
    "from qiskit.optimization import QuadraticProgram\n",
    "from qiskit.optimization.converters import QuadraticProgramToQubo\n",
    "from qiskit.optimization.algorithms.optimization_algorithm import OptimizationResultStatus\n",
    "import numpy as np\n",
    "from helpers import *\n",
    "DIR = 'TEST_DATA/'\n",
    "Q_SEED = 10598 # as used in most issues\n",
    "aqua_globals.random_seed = Q_SEED\n",
    "shots = 4096"
   ]
  },
  {
   "cell_type": "code",
   "execution_count": 3,
   "metadata": {},
   "outputs": [],
   "source": [
    "# select linear program to solve\n",
    "qps = createModelsFromDir(DIR)\n",
    "qp = qps['test_6']"
   ]
  },
  {
   "cell_type": "code",
   "execution_count": 4,
   "metadata": {},
   "outputs": [],
   "source": [
    "# init classical Optimizers\n",
    "optimizer = COBYLA() # SLSQP is default in Class VQE\n",
    "cplex = CplexOptimizer()"
   ]
  },
  {
   "cell_type": "code",
   "execution_count": 5,
   "metadata": {},
   "outputs": [],
   "source": [
    "# solve qps with Minimum Eigen Optimizer QAOA\n",
    "backend = BasicAer.get_backend('qasm_simulator')\n",
    "quantum_instance = QuantumInstance(backend,\n",
    "                                   seed_simulator=Q_SEED,\n",
    "                                   seed_transpiler=Q_SEED,\n",
    "                                   shots=shots)  # set parameters like noise model, error mitigation and coupling map...\n",
    "\n",
    "# QAOA parameters:\n",
    "\n",
    "p = 2 # circuit depth grows linear with p x qp.get_num_linear_constraints()\n",
    "initial_point = np.zeros(2 * p)  # default in this setting... Issue : QAOA no longer generates random initial points #1417\n",
    "qaoa_mes = QAOA(p = p, quantum_instance=quantum_instance, optimizer = optimizer, initial_point = initial_point)\n",
    "\n",
    "\n",
    "qaoa = MinimumEigenOptimizer(qaoa_mes)"
   ]
  },
  {
   "cell_type": "code",
   "execution_count": 6,
   "metadata": {},
   "outputs": [
    {
     "data": {
      "text/plain": [
       "optimal function value: -3.0\n",
       "optimal value: [1. 0. 0. 0. 1. 0.]\n",
       "status: SUCCESS"
      ]
     },
     "execution_count": 6,
     "metadata": {},
     "output_type": "execute_result"
    }
   ],
   "source": [
    "cplex.solve(qp)"
   ]
  },
  {
   "cell_type": "code",
   "execution_count": 7,
   "metadata": {},
   "outputs": [
    {
     "name": "stdout",
     "output_type": "stream",
     "text": [
      "number of qubits:  19\n"
     ]
    }
   ],
   "source": [
    "print(\"number of qubits: \",qp.qubo_model.get_num_vars())"
   ]
  },
  {
   "cell_type": "code",
   "execution_count": 8,
   "metadata": {},
   "outputs": [
    {
     "data": {
      "text/plain": [
       "optimal function value: 0.0\n",
       "optimal value: [1. 1. 1. 0. 1. 1.]\n",
       "status: SUCCESS"
      ]
     },
     "execution_count": 8,
     "metadata": {},
     "output_type": "execute_result"
    }
   ],
   "source": [
    "res = qaoa.solve(qp)\n",
    "res"
   ]
  },
  {
   "cell_type": "code",
   "execution_count": 12,
   "metadata": {},
   "outputs": [
    {
     "data": {
      "text/plain": [
       "True"
      ]
     },
     "execution_count": 12,
     "metadata": {},
     "output_type": "execute_result"
    }
   ],
   "source": [
    "qp.is_feasible(res.x)"
   ]
  },
  {
   "cell_type": "code",
   "execution_count": null,
   "metadata": {},
   "outputs": [],
   "source": []
  }
 ],
 "metadata": {
  "kernelspec": {
   "display_name": "Python 3",
   "language": "python",
   "name": "python3"
  },
  "language_info": {
   "codemirror_mode": {
    "name": "ipython",
    "version": 3
   },
   "file_extension": ".py",
   "mimetype": "text/x-python",
   "name": "python",
   "nbconvert_exporter": "python",
   "pygments_lexer": "ipython3",
   "version": "3.8.5"
  }
 },
 "nbformat": 4,
 "nbformat_minor": 4
}
