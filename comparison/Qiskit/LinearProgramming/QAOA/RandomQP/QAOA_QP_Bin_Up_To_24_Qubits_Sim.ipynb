{
 "cells": [
  {
   "cell_type": "code",
   "execution_count": 1,
   "metadata": {},
   "outputs": [],
   "source": [
    "from collections import OrderedDict\n",
    "import time\n",
    "import logging, warnings\n",
    "\n",
    "from qiskit.optimization.algorithms import CplexOptimizer\n",
    "from qiskit.optimization.algorithms.optimization_algorithm import OptimizationResultStatus\n",
    "\n",
    "from random_lp.lp_random_gen import create_models\n",
    "from utilities.helpers import create_qaoa_meo"
   ]
  },
  {
   "cell_type": "code",
   "execution_count": 2,
   "metadata": {},
   "outputs": [],
   "source": [
    "logger = logging.getLogger()\n",
    "logger.setLevel(logging.INFO)\n",
    "warnings.filterwarnings(\"ignore\", category=DeprecationWarning)\n"
   ]
  },
  {
   "cell_type": "code",
   "execution_count": 3,
   "metadata": {},
   "outputs": [
    {
     "output_type": "execute_result",
     "data": {
      "text/plain": [
       "'TEST_DATA/28_03_2021'"
      ]
     },
     "metadata": {},
     "execution_count": 3
    }
   ],
   "source": [
    "DIR = 'TEST_DATA' + \"/\" + time.strftime(\"%d_%m_%Y\")\n",
    "DIR"
   ]
  },
  {
   "cell_type": "code",
   "execution_count": 4,
   "metadata": {},
   "outputs": [
    {
     "output_type": "stream",
     "name": "stdout",
     "text": [
      "odict_keys(['test_dense_3', 'test_dense_5', 'test_dense_7', 'test_sparse_2', 'test_dense_9', 'test_sparse_3', 'test_dense_11', 'test_sparse_4', 'test_dense_13', 'test_sparse_5', 'test_dense_15', 'test_sparse_6'])\n"
     ]
    }
   ],
   "source": [
    "qps = create_models([DIR + \"/DENSE/\", DIR + \"/SPARSE/\"])\n",
    "print(qps.keys())"
   ]
  },
  {
   "cell_type": "code",
   "execution_count": 5,
   "metadata": {},
   "outputs": [],
   "source": [
    "cplex = CplexOptimizer()\n",
    "qaoa = create_qaoa_meo()"
   ]
  },
  {
   "cell_type": "code",
   "execution_count": 6,
   "metadata": {},
   "outputs": [
    {
     "output_type": "execute_result",
     "data": {
      "text/plain": [
       "24"
      ]
     },
     "metadata": {},
     "execution_count": 6
    }
   ],
   "source": [
    "max_qubits = qaoa.min_eigen_solver.quantum_instance.backend.configuration().to_dict()['n_qubits']\n",
    "max_qubits"
   ]
  },
  {
   "cell_type": "code",
   "execution_count": 7,
   "metadata": {},
   "outputs": [
    {
     "output_type": "stream",
     "name": "stdout",
     "text": [
      "test_dense_3\n",
      "number of qubits:  4\n",
      "success\n",
      "test_dense_5\n",
      "number of qubits:  10\n",
      "success\n",
      "test_dense_7\n",
      "number of qubits:  12\n",
      "success\n",
      "\n",
      " optimal value QAOA   2.0  ,  cplex:-5.0\n",
      "test_sparse_2\n",
      "number of qubits:  13\n",
      "success\n",
      "test_dense_9\n",
      "number of qubits:  17\n",
      "success\n",
      "\n",
      " optimal value QAOA   -1.0  ,  cplex:-4.0\n",
      "test_sparse_3\n",
      "number of qubits:  17\n",
      "success\n",
      "\n",
      " optimal value QAOA   -1.0  ,  cplex:-5.0\n",
      "test_dense_11\n",
      "number of qubits:  25\n",
      "Too many qubits!\n"
     ]
    }
   ],
   "source": [
    "results = OrderedDict()\n",
    "for qp_name, qp in qps.items() :\n",
    "    print(qp_name)\n",
    "    print(\"number of qubits: \", qp.qubo.get_num_vars())\n",
    "    if qp.qubo.get_num_vars() > max_qubits:\n",
    "        print(\"Too many qubits!\")\n",
    "        break\n",
    "        \n",
    "    \n",
    "    res = qaoa.solve(qp)\n",
    "    results[qp_name] = res\n",
    "    if res.status == OptimizationResultStatus.SUCCESS:\n",
    "        print(\"success\")\n",
    "        cres  = cplex.solve(qp)\n",
    "        if res.fval != cres.fval:\n",
    "            print(\"\\n optimal value QAOA   \"+str(res.fval) + \"  ,  cplex:\"+ str(cres.fval))\n",
    "    else:\n",
    "        print(res.status)"
   ]
  },
  {
   "cell_type": "code",
   "execution_count": null,
   "metadata": {},
   "outputs": [],
   "source": []
  }
 ],
 "metadata": {
  "kernelspec": {
   "display_name": "Python 3",
   "language": "python",
   "name": "python3"
  },
  "language_info": {
   "codemirror_mode": {
    "name": "ipython",
    "version": 3
   },
   "file_extension": ".py",
   "mimetype": "text/x-python",
   "name": "python",
   "nbconvert_exporter": "python",
   "pygments_lexer": "ipython3",
   "version": "3.8.8-final"
  }
 },
 "nbformat": 4,
 "nbformat_minor": 4
}