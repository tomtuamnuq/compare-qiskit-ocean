{
 "metadata": {
  "language_info": {
   "codemirror_mode": {
    "name": "ipython",
    "version": 3
   },
   "file_extension": ".py",
   "mimetype": "text/x-python",
   "name": "python",
   "nbconvert_exporter": "python",
   "pygments_lexer": "ipython3",
   "version": "3.8.8"
  },
  "orig_nbformat": 2,
  "kernelspec": {
   "name": "python388jvsc74a57bd0173f2ffbce537830dc37cc01123f1dcc118f483457eee13e6b392e68a5e39cc7",
   "display_name": "Python 3.8.8 64-bit ('Qiskit_Ocean': conda)"
  }
 },
 "nbformat": 4,
 "nbformat_minor": 2,
 "cells": [
  {
   "cell_type": "code",
   "execution_count": 1,
   "metadata": {},
   "outputs": [],
   "source": [
    "import time, os, logging, warnings\n",
    "import numpy as np\n",
    "from qiskit import IBMQ\n",
    "from qiskit.test.mock import FakeMumbai\n",
    "from qiskit.providers.aer import AerSimulator\n",
    "from qiskit.providers.aer.noise import NoiseModel\n",
    "from qiskit_optimization.algorithms import CplexOptimizer\n",
    "from qiskit_optimization.algorithms.optimization_algorithm import OptimizationResultStatus\n",
    "from utilities.helpers import create_qaoa_meo, create_quadratic_programs_from_paths"
   ]
  },
  {
   "cell_type": "code",
   "execution_count": 2,
   "metadata": {},
   "outputs": [
    {
     "output_type": "execute_result",
     "data": {
      "text/plain": [
       "'TEST_DATA/28_04_2021/SPARSE/'"
      ]
     },
     "metadata": {},
     "execution_count": 2
    }
   ],
   "source": [
    "TEST_DIR = 'TEST_DATA' + \"/\" + time.strftime(\"%d_%m_%Y\") + \"/SPARSE/\"\n",
    "RES_DIR = 'RESULTS' + \"/\" + time.strftime(\"%d_%m_%Y\") + \"/SPARSE/\"\n",
    "os.makedirs(RES_DIR, exist_ok=True)\n",
    "TEST_DIR"
   ]
  },
  {
   "cell_type": "code",
   "execution_count": 3,
   "metadata": {},
   "outputs": [],
   "source": [
    "logger = logging.getLogger()\n",
    "max_iter = 5 # set maximum number of optimizer iterations in qaoa online simulation\n",
    "def qaoa_callback(eval_ct: int, opt_pars: np.ndarray, mean: float, stdev: float) -> None:\n",
    "    \"\"\"Print number of iteration in QAOA and log.\"\"\"\n",
    "    print(\"Evaluation count:\", eval_ct)\n",
    "    logger.info(f\"\\n Evaluation count {eval_ct} with parameters {opt_pars} and mean {mean:.2f}\")\n",
    "    if eval_ct == max_iter:\n",
    "        logger.info(\" reached maximum number of evaluations \\n\")"
   ]
  },
  {
   "cell_type": "code",
   "execution_count": 4,
   "metadata": {},
   "outputs": [],
   "source": [
    "# select linear programs to solve\n",
    "qps = create_quadratic_programs_from_paths(TEST_DIR)\n",
    "# init local backend simulator with noise model\n",
    "device = FakeMumbai()\n",
    "local = AerSimulator.from_backend(device)\n",
    "noise_model = NoiseModel.from_backend(device)\n",
    "conf = device.configuration()\n",
    "# init IBM Q Experience Simulator\n",
    "IBMQ.load_account()\n",
    "ibmq = IBMQ.get_provider(hub='ibm-q').get_backend('simulator_statevector')\n",
    "\n",
    "# init Optimizers\n",
    "cplex = CplexOptimizer()\n",
    "quantum_instance_kwargs = {\"shots\": 4096, \"noise_model\": noise_model, \"optimization_level\": 3}\n",
    "qaoa_local_sim = create_qaoa_meo(backend=local, **quantum_instance_kwargs)\n",
    "qaoa_ibmq_sim = create_qaoa_meo(backend=ibmq, coupling_map=conf.coupling_map, basis_gates=conf.basis_gates,   \n",
    "                                  max_iter=max_iter, qaoa_callback=qaoa_callback, **quantum_instance_kwargs)\n",
    "\n",
    "# set online job informations in IBM Q Experience\n",
    "qaoa_ibmq_sim.min_eigen_solver.quantum_instance.backend_options[\"job_tags\"] = [\"qaoa\", \"sparse\", \"mumbai\"]\n",
    "def set_job_name(qp):\n",
    "    qaoa_ibmq_sim.min_eigen_solver.quantum_instance.backend_options[\"job_name\"] = \"qaoa_sparse_5_\" \\\n",
    "        + qp.name + \"_\" + str(qp.get_num_vars())"
   ]
  },
  {
   "cell_type": "code",
   "execution_count": 5,
   "metadata": {},
   "outputs": [
    {
     "output_type": "stream",
     "name": "stdout",
     "text": [
      "test_3\n",
      "number of qubits:  9\n",
      "local_qasm_simulator\n",
      "QAOA minimum eigen solver successful!\n",
      "test_4\n",
      "number of qubits:  12\n",
      "local_qasm_simulator\n",
      "QAOA minimum eigen solver successful!\n",
      "\n",
      " optimal value QAOA -41.0  ,  cplex:-46.0\n",
      "test_5\n",
      "number of qubits:  15\n",
      "local_qasm_simulator\n"
     ]
    }
   ],
   "source": [
    "warnings.filterwarnings(\"ignore\", category=DeprecationWarning)\n",
    "logger.setLevel(logging.INFO)\n",
    "count_fail_qaoa = 0\n",
    "\n",
    "for qp_name, qp in qps.items() :\n",
    "    print(qp_name)\n",
    "    print(\"number of qubits: \", qp.get_num_vars())\n",
    "    output_file_handler = logging.FileHandler(filename=RES_DIR + qp.name + \".log\")\n",
    "    logger.addHandler(output_file_handler)\n",
    "    if qp.get_num_vars() >= 15:\n",
    "        set_job_name(qp)\n",
    "        qaoa = qaoa_ibmq_sim\n",
    "        logstring = \"ibmq_simulator_statevector\"\n",
    "    else:\n",
    "        qaoa = qaoa_local_sim\n",
    "        logstring = \"local_qasm_simulator\"\n",
    "        \n",
    "    with open(RES_DIR + qp.name + '.res', 'w') as file:\n",
    "        file.write(str(\"Start \" + qp.name + \"\\n \" + str(qp.get_num_vars()) + \" qubits needed\"))  \n",
    "        file.write(\"\\n \" + logstring + \" \\n\")\n",
    "        logger.info(\"\\n \" + logstring + \" \\n\")\n",
    "        print(logstring)\n",
    "        try:\n",
    "            res_classic = cplex.solve(qp)\n",
    "            res_quantum = qaoa.solve(qp)\n",
    "            if res_quantum.status != OptimizationResultStatus.SUCCESS:\n",
    "                print(\"QAOA minimum eigen solver found no solution.\")\n",
    "                file.write(\"\\n QAOA minimum eigen solver found no solution. \\n\")\n",
    "                count_fail_qaoa = count_fail_qaoa + 1\n",
    "                if count_fail_qaoa == 3:\n",
    "                    file.write(\"\\n Stop testing \\n\")\n",
    "                    break\n",
    "            else:\n",
    "                print(\"QAOA minimum eigen solver successful!\")\n",
    "                count_fail_qaoa = 0\n",
    "                if res_quantum.fval == res_classic.fval:\n",
    "                    file.write(\"\\n QAOA found optimal solution\\n\")\n",
    "                else:\n",
    "                    print(\"\\n optimal value QAOA \"+str(res_quantum.fval) \\\n",
    "                                           + \"  ,  cplex:\"+ str(res_classic.fval))\n",
    "                    file.write(\"\\n QAOA:\\n\")\n",
    "                    file.write(str(res_quantum))\n",
    "                    file.write(\"\\n CPLEX:\\n\")\n",
    "                    file.write(str(res_classic))\n",
    "\n",
    "        except Exception as ex:\n",
    "            print(qp_name, \" \", type(ex).__name__, \" : \", ex)\n",
    "            file.write(\"\\n Cplex or QAOA solver produced an exception:\\n\")\n",
    "            file.write(str(ex))\n",
    "            count_fail_qaoa = count_fail_qaoa + 1\n",
    "            if count_fail_qaoa == 3:\n",
    "                file.write(\"\\n Stop testing because of Exception! \\n\")\n",
    "                break\n",
    "                \n",
    "    logger.removeHandler(output_file_handler)"
   ]
  },
  {
   "source": [
    "test_5 with 15 qubits takes more than 2 hours on local sim"
   ],
   "cell_type": "markdown",
   "metadata": {}
  }
 ]
}