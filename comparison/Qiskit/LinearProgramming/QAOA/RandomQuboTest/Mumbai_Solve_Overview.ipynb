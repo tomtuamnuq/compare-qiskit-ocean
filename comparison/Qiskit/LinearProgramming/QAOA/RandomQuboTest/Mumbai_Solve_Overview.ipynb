{
 "metadata": {
  "language_info": {
   "codemirror_mode": {
    "name": "ipython",
    "version": 3
   },
   "file_extension": ".py",
   "mimetype": "text/x-python",
   "name": "python",
   "nbconvert_exporter": "python",
   "pygments_lexer": "ipython3",
   "version": "3.8.8"
  },
  "orig_nbformat": 2,
  "kernelspec": {
   "name": "python388jvsc74a57bd0173f2ffbce537830dc37cc01123f1dcc118f483457eee13e6b392e68a5e39cc7",
   "display_name": "Python 3.8.8 64-bit ('Qiskit_Ocean': conda)"
  }
 },
 "nbformat": 4,
 "nbformat_minor": 2,
 "cells": [
  {
   "cell_type": "code",
   "execution_count": 1,
   "metadata": {},
   "outputs": [
    {
     "output_type": "execute_result",
     "data": {
      "text/plain": [
       "'TEST_DATA/27_04_2021'"
      ]
     },
     "metadata": {},
     "execution_count": 1
    }
   ],
   "source": [
    "import time, warnings\n",
    "import numpy as np\n",
    "from qiskit import IBMQ\n",
    "from qiskit.test.mock import FakeMumbai\n",
    "from qiskit.providers.aer import AerSimulator\n",
    "from qiskit.providers.aer.noise import NoiseModel\n",
    "from qiskit_optimization.algorithms import CplexOptimizer\n",
    "from utilities.helpers import create_qaoa_meo, create_quadratic_programs_from_paths\n",
    "DIR = 'TEST_DATA' + \"/\" + time.strftime(\"%d_%m_%Y\")\n",
    "DIR"
   ]
  },
  {
   "cell_type": "code",
   "execution_count": 2,
   "metadata": {},
   "outputs": [],
   "source": [
    "def job_callback(job_id, job_status, queue_position, job):\n",
    "    # BUG ? This is not called and not set in quantum instance (see info logging)\n",
    "    print(job_id)\n",
    "    print(job_status)\n",
    "    print(queue_position)\n",
    "    print(job)\n",
    "\n",
    "def qaoa_callback(eval_ct: int, opt_pars: np.ndarray, mean: float, stdev: float) -> None:\n",
    "    \"\"\"Print number of iteration in QAOA.\"\"\"\n",
    "    print(\"Evaluation count:\", eval_ct)\n",
    "\n"
   ]
  },
  {
   "cell_type": "code",
   "execution_count": 3,
   "metadata": {},
   "outputs": [],
   "source": [
    "# select linear programs to solve\n",
    "qps_dense = create_quadratic_programs_from_paths(DIR + \"/DENSE/\")\n",
    "qp_dense = qps_dense['test_3']\n",
    "qps_sparse = create_quadratic_programs_from_paths(DIR + \"/SPARSE/\")\n",
    "qp_sparse = qps_sparse['test_2']\n",
    "\n",
    "# init local backend simulator with noise model\n",
    "device = FakeMumbai()\n",
    "local = AerSimulator.from_backend(device)\n",
    "noise_model = NoiseModel.from_backend(device)\n",
    "conf = device.configuration()\n",
    "\n",
    "# init IBM Q Experience Simulator\n",
    "IBMQ.load_account()\n",
    "ibmq = IBMQ.get_provider(hub='ibm-q').get_backend('simulator_statevector')\n",
    "\n",
    "# init Optimizers\n",
    "cplex = CplexOptimizer()\n",
    "quantum_instance_kwargs = {\"shots\": 4096, \"noise_model\": noise_model, \n",
    "                            \"job_callback\": job_callback, \"optimization_level\": 3}\n",
    "\n",
    "qaoa_local_sim = create_qaoa_meo(backend=local, **quantum_instance_kwargs)\n",
    "qaoa_ibmq_sim = create_qaoa_meo(backend=ibmq, coupling_map=conf.coupling_map, basis_gates=conf.basis_gates,   \n",
    "                                  max_iter=1, qaoa_callback=qaoa_callback, **quantum_instance_kwargs)"
   ]
  },
  {
   "cell_type": "code",
   "execution_count": 4,
   "metadata": {},
   "outputs": [
    {
     "output_type": "execute_result",
     "data": {
      "text/plain": [
       "optimal function value: -3.0\n",
       "optimal value: [0. 1. 1. 1. 0. 0.]\n",
       "status: SUCCESS"
      ]
     },
     "metadata": {},
     "execution_count": 4
    }
   ],
   "source": [
    "# solve classically\n",
    "cplex.solve(qp_sparse)"
   ]
  },
  {
   "cell_type": "code",
   "execution_count": 5,
   "metadata": {},
   "outputs": [
    {
     "output_type": "execute_result",
     "data": {
      "text/plain": [
       "optimal function value: -3.0\n",
       "optimal value: [0. 0. 1. 1. 1. 0.]\n",
       "status: SUCCESS"
      ]
     },
     "metadata": {},
     "execution_count": 5
    }
   ],
   "source": [
    "# solve by using noise model with local qasm sim\n",
    "qaoa_local_sim.solve(qp_sparse)"
   ]
  },
  {
   "cell_type": "code",
   "execution_count": 6,
   "metadata": {},
   "outputs": [
    {
     "output_type": "execute_result",
     "data": {
      "text/plain": [
       "optimal function value: -2.0\n",
       "optimal value: [0. 1. 0.]\n",
       "status: SUCCESS"
      ]
     },
     "metadata": {},
     "execution_count": 6
    }
   ],
   "source": [
    "cplex.solve(qp_dense)"
   ]
  },
  {
   "cell_type": "code",
   "execution_count": 7,
   "metadata": {},
   "outputs": [
    {
     "output_type": "execute_result",
     "data": {
      "text/plain": [
       "optimal function value: -2.0\n",
       "optimal value: [0. 1. 0.]\n",
       "status: SUCCESS"
      ]
     },
     "metadata": {},
     "execution_count": 7
    }
   ],
   "source": [
    "qaoa_local_sim.solve(qp_dense)"
   ]
  },
  {
   "cell_type": "code",
   "execution_count": 8,
   "metadata": {},
   "outputs": [
    {
     "output_type": "stream",
     "name": "stdout",
     "text": [
      "INFO:qiskit.algorithms.variational_algorithm:Starting optimizer.\n",
      "bounds=[(None, None), (0, 6.283185307179586)]\n",
      "initial point=[-7.90271041e-04  2.21330617e+00]\n",
      "INFO:qiskit.transpiler.runningpassmanager:Pass: Unroll3qOrMore - 0.11110 (ms)\n",
      "INFO:qiskit.transpiler.runningpassmanager:Pass: RemoveResetInZeroState - 0.08082 (ms)\n",
      "INFO:qiskit.transpiler.runningpassmanager:Pass: OptimizeSwapBeforeMeasure - 0.05507 (ms)\n",
      "INFO:qiskit.transpiler.runningpassmanager:Pass: RemoveDiagonalGatesBeforeMeasure - 0.43058 (ms)\n",
      "INFO:qiskit.transpiler.runningpassmanager:Pass: SetLayout - 0.03743 (ms)\n",
      "INFO:qiskit.transpiler.runningpassmanager:Pass: CSPLayout - 11.15417 (ms)\n",
      "INFO:qiskit.transpiler.runningpassmanager:Pass: DenseLayout - 17.74955 (ms)\n",
      "INFO:qiskit.transpiler.runningpassmanager:Pass: FullAncillaAllocation - 0.34881 (ms)\n",
      "INFO:qiskit.transpiler.runningpassmanager:Pass: EnlargeWithAncilla - 0.33760 (ms)\n",
      "INFO:qiskit.transpiler.runningpassmanager:Pass: ApplyLayout - 2.68817 (ms)\n",
      "INFO:qiskit.transpiler.runningpassmanager:Pass: CheckMap - 0.75555 (ms)\n",
      "INFO:qiskit.transpiler.runningpassmanager:Pass: BarrierBeforeFinalMeasurements - 18.45813 (ms)\n",
      "INFO:qiskit.transpiler.runningpassmanager:Pass: StochasticSwap - 452.82769 (ms)\n",
      "INFO:qiskit.transpiler.runningpassmanager:Pass: UnrollCustomDefinitions - 0.15664 (ms)\n",
      "INFO:qiskit.transpiler.passes.basis.basis_translator:Begin BasisTranslator from source basis {('cx', 2), ('barrier', 27), ('swap', 2), ('h', 1), ('rz', 1), ('measure', 1), ('rx', 1)} to target basis {'id', 'sx', 'delay', 'cx', 'x', 'snapshot', 'reset', 'barrier', 'rz', 'measure'}.\n",
      "INFO:qiskit.transpiler.passes.basis.basis_translator:Basis translation path search completed in 0.001s.\n",
      "INFO:qiskit.transpiler.passes.basis.basis_translator:Basis translation paths composed in 0.039s.\n",
      "INFO:qiskit.transpiler.passes.basis.basis_translator:Basis translation instructions replaced in 0.035s.\n",
      "INFO:qiskit.transpiler.runningpassmanager:Pass: BasisTranslator - 95.83521 (ms)\n",
      "INFO:qiskit.transpiler.runningpassmanager:Pass: RemoveResetInZeroState - 0.12112 (ms)\n",
      "INFO:qiskit.transpiler.runningpassmanager:Pass: Depth - 0.13065 (ms)\n",
      "INFO:qiskit.transpiler.runningpassmanager:Pass: FixedPoint - 0.03123 (ms)\n",
      "INFO:qiskit.transpiler.runningpassmanager:Pass: Collect2qBlocks - 11.51180 (ms)\n",
      "INFO:qiskit.transpiler.runningpassmanager:Pass: ConsolidateBlocks - 208.74476 (ms)\n",
      "INFO:qiskit.transpiler.runningpassmanager:Pass: UnitarySynthesis - 73.06552 (ms)\n",
      "INFO:qiskit.transpiler.runningpassmanager:Pass: Optimize1qGatesDecomposition - 53.23029 (ms)\n",
      "INFO:qiskit.transpiler.runningpassmanager:Pass: CommutationAnalysis - 136.06906 (ms)\n",
      "INFO:qiskit.transpiler.runningpassmanager:Pass: CommutativeCancellation - 12.65216 (ms)\n",
      "INFO:qiskit.transpiler.runningpassmanager:Pass: UnrollCustomDefinitions - 0.44012 (ms)\n",
      "INFO:qiskit.transpiler.passes.basis.basis_translator:Begin BasisTranslator from source basis {('sx', 1), ('cx', 2), ('barrier', 27), ('rz', 1), ('measure', 1)} to target basis {'id', 'sx', 'delay', 'cx', 'x', 'snapshot', 'reset', 'barrier', 'rz', 'measure'}.\n",
      "INFO:qiskit.transpiler.passes.basis.basis_translator:Basis translation path search completed in 0.000s.\n",
      "INFO:qiskit.transpiler.passes.basis.basis_translator:Basis translation paths composed in 0.002s.\n",
      "INFO:qiskit.transpiler.passes.basis.basis_translator:Basis translation instructions replaced in 0.000s.\n",
      "INFO:qiskit.transpiler.runningpassmanager:Pass: BasisTranslator - 12.97712 (ms)\n",
      "INFO:qiskit.transpiler.runningpassmanager:Pass: Depth - 0.08702 (ms)\n",
      "INFO:qiskit.transpiler.runningpassmanager:Pass: FixedPoint - 0.14830 (ms)\n",
      "INFO:qiskit.transpiler.runningpassmanager:Pass: Collect2qBlocks - 4.11415 (ms)\n",
      "INFO:qiskit.transpiler.runningpassmanager:Pass: ConsolidateBlocks - 135.98371 (ms)\n",
      "INFO:qiskit.transpiler.runningpassmanager:Pass: UnitarySynthesis - 6.52266 (ms)\n",
      "INFO:qiskit.transpiler.runningpassmanager:Pass: Optimize1qGatesDecomposition - 20.35499 (ms)\n",
      "INFO:qiskit.transpiler.runningpassmanager:Pass: CommutationAnalysis - 63.41887 (ms)\n",
      "INFO:qiskit.transpiler.runningpassmanager:Pass: CommutativeCancellation - 1.70517 (ms)\n",
      "INFO:qiskit.transpiler.runningpassmanager:Pass: UnrollCustomDefinitions - 1.86872 (ms)\n",
      "INFO:qiskit.transpiler.passes.basis.basis_translator:Begin BasisTranslator from source basis {('sx', 1), ('cx', 2), ('barrier', 27), ('rz', 1), ('measure', 1)} to target basis {'id', 'sx', 'delay', 'cx', 'x', 'snapshot', 'reset', 'barrier', 'rz', 'measure'}.\n",
      "INFO:qiskit.transpiler.passes.basis.basis_translator:Basis translation path search completed in 0.000s.\n",
      "INFO:qiskit.transpiler.passes.basis.basis_translator:Basis translation paths composed in 0.010s.\n",
      "INFO:qiskit.transpiler.passes.basis.basis_translator:Basis translation instructions replaced in 0.000s.\n",
      "INFO:qiskit.transpiler.runningpassmanager:Pass: BasisTranslator - 35.62832 (ms)\n",
      "INFO:qiskit.transpiler.runningpassmanager:Pass: Depth - 0.07176 (ms)\n",
      "INFO:qiskit.transpiler.runningpassmanager:Pass: FixedPoint - 0.02146 (ms)\n",
      "INFO:qiskit.transpiler.runningpassmanager:Pass: Collect2qBlocks - 1.94669 (ms)\n",
      "INFO:qiskit.transpiler.runningpassmanager:Pass: ConsolidateBlocks - 247.90096 (ms)\n",
      "INFO:qiskit.transpiler.runningpassmanager:Pass: UnitarySynthesis - 5.49459 (ms)\n",
      "INFO:qiskit.transpiler.runningpassmanager:Pass: Optimize1qGatesDecomposition - 30.38645 (ms)\n",
      "INFO:qiskit.transpiler.runningpassmanager:Pass: CommutationAnalysis - 59.36718 (ms)\n",
      "INFO:qiskit.transpiler.runningpassmanager:Pass: CommutativeCancellation - 1.49608 (ms)\n",
      "INFO:qiskit.transpiler.runningpassmanager:Pass: UnrollCustomDefinitions - 1.54924 (ms)\n",
      "INFO:qiskit.transpiler.passes.basis.basis_translator:Begin BasisTranslator from source basis {('sx', 1), ('cx', 2), ('barrier', 27), ('rz', 1), ('measure', 1)} to target basis {'id', 'sx', 'delay', 'cx', 'x', 'snapshot', 'reset', 'barrier', 'rz', 'measure'}.\n",
      "INFO:qiskit.transpiler.passes.basis.basis_translator:Basis translation path search completed in 0.000s.\n",
      "INFO:qiskit.transpiler.passes.basis.basis_translator:Basis translation paths composed in 0.004s.\n",
      "INFO:qiskit.transpiler.passes.basis.basis_translator:Basis translation instructions replaced in 0.000s.\n",
      "INFO:qiskit.transpiler.runningpassmanager:Pass: BasisTranslator - 43.36476 (ms)\n",
      "INFO:qiskit.transpiler.runningpassmanager:Pass: TimeUnitConversion - 4.71973 (ms)\n",
      "INFO:qiskit.compiler.transpiler:Total Transpile Time - 2082.42750 (ms)\n",
      "INFO:qiskit.compiler.assembler:Total Assembly Time - 0.17738 (ms)\n",
      "/home/tom/anaconda3/envs/Qiskit_Ocean/lib/python3.8/site-packages/qiskit/providers/ibmq/ibmqbackend.py:810: DeprecationWarning: Passing a Qobj to Backend.run is deprecated and will be removed in a future release. Please pass in circuits or pulse schedules instead.\n",
      "  return super().run(circuits, job_name=job_name, job_share_level=job_share_level,\n",
      "INFO:qiskit.algorithms.minimum_eigen_solvers.vqe:Energy evaluation returned [0.01855469] - 19359.28822 (ms), eval count: 1\n",
      "INFO:qiskit.algorithms.minimum_eigen_solvers.vqe:Optimization complete in 19.368026971817017 seconds.\n",
      "Found opt_params [-7.90271041e-04  2.21330617e+00] in 1 evals\n",
      "INFO:qiskit.transpiler.runningpassmanager:Pass: Unroll3qOrMore - 0.08106 (ms)\n",
      "INFO:qiskit.transpiler.runningpassmanager:Pass: RemoveResetInZeroState - 0.08869 (ms)\n",
      "INFO:qiskit.transpiler.runningpassmanager:Pass: OptimizeSwapBeforeMeasure - 0.06390 (ms)\n",
      "INFO:qiskit.transpiler.runningpassmanager:Pass: RemoveDiagonalGatesBeforeMeasure - 6.55293 (ms)\n",
      "INFO:qiskit.transpiler.runningpassmanager:Pass: SetLayout - 0.02313 (ms)\n",
      "INFO:qiskit.transpiler.runningpassmanager:Pass: CSPLayout - 17.38238 (ms)\n",
      "INFO:qiskit.transpiler.runningpassmanager:Pass: DenseLayout - 44.67249 (ms)\n",
      "INFO:qiskit.transpiler.runningpassmanager:Pass: FullAncillaAllocation - 0.87404 (ms)\n",
      "INFO:qiskit.transpiler.runningpassmanager:Pass: EnlargeWithAncilla - 2.30026 (ms)\n",
      "INFO:qiskit.transpiler.runningpassmanager:Pass: ApplyLayout - 2.18678 (ms)\n",
      "INFO:qiskit.transpiler.runningpassmanager:Pass: CheckMap - 0.50497 (ms)\n",
      "INFO:qiskit.transpiler.runningpassmanager:Pass: BarrierBeforeFinalMeasurements - 8.53944 (ms)\n",
      "INFO:qiskit.transpiler.runningpassmanager:Pass: StochasticSwap - 1104.15316 (ms)\n",
      "INFO:qiskit.transpiler.runningpassmanager:Pass: UnrollCustomDefinitions - 0.17047 (ms)\n",
      "INFO:qiskit.transpiler.passes.basis.basis_translator:Begin BasisTranslator from source basis {('cx', 2), ('barrier', 27), ('swap', 2), ('h', 1), ('rz', 1), ('measure', 1), ('rx', 1)} to target basis {'id', 'sx', 'delay', 'cx', 'x', 'snapshot', 'reset', 'barrier', 'rz', 'measure'}.\n",
      "INFO:qiskit.transpiler.passes.basis.basis_translator:Basis translation path search completed in 0.004s.\n",
      "INFO:qiskit.transpiler.passes.basis.basis_translator:Basis translation paths composed in 0.031s.\n",
      "INFO:qiskit.transpiler.passes.basis.basis_translator:Basis translation instructions replaced in 0.046s.\n",
      "INFO:qiskit.transpiler.runningpassmanager:Pass: BasisTranslator - 89.27202 (ms)\n",
      "INFO:qiskit.transpiler.runningpassmanager:Pass: RemoveResetInZeroState - 0.41771 (ms)\n",
      "INFO:qiskit.transpiler.runningpassmanager:Pass: Depth - 0.16594 (ms)\n",
      "INFO:qiskit.transpiler.runningpassmanager:Pass: FixedPoint - 0.14353 (ms)\n",
      "INFO:qiskit.transpiler.runningpassmanager:Pass: Collect2qBlocks - 2.31004 (ms)\n",
      "INFO:qiskit.transpiler.runningpassmanager:Pass: ConsolidateBlocks - 174.01171 (ms)\n",
      "INFO:qiskit.transpiler.runningpassmanager:Pass: UnitarySynthesis - 15.71274 (ms)\n",
      "INFO:qiskit.transpiler.runningpassmanager:Pass: Optimize1qGatesDecomposition - 61.05852 (ms)\n",
      "INFO:qiskit.transpiler.runningpassmanager:Pass: CommutationAnalysis - 211.87830 (ms)\n",
      "INFO:qiskit.transpiler.runningpassmanager:Pass: CommutativeCancellation - 14.28652 (ms)\n",
      "INFO:qiskit.transpiler.runningpassmanager:Pass: UnrollCustomDefinitions - 0.38099 (ms)\n",
      "INFO:qiskit.transpiler.passes.basis.basis_translator:Begin BasisTranslator from source basis {('sx', 1), ('cx', 2), ('barrier', 27), ('rz', 1), ('measure', 1)} to target basis {'id', 'sx', 'delay', 'cx', 'x', 'snapshot', 'reset', 'barrier', 'rz', 'measure'}.\n",
      "INFO:qiskit.transpiler.passes.basis.basis_translator:Basis translation path search completed in 0.000s.\n",
      "INFO:qiskit.transpiler.passes.basis.basis_translator:Basis translation paths composed in 0.005s.\n",
      "INFO:qiskit.transpiler.passes.basis.basis_translator:Basis translation instructions replaced in 0.002s.\n",
      "INFO:qiskit.transpiler.runningpassmanager:Pass: BasisTranslator - 22.17221 (ms)\n",
      "INFO:qiskit.transpiler.runningpassmanager:Pass: Depth - 0.23103 (ms)\n",
      "INFO:qiskit.transpiler.runningpassmanager:Pass: FixedPoint - 0.06890 (ms)\n",
      "INFO:qiskit.transpiler.runningpassmanager:Pass: Collect2qBlocks - 15.96975 (ms)\n",
      "INFO:qiskit.transpiler.runningpassmanager:Pass: ConsolidateBlocks - 100.57902 (ms)\n",
      "INFO:qiskit.transpiler.runningpassmanager:Pass: UnitarySynthesis - 2.47502 (ms)\n",
      "INFO:qiskit.transpiler.runningpassmanager:Pass: Optimize1qGatesDecomposition - 9.69529 (ms)\n",
      "INFO:qiskit.transpiler.runningpassmanager:Pass: CommutationAnalysis - 107.86748 (ms)\n",
      "INFO:qiskit.transpiler.runningpassmanager:Pass: CommutativeCancellation - 2.30217 (ms)\n",
      "INFO:qiskit.transpiler.runningpassmanager:Pass: UnrollCustomDefinitions - 0.66400 (ms)\n",
      "INFO:qiskit.transpiler.passes.basis.basis_translator:Begin BasisTranslator from source basis {('sx', 1), ('cx', 2), ('barrier', 27), ('rz', 1), ('measure', 1)} to target basis {'id', 'sx', 'delay', 'cx', 'x', 'snapshot', 'reset', 'barrier', 'rz', 'measure'}.\n",
      "INFO:qiskit.transpiler.passes.basis.basis_translator:Basis translation path search completed in 0.000s.\n",
      "INFO:qiskit.transpiler.passes.basis.basis_translator:Basis translation paths composed in 0.005s.\n",
      "INFO:qiskit.transpiler.passes.basis.basis_translator:Basis translation instructions replaced in 0.000s.\n",
      "INFO:qiskit.transpiler.runningpassmanager:Pass: BasisTranslator - 24.46914 (ms)\n",
      "INFO:qiskit.transpiler.runningpassmanager:Pass: Depth - 0.07224 (ms)\n",
      "INFO:qiskit.transpiler.runningpassmanager:Pass: FixedPoint - 0.05150 (ms)\n",
      "INFO:qiskit.transpiler.runningpassmanager:Pass: Collect2qBlocks - 7.34687 (ms)\n",
      "INFO:qiskit.transpiler.runningpassmanager:Pass: ConsolidateBlocks - 143.03112 (ms)\n",
      "INFO:qiskit.transpiler.runningpassmanager:Pass: UnitarySynthesis - 14.87517 (ms)\n",
      "INFO:qiskit.transpiler.runningpassmanager:Pass: Optimize1qGatesDecomposition - 25.48194 (ms)\n",
      "INFO:qiskit.transpiler.runningpassmanager:Pass: CommutationAnalysis - 85.18958 (ms)\n",
      "INFO:qiskit.transpiler.runningpassmanager:Pass: CommutativeCancellation - 0.85497 (ms)\n",
      "INFO:qiskit.transpiler.runningpassmanager:Pass: UnrollCustomDefinitions - 0.43797 (ms)\n",
      "INFO:qiskit.transpiler.passes.basis.basis_translator:Begin BasisTranslator from source basis {('sx', 1), ('cx', 2), ('barrier', 27), ('rz', 1), ('measure', 1)} to target basis {'id', 'sx', 'delay', 'cx', 'x', 'snapshot', 'reset', 'barrier', 'rz', 'measure'}.\n",
      "INFO:qiskit.transpiler.passes.basis.basis_translator:Basis translation path search completed in 0.000s.\n",
      "INFO:qiskit.transpiler.passes.basis.basis_translator:Basis translation paths composed in 0.002s.\n",
      "INFO:qiskit.transpiler.passes.basis.basis_translator:Basis translation instructions replaced in 0.000s.\n",
      "INFO:qiskit.transpiler.runningpassmanager:Pass: BasisTranslator - 22.81594 (ms)\n",
      "INFO:qiskit.transpiler.runningpassmanager:Pass: TimeUnitConversion - 2.91705 (ms)\n",
      "INFO:qiskit.compiler.transpiler:Total Transpile Time - 2612.18405 (ms)\n",
      "INFO:qiskit.compiler.assembler:Total Assembly Time - 0.36669 (ms)\n",
      "/home/tom/anaconda3/envs/Qiskit_Ocean/lib/python3.8/site-packages/qiskit/providers/ibmq/ibmqbackend.py:810: DeprecationWarning: Passing a Qobj to Backend.run is deprecated and will be removed in a future release. Please pass in circuits or pulse schedules instead.\n",
      "  return super().run(circuits, job_name=job_name, job_share_level=job_share_level,\n"
     ]
    },
    {
     "output_type": "execute_result",
     "data": {
      "text/plain": [
       "optimal function value: -3.0\n",
       "optimal value: [0. 1. 1. 1. 0. 0.]\n",
       "status: SUCCESS"
      ]
     },
     "metadata": {},
     "execution_count": 8
    }
   ],
   "source": [
    "# solve by using noise model with IBM Q Experience simulator\n",
    "qp_sparse = qps_sparse['test_7']\n",
    "warnings.filterwarnings(\"ignore\", category=DeprecationWarning)\n",
    "qaoa_ibmq_sim.solve(qp_sparse)"
   ]
  },
  {
   "cell_type": "code",
   "execution_count": null,
   "metadata": {},
   "outputs": [],
   "source": [
    "# solve by using noise model with IBM Q Experience simulator\n",
    "qp_dense = qps_dense['test_3']\n",
    "warnings.filterwarnings(\"ignore\", category=DeprecationWarning)\n",
    "qaoa_ibmq_sim.solve(qp_dense)"
   ]
  }
 ]
}