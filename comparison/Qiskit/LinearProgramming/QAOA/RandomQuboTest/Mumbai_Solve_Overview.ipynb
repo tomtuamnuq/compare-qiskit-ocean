{
 "metadata": {
  "language_info": {
   "codemirror_mode": {
    "name": "ipython",
    "version": 3
   },
   "file_extension": ".py",
   "mimetype": "text/x-python",
   "name": "python",
   "nbconvert_exporter": "python",
   "pygments_lexer": "ipython3",
   "version": "3.8.8"
  },
  "orig_nbformat": 2,
  "kernelspec": {
   "name": "python388jvsc74a57bd0173f2ffbce537830dc37cc01123f1dcc118f483457eee13e6b392e68a5e39cc7",
   "display_name": "Python 3.8.8 64-bit ('Qiskit_Ocean': conda)"
  }
 },
 "nbformat": 4,
 "nbformat_minor": 2,
 "cells": [
  {
   "cell_type": "code",
   "execution_count": 1,
   "metadata": {},
   "outputs": [
    {
     "output_type": "execute_result",
     "data": {
      "text/plain": [
       "'TEST_DATA/27_04_2021'"
      ]
     },
     "metadata": {},
     "execution_count": 1
    }
   ],
   "source": [
    "import time, warnings\n",
    "import numpy as np\n",
    "from qiskit import IBMQ\n",
    "from qiskit.test.mock import FakeMumbai\n",
    "from qiskit.providers.aer import AerSimulator\n",
    "from qiskit.providers.aer.noise import NoiseModel\n",
    "from qiskit_optimization.algorithms import CplexOptimizer\n",
    "from utilities.helpers import create_qaoa_meo, create_quadratic_programs_from_paths\n",
    "DIR = 'TEST_DATA' + \"/\" + time.strftime(\"%d_%m_%Y\")\n",
    "DIR"
   ]
  },
  {
   "cell_type": "code",
   "execution_count": 2,
   "metadata": {},
   "outputs": [],
   "source": [
    "def job_callback(job_id, job_status, queue_position, job):\n",
    "    # BUG ? This is not called and not set in quantum instance (see info logging)\n",
    "    print(job_id)\n",
    "    print(job_status)\n",
    "    print(queue_position)\n",
    "    print(job)\n",
    "\n",
    "def qaoa_callback(eval_ct: int, opt_pars: np.ndarray, mean: float, stdev: float) -> None:\n",
    "    \"\"\"Print number of iteration in QAOA.\"\"\"\n",
    "    print(\"Evaluation count:\", eval_ct)"
   ]
  },
  {
   "cell_type": "code",
   "execution_count": 3,
   "metadata": {},
   "outputs": [],
   "source": [
    "# select linear programs to solve\n",
    "qps_dense = create_quadratic_programs_from_paths(DIR + \"/DENSE/\")\n",
    "qp_dense = qps_dense['test_3']\n",
    "qps_sparse = create_quadratic_programs_from_paths(DIR + \"/SPARSE/\")\n",
    "qp_sparse = qps_sparse['test_3']\n",
    "\n",
    "# init local backend simulator with noise model\n",
    "device = FakeMumbai()\n",
    "local = AerSimulator.from_backend(device)\n",
    "noise_model = NoiseModel.from_backend(device)\n",
    "conf = device.configuration()\n",
    "\n",
    "# init IBM Q Experience Simulator\n",
    "IBMQ.load_account()\n",
    "ibmq = IBMQ.get_provider(hub='ibm-q').get_backend('simulator_statevector')\n",
    "\n",
    "# init Optimizers\n",
    "cplex = CplexOptimizer()\n",
    "quantum_instance_kwargs = {\"shots\": 4096, \"noise_model\": noise_model, \n",
    "                            \"job_callback\": job_callback, \"optimization_level\": 3}\n",
    "\n",
    "qaoa_local_sim = create_qaoa_meo(backend=local, **quantum_instance_kwargs)\n",
    "qaoa_ibmq_sim = create_qaoa_meo(backend=ibmq, coupling_map=conf.coupling_map, basis_gates=conf.basis_gates,   \n",
    "                                  max_iter=5, qaoa_callback=qaoa_callback, **quantum_instance_kwargs)"
   ]
  },
  {
   "cell_type": "code",
   "execution_count": 4,
   "metadata": {},
   "outputs": [
    {
     "output_type": "execute_result",
     "data": {
      "text/plain": [
       "optimal function value: -26.0\n",
       "optimal value: [0. 0. 1. 1. 1. 1. 1. 1. 1.]\n",
       "status: SUCCESS"
      ]
     },
     "metadata": {},
     "execution_count": 4
    }
   ],
   "source": [
    "# solve classically\n",
    "cplex.solve(qp_sparse)"
   ]
  },
  {
   "cell_type": "code",
   "execution_count": 5,
   "metadata": {},
   "outputs": [
    {
     "output_type": "execute_result",
     "data": {
      "text/plain": [
       "optimal function value: -26.0\n",
       "optimal value: [0. 0. 1. 1. 1. 1. 1. 1. 1.]\n",
       "status: SUCCESS"
      ]
     },
     "metadata": {},
     "execution_count": 5
    }
   ],
   "source": [
    "# solve by using noise model with local qasm sim\n",
    "qaoa_local_sim.solve(qp_sparse)"
   ]
  },
  {
   "cell_type": "code",
   "execution_count": 6,
   "metadata": {},
   "outputs": [
    {
     "output_type": "execute_result",
     "data": {
      "text/plain": [
       "optimal function value: -28.0\n",
       "optimal value: [1. 1. 1.]\n",
       "status: SUCCESS"
      ]
     },
     "metadata": {},
     "execution_count": 6
    }
   ],
   "source": [
    "cplex.solve(qp_dense)"
   ]
  },
  {
   "cell_type": "code",
   "execution_count": 7,
   "metadata": {},
   "outputs": [
    {
     "output_type": "execute_result",
     "data": {
      "text/plain": [
       "optimal function value: -28.0\n",
       "optimal value: [1. 1. 1.]\n",
       "status: SUCCESS"
      ]
     },
     "metadata": {},
     "execution_count": 7
    }
   ],
   "source": [
    "qaoa_local_sim.solve(qp_dense)"
   ]
  },
  {
   "cell_type": "code",
   "execution_count": 8,
   "metadata": {},
   "outputs": [
    {
     "output_type": "stream",
     "name": "stdout",
     "text": [
      "Evaluation count: 1\n",
      "Evaluation count: 2\n",
      "Evaluation count: 3\n",
      "Evaluation count: 4\n",
      "Evaluation count: 5\n"
     ]
    },
    {
     "output_type": "execute_result",
     "data": {
      "text/plain": [
       "optimal function value: -56.0\n",
       "optimal value: [0. 1. 0. 1. 1. 1. 0. 1. 1. 1. 0. 1. 1. 1. 0. 1. 1. 1. 0. 0. 0.]\n",
       "status: SUCCESS"
      ]
     },
     "metadata": {},
     "execution_count": 8
    }
   ],
   "source": [
    "# solve by using noise model with IBM Q Experience simulator\n",
    "qp_sparse = qps_sparse['test_7']\n",
    "warnings.filterwarnings(\"ignore\", category=DeprecationWarning)\n",
    "qaoa_ibmq_sim.solve(qp_sparse)"
   ]
  },
  {
   "cell_type": "code",
   "execution_count": 9,
   "metadata": {},
   "outputs": [
    {
     "output_type": "execute_result",
     "data": {
      "text/plain": [
       "optimal function value: -70.0\n",
       "optimal value: [1. 1. 0. 1. 1. 1. 0. 0. 1. 1. 0. 1. 1. 1. 0. 1. 1. 1. 0. 1. 0.]\n",
       "status: SUCCESS"
      ]
     },
     "metadata": {},
     "execution_count": 9
    }
   ],
   "source": [
    "cplex.solve(qp_sparse)"
   ]
  },
  {
   "cell_type": "code",
   "execution_count": 10,
   "metadata": {},
   "outputs": [
    {
     "output_type": "stream",
     "name": "stdout",
     "text": [
      "Evaluation count: 1\n",
      "Evaluation count: 2\n",
      "Evaluation count: 3\n",
      "Evaluation count: 4\n",
      "Evaluation count: 5\n"
     ]
    },
    {
     "output_type": "execute_result",
     "data": {
      "text/plain": [
       "optimal function value: -78.0\n",
       "optimal value: [1. 0. 1. 1. 0. 1. 0. 1. 1. 1. 0. 1. 1. 1. 1.]\n",
       "status: SUCCESS"
      ]
     },
     "metadata": {},
     "execution_count": 10
    }
   ],
   "source": [
    "# solve by using noise model with IBM Q Experience simulator\n",
    "qp_dense = qps_dense['test_15']\n",
    "warnings.filterwarnings(\"ignore\", category=DeprecationWarning)\n",
    "qaoa_ibmq_sim.solve(qp_dense)"
   ]
  },
  {
   "cell_type": "code",
   "execution_count": 11,
   "metadata": {},
   "outputs": [
    {
     "output_type": "execute_result",
     "data": {
      "text/plain": [
       "optimal function value: -88.0\n",
       "optimal value: [1. 0. 1. 1. 1. 1. 0. 0. 1. 1. 0. 1. 1. 1. 1.]\n",
       "status: SUCCESS"
      ]
     },
     "metadata": {},
     "execution_count": 11
    }
   ],
   "source": [
    "cplex.solve(qp_dense)"
   ]
  }
 ]
}