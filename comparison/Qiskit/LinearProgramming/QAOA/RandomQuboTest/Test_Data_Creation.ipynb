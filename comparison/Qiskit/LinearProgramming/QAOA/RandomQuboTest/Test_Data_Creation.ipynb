{
 "metadata": {
  "language_info": {
   "codemirror_mode": {
    "name": "ipython",
    "version": 3
   },
   "file_extension": ".py",
   "mimetype": "text/x-python",
   "name": "python",
   "nbconvert_exporter": "python",
   "pygments_lexer": "ipython3",
   "version": "3.8.8"
  },
  "orig_nbformat": 2,
  "kernelspec": {
   "name": "python388jvsc74a57bd0173f2ffbce537830dc37cc01123f1dcc118f483457eee13e6b392e68a5e39cc7",
   "display_name": "Python 3.8.8 64-bit ('Qiskit_Ocean': conda)"
  }
 },
 "nbformat": 4,
 "nbformat_minor": 2,
 "cells": [
  {
   "cell_type": "code",
   "execution_count": 1,
   "metadata": {},
   "outputs": [
    {
     "output_type": "execute_result",
     "data": {
      "text/plain": [
       "'TEST_DATA/28_04_2021'"
      ]
     },
     "metadata": {},
     "execution_count": 1
    }
   ],
   "source": [
    "import os, shutil, time\n",
    "from random_qubo.random_qubo import RandomQubo\n",
    "DIR = 'TEST_DATA' + \"/\" + time.strftime(\"%d_%m_%Y\")\n",
    "def getPath(filename = \"\", directory = \"\"):\n",
    "    return DIR + \"/\" + directory + \"/\" + filename\n",
    "    \n",
    "bounds = {\"matrix_q_lb\": -5, \"matrix_q_ub\": 5, \"c_lb\": -5, \"c_ub\": 5}\n",
    "DIR"
   ]
  },
  {
   "cell_type": "code",
   "execution_count": 2,
   "metadata": {},
   "outputs": [],
   "source": [
    "shutil.rmtree(DIR, ignore_errors=True)\n",
    "os.makedirs(getPath(directory = \"SPARSE\"))\n",
    "os.makedirs(getPath(directory = \"DENSE\"))\n"
   ]
  },
  {
   "cell_type": "code",
   "execution_count": 3,
   "metadata": {},
   "outputs": [
    {
     "output_type": "stream",
     "name": "stdout",
     "text": [
      "10\n"
     ]
    }
   ],
   "source": [
    "# create sparse random qubos\n",
    "# 3 variables connected\n",
    "# start with 3x1 qubits\n",
    "max_qubits = 27 # number of qubits in Falcon r5.1 processors\n",
    "var = 3\n",
    "multiple = 1\n",
    "while True:\n",
    "    qp = RandomQubo.create_random_qubo(\"test_\" + str(multiple), var, multiple=multiple, **bounds)              \n",
    "    qp.write_to_lp_file(getPath(qp.name, directory = \"SPARSE\"))\n",
    "    if qp.get_num_vars() > max_qubits :\n",
    "        print(multiple)\n",
    "        break\n",
    "    multiple = multiple + 1"
   ]
  },
  {
   "cell_type": "code",
   "execution_count": 4,
   "metadata": {},
   "outputs": [
    {
     "output_type": "stream",
     "name": "stdout",
     "text": [
      "30\n"
     ]
    }
   ],
   "source": [
    "# create dense random qubos\n",
    "# start with 3 variables\n",
    "while True:\n",
    "    qp = RandomQubo.create_random_qubo(\"test_\" + str(var), var, **bounds)              \n",
    "    qp.write_to_lp_file(getPath(qp.name, directory = \"DENSE\"))\n",
    "    if qp.get_num_vars() > max_qubits :\n",
    "        print(var)\n",
    "        break\n",
    "    var = var + 3"
   ]
  }
 ]
}